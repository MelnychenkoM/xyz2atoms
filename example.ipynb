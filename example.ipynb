{
 "cells": [
  {
   "cell_type": "code",
   "execution_count": 1,
   "id": "2fe5befc-a08e-44ff-869d-456a578b63f3",
   "metadata": {},
   "outputs": [],
   "source": [
    "from xyz2atoms import Molecule\n",
    "from xyz2atoms import to_plotly_figure, torsion_angle\n",
    "import numpy as np"
   ]
  },
  {
   "cell_type": "code",
   "execution_count": 2,
   "id": "97bec895-94ca-48b9-8add-f9c3498a5144",
   "metadata": {},
   "outputs": [
    {
     "data": {
      "application/vnd.plotly.v1+json": {
       "config": {
        "plotlyServerURL": "https://plot.ly"
       },
       "data": [
        {
         "marker": {
          "color": [
           "black",
           "red",
           "black",
           "black",
           "black",
           "black",
           "red",
           "red",
           "white",
           "white",
           "white",
           "white",
           "white",
           "white",
           "white",
           "white",
           "white",
           "blue",
           "black",
           "blue",
           "black",
           "blue",
           "black",
           "black",
           "blue",
           "black",
           "white",
           "blue",
           "white",
           "white",
           "white"
          ],
          "line": {
           "color": "lightgray",
           "width": 2
          },
          "opacity": 0.8,
          "size": 7,
          "symbol": "circle"
         },
         "mode": "markers",
         "text": [
          "C4'",
          "O4'",
          "C1'",
          "C2'",
          "C3'",
          "C5'",
          "O3'",
          "O5'",
          "H",
          "H",
          "H",
          "H",
          "H",
          "H",
          "H",
          "H",
          "H",
          "N9",
          "C4",
          "N3",
          "C2",
          "N1",
          "C5",
          "C6",
          "N7",
          "C8",
          "H",
          "N6",
          "H",
          "H",
          "H"
         ],
         "type": "scatter3d",
         "x": [
          0,
          0,
          1.33012775,
          2.24550019,
          1.25356177,
          -0.01447485,
          0.99493119,
          -1.16025066,
          1.39839374,
          2.81422085,
          2.95675452,
          1.6247017,
          0.54662005,
          -0.91384863,
          0.91107341,
          -0.04768294,
          -1.15055541,
          1.63833328,
          2.78609087,
          3.85298077,
          4.7740641,
          4.74182048,
          2.60051727,
          3.65794371,
          1.37257164,
          0.82851285,
          5.67323731,
          3.63043043,
          2.75728334,
          4.33374742,
          -0.14250558
         ],
         "y": [
          0,
          0,
          0,
          0.36241441,
          0.815451,
          -1.40699127,
          2.21111393,
          -2.08096006,
          0.73304981,
          -0.51457743,
          1.15172937,
          0.60769219,
          2.40642541,
          0.518474,
          -1.94244109,
          -1.31181879,
          -2.98463479,
          -1.31044491,
          -1.62033445,
          -0.83911359,
          -1.47899103,
          -2.73008767,
          -2.93667899,
          -3.48687618,
          -3.43031156,
          -2.43273511,
          -0.91267977,
          -4.76332507,
          -5.26554002,
          -5.03136721,
          -2.43724316
         ],
         "z": [
          0,
          1.44393247,
          1.92955806,
          0.73611477,
          -0.35406713,
          -0.59102014,
          -0.3221261,
          -0.09110605,
          2.73989283,
          0.41707672,
          0.98222269,
          -1.36150068,
          0.51320264,
          -0.30342485,
          -0.33156433,
          -1.68807937,
          -0.43173085,
          2.52017432,
          3.2187936,
          3.44374919,
          4.17201405,
          4.65987201,
          3.65502618,
          4.40866455,
          3.25275313,
          2.5919286,
          4.40570526,
          4.870523,
          4.84933922,
          5.54078291,
          2.11651158
         ]
        },
        {
         "hoverinfo": "none",
         "marker": {
          "color": "grey",
          "opacity": 1,
          "size": 7
         },
         "mode": "lines",
         "type": "scatter3d",
         "x": [
          0,
          0,
          null,
          0,
          1.25356177,
          null,
          0,
          -0.01447485,
          null,
          0,
          -0.91384863,
          null,
          0,
          0,
          null,
          0,
          1.33012775,
          null,
          1.33012775,
          0,
          null,
          1.33012775,
          2.24550019,
          null,
          1.33012775,
          1.39839374,
          null,
          1.33012775,
          1.63833328,
          null,
          2.24550019,
          1.33012775,
          null,
          2.24550019,
          1.25356177,
          null,
          2.24550019,
          2.81422085,
          null,
          2.24550019,
          2.95675452,
          null,
          1.25356177,
          0,
          null,
          1.25356177,
          2.24550019,
          null,
          1.25356177,
          0.99493119,
          null,
          1.25356177,
          1.6247017,
          null,
          -0.01447485,
          0,
          null,
          -0.01447485,
          -1.16025066,
          null,
          -0.01447485,
          0.91107341,
          null,
          -0.01447485,
          -0.04768294,
          null,
          0.99493119,
          1.25356177,
          null,
          0.99493119,
          0.54662005,
          null,
          -1.16025066,
          -0.01447485,
          null,
          -1.16025066,
          -1.15055541,
          null,
          1.39839374,
          1.33012775,
          null,
          2.81422085,
          2.24550019,
          null,
          2.95675452,
          2.24550019,
          null,
          1.6247017,
          1.25356177,
          null,
          0.54662005,
          0.99493119,
          null,
          -0.91384863,
          0,
          null,
          0.91107341,
          -0.01447485,
          null,
          -0.04768294,
          -0.01447485,
          null,
          -1.15055541,
          -1.16025066,
          null,
          1.63833328,
          1.33012775,
          null,
          1.63833328,
          2.78609087,
          null,
          1.63833328,
          0.82851285,
          null,
          2.78609087,
          1.63833328,
          null,
          2.78609087,
          3.85298077,
          null,
          2.78609087,
          2.60051727,
          null,
          3.85298077,
          2.78609087,
          null,
          3.85298077,
          4.7740641,
          null,
          4.7740641,
          3.85298077,
          null,
          4.7740641,
          4.74182048,
          null,
          4.7740641,
          5.67323731,
          null,
          4.74182048,
          4.7740641,
          null,
          4.74182048,
          3.65794371,
          null,
          2.60051727,
          2.78609087,
          null,
          2.60051727,
          3.65794371,
          null,
          2.60051727,
          1.37257164,
          null,
          3.65794371,
          4.74182048,
          null,
          3.65794371,
          2.60051727,
          null,
          3.65794371,
          3.63043043,
          null,
          1.37257164,
          2.60051727,
          null,
          1.37257164,
          0.82851285,
          null,
          0.82851285,
          1.63833328,
          null,
          0.82851285,
          1.37257164,
          null,
          0.82851285,
          -0.14250558,
          null,
          5.67323731,
          4.7740641,
          null,
          3.63043043,
          3.65794371,
          null,
          3.63043043,
          2.75728334,
          null,
          3.63043043,
          4.33374742,
          null,
          2.75728334,
          3.63043043,
          null,
          4.33374742,
          3.63043043,
          null,
          -0.14250558,
          0.82851285,
          null
         ],
         "y": [
          0,
          0,
          null,
          0,
          0.815451,
          null,
          0,
          -1.40699127,
          null,
          0,
          0.518474,
          null,
          0,
          0,
          null,
          0,
          0,
          null,
          0,
          0,
          null,
          0,
          0.36241441,
          null,
          0,
          0.73304981,
          null,
          0,
          -1.31044491,
          null,
          0.36241441,
          0,
          null,
          0.36241441,
          0.815451,
          null,
          0.36241441,
          -0.51457743,
          null,
          0.36241441,
          1.15172937,
          null,
          0.815451,
          0,
          null,
          0.815451,
          0.36241441,
          null,
          0.815451,
          2.21111393,
          null,
          0.815451,
          0.60769219,
          null,
          -1.40699127,
          0,
          null,
          -1.40699127,
          -2.08096006,
          null,
          -1.40699127,
          -1.94244109,
          null,
          -1.40699127,
          -1.31181879,
          null,
          2.21111393,
          0.815451,
          null,
          2.21111393,
          2.40642541,
          null,
          -2.08096006,
          -1.40699127,
          null,
          -2.08096006,
          -2.98463479,
          null,
          0.73304981,
          0,
          null,
          -0.51457743,
          0.36241441,
          null,
          1.15172937,
          0.36241441,
          null,
          0.60769219,
          0.815451,
          null,
          2.40642541,
          2.21111393,
          null,
          0.518474,
          0,
          null,
          -1.94244109,
          -1.40699127,
          null,
          -1.31181879,
          -1.40699127,
          null,
          -2.98463479,
          -2.08096006,
          null,
          -1.31044491,
          0,
          null,
          -1.31044491,
          -1.62033445,
          null,
          -1.31044491,
          -2.43273511,
          null,
          -1.62033445,
          -1.31044491,
          null,
          -1.62033445,
          -0.83911359,
          null,
          -1.62033445,
          -2.93667899,
          null,
          -0.83911359,
          -1.62033445,
          null,
          -0.83911359,
          -1.47899103,
          null,
          -1.47899103,
          -0.83911359,
          null,
          -1.47899103,
          -2.73008767,
          null,
          -1.47899103,
          -0.91267977,
          null,
          -2.73008767,
          -1.47899103,
          null,
          -2.73008767,
          -3.48687618,
          null,
          -2.93667899,
          -1.62033445,
          null,
          -2.93667899,
          -3.48687618,
          null,
          -2.93667899,
          -3.43031156,
          null,
          -3.48687618,
          -2.73008767,
          null,
          -3.48687618,
          -2.93667899,
          null,
          -3.48687618,
          -4.76332507,
          null,
          -3.43031156,
          -2.93667899,
          null,
          -3.43031156,
          -2.43273511,
          null,
          -2.43273511,
          -1.31044491,
          null,
          -2.43273511,
          -3.43031156,
          null,
          -2.43273511,
          -2.43724316,
          null,
          -0.91267977,
          -1.47899103,
          null,
          -4.76332507,
          -3.48687618,
          null,
          -4.76332507,
          -5.26554002,
          null,
          -4.76332507,
          -5.03136721,
          null,
          -5.26554002,
          -4.76332507,
          null,
          -5.03136721,
          -4.76332507,
          null,
          -2.43724316,
          -2.43273511,
          null
         ],
         "z": [
          0,
          1.44393247,
          null,
          0,
          -0.35406713,
          null,
          0,
          -0.59102014,
          null,
          0,
          -0.30342485,
          null,
          1.44393247,
          0,
          null,
          1.44393247,
          1.92955806,
          null,
          1.92955806,
          1.44393247,
          null,
          1.92955806,
          0.73611477,
          null,
          1.92955806,
          2.73989283,
          null,
          1.92955806,
          2.52017432,
          null,
          0.73611477,
          1.92955806,
          null,
          0.73611477,
          -0.35406713,
          null,
          0.73611477,
          0.41707672,
          null,
          0.73611477,
          0.98222269,
          null,
          -0.35406713,
          0,
          null,
          -0.35406713,
          0.73611477,
          null,
          -0.35406713,
          -0.3221261,
          null,
          -0.35406713,
          -1.36150068,
          null,
          -0.59102014,
          0,
          null,
          -0.59102014,
          -0.09110605,
          null,
          -0.59102014,
          -0.33156433,
          null,
          -0.59102014,
          -1.68807937,
          null,
          -0.3221261,
          -0.35406713,
          null,
          -0.3221261,
          0.51320264,
          null,
          -0.09110605,
          -0.59102014,
          null,
          -0.09110605,
          -0.43173085,
          null,
          2.73989283,
          1.92955806,
          null,
          0.41707672,
          0.73611477,
          null,
          0.98222269,
          0.73611477,
          null,
          -1.36150068,
          -0.35406713,
          null,
          0.51320264,
          -0.3221261,
          null,
          -0.30342485,
          0,
          null,
          -0.33156433,
          -0.59102014,
          null,
          -1.68807937,
          -0.59102014,
          null,
          -0.43173085,
          -0.09110605,
          null,
          2.52017432,
          1.92955806,
          null,
          2.52017432,
          3.2187936,
          null,
          2.52017432,
          2.5919286,
          null,
          3.2187936,
          2.52017432,
          null,
          3.2187936,
          3.44374919,
          null,
          3.2187936,
          3.65502618,
          null,
          3.44374919,
          3.2187936,
          null,
          3.44374919,
          4.17201405,
          null,
          4.17201405,
          3.44374919,
          null,
          4.17201405,
          4.65987201,
          null,
          4.17201405,
          4.40570526,
          null,
          4.65987201,
          4.17201405,
          null,
          4.65987201,
          4.40866455,
          null,
          3.65502618,
          3.2187936,
          null,
          3.65502618,
          4.40866455,
          null,
          3.65502618,
          3.25275313,
          null,
          4.40866455,
          4.65987201,
          null,
          4.40866455,
          3.65502618,
          null,
          4.40866455,
          4.870523,
          null,
          3.25275313,
          3.65502618,
          null,
          3.25275313,
          2.5919286,
          null,
          2.5919286,
          2.52017432,
          null,
          2.5919286,
          3.25275313,
          null,
          2.5919286,
          2.11651158,
          null,
          4.40570526,
          4.17201405,
          null,
          4.870523,
          4.40866455,
          null,
          4.870523,
          4.84933922,
          null,
          4.870523,
          5.54078291,
          null,
          4.84933922,
          4.870523,
          null,
          5.54078291,
          4.870523,
          null,
          2.11651158,
          2.5919286,
          null
         ]
        }
       ],
       "layout": {
        "margin": {
         "b": 0,
         "l": 0,
         "r": 0,
         "t": 0
        },
        "scene": {
         "annotations": [
          {
           "showarrow": false,
           "text": "C",
           "x": 0,
           "y": 0,
           "yshift": 15,
           "z": 0
          },
          {
           "showarrow": false,
           "text": "O",
           "x": 0,
           "y": 0,
           "yshift": 15,
           "z": 1.44393247
          },
          {
           "showarrow": false,
           "text": "C",
           "x": 1.33012775,
           "y": 0,
           "yshift": 15,
           "z": 1.92955806
          },
          {
           "showarrow": false,
           "text": "C",
           "x": 2.24550019,
           "y": 0.36241441,
           "yshift": 15,
           "z": 0.73611477
          },
          {
           "showarrow": false,
           "text": "C",
           "x": 1.25356177,
           "y": 0.815451,
           "yshift": 15,
           "z": -0.35406713
          },
          {
           "showarrow": false,
           "text": "C",
           "x": -0.01447485,
           "y": -1.40699127,
           "yshift": 15,
           "z": -0.59102014
          },
          {
           "showarrow": false,
           "text": "O",
           "x": 0.99493119,
           "y": 2.21111393,
           "yshift": 15,
           "z": -0.3221261
          },
          {
           "showarrow": false,
           "text": "O",
           "x": -1.16025066,
           "y": -2.08096006,
           "yshift": 15,
           "z": -0.09110605
          },
          {
           "showarrow": false,
           "text": "H",
           "x": 1.39839374,
           "y": 0.73304981,
           "yshift": 15,
           "z": 2.73989283
          },
          {
           "showarrow": false,
           "text": "H",
           "x": 2.81422085,
           "y": -0.51457743,
           "yshift": 15,
           "z": 0.41707672
          },
          {
           "showarrow": false,
           "text": "H",
           "x": 2.95675452,
           "y": 1.15172937,
           "yshift": 15,
           "z": 0.98222269
          },
          {
           "showarrow": false,
           "text": "H",
           "x": 1.6247017,
           "y": 0.60769219,
           "yshift": 15,
           "z": -1.36150068
          },
          {
           "showarrow": false,
           "text": "H",
           "x": 0.54662005,
           "y": 2.40642541,
           "yshift": 15,
           "z": 0.51320264
          },
          {
           "showarrow": false,
           "text": "H",
           "x": -0.91384863,
           "y": 0.518474,
           "yshift": 15,
           "z": -0.30342485
          },
          {
           "showarrow": false,
           "text": "H",
           "x": 0.91107341,
           "y": -1.94244109,
           "yshift": 15,
           "z": -0.33156433
          },
          {
           "showarrow": false,
           "text": "H",
           "x": -0.04768294,
           "y": -1.31181879,
           "yshift": 15,
           "z": -1.68807937
          },
          {
           "showarrow": false,
           "text": "H",
           "x": -1.15055541,
           "y": -2.98463479,
           "yshift": 15,
           "z": -0.43173085
          },
          {
           "showarrow": false,
           "text": "N",
           "x": 1.63833328,
           "y": -1.31044491,
           "yshift": 15,
           "z": 2.52017432
          },
          {
           "showarrow": false,
           "text": "C",
           "x": 2.78609087,
           "y": -1.62033445,
           "yshift": 15,
           "z": 3.2187936
          },
          {
           "showarrow": false,
           "text": "N",
           "x": 3.85298077,
           "y": -0.83911359,
           "yshift": 15,
           "z": 3.44374919
          },
          {
           "showarrow": false,
           "text": "C",
           "x": 4.7740641,
           "y": -1.47899103,
           "yshift": 15,
           "z": 4.17201405
          },
          {
           "showarrow": false,
           "text": "N",
           "x": 4.74182048,
           "y": -2.73008767,
           "yshift": 15,
           "z": 4.65987201
          },
          {
           "showarrow": false,
           "text": "C",
           "x": 2.60051727,
           "y": -2.93667899,
           "yshift": 15,
           "z": 3.65502618
          },
          {
           "showarrow": false,
           "text": "C",
           "x": 3.65794371,
           "y": -3.48687618,
           "yshift": 15,
           "z": 4.40866455
          },
          {
           "showarrow": false,
           "text": "N",
           "x": 1.37257164,
           "y": -3.43031156,
           "yshift": 15,
           "z": 3.25275313
          },
          {
           "showarrow": false,
           "text": "C",
           "x": 0.82851285,
           "y": -2.43273511,
           "yshift": 15,
           "z": 2.5919286
          },
          {
           "showarrow": false,
           "text": "H",
           "x": 5.67323731,
           "y": -0.91267977,
           "yshift": 15,
           "z": 4.40570526
          },
          {
           "showarrow": false,
           "text": "N",
           "x": 3.63043043,
           "y": -4.76332507,
           "yshift": 15,
           "z": 4.870523
          },
          {
           "showarrow": false,
           "text": "H",
           "x": 2.75728334,
           "y": -5.26554002,
           "yshift": 15,
           "z": 4.84933922
          },
          {
           "showarrow": false,
           "text": "H",
           "x": 4.33374742,
           "y": -5.03136721,
           "yshift": 15,
           "z": 5.54078291
          },
          {
           "showarrow": false,
           "text": "H",
           "x": -0.14250558,
           "y": -2.43724316,
           "yshift": 15,
           "z": 2.11651158
          }
         ],
         "xaxis": {
          "showbackground": false,
          "showgrid": false,
          "showticklabels": false,
          "title": {
           "font": {
            "color": "white"
           }
          },
          "zeroline": false
         },
         "yaxis": {
          "showbackground": false,
          "showgrid": false,
          "showticklabels": false,
          "title": {
           "font": {
            "color": "white"
           }
          },
          "zeroline": false
         },
         "zaxis": {
          "showbackground": false,
          "showgrid": false,
          "showticklabels": false,
          "title": {
           "font": {
            "color": "white"
           }
          },
          "zeroline": false
         }
        },
        "showlegend": false,
        "template": {
         "data": {
          "bar": [
           {
            "error_x": {
             "color": "#2a3f5f"
            },
            "error_y": {
             "color": "#2a3f5f"
            },
            "marker": {
             "line": {
              "color": "#E5ECF6",
              "width": 0.5
             },
             "pattern": {
              "fillmode": "overlay",
              "size": 10,
              "solidity": 0.2
             }
            },
            "type": "bar"
           }
          ],
          "barpolar": [
           {
            "marker": {
             "line": {
              "color": "#E5ECF6",
              "width": 0.5
             },
             "pattern": {
              "fillmode": "overlay",
              "size": 10,
              "solidity": 0.2
             }
            },
            "type": "barpolar"
           }
          ],
          "carpet": [
           {
            "aaxis": {
             "endlinecolor": "#2a3f5f",
             "gridcolor": "white",
             "linecolor": "white",
             "minorgridcolor": "white",
             "startlinecolor": "#2a3f5f"
            },
            "baxis": {
             "endlinecolor": "#2a3f5f",
             "gridcolor": "white",
             "linecolor": "white",
             "minorgridcolor": "white",
             "startlinecolor": "#2a3f5f"
            },
            "type": "carpet"
           }
          ],
          "choropleth": [
           {
            "colorbar": {
             "outlinewidth": 0,
             "ticks": ""
            },
            "type": "choropleth"
           }
          ],
          "contour": [
           {
            "colorbar": {
             "outlinewidth": 0,
             "ticks": ""
            },
            "colorscale": [
             [
              0,
              "#0d0887"
             ],
             [
              0.1111111111111111,
              "#46039f"
             ],
             [
              0.2222222222222222,
              "#7201a8"
             ],
             [
              0.3333333333333333,
              "#9c179e"
             ],
             [
              0.4444444444444444,
              "#bd3786"
             ],
             [
              0.5555555555555556,
              "#d8576b"
             ],
             [
              0.6666666666666666,
              "#ed7953"
             ],
             [
              0.7777777777777778,
              "#fb9f3a"
             ],
             [
              0.8888888888888888,
              "#fdca26"
             ],
             [
              1,
              "#f0f921"
             ]
            ],
            "type": "contour"
           }
          ],
          "contourcarpet": [
           {
            "colorbar": {
             "outlinewidth": 0,
             "ticks": ""
            },
            "type": "contourcarpet"
           }
          ],
          "heatmap": [
           {
            "colorbar": {
             "outlinewidth": 0,
             "ticks": ""
            },
            "colorscale": [
             [
              0,
              "#0d0887"
             ],
             [
              0.1111111111111111,
              "#46039f"
             ],
             [
              0.2222222222222222,
              "#7201a8"
             ],
             [
              0.3333333333333333,
              "#9c179e"
             ],
             [
              0.4444444444444444,
              "#bd3786"
             ],
             [
              0.5555555555555556,
              "#d8576b"
             ],
             [
              0.6666666666666666,
              "#ed7953"
             ],
             [
              0.7777777777777778,
              "#fb9f3a"
             ],
             [
              0.8888888888888888,
              "#fdca26"
             ],
             [
              1,
              "#f0f921"
             ]
            ],
            "type": "heatmap"
           }
          ],
          "heatmapgl": [
           {
            "colorbar": {
             "outlinewidth": 0,
             "ticks": ""
            },
            "colorscale": [
             [
              0,
              "#0d0887"
             ],
             [
              0.1111111111111111,
              "#46039f"
             ],
             [
              0.2222222222222222,
              "#7201a8"
             ],
             [
              0.3333333333333333,
              "#9c179e"
             ],
             [
              0.4444444444444444,
              "#bd3786"
             ],
             [
              0.5555555555555556,
              "#d8576b"
             ],
             [
              0.6666666666666666,
              "#ed7953"
             ],
             [
              0.7777777777777778,
              "#fb9f3a"
             ],
             [
              0.8888888888888888,
              "#fdca26"
             ],
             [
              1,
              "#f0f921"
             ]
            ],
            "type": "heatmapgl"
           }
          ],
          "histogram": [
           {
            "marker": {
             "pattern": {
              "fillmode": "overlay",
              "size": 10,
              "solidity": 0.2
             }
            },
            "type": "histogram"
           }
          ],
          "histogram2d": [
           {
            "colorbar": {
             "outlinewidth": 0,
             "ticks": ""
            },
            "colorscale": [
             [
              0,
              "#0d0887"
             ],
             [
              0.1111111111111111,
              "#46039f"
             ],
             [
              0.2222222222222222,
              "#7201a8"
             ],
             [
              0.3333333333333333,
              "#9c179e"
             ],
             [
              0.4444444444444444,
              "#bd3786"
             ],
             [
              0.5555555555555556,
              "#d8576b"
             ],
             [
              0.6666666666666666,
              "#ed7953"
             ],
             [
              0.7777777777777778,
              "#fb9f3a"
             ],
             [
              0.8888888888888888,
              "#fdca26"
             ],
             [
              1,
              "#f0f921"
             ]
            ],
            "type": "histogram2d"
           }
          ],
          "histogram2dcontour": [
           {
            "colorbar": {
             "outlinewidth": 0,
             "ticks": ""
            },
            "colorscale": [
             [
              0,
              "#0d0887"
             ],
             [
              0.1111111111111111,
              "#46039f"
             ],
             [
              0.2222222222222222,
              "#7201a8"
             ],
             [
              0.3333333333333333,
              "#9c179e"
             ],
             [
              0.4444444444444444,
              "#bd3786"
             ],
             [
              0.5555555555555556,
              "#d8576b"
             ],
             [
              0.6666666666666666,
              "#ed7953"
             ],
             [
              0.7777777777777778,
              "#fb9f3a"
             ],
             [
              0.8888888888888888,
              "#fdca26"
             ],
             [
              1,
              "#f0f921"
             ]
            ],
            "type": "histogram2dcontour"
           }
          ],
          "mesh3d": [
           {
            "colorbar": {
             "outlinewidth": 0,
             "ticks": ""
            },
            "type": "mesh3d"
           }
          ],
          "parcoords": [
           {
            "line": {
             "colorbar": {
              "outlinewidth": 0,
              "ticks": ""
             }
            },
            "type": "parcoords"
           }
          ],
          "pie": [
           {
            "automargin": true,
            "type": "pie"
           }
          ],
          "scatter": [
           {
            "fillpattern": {
             "fillmode": "overlay",
             "size": 10,
             "solidity": 0.2
            },
            "type": "scatter"
           }
          ],
          "scatter3d": [
           {
            "line": {
             "colorbar": {
              "outlinewidth": 0,
              "ticks": ""
             }
            },
            "marker": {
             "colorbar": {
              "outlinewidth": 0,
              "ticks": ""
             }
            },
            "type": "scatter3d"
           }
          ],
          "scattercarpet": [
           {
            "marker": {
             "colorbar": {
              "outlinewidth": 0,
              "ticks": ""
             }
            },
            "type": "scattercarpet"
           }
          ],
          "scattergeo": [
           {
            "marker": {
             "colorbar": {
              "outlinewidth": 0,
              "ticks": ""
             }
            },
            "type": "scattergeo"
           }
          ],
          "scattergl": [
           {
            "marker": {
             "colorbar": {
              "outlinewidth": 0,
              "ticks": ""
             }
            },
            "type": "scattergl"
           }
          ],
          "scattermapbox": [
           {
            "marker": {
             "colorbar": {
              "outlinewidth": 0,
              "ticks": ""
             }
            },
            "type": "scattermapbox"
           }
          ],
          "scatterpolar": [
           {
            "marker": {
             "colorbar": {
              "outlinewidth": 0,
              "ticks": ""
             }
            },
            "type": "scatterpolar"
           }
          ],
          "scatterpolargl": [
           {
            "marker": {
             "colorbar": {
              "outlinewidth": 0,
              "ticks": ""
             }
            },
            "type": "scatterpolargl"
           }
          ],
          "scatterternary": [
           {
            "marker": {
             "colorbar": {
              "outlinewidth": 0,
              "ticks": ""
             }
            },
            "type": "scatterternary"
           }
          ],
          "surface": [
           {
            "colorbar": {
             "outlinewidth": 0,
             "ticks": ""
            },
            "colorscale": [
             [
              0,
              "#0d0887"
             ],
             [
              0.1111111111111111,
              "#46039f"
             ],
             [
              0.2222222222222222,
              "#7201a8"
             ],
             [
              0.3333333333333333,
              "#9c179e"
             ],
             [
              0.4444444444444444,
              "#bd3786"
             ],
             [
              0.5555555555555556,
              "#d8576b"
             ],
             [
              0.6666666666666666,
              "#ed7953"
             ],
             [
              0.7777777777777778,
              "#fb9f3a"
             ],
             [
              0.8888888888888888,
              "#fdca26"
             ],
             [
              1,
              "#f0f921"
             ]
            ],
            "type": "surface"
           }
          ],
          "table": [
           {
            "cells": {
             "fill": {
              "color": "#EBF0F8"
             },
             "line": {
              "color": "white"
             }
            },
            "header": {
             "fill": {
              "color": "#C8D4E3"
             },
             "line": {
              "color": "white"
             }
            },
            "type": "table"
           }
          ]
         },
         "layout": {
          "annotationdefaults": {
           "arrowcolor": "#2a3f5f",
           "arrowhead": 0,
           "arrowwidth": 1
          },
          "autotypenumbers": "strict",
          "coloraxis": {
           "colorbar": {
            "outlinewidth": 0,
            "ticks": ""
           }
          },
          "colorscale": {
           "diverging": [
            [
             0,
             "#8e0152"
            ],
            [
             0.1,
             "#c51b7d"
            ],
            [
             0.2,
             "#de77ae"
            ],
            [
             0.3,
             "#f1b6da"
            ],
            [
             0.4,
             "#fde0ef"
            ],
            [
             0.5,
             "#f7f7f7"
            ],
            [
             0.6,
             "#e6f5d0"
            ],
            [
             0.7,
             "#b8e186"
            ],
            [
             0.8,
             "#7fbc41"
            ],
            [
             0.9,
             "#4d9221"
            ],
            [
             1,
             "#276419"
            ]
           ],
           "sequential": [
            [
             0,
             "#0d0887"
            ],
            [
             0.1111111111111111,
             "#46039f"
            ],
            [
             0.2222222222222222,
             "#7201a8"
            ],
            [
             0.3333333333333333,
             "#9c179e"
            ],
            [
             0.4444444444444444,
             "#bd3786"
            ],
            [
             0.5555555555555556,
             "#d8576b"
            ],
            [
             0.6666666666666666,
             "#ed7953"
            ],
            [
             0.7777777777777778,
             "#fb9f3a"
            ],
            [
             0.8888888888888888,
             "#fdca26"
            ],
            [
             1,
             "#f0f921"
            ]
           ],
           "sequentialminus": [
            [
             0,
             "#0d0887"
            ],
            [
             0.1111111111111111,
             "#46039f"
            ],
            [
             0.2222222222222222,
             "#7201a8"
            ],
            [
             0.3333333333333333,
             "#9c179e"
            ],
            [
             0.4444444444444444,
             "#bd3786"
            ],
            [
             0.5555555555555556,
             "#d8576b"
            ],
            [
             0.6666666666666666,
             "#ed7953"
            ],
            [
             0.7777777777777778,
             "#fb9f3a"
            ],
            [
             0.8888888888888888,
             "#fdca26"
            ],
            [
             1,
             "#f0f921"
            ]
           ]
          },
          "colorway": [
           "#636efa",
           "#EF553B",
           "#00cc96",
           "#ab63fa",
           "#FFA15A",
           "#19d3f3",
           "#FF6692",
           "#B6E880",
           "#FF97FF",
           "#FECB52"
          ],
          "font": {
           "color": "#2a3f5f"
          },
          "geo": {
           "bgcolor": "white",
           "lakecolor": "white",
           "landcolor": "#E5ECF6",
           "showlakes": true,
           "showland": true,
           "subunitcolor": "white"
          },
          "hoverlabel": {
           "align": "left"
          },
          "hovermode": "closest",
          "mapbox": {
           "style": "light"
          },
          "paper_bgcolor": "white",
          "plot_bgcolor": "#E5ECF6",
          "polar": {
           "angularaxis": {
            "gridcolor": "white",
            "linecolor": "white",
            "ticks": ""
           },
           "bgcolor": "#E5ECF6",
           "radialaxis": {
            "gridcolor": "white",
            "linecolor": "white",
            "ticks": ""
           }
          },
          "scene": {
           "xaxis": {
            "backgroundcolor": "#E5ECF6",
            "gridcolor": "white",
            "gridwidth": 2,
            "linecolor": "white",
            "showbackground": true,
            "ticks": "",
            "zerolinecolor": "white"
           },
           "yaxis": {
            "backgroundcolor": "#E5ECF6",
            "gridcolor": "white",
            "gridwidth": 2,
            "linecolor": "white",
            "showbackground": true,
            "ticks": "",
            "zerolinecolor": "white"
           },
           "zaxis": {
            "backgroundcolor": "#E5ECF6",
            "gridcolor": "white",
            "gridwidth": 2,
            "linecolor": "white",
            "showbackground": true,
            "ticks": "",
            "zerolinecolor": "white"
           }
          },
          "shapedefaults": {
           "line": {
            "color": "#2a3f5f"
           }
          },
          "ternary": {
           "aaxis": {
            "gridcolor": "white",
            "linecolor": "white",
            "ticks": ""
           },
           "baxis": {
            "gridcolor": "white",
            "linecolor": "white",
            "ticks": ""
           },
           "bgcolor": "#E5ECF6",
           "caxis": {
            "gridcolor": "white",
            "linecolor": "white",
            "ticks": ""
           }
          },
          "title": {
           "x": 0.05
          },
          "xaxis": {
           "automargin": true,
           "gridcolor": "white",
           "linecolor": "white",
           "ticks": "",
           "title": {
            "standoff": 15
           },
           "zerolinecolor": "white",
           "zerolinewidth": 2
          },
          "yaxis": {
           "automargin": true,
           "gridcolor": "white",
           "linecolor": "white",
           "ticks": "",
           "title": {
            "standoff": 15
           },
           "zerolinecolor": "white",
           "zerolinewidth": 2
          }
         }
        },
        "updatemenus": [
         {
          "buttons": [
           {
            "args": [
             {
              "scene.annotations": [
               {
                "showarrow": false,
                "text": "C",
                "x": 0,
                "y": 0,
                "yshift": 15,
                "z": 0
               },
               {
                "showarrow": false,
                "text": "O",
                "x": 0,
                "y": 0,
                "yshift": 15,
                "z": 1.44393247
               },
               {
                "showarrow": false,
                "text": "C",
                "x": 1.33012775,
                "y": 0,
                "yshift": 15,
                "z": 1.92955806
               },
               {
                "showarrow": false,
                "text": "C",
                "x": 2.24550019,
                "y": 0.36241441,
                "yshift": 15,
                "z": 0.73611477
               },
               {
                "showarrow": false,
                "text": "C",
                "x": 1.25356177,
                "y": 0.815451,
                "yshift": 15,
                "z": -0.35406713
               },
               {
                "showarrow": false,
                "text": "C",
                "x": -0.01447485,
                "y": -1.40699127,
                "yshift": 15,
                "z": -0.59102014
               },
               {
                "showarrow": false,
                "text": "O",
                "x": 0.99493119,
                "y": 2.21111393,
                "yshift": 15,
                "z": -0.3221261
               },
               {
                "showarrow": false,
                "text": "O",
                "x": -1.16025066,
                "y": -2.08096006,
                "yshift": 15,
                "z": -0.09110605
               },
               {
                "showarrow": false,
                "text": "H",
                "x": 1.39839374,
                "y": 0.73304981,
                "yshift": 15,
                "z": 2.73989283
               },
               {
                "showarrow": false,
                "text": "H",
                "x": 2.81422085,
                "y": -0.51457743,
                "yshift": 15,
                "z": 0.41707672
               },
               {
                "showarrow": false,
                "text": "H",
                "x": 2.95675452,
                "y": 1.15172937,
                "yshift": 15,
                "z": 0.98222269
               },
               {
                "showarrow": false,
                "text": "H",
                "x": 1.6247017,
                "y": 0.60769219,
                "yshift": 15,
                "z": -1.36150068
               },
               {
                "showarrow": false,
                "text": "H",
                "x": 0.54662005,
                "y": 2.40642541,
                "yshift": 15,
                "z": 0.51320264
               },
               {
                "showarrow": false,
                "text": "H",
                "x": -0.91384863,
                "y": 0.518474,
                "yshift": 15,
                "z": -0.30342485
               },
               {
                "showarrow": false,
                "text": "H",
                "x": 0.91107341,
                "y": -1.94244109,
                "yshift": 15,
                "z": -0.33156433
               },
               {
                "showarrow": false,
                "text": "H",
                "x": -0.04768294,
                "y": -1.31181879,
                "yshift": 15,
                "z": -1.68807937
               },
               {
                "showarrow": false,
                "text": "H",
                "x": -1.15055541,
                "y": -2.98463479,
                "yshift": 15,
                "z": -0.43173085
               },
               {
                "showarrow": false,
                "text": "N",
                "x": 1.63833328,
                "y": -1.31044491,
                "yshift": 15,
                "z": 2.52017432
               },
               {
                "showarrow": false,
                "text": "C",
                "x": 2.78609087,
                "y": -1.62033445,
                "yshift": 15,
                "z": 3.2187936
               },
               {
                "showarrow": false,
                "text": "N",
                "x": 3.85298077,
                "y": -0.83911359,
                "yshift": 15,
                "z": 3.44374919
               },
               {
                "showarrow": false,
                "text": "C",
                "x": 4.7740641,
                "y": -1.47899103,
                "yshift": 15,
                "z": 4.17201405
               },
               {
                "showarrow": false,
                "text": "N",
                "x": 4.74182048,
                "y": -2.73008767,
                "yshift": 15,
                "z": 4.65987201
               },
               {
                "showarrow": false,
                "text": "C",
                "x": 2.60051727,
                "y": -2.93667899,
                "yshift": 15,
                "z": 3.65502618
               },
               {
                "showarrow": false,
                "text": "C",
                "x": 3.65794371,
                "y": -3.48687618,
                "yshift": 15,
                "z": 4.40866455
               },
               {
                "showarrow": false,
                "text": "N",
                "x": 1.37257164,
                "y": -3.43031156,
                "yshift": 15,
                "z": 3.25275313
               },
               {
                "showarrow": false,
                "text": "C",
                "x": 0.82851285,
                "y": -2.43273511,
                "yshift": 15,
                "z": 2.5919286
               },
               {
                "showarrow": false,
                "text": "H",
                "x": 5.67323731,
                "y": -0.91267977,
                "yshift": 15,
                "z": 4.40570526
               },
               {
                "showarrow": false,
                "text": "N",
                "x": 3.63043043,
                "y": -4.76332507,
                "yshift": 15,
                "z": 4.870523
               },
               {
                "showarrow": false,
                "text": "H",
                "x": 2.75728334,
                "y": -5.26554002,
                "yshift": 15,
                "z": 4.84933922
               },
               {
                "showarrow": false,
                "text": "H",
                "x": 4.33374742,
                "y": -5.03136721,
                "yshift": 15,
                "z": 5.54078291
               },
               {
                "showarrow": false,
                "text": "H",
                "x": -0.14250558,
                "y": -2.43724316,
                "yshift": 15,
                "z": 2.11651158
               }
              ]
             }
            ],
            "label": "Elements",
            "method": "relayout"
           },
           {
            "args": [
             {
              "scene.annotations": [
               {
                "showarrow": false,
                "text": "C4'",
                "x": 0,
                "y": 0,
                "yshift": 15,
                "z": 0
               },
               {
                "showarrow": false,
                "text": "O4'",
                "x": 0,
                "y": 0,
                "yshift": 15,
                "z": 1.44393247
               },
               {
                "showarrow": false,
                "text": "C1'",
                "x": 1.33012775,
                "y": 0,
                "yshift": 15,
                "z": 1.92955806
               },
               {
                "showarrow": false,
                "text": "C2'",
                "x": 2.24550019,
                "y": 0.36241441,
                "yshift": 15,
                "z": 0.73611477
               },
               {
                "showarrow": false,
                "text": "C3'",
                "x": 1.25356177,
                "y": 0.815451,
                "yshift": 15,
                "z": -0.35406713
               },
               {
                "showarrow": false,
                "text": "C5'",
                "x": -0.01447485,
                "y": -1.40699127,
                "yshift": 15,
                "z": -0.59102014
               },
               {
                "showarrow": false,
                "text": "O3'",
                "x": 0.99493119,
                "y": 2.21111393,
                "yshift": 15,
                "z": -0.3221261
               },
               {
                "showarrow": false,
                "text": "O5'",
                "x": -1.16025066,
                "y": -2.08096006,
                "yshift": 15,
                "z": -0.09110605
               },
               {
                "showarrow": false,
                "text": "H",
                "x": 1.39839374,
                "y": 0.73304981,
                "yshift": 15,
                "z": 2.73989283
               },
               {
                "showarrow": false,
                "text": "H",
                "x": 2.81422085,
                "y": -0.51457743,
                "yshift": 15,
                "z": 0.41707672
               },
               {
                "showarrow": false,
                "text": "H",
                "x": 2.95675452,
                "y": 1.15172937,
                "yshift": 15,
                "z": 0.98222269
               },
               {
                "showarrow": false,
                "text": "H",
                "x": 1.6247017,
                "y": 0.60769219,
                "yshift": 15,
                "z": -1.36150068
               },
               {
                "showarrow": false,
                "text": "H",
                "x": 0.54662005,
                "y": 2.40642541,
                "yshift": 15,
                "z": 0.51320264
               },
               {
                "showarrow": false,
                "text": "H",
                "x": -0.91384863,
                "y": 0.518474,
                "yshift": 15,
                "z": -0.30342485
               },
               {
                "showarrow": false,
                "text": "H",
                "x": 0.91107341,
                "y": -1.94244109,
                "yshift": 15,
                "z": -0.33156433
               },
               {
                "showarrow": false,
                "text": "H",
                "x": -0.04768294,
                "y": -1.31181879,
                "yshift": 15,
                "z": -1.68807937
               },
               {
                "showarrow": false,
                "text": "H",
                "x": -1.15055541,
                "y": -2.98463479,
                "yshift": 15,
                "z": -0.43173085
               },
               {
                "showarrow": false,
                "text": "N9",
                "x": 1.63833328,
                "y": -1.31044491,
                "yshift": 15,
                "z": 2.52017432
               },
               {
                "showarrow": false,
                "text": "C4",
                "x": 2.78609087,
                "y": -1.62033445,
                "yshift": 15,
                "z": 3.2187936
               },
               {
                "showarrow": false,
                "text": "N3",
                "x": 3.85298077,
                "y": -0.83911359,
                "yshift": 15,
                "z": 3.44374919
               },
               {
                "showarrow": false,
                "text": "C2",
                "x": 4.7740641,
                "y": -1.47899103,
                "yshift": 15,
                "z": 4.17201405
               },
               {
                "showarrow": false,
                "text": "N1",
                "x": 4.74182048,
                "y": -2.73008767,
                "yshift": 15,
                "z": 4.65987201
               },
               {
                "showarrow": false,
                "text": "C5",
                "x": 2.60051727,
                "y": -2.93667899,
                "yshift": 15,
                "z": 3.65502618
               },
               {
                "showarrow": false,
                "text": "C6",
                "x": 3.65794371,
                "y": -3.48687618,
                "yshift": 15,
                "z": 4.40866455
               },
               {
                "showarrow": false,
                "text": "N7",
                "x": 1.37257164,
                "y": -3.43031156,
                "yshift": 15,
                "z": 3.25275313
               },
               {
                "showarrow": false,
                "text": "C8",
                "x": 0.82851285,
                "y": -2.43273511,
                "yshift": 15,
                "z": 2.5919286
               },
               {
                "showarrow": false,
                "text": "H",
                "x": 5.67323731,
                "y": -0.91267977,
                "yshift": 15,
                "z": 4.40570526
               },
               {
                "showarrow": false,
                "text": "N6",
                "x": 3.63043043,
                "y": -4.76332507,
                "yshift": 15,
                "z": 4.870523
               },
               {
                "showarrow": false,
                "text": "H",
                "x": 2.75728334,
                "y": -5.26554002,
                "yshift": 15,
                "z": 4.84933922
               },
               {
                "showarrow": false,
                "text": "H",
                "x": 4.33374742,
                "y": -5.03136721,
                "yshift": 15,
                "z": 5.54078291
               },
               {
                "showarrow": false,
                "text": "H",
                "x": -0.14250558,
                "y": -2.43724316,
                "yshift": 15,
                "z": 2.11651158
               }
              ]
             }
            ],
            "label": "Named Elements",
            "method": "relayout"
           },
           {
            "args": [
             {
              "scene.annotations": [
               {
                "showarrow": false,
                "text": "C",
                "x": 0,
                "y": 0,
                "yshift": 15,
                "z": 0
               },
               {
                "showarrow": false,
                "text": "O",
                "x": 0,
                "y": 0,
                "yshift": 15,
                "z": 1.44393247
               },
               {
                "showarrow": false,
                "text": "C",
                "x": 1.33012775,
                "y": 0,
                "yshift": 15,
                "z": 1.92955806
               },
               {
                "showarrow": false,
                "text": "C",
                "x": 2.24550019,
                "y": 0.36241441,
                "yshift": 15,
                "z": 0.73611477
               },
               {
                "showarrow": false,
                "text": "C",
                "x": 1.25356177,
                "y": 0.815451,
                "yshift": 15,
                "z": -0.35406713
               },
               {
                "showarrow": false,
                "text": "C",
                "x": -0.01447485,
                "y": -1.40699127,
                "yshift": 15,
                "z": -0.59102014
               },
               {
                "showarrow": false,
                "text": "O",
                "x": 0.99493119,
                "y": 2.21111393,
                "yshift": 15,
                "z": -0.3221261
               },
               {
                "showarrow": false,
                "text": "O",
                "x": -1.16025066,
                "y": -2.08096006,
                "yshift": 15,
                "z": -0.09110605
               },
               {
                "showarrow": false,
                "text": "H",
                "x": 1.39839374,
                "y": 0.73304981,
                "yshift": 15,
                "z": 2.73989283
               },
               {
                "showarrow": false,
                "text": "H",
                "x": 2.81422085,
                "y": -0.51457743,
                "yshift": 15,
                "z": 0.41707672
               },
               {
                "showarrow": false,
                "text": "H",
                "x": 2.95675452,
                "y": 1.15172937,
                "yshift": 15,
                "z": 0.98222269
               },
               {
                "showarrow": false,
                "text": "H",
                "x": 1.6247017,
                "y": 0.60769219,
                "yshift": 15,
                "z": -1.36150068
               },
               {
                "showarrow": false,
                "text": "H",
                "x": 0.54662005,
                "y": 2.40642541,
                "yshift": 15,
                "z": 0.51320264
               },
               {
                "showarrow": false,
                "text": "H",
                "x": -0.91384863,
                "y": 0.518474,
                "yshift": 15,
                "z": -0.30342485
               },
               {
                "showarrow": false,
                "text": "H",
                "x": 0.91107341,
                "y": -1.94244109,
                "yshift": 15,
                "z": -0.33156433
               },
               {
                "showarrow": false,
                "text": "H",
                "x": -0.04768294,
                "y": -1.31181879,
                "yshift": 15,
                "z": -1.68807937
               },
               {
                "showarrow": false,
                "text": "H",
                "x": -1.15055541,
                "y": -2.98463479,
                "yshift": 15,
                "z": -0.43173085
               },
               {
                "showarrow": false,
                "text": "N",
                "x": 1.63833328,
                "y": -1.31044491,
                "yshift": 15,
                "z": 2.52017432
               },
               {
                "showarrow": false,
                "text": "C",
                "x": 2.78609087,
                "y": -1.62033445,
                "yshift": 15,
                "z": 3.2187936
               },
               {
                "showarrow": false,
                "text": "N",
                "x": 3.85298077,
                "y": -0.83911359,
                "yshift": 15,
                "z": 3.44374919
               },
               {
                "showarrow": false,
                "text": "C",
                "x": 4.7740641,
                "y": -1.47899103,
                "yshift": 15,
                "z": 4.17201405
               },
               {
                "showarrow": false,
                "text": "N",
                "x": 4.74182048,
                "y": -2.73008767,
                "yshift": 15,
                "z": 4.65987201
               },
               {
                "showarrow": false,
                "text": "C",
                "x": 2.60051727,
                "y": -2.93667899,
                "yshift": 15,
                "z": 3.65502618
               },
               {
                "showarrow": false,
                "text": "C",
                "x": 3.65794371,
                "y": -3.48687618,
                "yshift": 15,
                "z": 4.40866455
               },
               {
                "showarrow": false,
                "text": "N",
                "x": 1.37257164,
                "y": -3.43031156,
                "yshift": 15,
                "z": 3.25275313
               },
               {
                "showarrow": false,
                "text": "C",
                "x": 0.82851285,
                "y": -2.43273511,
                "yshift": 15,
                "z": 2.5919286
               },
               {
                "showarrow": false,
                "text": "H",
                "x": 5.67323731,
                "y": -0.91267977,
                "yshift": 15,
                "z": 4.40570526
               },
               {
                "showarrow": false,
                "text": "N",
                "x": 3.63043043,
                "y": -4.76332507,
                "yshift": 15,
                "z": 4.870523
               },
               {
                "showarrow": false,
                "text": "H",
                "x": 2.75728334,
                "y": -5.26554002,
                "yshift": 15,
                "z": 4.84933922
               },
               {
                "showarrow": false,
                "text": "H",
                "x": 4.33374742,
                "y": -5.03136721,
                "yshift": 15,
                "z": 5.54078291
               },
               {
                "showarrow": false,
                "text": "H",
                "x": -0.14250558,
                "y": -2.43724316,
                "yshift": 15,
                "z": 2.11651158
               },
               {
                "font": {
                 "color": "steelblue"
                },
                "showarrow": false,
                "text": 1.48,
                "x": 0,
                "y": 0,
                "yshift": 15,
                "z": 0.721966235
               },
               {
                "font": {
                 "color": "steelblue"
                },
                "showarrow": false,
                "text": 1.6,
                "x": 0.626780885,
                "y": 0.4077255,
                "yshift": 15,
                "z": -0.177033565
               },
               {
                "font": {
                 "color": "steelblue"
                },
                "showarrow": false,
                "text": 1.6,
                "x": -0.007237425,
                "y": -0.703495635,
                "yshift": 15,
                "z": -0.29551007
               },
               {
                "font": {
                 "color": "steelblue"
                },
                "showarrow": false,
                "text": 1.17,
                "x": -0.456924315,
                "y": 0.259237,
                "yshift": 15,
                "z": -0.151712425
               },
               {
                "font": {
                 "color": "steelblue"
                },
                "showarrow": false,
                "text": 1.48,
                "x": 0.665063875,
                "y": 0,
                "yshift": 15,
                "z": 1.6867452649999999
               },
               {
                "font": {
                 "color": "steelblue"
                },
                "showarrow": false,
                "text": 1.6,
                "x": 1.78781397,
                "y": 0.181207205,
                "yshift": 15,
                "z": 1.332836415
               },
               {
                "font": {
                 "color": "steelblue"
                },
                "showarrow": false,
                "text": 1.17,
                "x": 1.364260745,
                "y": 0.366524905,
                "yshift": 15,
                "z": 2.334725445
               },
               {
                "font": {
                 "color": "steelblue"
                },
                "showarrow": false,
                "text": 1.56,
                "x": 1.484230515,
                "y": -0.655222455,
                "yshift": 15,
                "z": 2.22486619
               },
               {
                "font": {
                 "color": "steelblue"
                },
                "showarrow": false,
                "text": 1.6,
                "x": 1.7495309799999998,
                "y": 0.5889327050000001,
                "yshift": 15,
                "z": 0.19102382
               },
               {
                "font": {
                 "color": "steelblue"
                },
                "showarrow": false,
                "text": 1.17,
                "x": 2.5298605199999997,
                "y": -0.07608150999999999,
                "yshift": 15,
                "z": 0.576595745
               },
               {
                "font": {
                 "color": "steelblue"
                },
                "showarrow": false,
                "text": 1.17,
                "x": 2.601127355,
                "y": 0.75707189,
                "yshift": 15,
                "z": 0.8591687299999999
               },
               {
                "font": {
                 "color": "steelblue"
                },
                "showarrow": false,
                "text": 1.48,
                "x": 1.12424648,
                "y": 1.5132824649999999,
                "yshift": 15,
                "z": -0.338096615
               },
               {
                "font": {
                 "color": "steelblue"
                },
                "showarrow": false,
                "text": 1.17,
                "x": 1.439131735,
                "y": 0.711571595,
                "yshift": 15,
                "z": -0.857783905
               },
               {
                "font": {
                 "color": "steelblue"
                },
                "showarrow": false,
                "text": 1.48,
                "x": -0.587362755,
                "y": -1.7439756649999998,
                "yshift": 15,
                "z": -0.341063095
               },
               {
                "font": {
                 "color": "steelblue"
                },
                "showarrow": false,
                "text": 1.17,
                "x": 0.44829927999999997,
                "y": -1.6747161799999999,
                "yshift": 15,
                "z": -0.46129223500000005
               },
               {
                "font": {
                 "color": "steelblue"
                },
                "showarrow": false,
                "text": 1.17,
                "x": -0.031078895,
                "y": -1.35940503,
                "yshift": 15,
                "z": -1.139549755
               },
               {
                "font": {
                 "color": "steelblue"
                },
                "showarrow": false,
                "text": 1.05,
                "x": 0.77077562,
                "y": 2.30876967,
                "yshift": 15,
                "z": 0.09553827000000001
               },
               {
                "font": {
                 "color": "steelblue"
                },
                "showarrow": false,
                "text": 1.05,
                "x": -1.155403035,
                "y": -2.532797425,
                "yshift": 15,
                "z": -0.26141844999999997
               },
               {
                "font": {
                 "color": "steelblue"
                },
                "showarrow": false,
                "text": 1.56,
                "x": 2.212212075,
                "y": -1.46538968,
                "yshift": 15,
                "z": 2.86948396
               },
               {
                "font": {
                 "color": "steelblue"
                },
                "showarrow": false,
                "text": 1.56,
                "x": 1.233423065,
                "y": -1.8715900099999998,
                "yshift": 15,
                "z": 2.55605146
               },
               {
                "font": {
                 "color": "steelblue"
                },
                "showarrow": false,
                "text": 1.56,
                "x": 3.31953582,
                "y": -1.22972402,
                "yshift": 15,
                "z": 3.331271395
               },
               {
                "font": {
                 "color": "steelblue"
                },
                "showarrow": false,
                "text": 1.6,
                "x": 2.69330407,
                "y": -2.27850672,
                "yshift": 15,
                "z": 3.43690989
               },
               {
                "font": {
                 "color": "steelblue"
                },
                "showarrow": false,
                "text": 1.56,
                "x": 4.313522435,
                "y": -1.1590523099999999,
                "yshift": 15,
                "z": 3.80788162
               },
               {
                "font": {
                 "color": "steelblue"
                },
                "showarrow": false,
                "text": 1.56,
                "x": 4.757942290000001,
                "y": -2.10453935,
                "yshift": 15,
                "z": 4.415943029999999
               },
               {
                "font": {
                 "color": "steelblue"
                },
                "showarrow": false,
                "text": 1.17,
                "x": 5.223650705000001,
                "y": -1.1958354,
                "yshift": 15,
                "z": 4.2888596549999995
               },
               {
                "font": {
                 "color": "steelblue"
                },
                "showarrow": false,
                "text": 1.56,
                "x": 4.199882095,
                "y": -3.108481925,
                "yshift": 15,
                "z": 4.53426828
               },
               {
                "font": {
                 "color": "steelblue"
                },
                "showarrow": false,
                "text": 1.6,
                "x": 3.1292304900000003,
                "y": -3.211777585,
                "yshift": 15,
                "z": 4.031845365000001
               },
               {
                "font": {
                 "color": "steelblue"
                },
                "showarrow": false,
                "text": 1.56,
                "x": 1.9865444550000002,
                "y": -3.183495275,
                "yshift": 15,
                "z": 3.4538896550000002
               },
               {
                "font": {
                 "color": "steelblue"
                },
                "showarrow": false,
                "text": 1.56,
                "x": 3.64418707,
                "y": -4.125100625,
                "yshift": 15,
                "z": 4.639593775
               },
               {
                "font": {
                 "color": "steelblue"
                },
                "showarrow": false,
                "text": 1.56,
                "x": 1.100542245,
                "y": -2.9315233349999996,
                "yshift": 15,
                "z": 2.922340865
               },
               {
                "font": {
                 "color": "steelblue"
                },
                "showarrow": false,
                "text": 1.17,
                "x": 0.343003635,
                "y": -2.434989135,
                "yshift": 15,
                "z": 2.35422009
               },
               {
                "font": {
                 "color": "steelblue"
                },
                "showarrow": false,
                "text": 1.13,
                "x": 3.1938568849999998,
                "y": -5.014432545,
                "yshift": 15,
                "z": 4.85993111
               },
               {
                "font": {
                 "color": "steelblue"
                },
                "showarrow": false,
                "text": 1.13,
                "x": 3.9820889250000002,
                "y": -4.89734614,
                "yshift": 15,
                "z": 5.205652955
               }
              ]
             }
            ],
            "label": "Elements & Bond Lengths",
            "method": "relayout"
           },
           {
            "args": [
             {
              "scene.annotations": [
               {
                "showarrow": false,
                "text": 0,
                "x": 0,
                "y": 0,
                "yshift": 15,
                "z": 0
               },
               {
                "showarrow": false,
                "text": 1,
                "x": 0,
                "y": 0,
                "yshift": 15,
                "z": 1.44393247
               },
               {
                "showarrow": false,
                "text": 2,
                "x": 1.33012775,
                "y": 0,
                "yshift": 15,
                "z": 1.92955806
               },
               {
                "showarrow": false,
                "text": 3,
                "x": 2.24550019,
                "y": 0.36241441,
                "yshift": 15,
                "z": 0.73611477
               },
               {
                "showarrow": false,
                "text": 4,
                "x": 1.25356177,
                "y": 0.815451,
                "yshift": 15,
                "z": -0.35406713
               },
               {
                "showarrow": false,
                "text": 5,
                "x": -0.01447485,
                "y": -1.40699127,
                "yshift": 15,
                "z": -0.59102014
               },
               {
                "showarrow": false,
                "text": 6,
                "x": 0.99493119,
                "y": 2.21111393,
                "yshift": 15,
                "z": -0.3221261
               },
               {
                "showarrow": false,
                "text": 7,
                "x": -1.16025066,
                "y": -2.08096006,
                "yshift": 15,
                "z": -0.09110605
               },
               {
                "showarrow": false,
                "text": 8,
                "x": 1.39839374,
                "y": 0.73304981,
                "yshift": 15,
                "z": 2.73989283
               },
               {
                "showarrow": false,
                "text": 9,
                "x": 2.81422085,
                "y": -0.51457743,
                "yshift": 15,
                "z": 0.41707672
               },
               {
                "showarrow": false,
                "text": 10,
                "x": 2.95675452,
                "y": 1.15172937,
                "yshift": 15,
                "z": 0.98222269
               },
               {
                "showarrow": false,
                "text": 11,
                "x": 1.6247017,
                "y": 0.60769219,
                "yshift": 15,
                "z": -1.36150068
               },
               {
                "showarrow": false,
                "text": 12,
                "x": 0.54662005,
                "y": 2.40642541,
                "yshift": 15,
                "z": 0.51320264
               },
               {
                "showarrow": false,
                "text": 13,
                "x": -0.91384863,
                "y": 0.518474,
                "yshift": 15,
                "z": -0.30342485
               },
               {
                "showarrow": false,
                "text": 14,
                "x": 0.91107341,
                "y": -1.94244109,
                "yshift": 15,
                "z": -0.33156433
               },
               {
                "showarrow": false,
                "text": 15,
                "x": -0.04768294,
                "y": -1.31181879,
                "yshift": 15,
                "z": -1.68807937
               },
               {
                "showarrow": false,
                "text": 16,
                "x": -1.15055541,
                "y": -2.98463479,
                "yshift": 15,
                "z": -0.43173085
               },
               {
                "showarrow": false,
                "text": 17,
                "x": 1.63833328,
                "y": -1.31044491,
                "yshift": 15,
                "z": 2.52017432
               },
               {
                "showarrow": false,
                "text": 18,
                "x": 2.78609087,
                "y": -1.62033445,
                "yshift": 15,
                "z": 3.2187936
               },
               {
                "showarrow": false,
                "text": 19,
                "x": 3.85298077,
                "y": -0.83911359,
                "yshift": 15,
                "z": 3.44374919
               },
               {
                "showarrow": false,
                "text": 20,
                "x": 4.7740641,
                "y": -1.47899103,
                "yshift": 15,
                "z": 4.17201405
               },
               {
                "showarrow": false,
                "text": 21,
                "x": 4.74182048,
                "y": -2.73008767,
                "yshift": 15,
                "z": 4.65987201
               },
               {
                "showarrow": false,
                "text": 22,
                "x": 2.60051727,
                "y": -2.93667899,
                "yshift": 15,
                "z": 3.65502618
               },
               {
                "showarrow": false,
                "text": 23,
                "x": 3.65794371,
                "y": -3.48687618,
                "yshift": 15,
                "z": 4.40866455
               },
               {
                "showarrow": false,
                "text": 24,
                "x": 1.37257164,
                "y": -3.43031156,
                "yshift": 15,
                "z": 3.25275313
               },
               {
                "showarrow": false,
                "text": 25,
                "x": 0.82851285,
                "y": -2.43273511,
                "yshift": 15,
                "z": 2.5919286
               },
               {
                "showarrow": false,
                "text": 26,
                "x": 5.67323731,
                "y": -0.91267977,
                "yshift": 15,
                "z": 4.40570526
               },
               {
                "showarrow": false,
                "text": 27,
                "x": 3.63043043,
                "y": -4.76332507,
                "yshift": 15,
                "z": 4.870523
               },
               {
                "showarrow": false,
                "text": 28,
                "x": 2.75728334,
                "y": -5.26554002,
                "yshift": 15,
                "z": 4.84933922
               },
               {
                "showarrow": false,
                "text": 29,
                "x": 4.33374742,
                "y": -5.03136721,
                "yshift": 15,
                "z": 5.54078291
               },
               {
                "showarrow": false,
                "text": 30,
                "x": -0.14250558,
                "y": -2.43724316,
                "yshift": 15,
                "z": 2.11651158
               }
              ]
             }
            ],
            "label": "Indices",
            "method": "relayout"
           },
           {
            "args": [
             {
              "scene.annotations": [
               {
                "showarrow": false,
                "text": 0,
                "x": 0,
                "y": 0,
                "yshift": 15,
                "z": 0
               },
               {
                "showarrow": false,
                "text": 1,
                "x": 0,
                "y": 0,
                "yshift": 15,
                "z": 1.44393247
               },
               {
                "showarrow": false,
                "text": 2,
                "x": 1.33012775,
                "y": 0,
                "yshift": 15,
                "z": 1.92955806
               },
               {
                "showarrow": false,
                "text": 3,
                "x": 2.24550019,
                "y": 0.36241441,
                "yshift": 15,
                "z": 0.73611477
               },
               {
                "showarrow": false,
                "text": 4,
                "x": 1.25356177,
                "y": 0.815451,
                "yshift": 15,
                "z": -0.35406713
               },
               {
                "showarrow": false,
                "text": 5,
                "x": -0.01447485,
                "y": -1.40699127,
                "yshift": 15,
                "z": -0.59102014
               },
               {
                "showarrow": false,
                "text": 6,
                "x": 0.99493119,
                "y": 2.21111393,
                "yshift": 15,
                "z": -0.3221261
               },
               {
                "showarrow": false,
                "text": 7,
                "x": -1.16025066,
                "y": -2.08096006,
                "yshift": 15,
                "z": -0.09110605
               },
               {
                "showarrow": false,
                "text": 8,
                "x": 1.39839374,
                "y": 0.73304981,
                "yshift": 15,
                "z": 2.73989283
               },
               {
                "showarrow": false,
                "text": 9,
                "x": 2.81422085,
                "y": -0.51457743,
                "yshift": 15,
                "z": 0.41707672
               },
               {
                "showarrow": false,
                "text": 10,
                "x": 2.95675452,
                "y": 1.15172937,
                "yshift": 15,
                "z": 0.98222269
               },
               {
                "showarrow": false,
                "text": 11,
                "x": 1.6247017,
                "y": 0.60769219,
                "yshift": 15,
                "z": -1.36150068
               },
               {
                "showarrow": false,
                "text": 12,
                "x": 0.54662005,
                "y": 2.40642541,
                "yshift": 15,
                "z": 0.51320264
               },
               {
                "showarrow": false,
                "text": 13,
                "x": -0.91384863,
                "y": 0.518474,
                "yshift": 15,
                "z": -0.30342485
               },
               {
                "showarrow": false,
                "text": 14,
                "x": 0.91107341,
                "y": -1.94244109,
                "yshift": 15,
                "z": -0.33156433
               },
               {
                "showarrow": false,
                "text": 15,
                "x": -0.04768294,
                "y": -1.31181879,
                "yshift": 15,
                "z": -1.68807937
               },
               {
                "showarrow": false,
                "text": 16,
                "x": -1.15055541,
                "y": -2.98463479,
                "yshift": 15,
                "z": -0.43173085
               },
               {
                "showarrow": false,
                "text": 17,
                "x": 1.63833328,
                "y": -1.31044491,
                "yshift": 15,
                "z": 2.52017432
               },
               {
                "showarrow": false,
                "text": 18,
                "x": 2.78609087,
                "y": -1.62033445,
                "yshift": 15,
                "z": 3.2187936
               },
               {
                "showarrow": false,
                "text": 19,
                "x": 3.85298077,
                "y": -0.83911359,
                "yshift": 15,
                "z": 3.44374919
               },
               {
                "showarrow": false,
                "text": 20,
                "x": 4.7740641,
                "y": -1.47899103,
                "yshift": 15,
                "z": 4.17201405
               },
               {
                "showarrow": false,
                "text": 21,
                "x": 4.74182048,
                "y": -2.73008767,
                "yshift": 15,
                "z": 4.65987201
               },
               {
                "showarrow": false,
                "text": 22,
                "x": 2.60051727,
                "y": -2.93667899,
                "yshift": 15,
                "z": 3.65502618
               },
               {
                "showarrow": false,
                "text": 23,
                "x": 3.65794371,
                "y": -3.48687618,
                "yshift": 15,
                "z": 4.40866455
               },
               {
                "showarrow": false,
                "text": 24,
                "x": 1.37257164,
                "y": -3.43031156,
                "yshift": 15,
                "z": 3.25275313
               },
               {
                "showarrow": false,
                "text": 25,
                "x": 0.82851285,
                "y": -2.43273511,
                "yshift": 15,
                "z": 2.5919286
               },
               {
                "showarrow": false,
                "text": 26,
                "x": 5.67323731,
                "y": -0.91267977,
                "yshift": 15,
                "z": 4.40570526
               },
               {
                "showarrow": false,
                "text": 27,
                "x": 3.63043043,
                "y": -4.76332507,
                "yshift": 15,
                "z": 4.870523
               },
               {
                "showarrow": false,
                "text": 28,
                "x": 2.75728334,
                "y": -5.26554002,
                "yshift": 15,
                "z": 4.84933922
               },
               {
                "showarrow": false,
                "text": 29,
                "x": 4.33374742,
                "y": -5.03136721,
                "yshift": 15,
                "z": 5.54078291
               },
               {
                "showarrow": false,
                "text": 30,
                "x": -0.14250558,
                "y": -2.43724316,
                "yshift": 15,
                "z": 2.11651158
               },
               {
                "font": {
                 "color": "steelblue"
                },
                "showarrow": false,
                "text": 1.48,
                "x": 0,
                "y": 0,
                "yshift": 15,
                "z": 0.721966235
               },
               {
                "font": {
                 "color": "steelblue"
                },
                "showarrow": false,
                "text": 1.6,
                "x": 0.626780885,
                "y": 0.4077255,
                "yshift": 15,
                "z": -0.177033565
               },
               {
                "font": {
                 "color": "steelblue"
                },
                "showarrow": false,
                "text": 1.6,
                "x": -0.007237425,
                "y": -0.703495635,
                "yshift": 15,
                "z": -0.29551007
               },
               {
                "font": {
                 "color": "steelblue"
                },
                "showarrow": false,
                "text": 1.17,
                "x": -0.456924315,
                "y": 0.259237,
                "yshift": 15,
                "z": -0.151712425
               },
               {
                "font": {
                 "color": "steelblue"
                },
                "showarrow": false,
                "text": 1.48,
                "x": 0.665063875,
                "y": 0,
                "yshift": 15,
                "z": 1.6867452649999999
               },
               {
                "font": {
                 "color": "steelblue"
                },
                "showarrow": false,
                "text": 1.6,
                "x": 1.78781397,
                "y": 0.181207205,
                "yshift": 15,
                "z": 1.332836415
               },
               {
                "font": {
                 "color": "steelblue"
                },
                "showarrow": false,
                "text": 1.17,
                "x": 1.364260745,
                "y": 0.366524905,
                "yshift": 15,
                "z": 2.334725445
               },
               {
                "font": {
                 "color": "steelblue"
                },
                "showarrow": false,
                "text": 1.56,
                "x": 1.484230515,
                "y": -0.655222455,
                "yshift": 15,
                "z": 2.22486619
               },
               {
                "font": {
                 "color": "steelblue"
                },
                "showarrow": false,
                "text": 1.6,
                "x": 1.7495309799999998,
                "y": 0.5889327050000001,
                "yshift": 15,
                "z": 0.19102382
               },
               {
                "font": {
                 "color": "steelblue"
                },
                "showarrow": false,
                "text": 1.17,
                "x": 2.5298605199999997,
                "y": -0.07608150999999999,
                "yshift": 15,
                "z": 0.576595745
               },
               {
                "font": {
                 "color": "steelblue"
                },
                "showarrow": false,
                "text": 1.17,
                "x": 2.601127355,
                "y": 0.75707189,
                "yshift": 15,
                "z": 0.8591687299999999
               },
               {
                "font": {
                 "color": "steelblue"
                },
                "showarrow": false,
                "text": 1.48,
                "x": 1.12424648,
                "y": 1.5132824649999999,
                "yshift": 15,
                "z": -0.338096615
               },
               {
                "font": {
                 "color": "steelblue"
                },
                "showarrow": false,
                "text": 1.17,
                "x": 1.439131735,
                "y": 0.711571595,
                "yshift": 15,
                "z": -0.857783905
               },
               {
                "font": {
                 "color": "steelblue"
                },
                "showarrow": false,
                "text": 1.48,
                "x": -0.587362755,
                "y": -1.7439756649999998,
                "yshift": 15,
                "z": -0.341063095
               },
               {
                "font": {
                 "color": "steelblue"
                },
                "showarrow": false,
                "text": 1.17,
                "x": 0.44829927999999997,
                "y": -1.6747161799999999,
                "yshift": 15,
                "z": -0.46129223500000005
               },
               {
                "font": {
                 "color": "steelblue"
                },
                "showarrow": false,
                "text": 1.17,
                "x": -0.031078895,
                "y": -1.35940503,
                "yshift": 15,
                "z": -1.139549755
               },
               {
                "font": {
                 "color": "steelblue"
                },
                "showarrow": false,
                "text": 1.05,
                "x": 0.77077562,
                "y": 2.30876967,
                "yshift": 15,
                "z": 0.09553827000000001
               },
               {
                "font": {
                 "color": "steelblue"
                },
                "showarrow": false,
                "text": 1.05,
                "x": -1.155403035,
                "y": -2.532797425,
                "yshift": 15,
                "z": -0.26141844999999997
               },
               {
                "font": {
                 "color": "steelblue"
                },
                "showarrow": false,
                "text": 1.56,
                "x": 2.212212075,
                "y": -1.46538968,
                "yshift": 15,
                "z": 2.86948396
               },
               {
                "font": {
                 "color": "steelblue"
                },
                "showarrow": false,
                "text": 1.56,
                "x": 1.233423065,
                "y": -1.8715900099999998,
                "yshift": 15,
                "z": 2.55605146
               },
               {
                "font": {
                 "color": "steelblue"
                },
                "showarrow": false,
                "text": 1.56,
                "x": 3.31953582,
                "y": -1.22972402,
                "yshift": 15,
                "z": 3.331271395
               },
               {
                "font": {
                 "color": "steelblue"
                },
                "showarrow": false,
                "text": 1.6,
                "x": 2.69330407,
                "y": -2.27850672,
                "yshift": 15,
                "z": 3.43690989
               },
               {
                "font": {
                 "color": "steelblue"
                },
                "showarrow": false,
                "text": 1.56,
                "x": 4.313522435,
                "y": -1.1590523099999999,
                "yshift": 15,
                "z": 3.80788162
               },
               {
                "font": {
                 "color": "steelblue"
                },
                "showarrow": false,
                "text": 1.56,
                "x": 4.757942290000001,
                "y": -2.10453935,
                "yshift": 15,
                "z": 4.415943029999999
               },
               {
                "font": {
                 "color": "steelblue"
                },
                "showarrow": false,
                "text": 1.17,
                "x": 5.223650705000001,
                "y": -1.1958354,
                "yshift": 15,
                "z": 4.2888596549999995
               },
               {
                "font": {
                 "color": "steelblue"
                },
                "showarrow": false,
                "text": 1.56,
                "x": 4.199882095,
                "y": -3.108481925,
                "yshift": 15,
                "z": 4.53426828
               },
               {
                "font": {
                 "color": "steelblue"
                },
                "showarrow": false,
                "text": 1.6,
                "x": 3.1292304900000003,
                "y": -3.211777585,
                "yshift": 15,
                "z": 4.031845365000001
               },
               {
                "font": {
                 "color": "steelblue"
                },
                "showarrow": false,
                "text": 1.56,
                "x": 1.9865444550000002,
                "y": -3.183495275,
                "yshift": 15,
                "z": 3.4538896550000002
               },
               {
                "font": {
                 "color": "steelblue"
                },
                "showarrow": false,
                "text": 1.56,
                "x": 3.64418707,
                "y": -4.125100625,
                "yshift": 15,
                "z": 4.639593775
               },
               {
                "font": {
                 "color": "steelblue"
                },
                "showarrow": false,
                "text": 1.56,
                "x": 1.100542245,
                "y": -2.9315233349999996,
                "yshift": 15,
                "z": 2.922340865
               },
               {
                "font": {
                 "color": "steelblue"
                },
                "showarrow": false,
                "text": 1.17,
                "x": 0.343003635,
                "y": -2.434989135,
                "yshift": 15,
                "z": 2.35422009
               },
               {
                "font": {
                 "color": "steelblue"
                },
                "showarrow": false,
                "text": 1.13,
                "x": 3.1938568849999998,
                "y": -5.014432545,
                "yshift": 15,
                "z": 4.85993111
               },
               {
                "font": {
                 "color": "steelblue"
                },
                "showarrow": false,
                "text": 1.13,
                "x": 3.9820889250000002,
                "y": -4.89734614,
                "yshift": 15,
                "z": 5.205652955
               }
              ]
             }
            ],
            "label": "Indices & Bond Lengths",
            "method": "relayout"
           },
           {
            "args": [
             {
              "scene.annotations": [
               {
                "font": {
                 "color": "steelblue"
                },
                "showarrow": false,
                "text": 1.48,
                "x": 0,
                "y": 0,
                "yshift": 15,
                "z": 0.721966235
               },
               {
                "font": {
                 "color": "steelblue"
                },
                "showarrow": false,
                "text": 1.6,
                "x": 0.626780885,
                "y": 0.4077255,
                "yshift": 15,
                "z": -0.177033565
               },
               {
                "font": {
                 "color": "steelblue"
                },
                "showarrow": false,
                "text": 1.6,
                "x": -0.007237425,
                "y": -0.703495635,
                "yshift": 15,
                "z": -0.29551007
               },
               {
                "font": {
                 "color": "steelblue"
                },
                "showarrow": false,
                "text": 1.17,
                "x": -0.456924315,
                "y": 0.259237,
                "yshift": 15,
                "z": -0.151712425
               },
               {
                "font": {
                 "color": "steelblue"
                },
                "showarrow": false,
                "text": 1.48,
                "x": 0.665063875,
                "y": 0,
                "yshift": 15,
                "z": 1.6867452649999999
               },
               {
                "font": {
                 "color": "steelblue"
                },
                "showarrow": false,
                "text": 1.6,
                "x": 1.78781397,
                "y": 0.181207205,
                "yshift": 15,
                "z": 1.332836415
               },
               {
                "font": {
                 "color": "steelblue"
                },
                "showarrow": false,
                "text": 1.17,
                "x": 1.364260745,
                "y": 0.366524905,
                "yshift": 15,
                "z": 2.334725445
               },
               {
                "font": {
                 "color": "steelblue"
                },
                "showarrow": false,
                "text": 1.56,
                "x": 1.484230515,
                "y": -0.655222455,
                "yshift": 15,
                "z": 2.22486619
               },
               {
                "font": {
                 "color": "steelblue"
                },
                "showarrow": false,
                "text": 1.6,
                "x": 1.7495309799999998,
                "y": 0.5889327050000001,
                "yshift": 15,
                "z": 0.19102382
               },
               {
                "font": {
                 "color": "steelblue"
                },
                "showarrow": false,
                "text": 1.17,
                "x": 2.5298605199999997,
                "y": -0.07608150999999999,
                "yshift": 15,
                "z": 0.576595745
               },
               {
                "font": {
                 "color": "steelblue"
                },
                "showarrow": false,
                "text": 1.17,
                "x": 2.601127355,
                "y": 0.75707189,
                "yshift": 15,
                "z": 0.8591687299999999
               },
               {
                "font": {
                 "color": "steelblue"
                },
                "showarrow": false,
                "text": 1.48,
                "x": 1.12424648,
                "y": 1.5132824649999999,
                "yshift": 15,
                "z": -0.338096615
               },
               {
                "font": {
                 "color": "steelblue"
                },
                "showarrow": false,
                "text": 1.17,
                "x": 1.439131735,
                "y": 0.711571595,
                "yshift": 15,
                "z": -0.857783905
               },
               {
                "font": {
                 "color": "steelblue"
                },
                "showarrow": false,
                "text": 1.48,
                "x": -0.587362755,
                "y": -1.7439756649999998,
                "yshift": 15,
                "z": -0.341063095
               },
               {
                "font": {
                 "color": "steelblue"
                },
                "showarrow": false,
                "text": 1.17,
                "x": 0.44829927999999997,
                "y": -1.6747161799999999,
                "yshift": 15,
                "z": -0.46129223500000005
               },
               {
                "font": {
                 "color": "steelblue"
                },
                "showarrow": false,
                "text": 1.17,
                "x": -0.031078895,
                "y": -1.35940503,
                "yshift": 15,
                "z": -1.139549755
               },
               {
                "font": {
                 "color": "steelblue"
                },
                "showarrow": false,
                "text": 1.05,
                "x": 0.77077562,
                "y": 2.30876967,
                "yshift": 15,
                "z": 0.09553827000000001
               },
               {
                "font": {
                 "color": "steelblue"
                },
                "showarrow": false,
                "text": 1.05,
                "x": -1.155403035,
                "y": -2.532797425,
                "yshift": 15,
                "z": -0.26141844999999997
               },
               {
                "font": {
                 "color": "steelblue"
                },
                "showarrow": false,
                "text": 1.56,
                "x": 2.212212075,
                "y": -1.46538968,
                "yshift": 15,
                "z": 2.86948396
               },
               {
                "font": {
                 "color": "steelblue"
                },
                "showarrow": false,
                "text": 1.56,
                "x": 1.233423065,
                "y": -1.8715900099999998,
                "yshift": 15,
                "z": 2.55605146
               },
               {
                "font": {
                 "color": "steelblue"
                },
                "showarrow": false,
                "text": 1.56,
                "x": 3.31953582,
                "y": -1.22972402,
                "yshift": 15,
                "z": 3.331271395
               },
               {
                "font": {
                 "color": "steelblue"
                },
                "showarrow": false,
                "text": 1.6,
                "x": 2.69330407,
                "y": -2.27850672,
                "yshift": 15,
                "z": 3.43690989
               },
               {
                "font": {
                 "color": "steelblue"
                },
                "showarrow": false,
                "text": 1.56,
                "x": 4.313522435,
                "y": -1.1590523099999999,
                "yshift": 15,
                "z": 3.80788162
               },
               {
                "font": {
                 "color": "steelblue"
                },
                "showarrow": false,
                "text": 1.56,
                "x": 4.757942290000001,
                "y": -2.10453935,
                "yshift": 15,
                "z": 4.415943029999999
               },
               {
                "font": {
                 "color": "steelblue"
                },
                "showarrow": false,
                "text": 1.17,
                "x": 5.223650705000001,
                "y": -1.1958354,
                "yshift": 15,
                "z": 4.2888596549999995
               },
               {
                "font": {
                 "color": "steelblue"
                },
                "showarrow": false,
                "text": 1.56,
                "x": 4.199882095,
                "y": -3.108481925,
                "yshift": 15,
                "z": 4.53426828
               },
               {
                "font": {
                 "color": "steelblue"
                },
                "showarrow": false,
                "text": 1.6,
                "x": 3.1292304900000003,
                "y": -3.211777585,
                "yshift": 15,
                "z": 4.031845365000001
               },
               {
                "font": {
                 "color": "steelblue"
                },
                "showarrow": false,
                "text": 1.56,
                "x": 1.9865444550000002,
                "y": -3.183495275,
                "yshift": 15,
                "z": 3.4538896550000002
               },
               {
                "font": {
                 "color": "steelblue"
                },
                "showarrow": false,
                "text": 1.56,
                "x": 3.64418707,
                "y": -4.125100625,
                "yshift": 15,
                "z": 4.639593775
               },
               {
                "font": {
                 "color": "steelblue"
                },
                "showarrow": false,
                "text": 1.56,
                "x": 1.100542245,
                "y": -2.9315233349999996,
                "yshift": 15,
                "z": 2.922340865
               },
               {
                "font": {
                 "color": "steelblue"
                },
                "showarrow": false,
                "text": 1.17,
                "x": 0.343003635,
                "y": -2.434989135,
                "yshift": 15,
                "z": 2.35422009
               },
               {
                "font": {
                 "color": "steelblue"
                },
                "showarrow": false,
                "text": 1.13,
                "x": 3.1938568849999998,
                "y": -5.014432545,
                "yshift": 15,
                "z": 4.85993111
               },
               {
                "font": {
                 "color": "steelblue"
                },
                "showarrow": false,
                "text": 1.13,
                "x": 3.9820889250000002,
                "y": -4.89734614,
                "yshift": 15,
                "z": 5.205652955
               }
              ]
             }
            ],
            "label": "Bond Lengths",
            "method": "relayout"
           },
           {
            "args": [
             {
              "scene.annotations": []
             }
            ],
            "label": "Hide All",
            "method": "relayout"
           }
          ],
          "direction": "down",
          "xanchor": "left",
          "yanchor": "top"
         }
        ]
       }
      }
     },
     "metadata": {},
     "output_type": "display_data"
    }
   ],
   "source": [
    "mol = Molecule()\n",
    "mol.read_xyz('example/20_rf_xyz_dftV3#r15_084_GbbbB.xyz')\n",
    "to_plotly_figure(mol)"
   ]
  },
  {
   "cell_type": "code",
   "execution_count": 3,
   "id": "6e709470",
   "metadata": {},
   "outputs": [
    {
     "data": {
      "application/vnd.plotly.v1+json": {
       "config": {
        "plotlyServerURL": "https://plot.ly"
       },
       "data": [
        {
         "marker": {
          "color": [
           "black",
           "black",
           "black",
           "black",
           "black",
           "red",
           "red",
           "red",
           "orange",
           "red",
           "black",
           "black",
           "black",
           "black",
           "black",
           "red",
           "red",
           "red",
           "red",
           "white",
           "white",
           "white",
           "white",
           "white",
           "white",
           "white",
           "white",
           "white",
           "white",
           "white",
           "white",
           "white",
           "white",
           "white",
           "white",
           "white",
           "white",
           "white"
          ],
          "line": {
           "color": "lightgray",
           "width": 2
          },
          "opacity": 0.8,
          "size": 7,
          "symbol": "circle"
         },
         "mode": "markers",
         "text": [
          "C4'",
          "C3'",
          "C2'",
          "C1'",
          "C5'",
          "O4'",
          "O3'",
          "O5'",
          "P",
          "O3'",
          "C3'",
          "C2'",
          "C1'",
          "C4'",
          "C5'",
          "O4'",
          "O5'",
          "OP1",
          "OP2",
          "H",
          "H",
          "H",
          "H",
          "H",
          "H",
          "H",
          "H",
          "H",
          "H",
          "H",
          "H",
          "H",
          "H",
          "H",
          "H",
          "H",
          "H",
          "H"
         ],
         "type": "scatter3d",
         "x": [
          0.178,
          -0.076,
          1.276,
          2.254,
          -0.781,
          1.502,
          -1.22,
          -1.135,
          -2.45,
          -3.421,
          -4.56,
          -5.469,
          -6.221,
          -4.203,
          -3.691,
          -5.444,
          -4.417,
          -2.158,
          -3.147,
          0.02,
          -0.357,
          1.443,
          1.367,
          2.655,
          3.074,
          -1.674,
          -0.282,
          -1.128,
          -5.065,
          -4.902,
          -6.105,
          -6.318,
          -7.204,
          -3.391,
          -3.75,
          -2.688,
          -5.337,
          -3.293
         ],
         "y": [
          0.2,
          -0.703,
          -1.408,
          -0.288,
          1.371,
          0.672,
          -1.552,
          2.027,
          1.655,
          2.873,
          3.284,
          2.191,
          2.969,
          4.09,
          5.506,
          4.143,
          6.222,
          1.454,
          0.423,
          -0.375,
          -0.17,
          -1.735,
          -2.293,
          0.177,
          -0.677,
          1.003,
          2.089,
          -2.123,
          3.844,
          1.381,
          1.728,
          2.363,
          3.235,
          3.625,
          6.053,
          5.411,
          6.332,
          0.661
         ],
         "z": [
          -0.064,
          1.157,
          1.297,
          0.902,
          -0.272,
          0.13,
          1.05,
          0.953,
          1.815,
          1.426,
          2.215,
          2.78,
          3.878,
          3.47,
          3.218,
          4.173,
          2.224,
          3.252,
          1.049,
          -0.952,
          2.041,
          2.301,
          0.703,
          1.779,
          0.335,
          -0.733,
          -0.889,
          0.272,
          1.456,
          3.19,
          2.054,
          4.755,
          3.551,
          3.99,
          4.135,
          2.856,
          2.513,
          0.12
         ]
        },
        {
         "hoverinfo": "none",
         "marker": {
          "color": "grey",
          "opacity": 1,
          "size": 7
         },
         "mode": "lines",
         "type": "scatter3d",
         "x": [
          0.178,
          -0.076,
          null,
          0.178,
          -0.781,
          null,
          0.178,
          1.502,
          null,
          0.178,
          0.02,
          null,
          -0.076,
          0.178,
          null,
          -0.076,
          1.276,
          null,
          -0.076,
          -1.22,
          null,
          -0.076,
          -0.357,
          null,
          1.276,
          -0.076,
          null,
          1.276,
          2.254,
          null,
          1.276,
          1.443,
          null,
          1.276,
          1.367,
          null,
          2.254,
          1.276,
          null,
          2.254,
          1.502,
          null,
          2.254,
          2.655,
          null,
          2.254,
          3.074,
          null,
          -0.781,
          0.178,
          null,
          -0.781,
          -1.135,
          null,
          -0.781,
          -1.674,
          null,
          -0.781,
          -0.282,
          null,
          1.502,
          0.178,
          null,
          1.502,
          2.254,
          null,
          -1.22,
          -0.076,
          null,
          -1.22,
          -1.128,
          null,
          -1.135,
          -0.781,
          null,
          -1.135,
          -2.45,
          null,
          -2.45,
          -1.135,
          null,
          -2.45,
          -3.421,
          null,
          -2.45,
          -2.158,
          null,
          -2.45,
          -3.147,
          null,
          -3.421,
          -2.45,
          null,
          -3.421,
          -4.56,
          null,
          -4.56,
          -3.421,
          null,
          -4.56,
          -5.469,
          null,
          -4.56,
          -4.203,
          null,
          -4.56,
          -5.065,
          null,
          -5.469,
          -4.56,
          null,
          -5.469,
          -6.221,
          null,
          -5.469,
          -4.902,
          null,
          -5.469,
          -6.105,
          null,
          -6.221,
          -5.469,
          null,
          -6.221,
          -5.444,
          null,
          -6.221,
          -6.318,
          null,
          -6.221,
          -7.204,
          null,
          -4.203,
          -4.56,
          null,
          -4.203,
          -3.691,
          null,
          -4.203,
          -5.444,
          null,
          -4.203,
          -3.391,
          null,
          -3.691,
          -4.203,
          null,
          -3.691,
          -4.417,
          null,
          -3.691,
          -3.75,
          null,
          -3.691,
          -2.688,
          null,
          -5.444,
          -6.221,
          null,
          -5.444,
          -4.203,
          null,
          -4.417,
          -3.691,
          null,
          -4.417,
          -5.337,
          null,
          -2.158,
          -2.45,
          null,
          -3.147,
          -2.45,
          null,
          -3.147,
          -3.293,
          null,
          0.02,
          0.178,
          null,
          -0.357,
          -0.076,
          null,
          1.443,
          1.276,
          null,
          1.367,
          1.276,
          null,
          2.655,
          2.254,
          null,
          3.074,
          2.254,
          null,
          -1.674,
          -0.781,
          null,
          -0.282,
          -0.781,
          null,
          -1.128,
          -1.22,
          null,
          -5.065,
          -4.56,
          null,
          -4.902,
          -5.469,
          null,
          -6.105,
          -5.469,
          null,
          -6.318,
          -6.221,
          null,
          -7.204,
          -6.221,
          null,
          -3.391,
          -4.203,
          null,
          -3.75,
          -3.691,
          null,
          -2.688,
          -3.691,
          null,
          -5.337,
          -4.417,
          null,
          -3.293,
          -3.147,
          null
         ],
         "y": [
          0.2,
          -0.703,
          null,
          0.2,
          1.371,
          null,
          0.2,
          0.672,
          null,
          0.2,
          -0.375,
          null,
          -0.703,
          0.2,
          null,
          -0.703,
          -1.408,
          null,
          -0.703,
          -1.552,
          null,
          -0.703,
          -0.17,
          null,
          -1.408,
          -0.703,
          null,
          -1.408,
          -0.288,
          null,
          -1.408,
          -1.735,
          null,
          -1.408,
          -2.293,
          null,
          -0.288,
          -1.408,
          null,
          -0.288,
          0.672,
          null,
          -0.288,
          0.177,
          null,
          -0.288,
          -0.677,
          null,
          1.371,
          0.2,
          null,
          1.371,
          2.027,
          null,
          1.371,
          1.003,
          null,
          1.371,
          2.089,
          null,
          0.672,
          0.2,
          null,
          0.672,
          -0.288,
          null,
          -1.552,
          -0.703,
          null,
          -1.552,
          -2.123,
          null,
          2.027,
          1.371,
          null,
          2.027,
          1.655,
          null,
          1.655,
          2.027,
          null,
          1.655,
          2.873,
          null,
          1.655,
          1.454,
          null,
          1.655,
          0.423,
          null,
          2.873,
          1.655,
          null,
          2.873,
          3.284,
          null,
          3.284,
          2.873,
          null,
          3.284,
          2.191,
          null,
          3.284,
          4.09,
          null,
          3.284,
          3.844,
          null,
          2.191,
          3.284,
          null,
          2.191,
          2.969,
          null,
          2.191,
          1.381,
          null,
          2.191,
          1.728,
          null,
          2.969,
          2.191,
          null,
          2.969,
          4.143,
          null,
          2.969,
          2.363,
          null,
          2.969,
          3.235,
          null,
          4.09,
          3.284,
          null,
          4.09,
          5.506,
          null,
          4.09,
          4.143,
          null,
          4.09,
          3.625,
          null,
          5.506,
          4.09,
          null,
          5.506,
          6.222,
          null,
          5.506,
          6.053,
          null,
          5.506,
          5.411,
          null,
          4.143,
          2.969,
          null,
          4.143,
          4.09,
          null,
          6.222,
          5.506,
          null,
          6.222,
          6.332,
          null,
          1.454,
          1.655,
          null,
          0.423,
          1.655,
          null,
          0.423,
          0.661,
          null,
          -0.375,
          0.2,
          null,
          -0.17,
          -0.703,
          null,
          -1.735,
          -1.408,
          null,
          -2.293,
          -1.408,
          null,
          0.177,
          -0.288,
          null,
          -0.677,
          -0.288,
          null,
          1.003,
          1.371,
          null,
          2.089,
          1.371,
          null,
          -2.123,
          -1.552,
          null,
          3.844,
          3.284,
          null,
          1.381,
          2.191,
          null,
          1.728,
          2.191,
          null,
          2.363,
          2.969,
          null,
          3.235,
          2.969,
          null,
          3.625,
          4.09,
          null,
          6.053,
          5.506,
          null,
          5.411,
          5.506,
          null,
          6.332,
          6.222,
          null,
          0.661,
          0.423,
          null
         ],
         "z": [
          -0.064,
          1.157,
          null,
          -0.064,
          -0.272,
          null,
          -0.064,
          0.13,
          null,
          -0.064,
          -0.952,
          null,
          1.157,
          -0.064,
          null,
          1.157,
          1.297,
          null,
          1.157,
          1.05,
          null,
          1.157,
          2.041,
          null,
          1.297,
          1.157,
          null,
          1.297,
          0.902,
          null,
          1.297,
          2.301,
          null,
          1.297,
          0.703,
          null,
          0.902,
          1.297,
          null,
          0.902,
          0.13,
          null,
          0.902,
          1.779,
          null,
          0.902,
          0.335,
          null,
          -0.272,
          -0.064,
          null,
          -0.272,
          0.953,
          null,
          -0.272,
          -0.733,
          null,
          -0.272,
          -0.889,
          null,
          0.13,
          -0.064,
          null,
          0.13,
          0.902,
          null,
          1.05,
          1.157,
          null,
          1.05,
          0.272,
          null,
          0.953,
          -0.272,
          null,
          0.953,
          1.815,
          null,
          1.815,
          0.953,
          null,
          1.815,
          1.426,
          null,
          1.815,
          3.252,
          null,
          1.815,
          1.049,
          null,
          1.426,
          1.815,
          null,
          1.426,
          2.215,
          null,
          2.215,
          1.426,
          null,
          2.215,
          2.78,
          null,
          2.215,
          3.47,
          null,
          2.215,
          1.456,
          null,
          2.78,
          2.215,
          null,
          2.78,
          3.878,
          null,
          2.78,
          3.19,
          null,
          2.78,
          2.054,
          null,
          3.878,
          2.78,
          null,
          3.878,
          4.173,
          null,
          3.878,
          4.755,
          null,
          3.878,
          3.551,
          null,
          3.47,
          2.215,
          null,
          3.47,
          3.218,
          null,
          3.47,
          4.173,
          null,
          3.47,
          3.99,
          null,
          3.218,
          3.47,
          null,
          3.218,
          2.224,
          null,
          3.218,
          4.135,
          null,
          3.218,
          2.856,
          null,
          4.173,
          3.878,
          null,
          4.173,
          3.47,
          null,
          2.224,
          3.218,
          null,
          2.224,
          2.513,
          null,
          3.252,
          1.815,
          null,
          1.049,
          1.815,
          null,
          1.049,
          0.12,
          null,
          -0.952,
          -0.064,
          null,
          2.041,
          1.157,
          null,
          2.301,
          1.297,
          null,
          0.703,
          1.297,
          null,
          1.779,
          0.902,
          null,
          0.335,
          0.902,
          null,
          -0.733,
          -0.272,
          null,
          -0.889,
          -0.272,
          null,
          0.272,
          1.05,
          null,
          1.456,
          2.215,
          null,
          3.19,
          2.78,
          null,
          2.054,
          2.78,
          null,
          4.755,
          3.878,
          null,
          3.551,
          3.878,
          null,
          3.99,
          3.47,
          null,
          4.135,
          3.218,
          null,
          2.856,
          3.218,
          null,
          2.513,
          2.224,
          null,
          0.12,
          1.049,
          null
         ]
        }
       ],
       "layout": {
        "margin": {
         "b": 0,
         "l": 0,
         "r": 0,
         "t": 0
        },
        "scene": {
         "annotations": [
          {
           "showarrow": false,
           "text": "C",
           "x": 0.178,
           "y": 0.2,
           "yshift": 15,
           "z": -0.064
          },
          {
           "showarrow": false,
           "text": "C",
           "x": -0.076,
           "y": -0.703,
           "yshift": 15,
           "z": 1.157
          },
          {
           "showarrow": false,
           "text": "C",
           "x": 1.276,
           "y": -1.408,
           "yshift": 15,
           "z": 1.297
          },
          {
           "showarrow": false,
           "text": "C",
           "x": 2.254,
           "y": -0.288,
           "yshift": 15,
           "z": 0.902
          },
          {
           "showarrow": false,
           "text": "C",
           "x": -0.781,
           "y": 1.371,
           "yshift": 15,
           "z": -0.272
          },
          {
           "showarrow": false,
           "text": "O",
           "x": 1.502,
           "y": 0.672,
           "yshift": 15,
           "z": 0.13
          },
          {
           "showarrow": false,
           "text": "O",
           "x": -1.22,
           "y": -1.552,
           "yshift": 15,
           "z": 1.05
          },
          {
           "showarrow": false,
           "text": "O",
           "x": -1.135,
           "y": 2.027,
           "yshift": 15,
           "z": 0.953
          },
          {
           "showarrow": false,
           "text": "P",
           "x": -2.45,
           "y": 1.655,
           "yshift": 15,
           "z": 1.815
          },
          {
           "showarrow": false,
           "text": "O",
           "x": -3.421,
           "y": 2.873,
           "yshift": 15,
           "z": 1.426
          },
          {
           "showarrow": false,
           "text": "C",
           "x": -4.56,
           "y": 3.284,
           "yshift": 15,
           "z": 2.215
          },
          {
           "showarrow": false,
           "text": "C",
           "x": -5.469,
           "y": 2.191,
           "yshift": 15,
           "z": 2.78
          },
          {
           "showarrow": false,
           "text": "C",
           "x": -6.221,
           "y": 2.969,
           "yshift": 15,
           "z": 3.878
          },
          {
           "showarrow": false,
           "text": "C",
           "x": -4.203,
           "y": 4.09,
           "yshift": 15,
           "z": 3.47
          },
          {
           "showarrow": false,
           "text": "C",
           "x": -3.691,
           "y": 5.506,
           "yshift": 15,
           "z": 3.218
          },
          {
           "showarrow": false,
           "text": "O",
           "x": -5.444,
           "y": 4.143,
           "yshift": 15,
           "z": 4.173
          },
          {
           "showarrow": false,
           "text": "O",
           "x": -4.417,
           "y": 6.222,
           "yshift": 15,
           "z": 2.224
          },
          {
           "showarrow": false,
           "text": "O",
           "x": -2.158,
           "y": 1.454,
           "yshift": 15,
           "z": 3.252
          },
          {
           "showarrow": false,
           "text": "O",
           "x": -3.147,
           "y": 0.423,
           "yshift": 15,
           "z": 1.049
          },
          {
           "showarrow": false,
           "text": "H",
           "x": 0.02,
           "y": -0.375,
           "yshift": 15,
           "z": -0.952
          },
          {
           "showarrow": false,
           "text": "H",
           "x": -0.357,
           "y": -0.17,
           "yshift": 15,
           "z": 2.041
          },
          {
           "showarrow": false,
           "text": "H",
           "x": 1.443,
           "y": -1.735,
           "yshift": 15,
           "z": 2.301
          },
          {
           "showarrow": false,
           "text": "H",
           "x": 1.367,
           "y": -2.293,
           "yshift": 15,
           "z": 0.703
          },
          {
           "showarrow": false,
           "text": "H",
           "x": 2.655,
           "y": 0.177,
           "yshift": 15,
           "z": 1.779
          },
          {
           "showarrow": false,
           "text": "H",
           "x": 3.074,
           "y": -0.677,
           "yshift": 15,
           "z": 0.335
          },
          {
           "showarrow": false,
           "text": "H",
           "x": -1.674,
           "y": 1.003,
           "yshift": 15,
           "z": -0.733
          },
          {
           "showarrow": false,
           "text": "H",
           "x": -0.282,
           "y": 2.089,
           "yshift": 15,
           "z": -0.889
          },
          {
           "showarrow": false,
           "text": "H",
           "x": -1.128,
           "y": -2.123,
           "yshift": 15,
           "z": 0.272
          },
          {
           "showarrow": false,
           "text": "H",
           "x": -5.065,
           "y": 3.844,
           "yshift": 15,
           "z": 1.456
          },
          {
           "showarrow": false,
           "text": "H",
           "x": -4.902,
           "y": 1.381,
           "yshift": 15,
           "z": 3.19
          },
          {
           "showarrow": false,
           "text": "H",
           "x": -6.105,
           "y": 1.728,
           "yshift": 15,
           "z": 2.054
          },
          {
           "showarrow": false,
           "text": "H",
           "x": -6.318,
           "y": 2.363,
           "yshift": 15,
           "z": 4.755
          },
          {
           "showarrow": false,
           "text": "H",
           "x": -7.204,
           "y": 3.235,
           "yshift": 15,
           "z": 3.551
          },
          {
           "showarrow": false,
           "text": "H",
           "x": -3.391,
           "y": 3.625,
           "yshift": 15,
           "z": 3.99
          },
          {
           "showarrow": false,
           "text": "H",
           "x": -3.75,
           "y": 6.053,
           "yshift": 15,
           "z": 4.135
          },
          {
           "showarrow": false,
           "text": "H",
           "x": -2.688,
           "y": 5.411,
           "yshift": 15,
           "z": 2.856
          },
          {
           "showarrow": false,
           "text": "H",
           "x": -5.337,
           "y": 6.332,
           "yshift": 15,
           "z": 2.513
          },
          {
           "showarrow": false,
           "text": "H",
           "x": -3.293,
           "y": 0.661,
           "yshift": 15,
           "z": 0.12
          }
         ],
         "xaxis": {
          "showbackground": false,
          "showgrid": false,
          "showticklabels": false,
          "title": {
           "font": {
            "color": "white"
           }
          },
          "zeroline": false
         },
         "yaxis": {
          "showbackground": false,
          "showgrid": false,
          "showticklabels": false,
          "title": {
           "font": {
            "color": "white"
           }
          },
          "zeroline": false
         },
         "zaxis": {
          "showbackground": false,
          "showgrid": false,
          "showticklabels": false,
          "title": {
           "font": {
            "color": "white"
           }
          },
          "zeroline": false
         }
        },
        "showlegend": false,
        "template": {
         "data": {
          "bar": [
           {
            "error_x": {
             "color": "#2a3f5f"
            },
            "error_y": {
             "color": "#2a3f5f"
            },
            "marker": {
             "line": {
              "color": "#E5ECF6",
              "width": 0.5
             },
             "pattern": {
              "fillmode": "overlay",
              "size": 10,
              "solidity": 0.2
             }
            },
            "type": "bar"
           }
          ],
          "barpolar": [
           {
            "marker": {
             "line": {
              "color": "#E5ECF6",
              "width": 0.5
             },
             "pattern": {
              "fillmode": "overlay",
              "size": 10,
              "solidity": 0.2
             }
            },
            "type": "barpolar"
           }
          ],
          "carpet": [
           {
            "aaxis": {
             "endlinecolor": "#2a3f5f",
             "gridcolor": "white",
             "linecolor": "white",
             "minorgridcolor": "white",
             "startlinecolor": "#2a3f5f"
            },
            "baxis": {
             "endlinecolor": "#2a3f5f",
             "gridcolor": "white",
             "linecolor": "white",
             "minorgridcolor": "white",
             "startlinecolor": "#2a3f5f"
            },
            "type": "carpet"
           }
          ],
          "choropleth": [
           {
            "colorbar": {
             "outlinewidth": 0,
             "ticks": ""
            },
            "type": "choropleth"
           }
          ],
          "contour": [
           {
            "colorbar": {
             "outlinewidth": 0,
             "ticks": ""
            },
            "colorscale": [
             [
              0,
              "#0d0887"
             ],
             [
              0.1111111111111111,
              "#46039f"
             ],
             [
              0.2222222222222222,
              "#7201a8"
             ],
             [
              0.3333333333333333,
              "#9c179e"
             ],
             [
              0.4444444444444444,
              "#bd3786"
             ],
             [
              0.5555555555555556,
              "#d8576b"
             ],
             [
              0.6666666666666666,
              "#ed7953"
             ],
             [
              0.7777777777777778,
              "#fb9f3a"
             ],
             [
              0.8888888888888888,
              "#fdca26"
             ],
             [
              1,
              "#f0f921"
             ]
            ],
            "type": "contour"
           }
          ],
          "contourcarpet": [
           {
            "colorbar": {
             "outlinewidth": 0,
             "ticks": ""
            },
            "type": "contourcarpet"
           }
          ],
          "heatmap": [
           {
            "colorbar": {
             "outlinewidth": 0,
             "ticks": ""
            },
            "colorscale": [
             [
              0,
              "#0d0887"
             ],
             [
              0.1111111111111111,
              "#46039f"
             ],
             [
              0.2222222222222222,
              "#7201a8"
             ],
             [
              0.3333333333333333,
              "#9c179e"
             ],
             [
              0.4444444444444444,
              "#bd3786"
             ],
             [
              0.5555555555555556,
              "#d8576b"
             ],
             [
              0.6666666666666666,
              "#ed7953"
             ],
             [
              0.7777777777777778,
              "#fb9f3a"
             ],
             [
              0.8888888888888888,
              "#fdca26"
             ],
             [
              1,
              "#f0f921"
             ]
            ],
            "type": "heatmap"
           }
          ],
          "heatmapgl": [
           {
            "colorbar": {
             "outlinewidth": 0,
             "ticks": ""
            },
            "colorscale": [
             [
              0,
              "#0d0887"
             ],
             [
              0.1111111111111111,
              "#46039f"
             ],
             [
              0.2222222222222222,
              "#7201a8"
             ],
             [
              0.3333333333333333,
              "#9c179e"
             ],
             [
              0.4444444444444444,
              "#bd3786"
             ],
             [
              0.5555555555555556,
              "#d8576b"
             ],
             [
              0.6666666666666666,
              "#ed7953"
             ],
             [
              0.7777777777777778,
              "#fb9f3a"
             ],
             [
              0.8888888888888888,
              "#fdca26"
             ],
             [
              1,
              "#f0f921"
             ]
            ],
            "type": "heatmapgl"
           }
          ],
          "histogram": [
           {
            "marker": {
             "pattern": {
              "fillmode": "overlay",
              "size": 10,
              "solidity": 0.2
             }
            },
            "type": "histogram"
           }
          ],
          "histogram2d": [
           {
            "colorbar": {
             "outlinewidth": 0,
             "ticks": ""
            },
            "colorscale": [
             [
              0,
              "#0d0887"
             ],
             [
              0.1111111111111111,
              "#46039f"
             ],
             [
              0.2222222222222222,
              "#7201a8"
             ],
             [
              0.3333333333333333,
              "#9c179e"
             ],
             [
              0.4444444444444444,
              "#bd3786"
             ],
             [
              0.5555555555555556,
              "#d8576b"
             ],
             [
              0.6666666666666666,
              "#ed7953"
             ],
             [
              0.7777777777777778,
              "#fb9f3a"
             ],
             [
              0.8888888888888888,
              "#fdca26"
             ],
             [
              1,
              "#f0f921"
             ]
            ],
            "type": "histogram2d"
           }
          ],
          "histogram2dcontour": [
           {
            "colorbar": {
             "outlinewidth": 0,
             "ticks": ""
            },
            "colorscale": [
             [
              0,
              "#0d0887"
             ],
             [
              0.1111111111111111,
              "#46039f"
             ],
             [
              0.2222222222222222,
              "#7201a8"
             ],
             [
              0.3333333333333333,
              "#9c179e"
             ],
             [
              0.4444444444444444,
              "#bd3786"
             ],
             [
              0.5555555555555556,
              "#d8576b"
             ],
             [
              0.6666666666666666,
              "#ed7953"
             ],
             [
              0.7777777777777778,
              "#fb9f3a"
             ],
             [
              0.8888888888888888,
              "#fdca26"
             ],
             [
              1,
              "#f0f921"
             ]
            ],
            "type": "histogram2dcontour"
           }
          ],
          "mesh3d": [
           {
            "colorbar": {
             "outlinewidth": 0,
             "ticks": ""
            },
            "type": "mesh3d"
           }
          ],
          "parcoords": [
           {
            "line": {
             "colorbar": {
              "outlinewidth": 0,
              "ticks": ""
             }
            },
            "type": "parcoords"
           }
          ],
          "pie": [
           {
            "automargin": true,
            "type": "pie"
           }
          ],
          "scatter": [
           {
            "fillpattern": {
             "fillmode": "overlay",
             "size": 10,
             "solidity": 0.2
            },
            "type": "scatter"
           }
          ],
          "scatter3d": [
           {
            "line": {
             "colorbar": {
              "outlinewidth": 0,
              "ticks": ""
             }
            },
            "marker": {
             "colorbar": {
              "outlinewidth": 0,
              "ticks": ""
             }
            },
            "type": "scatter3d"
           }
          ],
          "scattercarpet": [
           {
            "marker": {
             "colorbar": {
              "outlinewidth": 0,
              "ticks": ""
             }
            },
            "type": "scattercarpet"
           }
          ],
          "scattergeo": [
           {
            "marker": {
             "colorbar": {
              "outlinewidth": 0,
              "ticks": ""
             }
            },
            "type": "scattergeo"
           }
          ],
          "scattergl": [
           {
            "marker": {
             "colorbar": {
              "outlinewidth": 0,
              "ticks": ""
             }
            },
            "type": "scattergl"
           }
          ],
          "scattermapbox": [
           {
            "marker": {
             "colorbar": {
              "outlinewidth": 0,
              "ticks": ""
             }
            },
            "type": "scattermapbox"
           }
          ],
          "scatterpolar": [
           {
            "marker": {
             "colorbar": {
              "outlinewidth": 0,
              "ticks": ""
             }
            },
            "type": "scatterpolar"
           }
          ],
          "scatterpolargl": [
           {
            "marker": {
             "colorbar": {
              "outlinewidth": 0,
              "ticks": ""
             }
            },
            "type": "scatterpolargl"
           }
          ],
          "scatterternary": [
           {
            "marker": {
             "colorbar": {
              "outlinewidth": 0,
              "ticks": ""
             }
            },
            "type": "scatterternary"
           }
          ],
          "surface": [
           {
            "colorbar": {
             "outlinewidth": 0,
             "ticks": ""
            },
            "colorscale": [
             [
              0,
              "#0d0887"
             ],
             [
              0.1111111111111111,
              "#46039f"
             ],
             [
              0.2222222222222222,
              "#7201a8"
             ],
             [
              0.3333333333333333,
              "#9c179e"
             ],
             [
              0.4444444444444444,
              "#bd3786"
             ],
             [
              0.5555555555555556,
              "#d8576b"
             ],
             [
              0.6666666666666666,
              "#ed7953"
             ],
             [
              0.7777777777777778,
              "#fb9f3a"
             ],
             [
              0.8888888888888888,
              "#fdca26"
             ],
             [
              1,
              "#f0f921"
             ]
            ],
            "type": "surface"
           }
          ],
          "table": [
           {
            "cells": {
             "fill": {
              "color": "#EBF0F8"
             },
             "line": {
              "color": "white"
             }
            },
            "header": {
             "fill": {
              "color": "#C8D4E3"
             },
             "line": {
              "color": "white"
             }
            },
            "type": "table"
           }
          ]
         },
         "layout": {
          "annotationdefaults": {
           "arrowcolor": "#2a3f5f",
           "arrowhead": 0,
           "arrowwidth": 1
          },
          "autotypenumbers": "strict",
          "coloraxis": {
           "colorbar": {
            "outlinewidth": 0,
            "ticks": ""
           }
          },
          "colorscale": {
           "diverging": [
            [
             0,
             "#8e0152"
            ],
            [
             0.1,
             "#c51b7d"
            ],
            [
             0.2,
             "#de77ae"
            ],
            [
             0.3,
             "#f1b6da"
            ],
            [
             0.4,
             "#fde0ef"
            ],
            [
             0.5,
             "#f7f7f7"
            ],
            [
             0.6,
             "#e6f5d0"
            ],
            [
             0.7,
             "#b8e186"
            ],
            [
             0.8,
             "#7fbc41"
            ],
            [
             0.9,
             "#4d9221"
            ],
            [
             1,
             "#276419"
            ]
           ],
           "sequential": [
            [
             0,
             "#0d0887"
            ],
            [
             0.1111111111111111,
             "#46039f"
            ],
            [
             0.2222222222222222,
             "#7201a8"
            ],
            [
             0.3333333333333333,
             "#9c179e"
            ],
            [
             0.4444444444444444,
             "#bd3786"
            ],
            [
             0.5555555555555556,
             "#d8576b"
            ],
            [
             0.6666666666666666,
             "#ed7953"
            ],
            [
             0.7777777777777778,
             "#fb9f3a"
            ],
            [
             0.8888888888888888,
             "#fdca26"
            ],
            [
             1,
             "#f0f921"
            ]
           ],
           "sequentialminus": [
            [
             0,
             "#0d0887"
            ],
            [
             0.1111111111111111,
             "#46039f"
            ],
            [
             0.2222222222222222,
             "#7201a8"
            ],
            [
             0.3333333333333333,
             "#9c179e"
            ],
            [
             0.4444444444444444,
             "#bd3786"
            ],
            [
             0.5555555555555556,
             "#d8576b"
            ],
            [
             0.6666666666666666,
             "#ed7953"
            ],
            [
             0.7777777777777778,
             "#fb9f3a"
            ],
            [
             0.8888888888888888,
             "#fdca26"
            ],
            [
             1,
             "#f0f921"
            ]
           ]
          },
          "colorway": [
           "#636efa",
           "#EF553B",
           "#00cc96",
           "#ab63fa",
           "#FFA15A",
           "#19d3f3",
           "#FF6692",
           "#B6E880",
           "#FF97FF",
           "#FECB52"
          ],
          "font": {
           "color": "#2a3f5f"
          },
          "geo": {
           "bgcolor": "white",
           "lakecolor": "white",
           "landcolor": "#E5ECF6",
           "showlakes": true,
           "showland": true,
           "subunitcolor": "white"
          },
          "hoverlabel": {
           "align": "left"
          },
          "hovermode": "closest",
          "mapbox": {
           "style": "light"
          },
          "paper_bgcolor": "white",
          "plot_bgcolor": "#E5ECF6",
          "polar": {
           "angularaxis": {
            "gridcolor": "white",
            "linecolor": "white",
            "ticks": ""
           },
           "bgcolor": "#E5ECF6",
           "radialaxis": {
            "gridcolor": "white",
            "linecolor": "white",
            "ticks": ""
           }
          },
          "scene": {
           "xaxis": {
            "backgroundcolor": "#E5ECF6",
            "gridcolor": "white",
            "gridwidth": 2,
            "linecolor": "white",
            "showbackground": true,
            "ticks": "",
            "zerolinecolor": "white"
           },
           "yaxis": {
            "backgroundcolor": "#E5ECF6",
            "gridcolor": "white",
            "gridwidth": 2,
            "linecolor": "white",
            "showbackground": true,
            "ticks": "",
            "zerolinecolor": "white"
           },
           "zaxis": {
            "backgroundcolor": "#E5ECF6",
            "gridcolor": "white",
            "gridwidth": 2,
            "linecolor": "white",
            "showbackground": true,
            "ticks": "",
            "zerolinecolor": "white"
           }
          },
          "shapedefaults": {
           "line": {
            "color": "#2a3f5f"
           }
          },
          "ternary": {
           "aaxis": {
            "gridcolor": "white",
            "linecolor": "white",
            "ticks": ""
           },
           "baxis": {
            "gridcolor": "white",
            "linecolor": "white",
            "ticks": ""
           },
           "bgcolor": "#E5ECF6",
           "caxis": {
            "gridcolor": "white",
            "linecolor": "white",
            "ticks": ""
           }
          },
          "title": {
           "x": 0.05
          },
          "xaxis": {
           "automargin": true,
           "gridcolor": "white",
           "linecolor": "white",
           "ticks": "",
           "title": {
            "standoff": 15
           },
           "zerolinecolor": "white",
           "zerolinewidth": 2
          },
          "yaxis": {
           "automargin": true,
           "gridcolor": "white",
           "linecolor": "white",
           "ticks": "",
           "title": {
            "standoff": 15
           },
           "zerolinecolor": "white",
           "zerolinewidth": 2
          }
         }
        },
        "updatemenus": [
         {
          "buttons": [
           {
            "args": [
             {
              "scene.annotations": [
               {
                "showarrow": false,
                "text": "C",
                "x": 0.178,
                "y": 0.2,
                "yshift": 15,
                "z": -0.064
               },
               {
                "showarrow": false,
                "text": "C",
                "x": -0.076,
                "y": -0.703,
                "yshift": 15,
                "z": 1.157
               },
               {
                "showarrow": false,
                "text": "C",
                "x": 1.276,
                "y": -1.408,
                "yshift": 15,
                "z": 1.297
               },
               {
                "showarrow": false,
                "text": "C",
                "x": 2.254,
                "y": -0.288,
                "yshift": 15,
                "z": 0.902
               },
               {
                "showarrow": false,
                "text": "C",
                "x": -0.781,
                "y": 1.371,
                "yshift": 15,
                "z": -0.272
               },
               {
                "showarrow": false,
                "text": "O",
                "x": 1.502,
                "y": 0.672,
                "yshift": 15,
                "z": 0.13
               },
               {
                "showarrow": false,
                "text": "O",
                "x": -1.22,
                "y": -1.552,
                "yshift": 15,
                "z": 1.05
               },
               {
                "showarrow": false,
                "text": "O",
                "x": -1.135,
                "y": 2.027,
                "yshift": 15,
                "z": 0.953
               },
               {
                "showarrow": false,
                "text": "P",
                "x": -2.45,
                "y": 1.655,
                "yshift": 15,
                "z": 1.815
               },
               {
                "showarrow": false,
                "text": "O",
                "x": -3.421,
                "y": 2.873,
                "yshift": 15,
                "z": 1.426
               },
               {
                "showarrow": false,
                "text": "C",
                "x": -4.56,
                "y": 3.284,
                "yshift": 15,
                "z": 2.215
               },
               {
                "showarrow": false,
                "text": "C",
                "x": -5.469,
                "y": 2.191,
                "yshift": 15,
                "z": 2.78
               },
               {
                "showarrow": false,
                "text": "C",
                "x": -6.221,
                "y": 2.969,
                "yshift": 15,
                "z": 3.878
               },
               {
                "showarrow": false,
                "text": "C",
                "x": -4.203,
                "y": 4.09,
                "yshift": 15,
                "z": 3.47
               },
               {
                "showarrow": false,
                "text": "C",
                "x": -3.691,
                "y": 5.506,
                "yshift": 15,
                "z": 3.218
               },
               {
                "showarrow": false,
                "text": "O",
                "x": -5.444,
                "y": 4.143,
                "yshift": 15,
                "z": 4.173
               },
               {
                "showarrow": false,
                "text": "O",
                "x": -4.417,
                "y": 6.222,
                "yshift": 15,
                "z": 2.224
               },
               {
                "showarrow": false,
                "text": "O",
                "x": -2.158,
                "y": 1.454,
                "yshift": 15,
                "z": 3.252
               },
               {
                "showarrow": false,
                "text": "O",
                "x": -3.147,
                "y": 0.423,
                "yshift": 15,
                "z": 1.049
               },
               {
                "showarrow": false,
                "text": "H",
                "x": 0.02,
                "y": -0.375,
                "yshift": 15,
                "z": -0.952
               },
               {
                "showarrow": false,
                "text": "H",
                "x": -0.357,
                "y": -0.17,
                "yshift": 15,
                "z": 2.041
               },
               {
                "showarrow": false,
                "text": "H",
                "x": 1.443,
                "y": -1.735,
                "yshift": 15,
                "z": 2.301
               },
               {
                "showarrow": false,
                "text": "H",
                "x": 1.367,
                "y": -2.293,
                "yshift": 15,
                "z": 0.703
               },
               {
                "showarrow": false,
                "text": "H",
                "x": 2.655,
                "y": 0.177,
                "yshift": 15,
                "z": 1.779
               },
               {
                "showarrow": false,
                "text": "H",
                "x": 3.074,
                "y": -0.677,
                "yshift": 15,
                "z": 0.335
               },
               {
                "showarrow": false,
                "text": "H",
                "x": -1.674,
                "y": 1.003,
                "yshift": 15,
                "z": -0.733
               },
               {
                "showarrow": false,
                "text": "H",
                "x": -0.282,
                "y": 2.089,
                "yshift": 15,
                "z": -0.889
               },
               {
                "showarrow": false,
                "text": "H",
                "x": -1.128,
                "y": -2.123,
                "yshift": 15,
                "z": 0.272
               },
               {
                "showarrow": false,
                "text": "H",
                "x": -5.065,
                "y": 3.844,
                "yshift": 15,
                "z": 1.456
               },
               {
                "showarrow": false,
                "text": "H",
                "x": -4.902,
                "y": 1.381,
                "yshift": 15,
                "z": 3.19
               },
               {
                "showarrow": false,
                "text": "H",
                "x": -6.105,
                "y": 1.728,
                "yshift": 15,
                "z": 2.054
               },
               {
                "showarrow": false,
                "text": "H",
                "x": -6.318,
                "y": 2.363,
                "yshift": 15,
                "z": 4.755
               },
               {
                "showarrow": false,
                "text": "H",
                "x": -7.204,
                "y": 3.235,
                "yshift": 15,
                "z": 3.551
               },
               {
                "showarrow": false,
                "text": "H",
                "x": -3.391,
                "y": 3.625,
                "yshift": 15,
                "z": 3.99
               },
               {
                "showarrow": false,
                "text": "H",
                "x": -3.75,
                "y": 6.053,
                "yshift": 15,
                "z": 4.135
               },
               {
                "showarrow": false,
                "text": "H",
                "x": -2.688,
                "y": 5.411,
                "yshift": 15,
                "z": 2.856
               },
               {
                "showarrow": false,
                "text": "H",
                "x": -5.337,
                "y": 6.332,
                "yshift": 15,
                "z": 2.513
               },
               {
                "showarrow": false,
                "text": "H",
                "x": -3.293,
                "y": 0.661,
                "yshift": 15,
                "z": 0.12
               }
              ]
             }
            ],
            "label": "Elements",
            "method": "relayout"
           },
           {
            "args": [
             {
              "scene.annotations": [
               {
                "showarrow": false,
                "text": "C4'",
                "x": 0.178,
                "y": 0.2,
                "yshift": 15,
                "z": -0.064
               },
               {
                "showarrow": false,
                "text": "C3'",
                "x": -0.076,
                "y": -0.703,
                "yshift": 15,
                "z": 1.157
               },
               {
                "showarrow": false,
                "text": "C2'",
                "x": 1.276,
                "y": -1.408,
                "yshift": 15,
                "z": 1.297
               },
               {
                "showarrow": false,
                "text": "C1'",
                "x": 2.254,
                "y": -0.288,
                "yshift": 15,
                "z": 0.902
               },
               {
                "showarrow": false,
                "text": "C5'",
                "x": -0.781,
                "y": 1.371,
                "yshift": 15,
                "z": -0.272
               },
               {
                "showarrow": false,
                "text": "O4'",
                "x": 1.502,
                "y": 0.672,
                "yshift": 15,
                "z": 0.13
               },
               {
                "showarrow": false,
                "text": "O3'",
                "x": -1.22,
                "y": -1.552,
                "yshift": 15,
                "z": 1.05
               },
               {
                "showarrow": false,
                "text": "O5'",
                "x": -1.135,
                "y": 2.027,
                "yshift": 15,
                "z": 0.953
               },
               {
                "showarrow": false,
                "text": "P",
                "x": -2.45,
                "y": 1.655,
                "yshift": 15,
                "z": 1.815
               },
               {
                "showarrow": false,
                "text": "O3'",
                "x": -3.421,
                "y": 2.873,
                "yshift": 15,
                "z": 1.426
               },
               {
                "showarrow": false,
                "text": "C3'",
                "x": -4.56,
                "y": 3.284,
                "yshift": 15,
                "z": 2.215
               },
               {
                "showarrow": false,
                "text": "C2'",
                "x": -5.469,
                "y": 2.191,
                "yshift": 15,
                "z": 2.78
               },
               {
                "showarrow": false,
                "text": "C1'",
                "x": -6.221,
                "y": 2.969,
                "yshift": 15,
                "z": 3.878
               },
               {
                "showarrow": false,
                "text": "C4'",
                "x": -4.203,
                "y": 4.09,
                "yshift": 15,
                "z": 3.47
               },
               {
                "showarrow": false,
                "text": "C5'",
                "x": -3.691,
                "y": 5.506,
                "yshift": 15,
                "z": 3.218
               },
               {
                "showarrow": false,
                "text": "O4'",
                "x": -5.444,
                "y": 4.143,
                "yshift": 15,
                "z": 4.173
               },
               {
                "showarrow": false,
                "text": "O5'",
                "x": -4.417,
                "y": 6.222,
                "yshift": 15,
                "z": 2.224
               },
               {
                "showarrow": false,
                "text": "OP1",
                "x": -2.158,
                "y": 1.454,
                "yshift": 15,
                "z": 3.252
               },
               {
                "showarrow": false,
                "text": "OP2",
                "x": -3.147,
                "y": 0.423,
                "yshift": 15,
                "z": 1.049
               },
               {
                "showarrow": false,
                "text": "H",
                "x": 0.02,
                "y": -0.375,
                "yshift": 15,
                "z": -0.952
               },
               {
                "showarrow": false,
                "text": "H",
                "x": -0.357,
                "y": -0.17,
                "yshift": 15,
                "z": 2.041
               },
               {
                "showarrow": false,
                "text": "H",
                "x": 1.443,
                "y": -1.735,
                "yshift": 15,
                "z": 2.301
               },
               {
                "showarrow": false,
                "text": "H",
                "x": 1.367,
                "y": -2.293,
                "yshift": 15,
                "z": 0.703
               },
               {
                "showarrow": false,
                "text": "H",
                "x": 2.655,
                "y": 0.177,
                "yshift": 15,
                "z": 1.779
               },
               {
                "showarrow": false,
                "text": "H",
                "x": 3.074,
                "y": -0.677,
                "yshift": 15,
                "z": 0.335
               },
               {
                "showarrow": false,
                "text": "H",
                "x": -1.674,
                "y": 1.003,
                "yshift": 15,
                "z": -0.733
               },
               {
                "showarrow": false,
                "text": "H",
                "x": -0.282,
                "y": 2.089,
                "yshift": 15,
                "z": -0.889
               },
               {
                "showarrow": false,
                "text": "H",
                "x": -1.128,
                "y": -2.123,
                "yshift": 15,
                "z": 0.272
               },
               {
                "showarrow": false,
                "text": "H",
                "x": -5.065,
                "y": 3.844,
                "yshift": 15,
                "z": 1.456
               },
               {
                "showarrow": false,
                "text": "H",
                "x": -4.902,
                "y": 1.381,
                "yshift": 15,
                "z": 3.19
               },
               {
                "showarrow": false,
                "text": "H",
                "x": -6.105,
                "y": 1.728,
                "yshift": 15,
                "z": 2.054
               },
               {
                "showarrow": false,
                "text": "H",
                "x": -6.318,
                "y": 2.363,
                "yshift": 15,
                "z": 4.755
               },
               {
                "showarrow": false,
                "text": "H",
                "x": -7.204,
                "y": 3.235,
                "yshift": 15,
                "z": 3.551
               },
               {
                "showarrow": false,
                "text": "H",
                "x": -3.391,
                "y": 3.625,
                "yshift": 15,
                "z": 3.99
               },
               {
                "showarrow": false,
                "text": "H",
                "x": -3.75,
                "y": 6.053,
                "yshift": 15,
                "z": 4.135
               },
               {
                "showarrow": false,
                "text": "H",
                "x": -2.688,
                "y": 5.411,
                "yshift": 15,
                "z": 2.856
               },
               {
                "showarrow": false,
                "text": "H",
                "x": -5.337,
                "y": 6.332,
                "yshift": 15,
                "z": 2.513
               },
               {
                "showarrow": false,
                "text": "H",
                "x": -3.293,
                "y": 0.661,
                "yshift": 15,
                "z": 0.12
               }
              ]
             }
            ],
            "label": "Named Elements",
            "method": "relayout"
           },
           {
            "args": [
             {
              "scene.annotations": [
               {
                "showarrow": false,
                "text": "C",
                "x": 0.178,
                "y": 0.2,
                "yshift": 15,
                "z": -0.064
               },
               {
                "showarrow": false,
                "text": "C",
                "x": -0.076,
                "y": -0.703,
                "yshift": 15,
                "z": 1.157
               },
               {
                "showarrow": false,
                "text": "C",
                "x": 1.276,
                "y": -1.408,
                "yshift": 15,
                "z": 1.297
               },
               {
                "showarrow": false,
                "text": "C",
                "x": 2.254,
                "y": -0.288,
                "yshift": 15,
                "z": 0.902
               },
               {
                "showarrow": false,
                "text": "C",
                "x": -0.781,
                "y": 1.371,
                "yshift": 15,
                "z": -0.272
               },
               {
                "showarrow": false,
                "text": "O",
                "x": 1.502,
                "y": 0.672,
                "yshift": 15,
                "z": 0.13
               },
               {
                "showarrow": false,
                "text": "O",
                "x": -1.22,
                "y": -1.552,
                "yshift": 15,
                "z": 1.05
               },
               {
                "showarrow": false,
                "text": "O",
                "x": -1.135,
                "y": 2.027,
                "yshift": 15,
                "z": 0.953
               },
               {
                "showarrow": false,
                "text": "P",
                "x": -2.45,
                "y": 1.655,
                "yshift": 15,
                "z": 1.815
               },
               {
                "showarrow": false,
                "text": "O",
                "x": -3.421,
                "y": 2.873,
                "yshift": 15,
                "z": 1.426
               },
               {
                "showarrow": false,
                "text": "C",
                "x": -4.56,
                "y": 3.284,
                "yshift": 15,
                "z": 2.215
               },
               {
                "showarrow": false,
                "text": "C",
                "x": -5.469,
                "y": 2.191,
                "yshift": 15,
                "z": 2.78
               },
               {
                "showarrow": false,
                "text": "C",
                "x": -6.221,
                "y": 2.969,
                "yshift": 15,
                "z": 3.878
               },
               {
                "showarrow": false,
                "text": "C",
                "x": -4.203,
                "y": 4.09,
                "yshift": 15,
                "z": 3.47
               },
               {
                "showarrow": false,
                "text": "C",
                "x": -3.691,
                "y": 5.506,
                "yshift": 15,
                "z": 3.218
               },
               {
                "showarrow": false,
                "text": "O",
                "x": -5.444,
                "y": 4.143,
                "yshift": 15,
                "z": 4.173
               },
               {
                "showarrow": false,
                "text": "O",
                "x": -4.417,
                "y": 6.222,
                "yshift": 15,
                "z": 2.224
               },
               {
                "showarrow": false,
                "text": "O",
                "x": -2.158,
                "y": 1.454,
                "yshift": 15,
                "z": 3.252
               },
               {
                "showarrow": false,
                "text": "O",
                "x": -3.147,
                "y": 0.423,
                "yshift": 15,
                "z": 1.049
               },
               {
                "showarrow": false,
                "text": "H",
                "x": 0.02,
                "y": -0.375,
                "yshift": 15,
                "z": -0.952
               },
               {
                "showarrow": false,
                "text": "H",
                "x": -0.357,
                "y": -0.17,
                "yshift": 15,
                "z": 2.041
               },
               {
                "showarrow": false,
                "text": "H",
                "x": 1.443,
                "y": -1.735,
                "yshift": 15,
                "z": 2.301
               },
               {
                "showarrow": false,
                "text": "H",
                "x": 1.367,
                "y": -2.293,
                "yshift": 15,
                "z": 0.703
               },
               {
                "showarrow": false,
                "text": "H",
                "x": 2.655,
                "y": 0.177,
                "yshift": 15,
                "z": 1.779
               },
               {
                "showarrow": false,
                "text": "H",
                "x": 3.074,
                "y": -0.677,
                "yshift": 15,
                "z": 0.335
               },
               {
                "showarrow": false,
                "text": "H",
                "x": -1.674,
                "y": 1.003,
                "yshift": 15,
                "z": -0.733
               },
               {
                "showarrow": false,
                "text": "H",
                "x": -0.282,
                "y": 2.089,
                "yshift": 15,
                "z": -0.889
               },
               {
                "showarrow": false,
                "text": "H",
                "x": -1.128,
                "y": -2.123,
                "yshift": 15,
                "z": 0.272
               },
               {
                "showarrow": false,
                "text": "H",
                "x": -5.065,
                "y": 3.844,
                "yshift": 15,
                "z": 1.456
               },
               {
                "showarrow": false,
                "text": "H",
                "x": -4.902,
                "y": 1.381,
                "yshift": 15,
                "z": 3.19
               },
               {
                "showarrow": false,
                "text": "H",
                "x": -6.105,
                "y": 1.728,
                "yshift": 15,
                "z": 2.054
               },
               {
                "showarrow": false,
                "text": "H",
                "x": -6.318,
                "y": 2.363,
                "yshift": 15,
                "z": 4.755
               },
               {
                "showarrow": false,
                "text": "H",
                "x": -7.204,
                "y": 3.235,
                "yshift": 15,
                "z": 3.551
               },
               {
                "showarrow": false,
                "text": "H",
                "x": -3.391,
                "y": 3.625,
                "yshift": 15,
                "z": 3.99
               },
               {
                "showarrow": false,
                "text": "H",
                "x": -3.75,
                "y": 6.053,
                "yshift": 15,
                "z": 4.135
               },
               {
                "showarrow": false,
                "text": "H",
                "x": -2.688,
                "y": 5.411,
                "yshift": 15,
                "z": 2.856
               },
               {
                "showarrow": false,
                "text": "H",
                "x": -5.337,
                "y": 6.332,
                "yshift": 15,
                "z": 2.513
               },
               {
                "showarrow": false,
                "text": "H",
                "x": -3.293,
                "y": 0.661,
                "yshift": 15,
                "z": 0.12
               },
               {
                "font": {
                 "color": "steelblue"
                },
                "showarrow": false,
                "text": 1.6,
                "x": 0.051,
                "y": -0.25149999999999995,
                "yshift": 15,
                "z": 0.5465
               },
               {
                "font": {
                 "color": "steelblue"
                },
                "showarrow": false,
                "text": 1.6,
                "x": -0.3015,
                "y": 0.7855,
                "yshift": 15,
                "z": -0.168
               },
               {
                "font": {
                 "color": "steelblue"
                },
                "showarrow": false,
                "text": 1.48,
                "x": 0.84,
                "y": 0.43600000000000005,
                "yshift": 15,
                "z": 0.033
               },
               {
                "font": {
                 "color": "steelblue"
                },
                "showarrow": false,
                "text": 1.17,
                "x": 0.09899999999999999,
                "y": -0.0875,
                "yshift": 15,
                "z": -0.508
               },
               {
                "font": {
                 "color": "steelblue"
                },
                "showarrow": false,
                "text": 1.6,
                "x": 0.6,
                "y": -1.0554999999999999,
                "yshift": 15,
                "z": 1.2269999999999999
               },
               {
                "font": {
                 "color": "steelblue"
                },
                "showarrow": false,
                "text": 1.48,
                "x": -0.648,
                "y": -1.1275,
                "yshift": 15,
                "z": 1.1035
               },
               {
                "font": {
                 "color": "steelblue"
                },
                "showarrow": false,
                "text": 1.17,
                "x": -0.2165,
                "y": -0.4365,
                "yshift": 15,
                "z": 1.599
               },
               {
                "font": {
                 "color": "steelblue"
                },
                "showarrow": false,
                "text": 1.6,
                "x": 1.7650000000000001,
                "y": -0.848,
                "yshift": 15,
                "z": 1.0995
               },
               {
                "font": {
                 "color": "steelblue"
                },
                "showarrow": false,
                "text": 1.17,
                "x": 1.3595000000000002,
                "y": -1.5715,
                "yshift": 15,
                "z": 1.799
               },
               {
                "font": {
                 "color": "steelblue"
                },
                "showarrow": false,
                "text": 1.17,
                "x": 1.3215,
                "y": -1.8505,
                "yshift": 15,
                "z": 1
               },
               {
                "font": {
                 "color": "steelblue"
                },
                "showarrow": false,
                "text": 1.48,
                "x": 1.8780000000000001,
                "y": 0.19200000000000003,
                "yshift": 15,
                "z": 0.516
               },
               {
                "font": {
                 "color": "steelblue"
                },
                "showarrow": false,
                "text": 1.17,
                "x": 2.4545,
                "y": -0.055499999999999994,
                "yshift": 15,
                "z": 1.3405
               },
               {
                "font": {
                 "color": "steelblue"
                },
                "showarrow": false,
                "text": 1.17,
                "x": 2.6639999999999997,
                "y": -0.48250000000000004,
                "yshift": 15,
                "z": 0.6185
               },
               {
                "font": {
                 "color": "steelblue"
                },
                "showarrow": false,
                "text": 1.48,
                "x": -0.958,
                "y": 1.699,
                "yshift": 15,
                "z": 0.34049999999999997
               },
               {
                "font": {
                 "color": "steelblue"
                },
                "showarrow": false,
                "text": 1.17,
                "x": -1.2275,
                "y": 1.1869999999999998,
                "yshift": 15,
                "z": -0.5025
               },
               {
                "font": {
                 "color": "steelblue"
                },
                "showarrow": false,
                "text": 1.17,
                "x": -0.5315,
                "y": 1.73,
                "yshift": 15,
                "z": -0.5805
               },
               {
                "font": {
                 "color": "steelblue"
                },
                "showarrow": false,
                "text": 1.05,
                "x": -1.174,
                "y": -1.8375000000000001,
                "yshift": 15,
                "z": 0.661
               },
               {
                "font": {
                 "color": "steelblue"
                },
                "showarrow": false,
                "text": 1.84,
                "x": -1.7925,
                "y": 1.8410000000000002,
                "yshift": 15,
                "z": 1.384
               },
               {
                "font": {
                 "color": "steelblue"
                },
                "showarrow": false,
                "text": 1.84,
                "x": -2.9355,
                "y": 2.2640000000000002,
                "yshift": 15,
                "z": 1.6204999999999998
               },
               {
                "font": {
                 "color": "steelblue"
                },
                "showarrow": false,
                "text": 1.84,
                "x": -2.3040000000000003,
                "y": 1.5545,
                "yshift": 15,
                "z": 2.5335
               },
               {
                "font": {
                 "color": "steelblue"
                },
                "showarrow": false,
                "text": 1.84,
                "x": -2.7984999999999998,
                "y": 1.039,
                "yshift": 15,
                "z": 1.432
               },
               {
                "font": {
                 "color": "steelblue"
                },
                "showarrow": false,
                "text": 1.48,
                "x": -3.9905,
                "y": 3.0785,
                "yshift": 15,
                "z": 1.8205
               },
               {
                "font": {
                 "color": "steelblue"
                },
                "showarrow": false,
                "text": 1.6,
                "x": -5.0145,
                "y": 2.7375,
                "yshift": 15,
                "z": 2.4974999999999996
               },
               {
                "font": {
                 "color": "steelblue"
                },
                "showarrow": false,
                "text": 1.6,
                "x": -4.3815,
                "y": 3.687,
                "yshift": 15,
                "z": 2.8425000000000002
               },
               {
                "font": {
                 "color": "steelblue"
                },
                "showarrow": false,
                "text": 1.17,
                "x": -4.8125,
                "y": 3.564,
                "yshift": 15,
                "z": 1.8355
               },
               {
                "font": {
                 "color": "steelblue"
                },
                "showarrow": false,
                "text": 1.6,
                "x": -5.845000000000001,
                "y": 2.58,
                "yshift": 15,
                "z": 3.3289999999999997
               },
               {
                "font": {
                 "color": "steelblue"
                },
                "showarrow": false,
                "text": 1.17,
                "x": -5.1855,
                "y": 1.786,
                "yshift": 15,
                "z": 2.985
               },
               {
                "font": {
                 "color": "steelblue"
                },
                "showarrow": false,
                "text": 1.17,
                "x": -5.787000000000001,
                "y": 1.9594999999999998,
                "yshift": 15,
                "z": 2.417
               },
               {
                "font": {
                 "color": "steelblue"
                },
                "showarrow": false,
                "text": 1.48,
                "x": -5.8325,
                "y": 3.556,
                "yshift": 15,
                "z": 4.0255
               },
               {
                "font": {
                 "color": "steelblue"
                },
                "showarrow": false,
                "text": 1.17,
                "x": -6.2695,
                "y": 2.666,
                "yshift": 15,
                "z": 4.3165
               },
               {
                "font": {
                 "color": "steelblue"
                },
                "showarrow": false,
                "text": 1.17,
                "x": -6.7125,
                "y": 3.102,
                "yshift": 15,
                "z": 3.7145
               },
               {
                "font": {
                 "color": "steelblue"
                },
                "showarrow": false,
                "text": 1.6,
                "x": -3.947,
                "y": 4.798,
                "yshift": 15,
                "z": 3.3440000000000003
               },
               {
                "font": {
                 "color": "steelblue"
                },
                "showarrow": false,
                "text": 1.48,
                "x": -4.8235,
                "y": 4.1165,
                "yshift": 15,
                "z": 3.8215000000000003
               },
               {
                "font": {
                 "color": "steelblue"
                },
                "showarrow": false,
                "text": 1.17,
                "x": -3.797,
                "y": 3.8575,
                "yshift": 15,
                "z": 3.7300000000000004
               },
               {
                "font": {
                 "color": "steelblue"
                },
                "showarrow": false,
                "text": 1.48,
                "x": -4.054,
                "y": 5.864000000000001,
                "yshift": 15,
                "z": 2.721
               },
               {
                "font": {
                 "color": "steelblue"
                },
                "showarrow": false,
                "text": 1.17,
                "x": -3.7205,
                "y": 5.7795000000000005,
                "yshift": 15,
                "z": 3.6765
               },
               {
                "font": {
                 "color": "steelblue"
                },
                "showarrow": false,
                "text": 1.17,
                "x": -3.1895,
                "y": 5.4585,
                "yshift": 15,
                "z": 3.037
               },
               {
                "font": {
                 "color": "steelblue"
                },
                "showarrow": false,
                "text": 1.05,
                "x": -4.877,
                "y": 6.277,
                "yshift": 15,
                "z": 2.3685
               },
               {
                "font": {
                 "color": "steelblue"
                },
                "showarrow": false,
                "text": 1.05,
                "x": -3.2199999999999998,
                "y": 0.542,
                "yshift": 15,
                "z": 0.5845
               }
              ]
             }
            ],
            "label": "Elements & Bond Lengths",
            "method": "relayout"
           },
           {
            "args": [
             {
              "scene.annotations": [
               {
                "showarrow": false,
                "text": 0,
                "x": 0.178,
                "y": 0.2,
                "yshift": 15,
                "z": -0.064
               },
               {
                "showarrow": false,
                "text": 1,
                "x": -0.076,
                "y": -0.703,
                "yshift": 15,
                "z": 1.157
               },
               {
                "showarrow": false,
                "text": 2,
                "x": 1.276,
                "y": -1.408,
                "yshift": 15,
                "z": 1.297
               },
               {
                "showarrow": false,
                "text": 3,
                "x": 2.254,
                "y": -0.288,
                "yshift": 15,
                "z": 0.902
               },
               {
                "showarrow": false,
                "text": 4,
                "x": -0.781,
                "y": 1.371,
                "yshift": 15,
                "z": -0.272
               },
               {
                "showarrow": false,
                "text": 5,
                "x": 1.502,
                "y": 0.672,
                "yshift": 15,
                "z": 0.13
               },
               {
                "showarrow": false,
                "text": 6,
                "x": -1.22,
                "y": -1.552,
                "yshift": 15,
                "z": 1.05
               },
               {
                "showarrow": false,
                "text": 7,
                "x": -1.135,
                "y": 2.027,
                "yshift": 15,
                "z": 0.953
               },
               {
                "showarrow": false,
                "text": 8,
                "x": -2.45,
                "y": 1.655,
                "yshift": 15,
                "z": 1.815
               },
               {
                "showarrow": false,
                "text": 9,
                "x": -3.421,
                "y": 2.873,
                "yshift": 15,
                "z": 1.426
               },
               {
                "showarrow": false,
                "text": 10,
                "x": -4.56,
                "y": 3.284,
                "yshift": 15,
                "z": 2.215
               },
               {
                "showarrow": false,
                "text": 11,
                "x": -5.469,
                "y": 2.191,
                "yshift": 15,
                "z": 2.78
               },
               {
                "showarrow": false,
                "text": 12,
                "x": -6.221,
                "y": 2.969,
                "yshift": 15,
                "z": 3.878
               },
               {
                "showarrow": false,
                "text": 13,
                "x": -4.203,
                "y": 4.09,
                "yshift": 15,
                "z": 3.47
               },
               {
                "showarrow": false,
                "text": 14,
                "x": -3.691,
                "y": 5.506,
                "yshift": 15,
                "z": 3.218
               },
               {
                "showarrow": false,
                "text": 15,
                "x": -5.444,
                "y": 4.143,
                "yshift": 15,
                "z": 4.173
               },
               {
                "showarrow": false,
                "text": 16,
                "x": -4.417,
                "y": 6.222,
                "yshift": 15,
                "z": 2.224
               },
               {
                "showarrow": false,
                "text": 17,
                "x": -2.158,
                "y": 1.454,
                "yshift": 15,
                "z": 3.252
               },
               {
                "showarrow": false,
                "text": 18,
                "x": -3.147,
                "y": 0.423,
                "yshift": 15,
                "z": 1.049
               },
               {
                "showarrow": false,
                "text": 19,
                "x": 0.02,
                "y": -0.375,
                "yshift": 15,
                "z": -0.952
               },
               {
                "showarrow": false,
                "text": 20,
                "x": -0.357,
                "y": -0.17,
                "yshift": 15,
                "z": 2.041
               },
               {
                "showarrow": false,
                "text": 21,
                "x": 1.443,
                "y": -1.735,
                "yshift": 15,
                "z": 2.301
               },
               {
                "showarrow": false,
                "text": 22,
                "x": 1.367,
                "y": -2.293,
                "yshift": 15,
                "z": 0.703
               },
               {
                "showarrow": false,
                "text": 23,
                "x": 2.655,
                "y": 0.177,
                "yshift": 15,
                "z": 1.779
               },
               {
                "showarrow": false,
                "text": 24,
                "x": 3.074,
                "y": -0.677,
                "yshift": 15,
                "z": 0.335
               },
               {
                "showarrow": false,
                "text": 25,
                "x": -1.674,
                "y": 1.003,
                "yshift": 15,
                "z": -0.733
               },
               {
                "showarrow": false,
                "text": 26,
                "x": -0.282,
                "y": 2.089,
                "yshift": 15,
                "z": -0.889
               },
               {
                "showarrow": false,
                "text": 27,
                "x": -1.128,
                "y": -2.123,
                "yshift": 15,
                "z": 0.272
               },
               {
                "showarrow": false,
                "text": 28,
                "x": -5.065,
                "y": 3.844,
                "yshift": 15,
                "z": 1.456
               },
               {
                "showarrow": false,
                "text": 29,
                "x": -4.902,
                "y": 1.381,
                "yshift": 15,
                "z": 3.19
               },
               {
                "showarrow": false,
                "text": 30,
                "x": -6.105,
                "y": 1.728,
                "yshift": 15,
                "z": 2.054
               },
               {
                "showarrow": false,
                "text": 31,
                "x": -6.318,
                "y": 2.363,
                "yshift": 15,
                "z": 4.755
               },
               {
                "showarrow": false,
                "text": 32,
                "x": -7.204,
                "y": 3.235,
                "yshift": 15,
                "z": 3.551
               },
               {
                "showarrow": false,
                "text": 33,
                "x": -3.391,
                "y": 3.625,
                "yshift": 15,
                "z": 3.99
               },
               {
                "showarrow": false,
                "text": 34,
                "x": -3.75,
                "y": 6.053,
                "yshift": 15,
                "z": 4.135
               },
               {
                "showarrow": false,
                "text": 35,
                "x": -2.688,
                "y": 5.411,
                "yshift": 15,
                "z": 2.856
               },
               {
                "showarrow": false,
                "text": 36,
                "x": -5.337,
                "y": 6.332,
                "yshift": 15,
                "z": 2.513
               },
               {
                "showarrow": false,
                "text": 37,
                "x": -3.293,
                "y": 0.661,
                "yshift": 15,
                "z": 0.12
               }
              ]
             }
            ],
            "label": "Indices",
            "method": "relayout"
           },
           {
            "args": [
             {
              "scene.annotations": [
               {
                "showarrow": false,
                "text": 0,
                "x": 0.178,
                "y": 0.2,
                "yshift": 15,
                "z": -0.064
               },
               {
                "showarrow": false,
                "text": 1,
                "x": -0.076,
                "y": -0.703,
                "yshift": 15,
                "z": 1.157
               },
               {
                "showarrow": false,
                "text": 2,
                "x": 1.276,
                "y": -1.408,
                "yshift": 15,
                "z": 1.297
               },
               {
                "showarrow": false,
                "text": 3,
                "x": 2.254,
                "y": -0.288,
                "yshift": 15,
                "z": 0.902
               },
               {
                "showarrow": false,
                "text": 4,
                "x": -0.781,
                "y": 1.371,
                "yshift": 15,
                "z": -0.272
               },
               {
                "showarrow": false,
                "text": 5,
                "x": 1.502,
                "y": 0.672,
                "yshift": 15,
                "z": 0.13
               },
               {
                "showarrow": false,
                "text": 6,
                "x": -1.22,
                "y": -1.552,
                "yshift": 15,
                "z": 1.05
               },
               {
                "showarrow": false,
                "text": 7,
                "x": -1.135,
                "y": 2.027,
                "yshift": 15,
                "z": 0.953
               },
               {
                "showarrow": false,
                "text": 8,
                "x": -2.45,
                "y": 1.655,
                "yshift": 15,
                "z": 1.815
               },
               {
                "showarrow": false,
                "text": 9,
                "x": -3.421,
                "y": 2.873,
                "yshift": 15,
                "z": 1.426
               },
               {
                "showarrow": false,
                "text": 10,
                "x": -4.56,
                "y": 3.284,
                "yshift": 15,
                "z": 2.215
               },
               {
                "showarrow": false,
                "text": 11,
                "x": -5.469,
                "y": 2.191,
                "yshift": 15,
                "z": 2.78
               },
               {
                "showarrow": false,
                "text": 12,
                "x": -6.221,
                "y": 2.969,
                "yshift": 15,
                "z": 3.878
               },
               {
                "showarrow": false,
                "text": 13,
                "x": -4.203,
                "y": 4.09,
                "yshift": 15,
                "z": 3.47
               },
               {
                "showarrow": false,
                "text": 14,
                "x": -3.691,
                "y": 5.506,
                "yshift": 15,
                "z": 3.218
               },
               {
                "showarrow": false,
                "text": 15,
                "x": -5.444,
                "y": 4.143,
                "yshift": 15,
                "z": 4.173
               },
               {
                "showarrow": false,
                "text": 16,
                "x": -4.417,
                "y": 6.222,
                "yshift": 15,
                "z": 2.224
               },
               {
                "showarrow": false,
                "text": 17,
                "x": -2.158,
                "y": 1.454,
                "yshift": 15,
                "z": 3.252
               },
               {
                "showarrow": false,
                "text": 18,
                "x": -3.147,
                "y": 0.423,
                "yshift": 15,
                "z": 1.049
               },
               {
                "showarrow": false,
                "text": 19,
                "x": 0.02,
                "y": -0.375,
                "yshift": 15,
                "z": -0.952
               },
               {
                "showarrow": false,
                "text": 20,
                "x": -0.357,
                "y": -0.17,
                "yshift": 15,
                "z": 2.041
               },
               {
                "showarrow": false,
                "text": 21,
                "x": 1.443,
                "y": -1.735,
                "yshift": 15,
                "z": 2.301
               },
               {
                "showarrow": false,
                "text": 22,
                "x": 1.367,
                "y": -2.293,
                "yshift": 15,
                "z": 0.703
               },
               {
                "showarrow": false,
                "text": 23,
                "x": 2.655,
                "y": 0.177,
                "yshift": 15,
                "z": 1.779
               },
               {
                "showarrow": false,
                "text": 24,
                "x": 3.074,
                "y": -0.677,
                "yshift": 15,
                "z": 0.335
               },
               {
                "showarrow": false,
                "text": 25,
                "x": -1.674,
                "y": 1.003,
                "yshift": 15,
                "z": -0.733
               },
               {
                "showarrow": false,
                "text": 26,
                "x": -0.282,
                "y": 2.089,
                "yshift": 15,
                "z": -0.889
               },
               {
                "showarrow": false,
                "text": 27,
                "x": -1.128,
                "y": -2.123,
                "yshift": 15,
                "z": 0.272
               },
               {
                "showarrow": false,
                "text": 28,
                "x": -5.065,
                "y": 3.844,
                "yshift": 15,
                "z": 1.456
               },
               {
                "showarrow": false,
                "text": 29,
                "x": -4.902,
                "y": 1.381,
                "yshift": 15,
                "z": 3.19
               },
               {
                "showarrow": false,
                "text": 30,
                "x": -6.105,
                "y": 1.728,
                "yshift": 15,
                "z": 2.054
               },
               {
                "showarrow": false,
                "text": 31,
                "x": -6.318,
                "y": 2.363,
                "yshift": 15,
                "z": 4.755
               },
               {
                "showarrow": false,
                "text": 32,
                "x": -7.204,
                "y": 3.235,
                "yshift": 15,
                "z": 3.551
               },
               {
                "showarrow": false,
                "text": 33,
                "x": -3.391,
                "y": 3.625,
                "yshift": 15,
                "z": 3.99
               },
               {
                "showarrow": false,
                "text": 34,
                "x": -3.75,
                "y": 6.053,
                "yshift": 15,
                "z": 4.135
               },
               {
                "showarrow": false,
                "text": 35,
                "x": -2.688,
                "y": 5.411,
                "yshift": 15,
                "z": 2.856
               },
               {
                "showarrow": false,
                "text": 36,
                "x": -5.337,
                "y": 6.332,
                "yshift": 15,
                "z": 2.513
               },
               {
                "showarrow": false,
                "text": 37,
                "x": -3.293,
                "y": 0.661,
                "yshift": 15,
                "z": 0.12
               },
               {
                "font": {
                 "color": "steelblue"
                },
                "showarrow": false,
                "text": 1.6,
                "x": 0.051,
                "y": -0.25149999999999995,
                "yshift": 15,
                "z": 0.5465
               },
               {
                "font": {
                 "color": "steelblue"
                },
                "showarrow": false,
                "text": 1.6,
                "x": -0.3015,
                "y": 0.7855,
                "yshift": 15,
                "z": -0.168
               },
               {
                "font": {
                 "color": "steelblue"
                },
                "showarrow": false,
                "text": 1.48,
                "x": 0.84,
                "y": 0.43600000000000005,
                "yshift": 15,
                "z": 0.033
               },
               {
                "font": {
                 "color": "steelblue"
                },
                "showarrow": false,
                "text": 1.17,
                "x": 0.09899999999999999,
                "y": -0.0875,
                "yshift": 15,
                "z": -0.508
               },
               {
                "font": {
                 "color": "steelblue"
                },
                "showarrow": false,
                "text": 1.6,
                "x": 0.6,
                "y": -1.0554999999999999,
                "yshift": 15,
                "z": 1.2269999999999999
               },
               {
                "font": {
                 "color": "steelblue"
                },
                "showarrow": false,
                "text": 1.48,
                "x": -0.648,
                "y": -1.1275,
                "yshift": 15,
                "z": 1.1035
               },
               {
                "font": {
                 "color": "steelblue"
                },
                "showarrow": false,
                "text": 1.17,
                "x": -0.2165,
                "y": -0.4365,
                "yshift": 15,
                "z": 1.599
               },
               {
                "font": {
                 "color": "steelblue"
                },
                "showarrow": false,
                "text": 1.6,
                "x": 1.7650000000000001,
                "y": -0.848,
                "yshift": 15,
                "z": 1.0995
               },
               {
                "font": {
                 "color": "steelblue"
                },
                "showarrow": false,
                "text": 1.17,
                "x": 1.3595000000000002,
                "y": -1.5715,
                "yshift": 15,
                "z": 1.799
               },
               {
                "font": {
                 "color": "steelblue"
                },
                "showarrow": false,
                "text": 1.17,
                "x": 1.3215,
                "y": -1.8505,
                "yshift": 15,
                "z": 1
               },
               {
                "font": {
                 "color": "steelblue"
                },
                "showarrow": false,
                "text": 1.48,
                "x": 1.8780000000000001,
                "y": 0.19200000000000003,
                "yshift": 15,
                "z": 0.516
               },
               {
                "font": {
                 "color": "steelblue"
                },
                "showarrow": false,
                "text": 1.17,
                "x": 2.4545,
                "y": -0.055499999999999994,
                "yshift": 15,
                "z": 1.3405
               },
               {
                "font": {
                 "color": "steelblue"
                },
                "showarrow": false,
                "text": 1.17,
                "x": 2.6639999999999997,
                "y": -0.48250000000000004,
                "yshift": 15,
                "z": 0.6185
               },
               {
                "font": {
                 "color": "steelblue"
                },
                "showarrow": false,
                "text": 1.48,
                "x": -0.958,
                "y": 1.699,
                "yshift": 15,
                "z": 0.34049999999999997
               },
               {
                "font": {
                 "color": "steelblue"
                },
                "showarrow": false,
                "text": 1.17,
                "x": -1.2275,
                "y": 1.1869999999999998,
                "yshift": 15,
                "z": -0.5025
               },
               {
                "font": {
                 "color": "steelblue"
                },
                "showarrow": false,
                "text": 1.17,
                "x": -0.5315,
                "y": 1.73,
                "yshift": 15,
                "z": -0.5805
               },
               {
                "font": {
                 "color": "steelblue"
                },
                "showarrow": false,
                "text": 1.05,
                "x": -1.174,
                "y": -1.8375000000000001,
                "yshift": 15,
                "z": 0.661
               },
               {
                "font": {
                 "color": "steelblue"
                },
                "showarrow": false,
                "text": 1.84,
                "x": -1.7925,
                "y": 1.8410000000000002,
                "yshift": 15,
                "z": 1.384
               },
               {
                "font": {
                 "color": "steelblue"
                },
                "showarrow": false,
                "text": 1.84,
                "x": -2.9355,
                "y": 2.2640000000000002,
                "yshift": 15,
                "z": 1.6204999999999998
               },
               {
                "font": {
                 "color": "steelblue"
                },
                "showarrow": false,
                "text": 1.84,
                "x": -2.3040000000000003,
                "y": 1.5545,
                "yshift": 15,
                "z": 2.5335
               },
               {
                "font": {
                 "color": "steelblue"
                },
                "showarrow": false,
                "text": 1.84,
                "x": -2.7984999999999998,
                "y": 1.039,
                "yshift": 15,
                "z": 1.432
               },
               {
                "font": {
                 "color": "steelblue"
                },
                "showarrow": false,
                "text": 1.48,
                "x": -3.9905,
                "y": 3.0785,
                "yshift": 15,
                "z": 1.8205
               },
               {
                "font": {
                 "color": "steelblue"
                },
                "showarrow": false,
                "text": 1.6,
                "x": -5.0145,
                "y": 2.7375,
                "yshift": 15,
                "z": 2.4974999999999996
               },
               {
                "font": {
                 "color": "steelblue"
                },
                "showarrow": false,
                "text": 1.6,
                "x": -4.3815,
                "y": 3.687,
                "yshift": 15,
                "z": 2.8425000000000002
               },
               {
                "font": {
                 "color": "steelblue"
                },
                "showarrow": false,
                "text": 1.17,
                "x": -4.8125,
                "y": 3.564,
                "yshift": 15,
                "z": 1.8355
               },
               {
                "font": {
                 "color": "steelblue"
                },
                "showarrow": false,
                "text": 1.6,
                "x": -5.845000000000001,
                "y": 2.58,
                "yshift": 15,
                "z": 3.3289999999999997
               },
               {
                "font": {
                 "color": "steelblue"
                },
                "showarrow": false,
                "text": 1.17,
                "x": -5.1855,
                "y": 1.786,
                "yshift": 15,
                "z": 2.985
               },
               {
                "font": {
                 "color": "steelblue"
                },
                "showarrow": false,
                "text": 1.17,
                "x": -5.787000000000001,
                "y": 1.9594999999999998,
                "yshift": 15,
                "z": 2.417
               },
               {
                "font": {
                 "color": "steelblue"
                },
                "showarrow": false,
                "text": 1.48,
                "x": -5.8325,
                "y": 3.556,
                "yshift": 15,
                "z": 4.0255
               },
               {
                "font": {
                 "color": "steelblue"
                },
                "showarrow": false,
                "text": 1.17,
                "x": -6.2695,
                "y": 2.666,
                "yshift": 15,
                "z": 4.3165
               },
               {
                "font": {
                 "color": "steelblue"
                },
                "showarrow": false,
                "text": 1.17,
                "x": -6.7125,
                "y": 3.102,
                "yshift": 15,
                "z": 3.7145
               },
               {
                "font": {
                 "color": "steelblue"
                },
                "showarrow": false,
                "text": 1.6,
                "x": -3.947,
                "y": 4.798,
                "yshift": 15,
                "z": 3.3440000000000003
               },
               {
                "font": {
                 "color": "steelblue"
                },
                "showarrow": false,
                "text": 1.48,
                "x": -4.8235,
                "y": 4.1165,
                "yshift": 15,
                "z": 3.8215000000000003
               },
               {
                "font": {
                 "color": "steelblue"
                },
                "showarrow": false,
                "text": 1.17,
                "x": -3.797,
                "y": 3.8575,
                "yshift": 15,
                "z": 3.7300000000000004
               },
               {
                "font": {
                 "color": "steelblue"
                },
                "showarrow": false,
                "text": 1.48,
                "x": -4.054,
                "y": 5.864000000000001,
                "yshift": 15,
                "z": 2.721
               },
               {
                "font": {
                 "color": "steelblue"
                },
                "showarrow": false,
                "text": 1.17,
                "x": -3.7205,
                "y": 5.7795000000000005,
                "yshift": 15,
                "z": 3.6765
               },
               {
                "font": {
                 "color": "steelblue"
                },
                "showarrow": false,
                "text": 1.17,
                "x": -3.1895,
                "y": 5.4585,
                "yshift": 15,
                "z": 3.037
               },
               {
                "font": {
                 "color": "steelblue"
                },
                "showarrow": false,
                "text": 1.05,
                "x": -4.877,
                "y": 6.277,
                "yshift": 15,
                "z": 2.3685
               },
               {
                "font": {
                 "color": "steelblue"
                },
                "showarrow": false,
                "text": 1.05,
                "x": -3.2199999999999998,
                "y": 0.542,
                "yshift": 15,
                "z": 0.5845
               }
              ]
             }
            ],
            "label": "Indices & Bond Lengths",
            "method": "relayout"
           },
           {
            "args": [
             {
              "scene.annotations": [
               {
                "font": {
                 "color": "steelblue"
                },
                "showarrow": false,
                "text": 1.6,
                "x": 0.051,
                "y": -0.25149999999999995,
                "yshift": 15,
                "z": 0.5465
               },
               {
                "font": {
                 "color": "steelblue"
                },
                "showarrow": false,
                "text": 1.6,
                "x": -0.3015,
                "y": 0.7855,
                "yshift": 15,
                "z": -0.168
               },
               {
                "font": {
                 "color": "steelblue"
                },
                "showarrow": false,
                "text": 1.48,
                "x": 0.84,
                "y": 0.43600000000000005,
                "yshift": 15,
                "z": 0.033
               },
               {
                "font": {
                 "color": "steelblue"
                },
                "showarrow": false,
                "text": 1.17,
                "x": 0.09899999999999999,
                "y": -0.0875,
                "yshift": 15,
                "z": -0.508
               },
               {
                "font": {
                 "color": "steelblue"
                },
                "showarrow": false,
                "text": 1.6,
                "x": 0.6,
                "y": -1.0554999999999999,
                "yshift": 15,
                "z": 1.2269999999999999
               },
               {
                "font": {
                 "color": "steelblue"
                },
                "showarrow": false,
                "text": 1.48,
                "x": -0.648,
                "y": -1.1275,
                "yshift": 15,
                "z": 1.1035
               },
               {
                "font": {
                 "color": "steelblue"
                },
                "showarrow": false,
                "text": 1.17,
                "x": -0.2165,
                "y": -0.4365,
                "yshift": 15,
                "z": 1.599
               },
               {
                "font": {
                 "color": "steelblue"
                },
                "showarrow": false,
                "text": 1.6,
                "x": 1.7650000000000001,
                "y": -0.848,
                "yshift": 15,
                "z": 1.0995
               },
               {
                "font": {
                 "color": "steelblue"
                },
                "showarrow": false,
                "text": 1.17,
                "x": 1.3595000000000002,
                "y": -1.5715,
                "yshift": 15,
                "z": 1.799
               },
               {
                "font": {
                 "color": "steelblue"
                },
                "showarrow": false,
                "text": 1.17,
                "x": 1.3215,
                "y": -1.8505,
                "yshift": 15,
                "z": 1
               },
               {
                "font": {
                 "color": "steelblue"
                },
                "showarrow": false,
                "text": 1.48,
                "x": 1.8780000000000001,
                "y": 0.19200000000000003,
                "yshift": 15,
                "z": 0.516
               },
               {
                "font": {
                 "color": "steelblue"
                },
                "showarrow": false,
                "text": 1.17,
                "x": 2.4545,
                "y": -0.055499999999999994,
                "yshift": 15,
                "z": 1.3405
               },
               {
                "font": {
                 "color": "steelblue"
                },
                "showarrow": false,
                "text": 1.17,
                "x": 2.6639999999999997,
                "y": -0.48250000000000004,
                "yshift": 15,
                "z": 0.6185
               },
               {
                "font": {
                 "color": "steelblue"
                },
                "showarrow": false,
                "text": 1.48,
                "x": -0.958,
                "y": 1.699,
                "yshift": 15,
                "z": 0.34049999999999997
               },
               {
                "font": {
                 "color": "steelblue"
                },
                "showarrow": false,
                "text": 1.17,
                "x": -1.2275,
                "y": 1.1869999999999998,
                "yshift": 15,
                "z": -0.5025
               },
               {
                "font": {
                 "color": "steelblue"
                },
                "showarrow": false,
                "text": 1.17,
                "x": -0.5315,
                "y": 1.73,
                "yshift": 15,
                "z": -0.5805
               },
               {
                "font": {
                 "color": "steelblue"
                },
                "showarrow": false,
                "text": 1.05,
                "x": -1.174,
                "y": -1.8375000000000001,
                "yshift": 15,
                "z": 0.661
               },
               {
                "font": {
                 "color": "steelblue"
                },
                "showarrow": false,
                "text": 1.84,
                "x": -1.7925,
                "y": 1.8410000000000002,
                "yshift": 15,
                "z": 1.384
               },
               {
                "font": {
                 "color": "steelblue"
                },
                "showarrow": false,
                "text": 1.84,
                "x": -2.9355,
                "y": 2.2640000000000002,
                "yshift": 15,
                "z": 1.6204999999999998
               },
               {
                "font": {
                 "color": "steelblue"
                },
                "showarrow": false,
                "text": 1.84,
                "x": -2.3040000000000003,
                "y": 1.5545,
                "yshift": 15,
                "z": 2.5335
               },
               {
                "font": {
                 "color": "steelblue"
                },
                "showarrow": false,
                "text": 1.84,
                "x": -2.7984999999999998,
                "y": 1.039,
                "yshift": 15,
                "z": 1.432
               },
               {
                "font": {
                 "color": "steelblue"
                },
                "showarrow": false,
                "text": 1.48,
                "x": -3.9905,
                "y": 3.0785,
                "yshift": 15,
                "z": 1.8205
               },
               {
                "font": {
                 "color": "steelblue"
                },
                "showarrow": false,
                "text": 1.6,
                "x": -5.0145,
                "y": 2.7375,
                "yshift": 15,
                "z": 2.4974999999999996
               },
               {
                "font": {
                 "color": "steelblue"
                },
                "showarrow": false,
                "text": 1.6,
                "x": -4.3815,
                "y": 3.687,
                "yshift": 15,
                "z": 2.8425000000000002
               },
               {
                "font": {
                 "color": "steelblue"
                },
                "showarrow": false,
                "text": 1.17,
                "x": -4.8125,
                "y": 3.564,
                "yshift": 15,
                "z": 1.8355
               },
               {
                "font": {
                 "color": "steelblue"
                },
                "showarrow": false,
                "text": 1.6,
                "x": -5.845000000000001,
                "y": 2.58,
                "yshift": 15,
                "z": 3.3289999999999997
               },
               {
                "font": {
                 "color": "steelblue"
                },
                "showarrow": false,
                "text": 1.17,
                "x": -5.1855,
                "y": 1.786,
                "yshift": 15,
                "z": 2.985
               },
               {
                "font": {
                 "color": "steelblue"
                },
                "showarrow": false,
                "text": 1.17,
                "x": -5.787000000000001,
                "y": 1.9594999999999998,
                "yshift": 15,
                "z": 2.417
               },
               {
                "font": {
                 "color": "steelblue"
                },
                "showarrow": false,
                "text": 1.48,
                "x": -5.8325,
                "y": 3.556,
                "yshift": 15,
                "z": 4.0255
               },
               {
                "font": {
                 "color": "steelblue"
                },
                "showarrow": false,
                "text": 1.17,
                "x": -6.2695,
                "y": 2.666,
                "yshift": 15,
                "z": 4.3165
               },
               {
                "font": {
                 "color": "steelblue"
                },
                "showarrow": false,
                "text": 1.17,
                "x": -6.7125,
                "y": 3.102,
                "yshift": 15,
                "z": 3.7145
               },
               {
                "font": {
                 "color": "steelblue"
                },
                "showarrow": false,
                "text": 1.6,
                "x": -3.947,
                "y": 4.798,
                "yshift": 15,
                "z": 3.3440000000000003
               },
               {
                "font": {
                 "color": "steelblue"
                },
                "showarrow": false,
                "text": 1.48,
                "x": -4.8235,
                "y": 4.1165,
                "yshift": 15,
                "z": 3.8215000000000003
               },
               {
                "font": {
                 "color": "steelblue"
                },
                "showarrow": false,
                "text": 1.17,
                "x": -3.797,
                "y": 3.8575,
                "yshift": 15,
                "z": 3.7300000000000004
               },
               {
                "font": {
                 "color": "steelblue"
                },
                "showarrow": false,
                "text": 1.48,
                "x": -4.054,
                "y": 5.864000000000001,
                "yshift": 15,
                "z": 2.721
               },
               {
                "font": {
                 "color": "steelblue"
                },
                "showarrow": false,
                "text": 1.17,
                "x": -3.7205,
                "y": 5.7795000000000005,
                "yshift": 15,
                "z": 3.6765
               },
               {
                "font": {
                 "color": "steelblue"
                },
                "showarrow": false,
                "text": 1.17,
                "x": -3.1895,
                "y": 5.4585,
                "yshift": 15,
                "z": 3.037
               },
               {
                "font": {
                 "color": "steelblue"
                },
                "showarrow": false,
                "text": 1.05,
                "x": -4.877,
                "y": 6.277,
                "yshift": 15,
                "z": 2.3685
               },
               {
                "font": {
                 "color": "steelblue"
                },
                "showarrow": false,
                "text": 1.05,
                "x": -3.2199999999999998,
                "y": 0.542,
                "yshift": 15,
                "z": 0.5845
               }
              ]
             }
            ],
            "label": "Bond Lengths",
            "method": "relayout"
           },
           {
            "args": [
             {
              "scene.annotations": []
             }
            ],
            "label": "Hide All",
            "method": "relayout"
           }
          ],
          "direction": "down",
          "xanchor": "left",
          "yanchor": "top"
         }
        ]
       }
      }
     },
     "metadata": {},
     "output_type": "display_data"
    }
   ],
   "source": [
    "pdb_mol = Molecule()\n",
    "pdb_mol.read_pdb('example/example.pdb', model=1)\n",
    "to_plotly_figure(pdb_mol)"
   ]
  },
  {
   "cell_type": "code",
   "execution_count": 4,
   "id": "e0ae676c",
   "metadata": {},
   "outputs": [
    {
     "data": {
      "text/plain": [
       "array([1.33012775, 0.        , 1.92955806])"
      ]
     },
     "execution_count": 4,
     "metadata": {},
     "output_type": "execute_result"
    }
   ],
   "source": [
    "mol[\"C1'\"]"
   ]
  },
  {
   "cell_type": "code",
   "execution_count": 5,
   "id": "503b46f0",
   "metadata": {},
   "outputs": [
    {
     "data": {
      "text/plain": [
       "-28.930466909026087"
      ]
     },
     "execution_count": 5,
     "metadata": {},
     "output_type": "execute_result"
    }
   ],
   "source": [
    "torsion_angle(mol[\"C1'\"], mol[\"C2'\"], mol[\"C3'\"], mol[\"C4'\"])"
   ]
  },
  {
   "cell_type": "code",
   "execution_count": 6,
   "id": "701efcbd",
   "metadata": {},
   "outputs": [
    {
     "data": {
      "text/plain": [
       "(\"O4'\", array([0.        , 0.        , 1.44393247]))"
      ]
     },
     "execution_count": 6,
     "metadata": {},
     "output_type": "execute_result"
    }
   ],
   "source": [
    "mol[1]"
   ]
  },
  {
   "cell_type": "code",
   "execution_count": 7,
   "id": "d3d4f926",
   "metadata": {},
   "outputs": [],
   "source": [
    "def rotation_angle(v0, v1, v2, v3, v4):\n",
    "    tanP = ((v4 + v1) - (v3 + v0)) / (2 * v2 * (np.sin(np.deg2rad(36)) + np.sin(np.deg2rad(72))))\n",
    "    return np.arctan(tanP)\n",
    "\n",
    "v0 = torsion_angle(mol[\"C4'\"], mol[\"O4'\"], mol[\"C1'\"], mol[\"C2'\"])\n",
    "v1 = torsion_angle(mol[\"O4'\"], mol[\"C1'\"], mol[\"C2'\"], mol[\"C3'\"])\n",
    "v2 = torsion_angle(mol[\"C1'\"], mol[\"C2'\"], mol[\"C3'\"], mol[\"C4'\"])\n",
    "v3 = torsion_angle(mol[\"C2'\"], mol[\"O3'\"], mol[\"C4'\"], mol[\"O4'\"])\n",
    "v4 = torsion_angle(mol[\"C3'\"], mol[\"C4'\"], mol[\"O4'\"], mol[\"C1'\"])"
   ]
  },
  {
   "cell_type": "code",
   "execution_count": 8,
   "id": "b29541fc",
   "metadata": {},
   "outputs": [
    {
     "name": "stdout",
     "output_type": "stream",
     "text": [
      "0.8509512280142251\n"
     ]
    }
   ],
   "source": [
    "P = rotation_angle(v0, v1, v2, v3, v4)\n",
    "print(P)"
   ]
  },
  {
   "cell_type": "code",
   "execution_count": 9,
   "id": "b6f214d7",
   "metadata": {},
   "outputs": [
    {
     "data": {
      "text/plain": [
       "-43.88269681259676"
      ]
     },
     "execution_count": 9,
     "metadata": {},
     "output_type": "execute_result"
    }
   ],
   "source": [
    "v2 / np.cos(P)"
   ]
  }
 ],
 "metadata": {
  "kernelspec": {
   "display_name": "Python 3 (ipykernel)",
   "language": "python",
   "name": "python3"
  },
  "language_info": {
   "codemirror_mode": {
    "name": "ipython",
    "version": 3
   },
   "file_extension": ".py",
   "mimetype": "text/x-python",
   "name": "python",
   "nbconvert_exporter": "python",
   "pygments_lexer": "ipython3",
   "version": "3.11.4"
  }
 },
 "nbformat": 4,
 "nbformat_minor": 5
}
