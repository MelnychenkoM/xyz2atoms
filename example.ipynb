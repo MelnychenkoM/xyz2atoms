{
 "cells": [
  {
   "cell_type": "code",
   "execution_count": 1,
   "id": "2fe5befc-a08e-44ff-869d-456a578b63f3",
   "metadata": {},
   "outputs": [],
   "source": [
    "from xyz2named.molecule import Molecule\n",
    "from xyz2named.tools import *"
   ]
  },
  {
   "cell_type": "code",
   "execution_count": 6,
   "id": "97bec895-94ca-48b9-8add-f9c3498a5144",
   "metadata": {},
   "outputs": [
    {
     "data": {
      "application/vnd.plotly.v1+json": {
       "config": {
        "plotlyServerURL": "https://plot.ly"
       },
       "data": [
        {
         "marker": {
          "color": [
           "black",
           "white",
           "white",
           "black",
           "white",
           "black",
           "white",
           "black",
           "white",
           "black",
           "blue",
           "black",
           "red",
           "red",
           "black",
           "white",
           "white",
           "black",
           "white",
           "black",
           "blue",
           "blue",
           "white",
           "blue",
           "white",
           "blue",
           "black",
           "white",
           "white",
           "white",
           "red"
          ],
          "line": {
           "color": "lightgray",
           "width": 2
          },
          "opacity": 0.8,
          "size": 7,
          "symbol": "circle"
         },
         "mode": "markers",
         "text": [
          "C3'",
          "H",
          "H",
          "C1'",
          "H",
          "C5'",
          "H",
          "C4",
          "H",
          "C2'",
          "N7",
          "C8",
          "O5'",
          "O4'",
          "C6",
          "H",
          "H",
          "C5",
          "H",
          "C2",
          "N6",
          "N9",
          "H",
          "N3",
          "H",
          "N1",
          "C4'",
          "H",
          "H",
          "H",
          "O3'"
         ],
         "type": "scatter3d",
         "x": [
          1.25356177,
          2.75728334,
          1.39839374,
          1.33012775,
          -0.14250558,
          -0.01447485,
          0.54662005,
          2.78609087,
          0.91107341,
          2.24550019,
          1.37257164,
          0.82851285,
          -1.16025066,
          0,
          3.65794371,
          2.81422085,
          4.33374742,
          2.60051727,
          5.67323731,
          4.7740641,
          3.63043043,
          1.63833328,
          1.6247017,
          3.85298077,
          -1.15055541,
          4.74182048,
          0,
          -0.91384863,
          2.95675452,
          -0.04768294,
          0.99493119
         ],
         "y": [
          0.815451,
          -5.26554002,
          0.73304981,
          0,
          -2.43724316,
          -1.40699127,
          2.40642541,
          -1.62033445,
          -1.94244109,
          0.36241441,
          -3.43031156,
          -2.43273511,
          -2.08096006,
          0,
          -3.48687618,
          -0.51457743,
          -5.03136721,
          -2.93667899,
          -0.91267977,
          -1.47899103,
          -4.76332507,
          -1.31044491,
          0.60769219,
          -0.83911359,
          -2.98463479,
          -2.73008767,
          0,
          0.518474,
          1.15172937,
          -1.31181879,
          2.21111393
         ],
         "z": [
          -0.35406713,
          4.84933922,
          2.73989283,
          1.92955806,
          2.11651158,
          -0.59102014,
          0.51320264,
          3.2187936,
          -0.33156433,
          0.73611477,
          3.25275313,
          2.5919286,
          -0.09110605,
          1.44393247,
          4.40866455,
          0.41707672,
          5.54078291,
          3.65502618,
          4.40570526,
          4.17201405,
          4.870523,
          2.52017432,
          -1.36150068,
          3.44374919,
          -0.43173085,
          4.65987201,
          0,
          -0.30342485,
          0.98222269,
          -1.68807937,
          -0.3221261
         ]
        },
        {
         "hoverinfo": "none",
         "marker": {
          "color": "grey",
          "opacity": 1,
          "size": 7
         },
         "mode": "lines",
         "type": "scatter3d",
         "x": [
          1.25356177,
          2.24550019,
          null,
          1.25356177,
          1.6247017,
          null,
          1.25356177,
          0,
          null,
          1.25356177,
          0.99493119,
          null,
          2.75728334,
          3.63043043,
          null,
          1.39839374,
          1.33012775,
          null,
          1.33012775,
          1.39839374,
          null,
          1.33012775,
          2.24550019,
          null,
          1.33012775,
          0,
          null,
          1.33012775,
          1.63833328,
          null,
          -0.14250558,
          0.82851285,
          null,
          -0.01447485,
          0.91107341,
          null,
          -0.01447485,
          -1.16025066,
          null,
          -0.01447485,
          0,
          null,
          -0.01447485,
          -0.04768294,
          null,
          0.54662005,
          0.99493119,
          null,
          2.78609087,
          2.60051727,
          null,
          2.78609087,
          1.63833328,
          null,
          2.78609087,
          3.85298077,
          null,
          0.91107341,
          -0.01447485,
          null,
          2.24550019,
          1.25356177,
          null,
          2.24550019,
          1.33012775,
          null,
          2.24550019,
          2.81422085,
          null,
          2.24550019,
          2.95675452,
          null,
          1.37257164,
          0.82851285,
          null,
          1.37257164,
          2.60051727,
          null,
          0.82851285,
          -0.14250558,
          null,
          0.82851285,
          1.37257164,
          null,
          0.82851285,
          1.63833328,
          null,
          -1.16025066,
          -0.01447485,
          null,
          -1.16025066,
          -1.15055541,
          null,
          0,
          1.33012775,
          null,
          0,
          0,
          null,
          3.65794371,
          2.60051727,
          null,
          3.65794371,
          3.63043043,
          null,
          3.65794371,
          4.74182048,
          null,
          2.81422085,
          2.24550019,
          null,
          4.33374742,
          3.63043043,
          null,
          2.60051727,
          2.78609087,
          null,
          2.60051727,
          1.37257164,
          null,
          2.60051727,
          3.65794371,
          null,
          5.67323731,
          4.7740641,
          null,
          4.7740641,
          5.67323731,
          null,
          4.7740641,
          3.85298077,
          null,
          4.7740641,
          4.74182048,
          null,
          3.63043043,
          2.75728334,
          null,
          3.63043043,
          3.65794371,
          null,
          3.63043043,
          4.33374742,
          null,
          1.63833328,
          1.33012775,
          null,
          1.63833328,
          2.78609087,
          null,
          1.63833328,
          0.82851285,
          null,
          1.6247017,
          1.25356177,
          null,
          3.85298077,
          2.78609087,
          null,
          3.85298077,
          4.7740641,
          null,
          -1.15055541,
          -1.16025066,
          null,
          4.74182048,
          3.65794371,
          null,
          4.74182048,
          4.7740641,
          null,
          0,
          1.25356177,
          null,
          0,
          -0.01447485,
          null,
          0,
          0,
          null,
          0,
          -0.91384863,
          null,
          -0.91384863,
          0,
          null,
          2.95675452,
          2.24550019,
          null,
          -0.04768294,
          -0.01447485,
          null,
          0.99493119,
          1.25356177,
          null,
          0.99493119,
          0.54662005,
          null
         ],
         "y": [
          0.815451,
          0.36241441,
          null,
          0.815451,
          0.60769219,
          null,
          0.815451,
          0,
          null,
          0.815451,
          2.21111393,
          null,
          -5.26554002,
          -4.76332507,
          null,
          0.73304981,
          0,
          null,
          0,
          0.73304981,
          null,
          0,
          0.36241441,
          null,
          0,
          0,
          null,
          0,
          -1.31044491,
          null,
          -2.43724316,
          -2.43273511,
          null,
          -1.40699127,
          -1.94244109,
          null,
          -1.40699127,
          -2.08096006,
          null,
          -1.40699127,
          0,
          null,
          -1.40699127,
          -1.31181879,
          null,
          2.40642541,
          2.21111393,
          null,
          -1.62033445,
          -2.93667899,
          null,
          -1.62033445,
          -1.31044491,
          null,
          -1.62033445,
          -0.83911359,
          null,
          -1.94244109,
          -1.40699127,
          null,
          0.36241441,
          0.815451,
          null,
          0.36241441,
          0,
          null,
          0.36241441,
          -0.51457743,
          null,
          0.36241441,
          1.15172937,
          null,
          -3.43031156,
          -2.43273511,
          null,
          -3.43031156,
          -2.93667899,
          null,
          -2.43273511,
          -2.43724316,
          null,
          -2.43273511,
          -3.43031156,
          null,
          -2.43273511,
          -1.31044491,
          null,
          -2.08096006,
          -1.40699127,
          null,
          -2.08096006,
          -2.98463479,
          null,
          0,
          0,
          null,
          0,
          0,
          null,
          -3.48687618,
          -2.93667899,
          null,
          -3.48687618,
          -4.76332507,
          null,
          -3.48687618,
          -2.73008767,
          null,
          -0.51457743,
          0.36241441,
          null,
          -5.03136721,
          -4.76332507,
          null,
          -2.93667899,
          -1.62033445,
          null,
          -2.93667899,
          -3.43031156,
          null,
          -2.93667899,
          -3.48687618,
          null,
          -0.91267977,
          -1.47899103,
          null,
          -1.47899103,
          -0.91267977,
          null,
          -1.47899103,
          -0.83911359,
          null,
          -1.47899103,
          -2.73008767,
          null,
          -4.76332507,
          -5.26554002,
          null,
          -4.76332507,
          -3.48687618,
          null,
          -4.76332507,
          -5.03136721,
          null,
          -1.31044491,
          0,
          null,
          -1.31044491,
          -1.62033445,
          null,
          -1.31044491,
          -2.43273511,
          null,
          0.60769219,
          0.815451,
          null,
          -0.83911359,
          -1.62033445,
          null,
          -0.83911359,
          -1.47899103,
          null,
          -2.98463479,
          -2.08096006,
          null,
          -2.73008767,
          -3.48687618,
          null,
          -2.73008767,
          -1.47899103,
          null,
          0,
          0.815451,
          null,
          0,
          -1.40699127,
          null,
          0,
          0,
          null,
          0,
          0.518474,
          null,
          0.518474,
          0,
          null,
          1.15172937,
          0.36241441,
          null,
          -1.31181879,
          -1.40699127,
          null,
          2.21111393,
          0.815451,
          null,
          2.21111393,
          2.40642541,
          null
         ],
         "z": [
          -0.35406713,
          0.73611477,
          null,
          -0.35406713,
          -1.36150068,
          null,
          -0.35406713,
          0,
          null,
          -0.35406713,
          -0.3221261,
          null,
          4.84933922,
          4.870523,
          null,
          2.73989283,
          1.92955806,
          null,
          1.92955806,
          2.73989283,
          null,
          1.92955806,
          0.73611477,
          null,
          1.92955806,
          1.44393247,
          null,
          1.92955806,
          2.52017432,
          null,
          2.11651158,
          2.5919286,
          null,
          -0.59102014,
          -0.33156433,
          null,
          -0.59102014,
          -0.09110605,
          null,
          -0.59102014,
          0,
          null,
          -0.59102014,
          -1.68807937,
          null,
          0.51320264,
          -0.3221261,
          null,
          3.2187936,
          3.65502618,
          null,
          3.2187936,
          2.52017432,
          null,
          3.2187936,
          3.44374919,
          null,
          -0.33156433,
          -0.59102014,
          null,
          0.73611477,
          -0.35406713,
          null,
          0.73611477,
          1.92955806,
          null,
          0.73611477,
          0.41707672,
          null,
          0.73611477,
          0.98222269,
          null,
          3.25275313,
          2.5919286,
          null,
          3.25275313,
          3.65502618,
          null,
          2.5919286,
          2.11651158,
          null,
          2.5919286,
          3.25275313,
          null,
          2.5919286,
          2.52017432,
          null,
          -0.09110605,
          -0.59102014,
          null,
          -0.09110605,
          -0.43173085,
          null,
          1.44393247,
          1.92955806,
          null,
          1.44393247,
          0,
          null,
          4.40866455,
          3.65502618,
          null,
          4.40866455,
          4.870523,
          null,
          4.40866455,
          4.65987201,
          null,
          0.41707672,
          0.73611477,
          null,
          5.54078291,
          4.870523,
          null,
          3.65502618,
          3.2187936,
          null,
          3.65502618,
          3.25275313,
          null,
          3.65502618,
          4.40866455,
          null,
          4.40570526,
          4.17201405,
          null,
          4.17201405,
          4.40570526,
          null,
          4.17201405,
          3.44374919,
          null,
          4.17201405,
          4.65987201,
          null,
          4.870523,
          4.84933922,
          null,
          4.870523,
          4.40866455,
          null,
          4.870523,
          5.54078291,
          null,
          2.52017432,
          1.92955806,
          null,
          2.52017432,
          3.2187936,
          null,
          2.52017432,
          2.5919286,
          null,
          -1.36150068,
          -0.35406713,
          null,
          3.44374919,
          3.2187936,
          null,
          3.44374919,
          4.17201405,
          null,
          -0.43173085,
          -0.09110605,
          null,
          4.65987201,
          4.40866455,
          null,
          4.65987201,
          4.17201405,
          null,
          0,
          -0.35406713,
          null,
          0,
          -0.59102014,
          null,
          0,
          1.44393247,
          null,
          0,
          -0.30342485,
          null,
          -0.30342485,
          0,
          null,
          0.98222269,
          0.73611477,
          null,
          -1.68807937,
          -0.59102014,
          null,
          -0.3221261,
          -0.35406713,
          null,
          -0.3221261,
          0.51320264,
          null
         ]
        }
       ],
       "layout": {
        "autosize": true,
        "margin": {
         "b": 0,
         "l": 0,
         "r": 0,
         "t": 0
        },
        "scene": {
         "annotations": [
          {
           "showarrow": false,
           "text": "C3'",
           "x": 1.25356177,
           "y": 0.815451,
           "yshift": 15,
           "z": -0.35406713
          },
          {
           "showarrow": false,
           "text": "H",
           "x": 2.75728334,
           "y": -5.26554002,
           "yshift": 15,
           "z": 4.84933922
          },
          {
           "showarrow": false,
           "text": "H",
           "x": 1.39839374,
           "y": 0.73304981,
           "yshift": 15,
           "z": 2.73989283
          },
          {
           "showarrow": false,
           "text": "C1'",
           "x": 1.33012775,
           "y": 0,
           "yshift": 15,
           "z": 1.92955806
          },
          {
           "showarrow": false,
           "text": "H",
           "x": -0.14250558,
           "y": -2.43724316,
           "yshift": 15,
           "z": 2.11651158
          },
          {
           "showarrow": false,
           "text": "C5'",
           "x": -0.01447485,
           "y": -1.40699127,
           "yshift": 15,
           "z": -0.59102014
          },
          {
           "showarrow": false,
           "text": "H",
           "x": 0.54662005,
           "y": 2.40642541,
           "yshift": 15,
           "z": 0.51320264
          },
          {
           "showarrow": false,
           "text": "C4",
           "x": 2.78609087,
           "y": -1.62033445,
           "yshift": 15,
           "z": 3.2187936
          },
          {
           "showarrow": false,
           "text": "H",
           "x": 0.91107341,
           "y": -1.94244109,
           "yshift": 15,
           "z": -0.33156433
          },
          {
           "showarrow": false,
           "text": "C2'",
           "x": 2.24550019,
           "y": 0.36241441,
           "yshift": 15,
           "z": 0.73611477
          },
          {
           "showarrow": false,
           "text": "N7",
           "x": 1.37257164,
           "y": -3.43031156,
           "yshift": 15,
           "z": 3.25275313
          },
          {
           "showarrow": false,
           "text": "C8",
           "x": 0.82851285,
           "y": -2.43273511,
           "yshift": 15,
           "z": 2.5919286
          },
          {
           "showarrow": false,
           "text": "O5'",
           "x": -1.16025066,
           "y": -2.08096006,
           "yshift": 15,
           "z": -0.09110605
          },
          {
           "showarrow": false,
           "text": "O4'",
           "x": 0,
           "y": 0,
           "yshift": 15,
           "z": 1.44393247
          },
          {
           "showarrow": false,
           "text": "C6",
           "x": 3.65794371,
           "y": -3.48687618,
           "yshift": 15,
           "z": 4.40866455
          },
          {
           "showarrow": false,
           "text": "H",
           "x": 2.81422085,
           "y": -0.51457743,
           "yshift": 15,
           "z": 0.41707672
          },
          {
           "showarrow": false,
           "text": "H",
           "x": 4.33374742,
           "y": -5.03136721,
           "yshift": 15,
           "z": 5.54078291
          },
          {
           "showarrow": false,
           "text": "C5",
           "x": 2.60051727,
           "y": -2.93667899,
           "yshift": 15,
           "z": 3.65502618
          },
          {
           "showarrow": false,
           "text": "H",
           "x": 5.67323731,
           "y": -0.91267977,
           "yshift": 15,
           "z": 4.40570526
          },
          {
           "showarrow": false,
           "text": "C2",
           "x": 4.7740641,
           "y": -1.47899103,
           "yshift": 15,
           "z": 4.17201405
          },
          {
           "showarrow": false,
           "text": "N6",
           "x": 3.63043043,
           "y": -4.76332507,
           "yshift": 15,
           "z": 4.870523
          },
          {
           "showarrow": false,
           "text": "N9",
           "x": 1.63833328,
           "y": -1.31044491,
           "yshift": 15,
           "z": 2.52017432
          },
          {
           "showarrow": false,
           "text": "H",
           "x": 1.6247017,
           "y": 0.60769219,
           "yshift": 15,
           "z": -1.36150068
          },
          {
           "showarrow": false,
           "text": "N3",
           "x": 3.85298077,
           "y": -0.83911359,
           "yshift": 15,
           "z": 3.44374919
          },
          {
           "showarrow": false,
           "text": "H",
           "x": -1.15055541,
           "y": -2.98463479,
           "yshift": 15,
           "z": -0.43173085
          },
          {
           "showarrow": false,
           "text": "N1",
           "x": 4.74182048,
           "y": -2.73008767,
           "yshift": 15,
           "z": 4.65987201
          },
          {
           "showarrow": false,
           "text": "C4'",
           "x": 0,
           "y": 0,
           "yshift": 15,
           "z": 0
          },
          {
           "showarrow": false,
           "text": "H",
           "x": -0.91384863,
           "y": 0.518474,
           "yshift": 15,
           "z": -0.30342485
          },
          {
           "showarrow": false,
           "text": "H",
           "x": 2.95675452,
           "y": 1.15172937,
           "yshift": 15,
           "z": 0.98222269
          },
          {
           "showarrow": false,
           "text": "H",
           "x": -0.04768294,
           "y": -1.31181879,
           "yshift": 15,
           "z": -1.68807937
          },
          {
           "showarrow": false,
           "text": "O3'",
           "x": 0.99493119,
           "y": 2.21111393,
           "yshift": 15,
           "z": -0.3221261
          }
         ],
         "aspectmode": "auto",
         "aspectratio": {
          "x": 0.9442842805967891,
          "y": 1.06014913447356,
          "z": 0.9989190070386651
         },
         "camera": {
          "center": {
           "x": 0,
           "y": 0,
           "z": 0
          },
          "eye": {
           "x": -0.5623289802534357,
           "y": 1.0801446421851928,
           "z": 0.4090296237032773
          },
          "projection": {
           "type": "perspective"
          },
          "up": {
           "x": 0,
           "y": 0,
           "z": 1
          }
         },
         "xaxis": {
          "showbackground": false,
          "showgrid": false,
          "showticklabels": false,
          "title": {
           "font": {
            "color": "white"
           }
          },
          "type": "linear",
          "zeroline": false
         },
         "yaxis": {
          "showbackground": false,
          "showgrid": false,
          "showticklabels": false,
          "title": {
           "font": {
            "color": "white"
           }
          },
          "type": "linear",
          "zeroline": false
         },
         "zaxis": {
          "showbackground": false,
          "showgrid": false,
          "showticklabels": false,
          "title": {
           "font": {
            "color": "white"
           }
          },
          "type": "linear",
          "zeroline": false
         }
        },
        "showlegend": false,
        "template": {
         "data": {
          "bar": [
           {
            "error_x": {
             "color": "#2a3f5f"
            },
            "error_y": {
             "color": "#2a3f5f"
            },
            "marker": {
             "line": {
              "color": "#E5ECF6",
              "width": 0.5
             },
             "pattern": {
              "fillmode": "overlay",
              "size": 10,
              "solidity": 0.2
             }
            },
            "type": "bar"
           }
          ],
          "barpolar": [
           {
            "marker": {
             "line": {
              "color": "#E5ECF6",
              "width": 0.5
             },
             "pattern": {
              "fillmode": "overlay",
              "size": 10,
              "solidity": 0.2
             }
            },
            "type": "barpolar"
           }
          ],
          "carpet": [
           {
            "aaxis": {
             "endlinecolor": "#2a3f5f",
             "gridcolor": "white",
             "linecolor": "white",
             "minorgridcolor": "white",
             "startlinecolor": "#2a3f5f"
            },
            "baxis": {
             "endlinecolor": "#2a3f5f",
             "gridcolor": "white",
             "linecolor": "white",
             "minorgridcolor": "white",
             "startlinecolor": "#2a3f5f"
            },
            "type": "carpet"
           }
          ],
          "choropleth": [
           {
            "colorbar": {
             "outlinewidth": 0,
             "ticks": ""
            },
            "type": "choropleth"
           }
          ],
          "contour": [
           {
            "colorbar": {
             "outlinewidth": 0,
             "ticks": ""
            },
            "colorscale": [
             [
              0,
              "#0d0887"
             ],
             [
              0.1111111111111111,
              "#46039f"
             ],
             [
              0.2222222222222222,
              "#7201a8"
             ],
             [
              0.3333333333333333,
              "#9c179e"
             ],
             [
              0.4444444444444444,
              "#bd3786"
             ],
             [
              0.5555555555555556,
              "#d8576b"
             ],
             [
              0.6666666666666666,
              "#ed7953"
             ],
             [
              0.7777777777777778,
              "#fb9f3a"
             ],
             [
              0.8888888888888888,
              "#fdca26"
             ],
             [
              1,
              "#f0f921"
             ]
            ],
            "type": "contour"
           }
          ],
          "contourcarpet": [
           {
            "colorbar": {
             "outlinewidth": 0,
             "ticks": ""
            },
            "type": "contourcarpet"
           }
          ],
          "heatmap": [
           {
            "colorbar": {
             "outlinewidth": 0,
             "ticks": ""
            },
            "colorscale": [
             [
              0,
              "#0d0887"
             ],
             [
              0.1111111111111111,
              "#46039f"
             ],
             [
              0.2222222222222222,
              "#7201a8"
             ],
             [
              0.3333333333333333,
              "#9c179e"
             ],
             [
              0.4444444444444444,
              "#bd3786"
             ],
             [
              0.5555555555555556,
              "#d8576b"
             ],
             [
              0.6666666666666666,
              "#ed7953"
             ],
             [
              0.7777777777777778,
              "#fb9f3a"
             ],
             [
              0.8888888888888888,
              "#fdca26"
             ],
             [
              1,
              "#f0f921"
             ]
            ],
            "type": "heatmap"
           }
          ],
          "heatmapgl": [
           {
            "colorbar": {
             "outlinewidth": 0,
             "ticks": ""
            },
            "colorscale": [
             [
              0,
              "#0d0887"
             ],
             [
              0.1111111111111111,
              "#46039f"
             ],
             [
              0.2222222222222222,
              "#7201a8"
             ],
             [
              0.3333333333333333,
              "#9c179e"
             ],
             [
              0.4444444444444444,
              "#bd3786"
             ],
             [
              0.5555555555555556,
              "#d8576b"
             ],
             [
              0.6666666666666666,
              "#ed7953"
             ],
             [
              0.7777777777777778,
              "#fb9f3a"
             ],
             [
              0.8888888888888888,
              "#fdca26"
             ],
             [
              1,
              "#f0f921"
             ]
            ],
            "type": "heatmapgl"
           }
          ],
          "histogram": [
           {
            "marker": {
             "pattern": {
              "fillmode": "overlay",
              "size": 10,
              "solidity": 0.2
             }
            },
            "type": "histogram"
           }
          ],
          "histogram2d": [
           {
            "colorbar": {
             "outlinewidth": 0,
             "ticks": ""
            },
            "colorscale": [
             [
              0,
              "#0d0887"
             ],
             [
              0.1111111111111111,
              "#46039f"
             ],
             [
              0.2222222222222222,
              "#7201a8"
             ],
             [
              0.3333333333333333,
              "#9c179e"
             ],
             [
              0.4444444444444444,
              "#bd3786"
             ],
             [
              0.5555555555555556,
              "#d8576b"
             ],
             [
              0.6666666666666666,
              "#ed7953"
             ],
             [
              0.7777777777777778,
              "#fb9f3a"
             ],
             [
              0.8888888888888888,
              "#fdca26"
             ],
             [
              1,
              "#f0f921"
             ]
            ],
            "type": "histogram2d"
           }
          ],
          "histogram2dcontour": [
           {
            "colorbar": {
             "outlinewidth": 0,
             "ticks": ""
            },
            "colorscale": [
             [
              0,
              "#0d0887"
             ],
             [
              0.1111111111111111,
              "#46039f"
             ],
             [
              0.2222222222222222,
              "#7201a8"
             ],
             [
              0.3333333333333333,
              "#9c179e"
             ],
             [
              0.4444444444444444,
              "#bd3786"
             ],
             [
              0.5555555555555556,
              "#d8576b"
             ],
             [
              0.6666666666666666,
              "#ed7953"
             ],
             [
              0.7777777777777778,
              "#fb9f3a"
             ],
             [
              0.8888888888888888,
              "#fdca26"
             ],
             [
              1,
              "#f0f921"
             ]
            ],
            "type": "histogram2dcontour"
           }
          ],
          "mesh3d": [
           {
            "colorbar": {
             "outlinewidth": 0,
             "ticks": ""
            },
            "type": "mesh3d"
           }
          ],
          "parcoords": [
           {
            "line": {
             "colorbar": {
              "outlinewidth": 0,
              "ticks": ""
             }
            },
            "type": "parcoords"
           }
          ],
          "pie": [
           {
            "automargin": true,
            "type": "pie"
           }
          ],
          "scatter": [
           {
            "fillpattern": {
             "fillmode": "overlay",
             "size": 10,
             "solidity": 0.2
            },
            "type": "scatter"
           }
          ],
          "scatter3d": [
           {
            "line": {
             "colorbar": {
              "outlinewidth": 0,
              "ticks": ""
             }
            },
            "marker": {
             "colorbar": {
              "outlinewidth": 0,
              "ticks": ""
             }
            },
            "type": "scatter3d"
           }
          ],
          "scattercarpet": [
           {
            "marker": {
             "colorbar": {
              "outlinewidth": 0,
              "ticks": ""
             }
            },
            "type": "scattercarpet"
           }
          ],
          "scattergeo": [
           {
            "marker": {
             "colorbar": {
              "outlinewidth": 0,
              "ticks": ""
             }
            },
            "type": "scattergeo"
           }
          ],
          "scattergl": [
           {
            "marker": {
             "colorbar": {
              "outlinewidth": 0,
              "ticks": ""
             }
            },
            "type": "scattergl"
           }
          ],
          "scattermapbox": [
           {
            "marker": {
             "colorbar": {
              "outlinewidth": 0,
              "ticks": ""
             }
            },
            "type": "scattermapbox"
           }
          ],
          "scatterpolar": [
           {
            "marker": {
             "colorbar": {
              "outlinewidth": 0,
              "ticks": ""
             }
            },
            "type": "scatterpolar"
           }
          ],
          "scatterpolargl": [
           {
            "marker": {
             "colorbar": {
              "outlinewidth": 0,
              "ticks": ""
             }
            },
            "type": "scatterpolargl"
           }
          ],
          "scatterternary": [
           {
            "marker": {
             "colorbar": {
              "outlinewidth": 0,
              "ticks": ""
             }
            },
            "type": "scatterternary"
           }
          ],
          "surface": [
           {
            "colorbar": {
             "outlinewidth": 0,
             "ticks": ""
            },
            "colorscale": [
             [
              0,
              "#0d0887"
             ],
             [
              0.1111111111111111,
              "#46039f"
             ],
             [
              0.2222222222222222,
              "#7201a8"
             ],
             [
              0.3333333333333333,
              "#9c179e"
             ],
             [
              0.4444444444444444,
              "#bd3786"
             ],
             [
              0.5555555555555556,
              "#d8576b"
             ],
             [
              0.6666666666666666,
              "#ed7953"
             ],
             [
              0.7777777777777778,
              "#fb9f3a"
             ],
             [
              0.8888888888888888,
              "#fdca26"
             ],
             [
              1,
              "#f0f921"
             ]
            ],
            "type": "surface"
           }
          ],
          "table": [
           {
            "cells": {
             "fill": {
              "color": "#EBF0F8"
             },
             "line": {
              "color": "white"
             }
            },
            "header": {
             "fill": {
              "color": "#C8D4E3"
             },
             "line": {
              "color": "white"
             }
            },
            "type": "table"
           }
          ]
         },
         "layout": {
          "annotationdefaults": {
           "arrowcolor": "#2a3f5f",
           "arrowhead": 0,
           "arrowwidth": 1
          },
          "autotypenumbers": "strict",
          "coloraxis": {
           "colorbar": {
            "outlinewidth": 0,
            "ticks": ""
           }
          },
          "colorscale": {
           "diverging": [
            [
             0,
             "#8e0152"
            ],
            [
             0.1,
             "#c51b7d"
            ],
            [
             0.2,
             "#de77ae"
            ],
            [
             0.3,
             "#f1b6da"
            ],
            [
             0.4,
             "#fde0ef"
            ],
            [
             0.5,
             "#f7f7f7"
            ],
            [
             0.6,
             "#e6f5d0"
            ],
            [
             0.7,
             "#b8e186"
            ],
            [
             0.8,
             "#7fbc41"
            ],
            [
             0.9,
             "#4d9221"
            ],
            [
             1,
             "#276419"
            ]
           ],
           "sequential": [
            [
             0,
             "#0d0887"
            ],
            [
             0.1111111111111111,
             "#46039f"
            ],
            [
             0.2222222222222222,
             "#7201a8"
            ],
            [
             0.3333333333333333,
             "#9c179e"
            ],
            [
             0.4444444444444444,
             "#bd3786"
            ],
            [
             0.5555555555555556,
             "#d8576b"
            ],
            [
             0.6666666666666666,
             "#ed7953"
            ],
            [
             0.7777777777777778,
             "#fb9f3a"
            ],
            [
             0.8888888888888888,
             "#fdca26"
            ],
            [
             1,
             "#f0f921"
            ]
           ],
           "sequentialminus": [
            [
             0,
             "#0d0887"
            ],
            [
             0.1111111111111111,
             "#46039f"
            ],
            [
             0.2222222222222222,
             "#7201a8"
            ],
            [
             0.3333333333333333,
             "#9c179e"
            ],
            [
             0.4444444444444444,
             "#bd3786"
            ],
            [
             0.5555555555555556,
             "#d8576b"
            ],
            [
             0.6666666666666666,
             "#ed7953"
            ],
            [
             0.7777777777777778,
             "#fb9f3a"
            ],
            [
             0.8888888888888888,
             "#fdca26"
            ],
            [
             1,
             "#f0f921"
            ]
           ]
          },
          "colorway": [
           "#636efa",
           "#EF553B",
           "#00cc96",
           "#ab63fa",
           "#FFA15A",
           "#19d3f3",
           "#FF6692",
           "#B6E880",
           "#FF97FF",
           "#FECB52"
          ],
          "font": {
           "color": "#2a3f5f"
          },
          "geo": {
           "bgcolor": "white",
           "lakecolor": "white",
           "landcolor": "#E5ECF6",
           "showlakes": true,
           "showland": true,
           "subunitcolor": "white"
          },
          "hoverlabel": {
           "align": "left"
          },
          "hovermode": "closest",
          "mapbox": {
           "style": "light"
          },
          "paper_bgcolor": "white",
          "plot_bgcolor": "#E5ECF6",
          "polar": {
           "angularaxis": {
            "gridcolor": "white",
            "linecolor": "white",
            "ticks": ""
           },
           "bgcolor": "#E5ECF6",
           "radialaxis": {
            "gridcolor": "white",
            "linecolor": "white",
            "ticks": ""
           }
          },
          "scene": {
           "xaxis": {
            "backgroundcolor": "#E5ECF6",
            "gridcolor": "white",
            "gridwidth": 2,
            "linecolor": "white",
            "showbackground": true,
            "ticks": "",
            "zerolinecolor": "white"
           },
           "yaxis": {
            "backgroundcolor": "#E5ECF6",
            "gridcolor": "white",
            "gridwidth": 2,
            "linecolor": "white",
            "showbackground": true,
            "ticks": "",
            "zerolinecolor": "white"
           },
           "zaxis": {
            "backgroundcolor": "#E5ECF6",
            "gridcolor": "white",
            "gridwidth": 2,
            "linecolor": "white",
            "showbackground": true,
            "ticks": "",
            "zerolinecolor": "white"
           }
          },
          "shapedefaults": {
           "line": {
            "color": "#2a3f5f"
           }
          },
          "ternary": {
           "aaxis": {
            "gridcolor": "white",
            "linecolor": "white",
            "ticks": ""
           },
           "baxis": {
            "gridcolor": "white",
            "linecolor": "white",
            "ticks": ""
           },
           "bgcolor": "#E5ECF6",
           "caxis": {
            "gridcolor": "white",
            "linecolor": "white",
            "ticks": ""
           }
          },
          "title": {
           "x": 0.05
          },
          "xaxis": {
           "automargin": true,
           "gridcolor": "white",
           "linecolor": "white",
           "ticks": "",
           "title": {
            "standoff": 15
           },
           "zerolinecolor": "white",
           "zerolinewidth": 2
          },
          "yaxis": {
           "automargin": true,
           "gridcolor": "white",
           "linecolor": "white",
           "ticks": "",
           "title": {
            "standoff": 15
           },
           "zerolinecolor": "white",
           "zerolinewidth": 2
          }
         }
        },
        "updatemenus": [
         {
          "active": 1,
          "buttons": [
           {
            "args": [
             {
              "scene.annotations": [
               {
                "showarrow": false,
                "text": "C",
                "x": 1.25356177,
                "y": 0.815451,
                "yshift": 15,
                "z": -0.35406713
               },
               {
                "showarrow": false,
                "text": "H",
                "x": 2.75728334,
                "y": -5.26554002,
                "yshift": 15,
                "z": 4.84933922
               },
               {
                "showarrow": false,
                "text": "H",
                "x": 1.39839374,
                "y": 0.73304981,
                "yshift": 15,
                "z": 2.73989283
               },
               {
                "showarrow": false,
                "text": "C",
                "x": 1.33012775,
                "y": 0,
                "yshift": 15,
                "z": 1.92955806
               },
               {
                "showarrow": false,
                "text": "H",
                "x": -0.14250558,
                "y": -2.43724316,
                "yshift": 15,
                "z": 2.11651158
               },
               {
                "showarrow": false,
                "text": "C",
                "x": -0.01447485,
                "y": -1.40699127,
                "yshift": 15,
                "z": -0.59102014
               },
               {
                "showarrow": false,
                "text": "H",
                "x": 0.54662005,
                "y": 2.40642541,
                "yshift": 15,
                "z": 0.51320264
               },
               {
                "showarrow": false,
                "text": "C",
                "x": 2.78609087,
                "y": -1.62033445,
                "yshift": 15,
                "z": 3.2187936
               },
               {
                "showarrow": false,
                "text": "H",
                "x": 0.91107341,
                "y": -1.94244109,
                "yshift": 15,
                "z": -0.33156433
               },
               {
                "showarrow": false,
                "text": "C",
                "x": 2.24550019,
                "y": 0.36241441,
                "yshift": 15,
                "z": 0.73611477
               },
               {
                "showarrow": false,
                "text": "N",
                "x": 1.37257164,
                "y": -3.43031156,
                "yshift": 15,
                "z": 3.25275313
               },
               {
                "showarrow": false,
                "text": "C",
                "x": 0.82851285,
                "y": -2.43273511,
                "yshift": 15,
                "z": 2.5919286
               },
               {
                "showarrow": false,
                "text": "O",
                "x": -1.16025066,
                "y": -2.08096006,
                "yshift": 15,
                "z": -0.09110605
               },
               {
                "showarrow": false,
                "text": "O",
                "x": 0,
                "y": 0,
                "yshift": 15,
                "z": 1.44393247
               },
               {
                "showarrow": false,
                "text": "C",
                "x": 3.65794371,
                "y": -3.48687618,
                "yshift": 15,
                "z": 4.40866455
               },
               {
                "showarrow": false,
                "text": "H",
                "x": 2.81422085,
                "y": -0.51457743,
                "yshift": 15,
                "z": 0.41707672
               },
               {
                "showarrow": false,
                "text": "H",
                "x": 4.33374742,
                "y": -5.03136721,
                "yshift": 15,
                "z": 5.54078291
               },
               {
                "showarrow": false,
                "text": "C",
                "x": 2.60051727,
                "y": -2.93667899,
                "yshift": 15,
                "z": 3.65502618
               },
               {
                "showarrow": false,
                "text": "H",
                "x": 5.67323731,
                "y": -0.91267977,
                "yshift": 15,
                "z": 4.40570526
               },
               {
                "showarrow": false,
                "text": "C",
                "x": 4.7740641,
                "y": -1.47899103,
                "yshift": 15,
                "z": 4.17201405
               },
               {
                "showarrow": false,
                "text": "N",
                "x": 3.63043043,
                "y": -4.76332507,
                "yshift": 15,
                "z": 4.870523
               },
               {
                "showarrow": false,
                "text": "N",
                "x": 1.63833328,
                "y": -1.31044491,
                "yshift": 15,
                "z": 2.52017432
               },
               {
                "showarrow": false,
                "text": "H",
                "x": 1.6247017,
                "y": 0.60769219,
                "yshift": 15,
                "z": -1.36150068
               },
               {
                "showarrow": false,
                "text": "N",
                "x": 3.85298077,
                "y": -0.83911359,
                "yshift": 15,
                "z": 3.44374919
               },
               {
                "showarrow": false,
                "text": "H",
                "x": -1.15055541,
                "y": -2.98463479,
                "yshift": 15,
                "z": -0.43173085
               },
               {
                "showarrow": false,
                "text": "N",
                "x": 4.74182048,
                "y": -2.73008767,
                "yshift": 15,
                "z": 4.65987201
               },
               {
                "showarrow": false,
                "text": "C",
                "x": 0,
                "y": 0,
                "yshift": 15,
                "z": 0
               },
               {
                "showarrow": false,
                "text": "H",
                "x": -0.91384863,
                "y": 0.518474,
                "yshift": 15,
                "z": -0.30342485
               },
               {
                "showarrow": false,
                "text": "H",
                "x": 2.95675452,
                "y": 1.15172937,
                "yshift": 15,
                "z": 0.98222269
               },
               {
                "showarrow": false,
                "text": "H",
                "x": -0.04768294,
                "y": -1.31181879,
                "yshift": 15,
                "z": -1.68807937
               },
               {
                "showarrow": false,
                "text": "O",
                "x": 0.99493119,
                "y": 2.21111393,
                "yshift": 15,
                "z": -0.3221261
               }
              ]
             }
            ],
            "label": "Elements",
            "method": "relayout"
           },
           {
            "args": [
             {
              "scene.annotations": [
               {
                "showarrow": false,
                "text": "C3'",
                "x": 1.25356177,
                "y": 0.815451,
                "yshift": 15,
                "z": -0.35406713
               },
               {
                "showarrow": false,
                "text": "H",
                "x": 2.75728334,
                "y": -5.26554002,
                "yshift": 15,
                "z": 4.84933922
               },
               {
                "showarrow": false,
                "text": "H",
                "x": 1.39839374,
                "y": 0.73304981,
                "yshift": 15,
                "z": 2.73989283
               },
               {
                "showarrow": false,
                "text": "C1'",
                "x": 1.33012775,
                "y": 0,
                "yshift": 15,
                "z": 1.92955806
               },
               {
                "showarrow": false,
                "text": "H",
                "x": -0.14250558,
                "y": -2.43724316,
                "yshift": 15,
                "z": 2.11651158
               },
               {
                "showarrow": false,
                "text": "C5'",
                "x": -0.01447485,
                "y": -1.40699127,
                "yshift": 15,
                "z": -0.59102014
               },
               {
                "showarrow": false,
                "text": "H",
                "x": 0.54662005,
                "y": 2.40642541,
                "yshift": 15,
                "z": 0.51320264
               },
               {
                "showarrow": false,
                "text": "C4",
                "x": 2.78609087,
                "y": -1.62033445,
                "yshift": 15,
                "z": 3.2187936
               },
               {
                "showarrow": false,
                "text": "H",
                "x": 0.91107341,
                "y": -1.94244109,
                "yshift": 15,
                "z": -0.33156433
               },
               {
                "showarrow": false,
                "text": "C2'",
                "x": 2.24550019,
                "y": 0.36241441,
                "yshift": 15,
                "z": 0.73611477
               },
               {
                "showarrow": false,
                "text": "N7",
                "x": 1.37257164,
                "y": -3.43031156,
                "yshift": 15,
                "z": 3.25275313
               },
               {
                "showarrow": false,
                "text": "C8",
                "x": 0.82851285,
                "y": -2.43273511,
                "yshift": 15,
                "z": 2.5919286
               },
               {
                "showarrow": false,
                "text": "O5'",
                "x": -1.16025066,
                "y": -2.08096006,
                "yshift": 15,
                "z": -0.09110605
               },
               {
                "showarrow": false,
                "text": "O4'",
                "x": 0,
                "y": 0,
                "yshift": 15,
                "z": 1.44393247
               },
               {
                "showarrow": false,
                "text": "C6",
                "x": 3.65794371,
                "y": -3.48687618,
                "yshift": 15,
                "z": 4.40866455
               },
               {
                "showarrow": false,
                "text": "H",
                "x": 2.81422085,
                "y": -0.51457743,
                "yshift": 15,
                "z": 0.41707672
               },
               {
                "showarrow": false,
                "text": "H",
                "x": 4.33374742,
                "y": -5.03136721,
                "yshift": 15,
                "z": 5.54078291
               },
               {
                "showarrow": false,
                "text": "C5",
                "x": 2.60051727,
                "y": -2.93667899,
                "yshift": 15,
                "z": 3.65502618
               },
               {
                "showarrow": false,
                "text": "H",
                "x": 5.67323731,
                "y": -0.91267977,
                "yshift": 15,
                "z": 4.40570526
               },
               {
                "showarrow": false,
                "text": "C2",
                "x": 4.7740641,
                "y": -1.47899103,
                "yshift": 15,
                "z": 4.17201405
               },
               {
                "showarrow": false,
                "text": "N6",
                "x": 3.63043043,
                "y": -4.76332507,
                "yshift": 15,
                "z": 4.870523
               },
               {
                "showarrow": false,
                "text": "N9",
                "x": 1.63833328,
                "y": -1.31044491,
                "yshift": 15,
                "z": 2.52017432
               },
               {
                "showarrow": false,
                "text": "H",
                "x": 1.6247017,
                "y": 0.60769219,
                "yshift": 15,
                "z": -1.36150068
               },
               {
                "showarrow": false,
                "text": "N3",
                "x": 3.85298077,
                "y": -0.83911359,
                "yshift": 15,
                "z": 3.44374919
               },
               {
                "showarrow": false,
                "text": "H",
                "x": -1.15055541,
                "y": -2.98463479,
                "yshift": 15,
                "z": -0.43173085
               },
               {
                "showarrow": false,
                "text": "N1",
                "x": 4.74182048,
                "y": -2.73008767,
                "yshift": 15,
                "z": 4.65987201
               },
               {
                "showarrow": false,
                "text": "C4'",
                "x": 0,
                "y": 0,
                "yshift": 15,
                "z": 0
               },
               {
                "showarrow": false,
                "text": "H",
                "x": -0.91384863,
                "y": 0.518474,
                "yshift": 15,
                "z": -0.30342485
               },
               {
                "showarrow": false,
                "text": "H",
                "x": 2.95675452,
                "y": 1.15172937,
                "yshift": 15,
                "z": 0.98222269
               },
               {
                "showarrow": false,
                "text": "H",
                "x": -0.04768294,
                "y": -1.31181879,
                "yshift": 15,
                "z": -1.68807937
               },
               {
                "showarrow": false,
                "text": "O3'",
                "x": 0.99493119,
                "y": 2.21111393,
                "yshift": 15,
                "z": -0.3221261
               }
              ]
             }
            ],
            "label": "Named Elements",
            "method": "relayout"
           },
           {
            "args": [
             {
              "scene.annotations": [
               {
                "showarrow": false,
                "text": "C",
                "x": 1.25356177,
                "y": 0.815451,
                "yshift": 15,
                "z": -0.35406713
               },
               {
                "showarrow": false,
                "text": "H",
                "x": 2.75728334,
                "y": -5.26554002,
                "yshift": 15,
                "z": 4.84933922
               },
               {
                "showarrow": false,
                "text": "H",
                "x": 1.39839374,
                "y": 0.73304981,
                "yshift": 15,
                "z": 2.73989283
               },
               {
                "showarrow": false,
                "text": "C",
                "x": 1.33012775,
                "y": 0,
                "yshift": 15,
                "z": 1.92955806
               },
               {
                "showarrow": false,
                "text": "H",
                "x": -0.14250558,
                "y": -2.43724316,
                "yshift": 15,
                "z": 2.11651158
               },
               {
                "showarrow": false,
                "text": "C",
                "x": -0.01447485,
                "y": -1.40699127,
                "yshift": 15,
                "z": -0.59102014
               },
               {
                "showarrow": false,
                "text": "H",
                "x": 0.54662005,
                "y": 2.40642541,
                "yshift": 15,
                "z": 0.51320264
               },
               {
                "showarrow": false,
                "text": "C",
                "x": 2.78609087,
                "y": -1.62033445,
                "yshift": 15,
                "z": 3.2187936
               },
               {
                "showarrow": false,
                "text": "H",
                "x": 0.91107341,
                "y": -1.94244109,
                "yshift": 15,
                "z": -0.33156433
               },
               {
                "showarrow": false,
                "text": "C",
                "x": 2.24550019,
                "y": 0.36241441,
                "yshift": 15,
                "z": 0.73611477
               },
               {
                "showarrow": false,
                "text": "N",
                "x": 1.37257164,
                "y": -3.43031156,
                "yshift": 15,
                "z": 3.25275313
               },
               {
                "showarrow": false,
                "text": "C",
                "x": 0.82851285,
                "y": -2.43273511,
                "yshift": 15,
                "z": 2.5919286
               },
               {
                "showarrow": false,
                "text": "O",
                "x": -1.16025066,
                "y": -2.08096006,
                "yshift": 15,
                "z": -0.09110605
               },
               {
                "showarrow": false,
                "text": "O",
                "x": 0,
                "y": 0,
                "yshift": 15,
                "z": 1.44393247
               },
               {
                "showarrow": false,
                "text": "C",
                "x": 3.65794371,
                "y": -3.48687618,
                "yshift": 15,
                "z": 4.40866455
               },
               {
                "showarrow": false,
                "text": "H",
                "x": 2.81422085,
                "y": -0.51457743,
                "yshift": 15,
                "z": 0.41707672
               },
               {
                "showarrow": false,
                "text": "H",
                "x": 4.33374742,
                "y": -5.03136721,
                "yshift": 15,
                "z": 5.54078291
               },
               {
                "showarrow": false,
                "text": "C",
                "x": 2.60051727,
                "y": -2.93667899,
                "yshift": 15,
                "z": 3.65502618
               },
               {
                "showarrow": false,
                "text": "H",
                "x": 5.67323731,
                "y": -0.91267977,
                "yshift": 15,
                "z": 4.40570526
               },
               {
                "showarrow": false,
                "text": "C",
                "x": 4.7740641,
                "y": -1.47899103,
                "yshift": 15,
                "z": 4.17201405
               },
               {
                "showarrow": false,
                "text": "N",
                "x": 3.63043043,
                "y": -4.76332507,
                "yshift": 15,
                "z": 4.870523
               },
               {
                "showarrow": false,
                "text": "N",
                "x": 1.63833328,
                "y": -1.31044491,
                "yshift": 15,
                "z": 2.52017432
               },
               {
                "showarrow": false,
                "text": "H",
                "x": 1.6247017,
                "y": 0.60769219,
                "yshift": 15,
                "z": -1.36150068
               },
               {
                "showarrow": false,
                "text": "N",
                "x": 3.85298077,
                "y": -0.83911359,
                "yshift": 15,
                "z": 3.44374919
               },
               {
                "showarrow": false,
                "text": "H",
                "x": -1.15055541,
                "y": -2.98463479,
                "yshift": 15,
                "z": -0.43173085
               },
               {
                "showarrow": false,
                "text": "N",
                "x": 4.74182048,
                "y": -2.73008767,
                "yshift": 15,
                "z": 4.65987201
               },
               {
                "showarrow": false,
                "text": "C",
                "x": 0,
                "y": 0,
                "yshift": 15,
                "z": 0
               },
               {
                "showarrow": false,
                "text": "H",
                "x": -0.91384863,
                "y": 0.518474,
                "yshift": 15,
                "z": -0.30342485
               },
               {
                "showarrow": false,
                "text": "H",
                "x": 2.95675452,
                "y": 1.15172937,
                "yshift": 15,
                "z": 0.98222269
               },
               {
                "showarrow": false,
                "text": "H",
                "x": -0.04768294,
                "y": -1.31181879,
                "yshift": 15,
                "z": -1.68807937
               },
               {
                "showarrow": false,
                "text": "O",
                "x": 0.99493119,
                "y": 2.21111393,
                "yshift": 15,
                "z": -0.3221261
               },
               {
                "font": {
                 "color": "steelblue"
                },
                "showarrow": false,
                "text": 1.6,
                "x": 1.7495309799999998,
                "y": 0.5889327050000001,
                "yshift": 15,
                "z": 0.19102382
               },
               {
                "font": {
                 "color": "steelblue"
                },
                "showarrow": false,
                "text": 1.17,
                "x": 1.439131735,
                "y": 0.711571595,
                "yshift": 15,
                "z": -0.857783905
               },
               {
                "font": {
                 "color": "steelblue"
                },
                "showarrow": false,
                "text": 1.6,
                "x": 0.626780885,
                "y": 0.4077255,
                "yshift": 15,
                "z": -0.177033565
               },
               {
                "font": {
                 "color": "steelblue"
                },
                "showarrow": false,
                "text": 1.48,
                "x": 1.12424648,
                "y": 1.5132824649999999,
                "yshift": 15,
                "z": -0.338096615
               },
               {
                "font": {
                 "color": "steelblue"
                },
                "showarrow": false,
                "text": 1.13,
                "x": 3.1938568849999998,
                "y": -5.014432545,
                "yshift": 15,
                "z": 4.85993111
               },
               {
                "font": {
                 "color": "steelblue"
                },
                "showarrow": false,
                "text": 1.17,
                "x": 1.364260745,
                "y": 0.366524905,
                "yshift": 15,
                "z": 2.334725445
               },
               {
                "font": {
                 "color": "steelblue"
                },
                "showarrow": false,
                "text": 1.6,
                "x": 1.78781397,
                "y": 0.181207205,
                "yshift": 15,
                "z": 1.332836415
               },
               {
                "font": {
                 "color": "steelblue"
                },
                "showarrow": false,
                "text": 1.48,
                "x": 0.665063875,
                "y": 0,
                "yshift": 15,
                "z": 1.6867452649999999
               },
               {
                "font": {
                 "color": "steelblue"
                },
                "showarrow": false,
                "text": 1.56,
                "x": 1.484230515,
                "y": -0.655222455,
                "yshift": 15,
                "z": 2.22486619
               },
               {
                "font": {
                 "color": "steelblue"
                },
                "showarrow": false,
                "text": 1.17,
                "x": 0.343003635,
                "y": -2.434989135,
                "yshift": 15,
                "z": 2.35422009
               },
               {
                "font": {
                 "color": "steelblue"
                },
                "showarrow": false,
                "text": 1.17,
                "x": 0.44829927999999997,
                "y": -1.6747161799999999,
                "yshift": 15,
                "z": -0.46129223500000005
               },
               {
                "font": {
                 "color": "steelblue"
                },
                "showarrow": false,
                "text": 1.48,
                "x": -0.587362755,
                "y": -1.7439756649999998,
                "yshift": 15,
                "z": -0.341063095
               },
               {
                "font": {
                 "color": "steelblue"
                },
                "showarrow": false,
                "text": 1.6,
                "x": -0.007237425,
                "y": -0.703495635,
                "yshift": 15,
                "z": -0.29551007
               },
               {
                "font": {
                 "color": "steelblue"
                },
                "showarrow": false,
                "text": 1.17,
                "x": -0.031078895,
                "y": -1.35940503,
                "yshift": 15,
                "z": -1.139549755
               },
               {
                "font": {
                 "color": "steelblue"
                },
                "showarrow": false,
                "text": 1.05,
                "x": 0.77077562,
                "y": 2.30876967,
                "yshift": 15,
                "z": 0.09553827000000001
               },
               {
                "font": {
                 "color": "steelblue"
                },
                "showarrow": false,
                "text": 1.6,
                "x": 2.69330407,
                "y": -2.27850672,
                "yshift": 15,
                "z": 3.43690989
               },
               {
                "font": {
                 "color": "steelblue"
                },
                "showarrow": false,
                "text": 1.56,
                "x": 2.212212075,
                "y": -1.46538968,
                "yshift": 15,
                "z": 2.86948396
               },
               {
                "font": {
                 "color": "steelblue"
                },
                "showarrow": false,
                "text": 1.56,
                "x": 3.31953582,
                "y": -1.22972402,
                "yshift": 15,
                "z": 3.331271395
               },
               {
                "font": {
                 "color": "steelblue"
                },
                "showarrow": false,
                "text": 1.17,
                "x": 2.5298605199999997,
                "y": -0.07608150999999999,
                "yshift": 15,
                "z": 0.576595745
               },
               {
                "font": {
                 "color": "steelblue"
                },
                "showarrow": false,
                "text": 1.17,
                "x": 2.601127355,
                "y": 0.75707189,
                "yshift": 15,
                "z": 0.8591687299999999
               },
               {
                "font": {
                 "color": "steelblue"
                },
                "showarrow": false,
                "text": 1.56,
                "x": 1.100542245,
                "y": -2.9315233349999996,
                "yshift": 15,
                "z": 2.922340865
               },
               {
                "font": {
                 "color": "steelblue"
                },
                "showarrow": false,
                "text": 1.56,
                "x": 1.9865444550000002,
                "y": -3.183495275,
                "yshift": 15,
                "z": 3.4538896550000002
               },
               {
                "font": {
                 "color": "steelblue"
                },
                "showarrow": false,
                "text": 1.56,
                "x": 1.233423065,
                "y": -1.8715900099999998,
                "yshift": 15,
                "z": 2.55605146
               },
               {
                "font": {
                 "color": "steelblue"
                },
                "showarrow": false,
                "text": 1.05,
                "x": -1.155403035,
                "y": -2.532797425,
                "yshift": 15,
                "z": -0.26141844999999997
               },
               {
                "font": {
                 "color": "steelblue"
                },
                "showarrow": false,
                "text": 1.48,
                "x": 0,
                "y": 0,
                "yshift": 15,
                "z": 0.721966235
               },
               {
                "font": {
                 "color": "steelblue"
                },
                "showarrow": false,
                "text": 1.6,
                "x": 3.1292304900000003,
                "y": -3.211777585,
                "yshift": 15,
                "z": 4.031845365000001
               },
               {
                "font": {
                 "color": "steelblue"
                },
                "showarrow": false,
                "text": 1.56,
                "x": 3.64418707,
                "y": -4.125100625,
                "yshift": 15,
                "z": 4.639593775
               },
               {
                "font": {
                 "color": "steelblue"
                },
                "showarrow": false,
                "text": 1.56,
                "x": 4.199882095,
                "y": -3.108481925,
                "yshift": 15,
                "z": 4.53426828
               },
               {
                "font": {
                 "color": "steelblue"
                },
                "showarrow": false,
                "text": 1.13,
                "x": 3.9820889250000002,
                "y": -4.89734614,
                "yshift": 15,
                "z": 5.205652955
               },
               {
                "font": {
                 "color": "steelblue"
                },
                "showarrow": false,
                "text": 1.17,
                "x": 5.223650705000001,
                "y": -1.1958354,
                "yshift": 15,
                "z": 4.2888596549999995
               },
               {
                "font": {
                 "color": "steelblue"
                },
                "showarrow": false,
                "text": 1.56,
                "x": 4.313522435,
                "y": -1.1590523099999999,
                "yshift": 15,
                "z": 3.80788162
               },
               {
                "font": {
                 "color": "steelblue"
                },
                "showarrow": false,
                "text": 1.56,
                "x": 4.757942290000001,
                "y": -2.10453935,
                "yshift": 15,
                "z": 4.415943029999999
               },
               {
                "font": {
                 "color": "steelblue"
                },
                "showarrow": false,
                "text": 1.17,
                "x": -0.456924315,
                "y": 0.259237,
                "yshift": 15,
                "z": -0.151712425
               }
              ]
             }
            ],
            "label": "Elements & Bond Lengths",
            "method": "relayout"
           },
           {
            "args": [
             {
              "scene.annotations": [
               {
                "showarrow": false,
                "text": 0,
                "x": 1.25356177,
                "y": 0.815451,
                "yshift": 15,
                "z": -0.35406713
               },
               {
                "showarrow": false,
                "text": 1,
                "x": 2.75728334,
                "y": -5.26554002,
                "yshift": 15,
                "z": 4.84933922
               },
               {
                "showarrow": false,
                "text": 2,
                "x": 1.39839374,
                "y": 0.73304981,
                "yshift": 15,
                "z": 2.73989283
               },
               {
                "showarrow": false,
                "text": 3,
                "x": 1.33012775,
                "y": 0,
                "yshift": 15,
                "z": 1.92955806
               },
               {
                "showarrow": false,
                "text": 4,
                "x": -0.14250558,
                "y": -2.43724316,
                "yshift": 15,
                "z": 2.11651158
               },
               {
                "showarrow": false,
                "text": 5,
                "x": -0.01447485,
                "y": -1.40699127,
                "yshift": 15,
                "z": -0.59102014
               },
               {
                "showarrow": false,
                "text": 6,
                "x": 0.54662005,
                "y": 2.40642541,
                "yshift": 15,
                "z": 0.51320264
               },
               {
                "showarrow": false,
                "text": 7,
                "x": 2.78609087,
                "y": -1.62033445,
                "yshift": 15,
                "z": 3.2187936
               },
               {
                "showarrow": false,
                "text": 8,
                "x": 0.91107341,
                "y": -1.94244109,
                "yshift": 15,
                "z": -0.33156433
               },
               {
                "showarrow": false,
                "text": 9,
                "x": 2.24550019,
                "y": 0.36241441,
                "yshift": 15,
                "z": 0.73611477
               },
               {
                "showarrow": false,
                "text": 10,
                "x": 1.37257164,
                "y": -3.43031156,
                "yshift": 15,
                "z": 3.25275313
               },
               {
                "showarrow": false,
                "text": 11,
                "x": 0.82851285,
                "y": -2.43273511,
                "yshift": 15,
                "z": 2.5919286
               },
               {
                "showarrow": false,
                "text": 12,
                "x": -1.16025066,
                "y": -2.08096006,
                "yshift": 15,
                "z": -0.09110605
               },
               {
                "showarrow": false,
                "text": 13,
                "x": 0,
                "y": 0,
                "yshift": 15,
                "z": 1.44393247
               },
               {
                "showarrow": false,
                "text": 14,
                "x": 3.65794371,
                "y": -3.48687618,
                "yshift": 15,
                "z": 4.40866455
               },
               {
                "showarrow": false,
                "text": 15,
                "x": 2.81422085,
                "y": -0.51457743,
                "yshift": 15,
                "z": 0.41707672
               },
               {
                "showarrow": false,
                "text": 16,
                "x": 4.33374742,
                "y": -5.03136721,
                "yshift": 15,
                "z": 5.54078291
               },
               {
                "showarrow": false,
                "text": 17,
                "x": 2.60051727,
                "y": -2.93667899,
                "yshift": 15,
                "z": 3.65502618
               },
               {
                "showarrow": false,
                "text": 18,
                "x": 5.67323731,
                "y": -0.91267977,
                "yshift": 15,
                "z": 4.40570526
               },
               {
                "showarrow": false,
                "text": 19,
                "x": 4.7740641,
                "y": -1.47899103,
                "yshift": 15,
                "z": 4.17201405
               },
               {
                "showarrow": false,
                "text": 20,
                "x": 3.63043043,
                "y": -4.76332507,
                "yshift": 15,
                "z": 4.870523
               },
               {
                "showarrow": false,
                "text": 21,
                "x": 1.63833328,
                "y": -1.31044491,
                "yshift": 15,
                "z": 2.52017432
               },
               {
                "showarrow": false,
                "text": 22,
                "x": 1.6247017,
                "y": 0.60769219,
                "yshift": 15,
                "z": -1.36150068
               },
               {
                "showarrow": false,
                "text": 23,
                "x": 3.85298077,
                "y": -0.83911359,
                "yshift": 15,
                "z": 3.44374919
               },
               {
                "showarrow": false,
                "text": 24,
                "x": -1.15055541,
                "y": -2.98463479,
                "yshift": 15,
                "z": -0.43173085
               },
               {
                "showarrow": false,
                "text": 25,
                "x": 4.74182048,
                "y": -2.73008767,
                "yshift": 15,
                "z": 4.65987201
               },
               {
                "showarrow": false,
                "text": 26,
                "x": 0,
                "y": 0,
                "yshift": 15,
                "z": 0
               },
               {
                "showarrow": false,
                "text": 27,
                "x": -0.91384863,
                "y": 0.518474,
                "yshift": 15,
                "z": -0.30342485
               },
               {
                "showarrow": false,
                "text": 28,
                "x": 2.95675452,
                "y": 1.15172937,
                "yshift": 15,
                "z": 0.98222269
               },
               {
                "showarrow": false,
                "text": 29,
                "x": -0.04768294,
                "y": -1.31181879,
                "yshift": 15,
                "z": -1.68807937
               },
               {
                "showarrow": false,
                "text": 30,
                "x": 0.99493119,
                "y": 2.21111393,
                "yshift": 15,
                "z": -0.3221261
               }
              ]
             }
            ],
            "label": "Indices",
            "method": "relayout"
           },
           {
            "args": [
             {
              "scene.annotations": [
               {
                "showarrow": false,
                "text": 0,
                "x": 1.25356177,
                "y": 0.815451,
                "yshift": 15,
                "z": -0.35406713
               },
               {
                "showarrow": false,
                "text": 1,
                "x": 2.75728334,
                "y": -5.26554002,
                "yshift": 15,
                "z": 4.84933922
               },
               {
                "showarrow": false,
                "text": 2,
                "x": 1.39839374,
                "y": 0.73304981,
                "yshift": 15,
                "z": 2.73989283
               },
               {
                "showarrow": false,
                "text": 3,
                "x": 1.33012775,
                "y": 0,
                "yshift": 15,
                "z": 1.92955806
               },
               {
                "showarrow": false,
                "text": 4,
                "x": -0.14250558,
                "y": -2.43724316,
                "yshift": 15,
                "z": 2.11651158
               },
               {
                "showarrow": false,
                "text": 5,
                "x": -0.01447485,
                "y": -1.40699127,
                "yshift": 15,
                "z": -0.59102014
               },
               {
                "showarrow": false,
                "text": 6,
                "x": 0.54662005,
                "y": 2.40642541,
                "yshift": 15,
                "z": 0.51320264
               },
               {
                "showarrow": false,
                "text": 7,
                "x": 2.78609087,
                "y": -1.62033445,
                "yshift": 15,
                "z": 3.2187936
               },
               {
                "showarrow": false,
                "text": 8,
                "x": 0.91107341,
                "y": -1.94244109,
                "yshift": 15,
                "z": -0.33156433
               },
               {
                "showarrow": false,
                "text": 9,
                "x": 2.24550019,
                "y": 0.36241441,
                "yshift": 15,
                "z": 0.73611477
               },
               {
                "showarrow": false,
                "text": 10,
                "x": 1.37257164,
                "y": -3.43031156,
                "yshift": 15,
                "z": 3.25275313
               },
               {
                "showarrow": false,
                "text": 11,
                "x": 0.82851285,
                "y": -2.43273511,
                "yshift": 15,
                "z": 2.5919286
               },
               {
                "showarrow": false,
                "text": 12,
                "x": -1.16025066,
                "y": -2.08096006,
                "yshift": 15,
                "z": -0.09110605
               },
               {
                "showarrow": false,
                "text": 13,
                "x": 0,
                "y": 0,
                "yshift": 15,
                "z": 1.44393247
               },
               {
                "showarrow": false,
                "text": 14,
                "x": 3.65794371,
                "y": -3.48687618,
                "yshift": 15,
                "z": 4.40866455
               },
               {
                "showarrow": false,
                "text": 15,
                "x": 2.81422085,
                "y": -0.51457743,
                "yshift": 15,
                "z": 0.41707672
               },
               {
                "showarrow": false,
                "text": 16,
                "x": 4.33374742,
                "y": -5.03136721,
                "yshift": 15,
                "z": 5.54078291
               },
               {
                "showarrow": false,
                "text": 17,
                "x": 2.60051727,
                "y": -2.93667899,
                "yshift": 15,
                "z": 3.65502618
               },
               {
                "showarrow": false,
                "text": 18,
                "x": 5.67323731,
                "y": -0.91267977,
                "yshift": 15,
                "z": 4.40570526
               },
               {
                "showarrow": false,
                "text": 19,
                "x": 4.7740641,
                "y": -1.47899103,
                "yshift": 15,
                "z": 4.17201405
               },
               {
                "showarrow": false,
                "text": 20,
                "x": 3.63043043,
                "y": -4.76332507,
                "yshift": 15,
                "z": 4.870523
               },
               {
                "showarrow": false,
                "text": 21,
                "x": 1.63833328,
                "y": -1.31044491,
                "yshift": 15,
                "z": 2.52017432
               },
               {
                "showarrow": false,
                "text": 22,
                "x": 1.6247017,
                "y": 0.60769219,
                "yshift": 15,
                "z": -1.36150068
               },
               {
                "showarrow": false,
                "text": 23,
                "x": 3.85298077,
                "y": -0.83911359,
                "yshift": 15,
                "z": 3.44374919
               },
               {
                "showarrow": false,
                "text": 24,
                "x": -1.15055541,
                "y": -2.98463479,
                "yshift": 15,
                "z": -0.43173085
               },
               {
                "showarrow": false,
                "text": 25,
                "x": 4.74182048,
                "y": -2.73008767,
                "yshift": 15,
                "z": 4.65987201
               },
               {
                "showarrow": false,
                "text": 26,
                "x": 0,
                "y": 0,
                "yshift": 15,
                "z": 0
               },
               {
                "showarrow": false,
                "text": 27,
                "x": -0.91384863,
                "y": 0.518474,
                "yshift": 15,
                "z": -0.30342485
               },
               {
                "showarrow": false,
                "text": 28,
                "x": 2.95675452,
                "y": 1.15172937,
                "yshift": 15,
                "z": 0.98222269
               },
               {
                "showarrow": false,
                "text": 29,
                "x": -0.04768294,
                "y": -1.31181879,
                "yshift": 15,
                "z": -1.68807937
               },
               {
                "showarrow": false,
                "text": 30,
                "x": 0.99493119,
                "y": 2.21111393,
                "yshift": 15,
                "z": -0.3221261
               },
               {
                "font": {
                 "color": "steelblue"
                },
                "showarrow": false,
                "text": 1.6,
                "x": 1.7495309799999998,
                "y": 0.5889327050000001,
                "yshift": 15,
                "z": 0.19102382
               },
               {
                "font": {
                 "color": "steelblue"
                },
                "showarrow": false,
                "text": 1.17,
                "x": 1.439131735,
                "y": 0.711571595,
                "yshift": 15,
                "z": -0.857783905
               },
               {
                "font": {
                 "color": "steelblue"
                },
                "showarrow": false,
                "text": 1.6,
                "x": 0.626780885,
                "y": 0.4077255,
                "yshift": 15,
                "z": -0.177033565
               },
               {
                "font": {
                 "color": "steelblue"
                },
                "showarrow": false,
                "text": 1.48,
                "x": 1.12424648,
                "y": 1.5132824649999999,
                "yshift": 15,
                "z": -0.338096615
               },
               {
                "font": {
                 "color": "steelblue"
                },
                "showarrow": false,
                "text": 1.13,
                "x": 3.1938568849999998,
                "y": -5.014432545,
                "yshift": 15,
                "z": 4.85993111
               },
               {
                "font": {
                 "color": "steelblue"
                },
                "showarrow": false,
                "text": 1.17,
                "x": 1.364260745,
                "y": 0.366524905,
                "yshift": 15,
                "z": 2.334725445
               },
               {
                "font": {
                 "color": "steelblue"
                },
                "showarrow": false,
                "text": 1.6,
                "x": 1.78781397,
                "y": 0.181207205,
                "yshift": 15,
                "z": 1.332836415
               },
               {
                "font": {
                 "color": "steelblue"
                },
                "showarrow": false,
                "text": 1.48,
                "x": 0.665063875,
                "y": 0,
                "yshift": 15,
                "z": 1.6867452649999999
               },
               {
                "font": {
                 "color": "steelblue"
                },
                "showarrow": false,
                "text": 1.56,
                "x": 1.484230515,
                "y": -0.655222455,
                "yshift": 15,
                "z": 2.22486619
               },
               {
                "font": {
                 "color": "steelblue"
                },
                "showarrow": false,
                "text": 1.17,
                "x": 0.343003635,
                "y": -2.434989135,
                "yshift": 15,
                "z": 2.35422009
               },
               {
                "font": {
                 "color": "steelblue"
                },
                "showarrow": false,
                "text": 1.17,
                "x": 0.44829927999999997,
                "y": -1.6747161799999999,
                "yshift": 15,
                "z": -0.46129223500000005
               },
               {
                "font": {
                 "color": "steelblue"
                },
                "showarrow": false,
                "text": 1.48,
                "x": -0.587362755,
                "y": -1.7439756649999998,
                "yshift": 15,
                "z": -0.341063095
               },
               {
                "font": {
                 "color": "steelblue"
                },
                "showarrow": false,
                "text": 1.6,
                "x": -0.007237425,
                "y": -0.703495635,
                "yshift": 15,
                "z": -0.29551007
               },
               {
                "font": {
                 "color": "steelblue"
                },
                "showarrow": false,
                "text": 1.17,
                "x": -0.031078895,
                "y": -1.35940503,
                "yshift": 15,
                "z": -1.139549755
               },
               {
                "font": {
                 "color": "steelblue"
                },
                "showarrow": false,
                "text": 1.05,
                "x": 0.77077562,
                "y": 2.30876967,
                "yshift": 15,
                "z": 0.09553827000000001
               },
               {
                "font": {
                 "color": "steelblue"
                },
                "showarrow": false,
                "text": 1.6,
                "x": 2.69330407,
                "y": -2.27850672,
                "yshift": 15,
                "z": 3.43690989
               },
               {
                "font": {
                 "color": "steelblue"
                },
                "showarrow": false,
                "text": 1.56,
                "x": 2.212212075,
                "y": -1.46538968,
                "yshift": 15,
                "z": 2.86948396
               },
               {
                "font": {
                 "color": "steelblue"
                },
                "showarrow": false,
                "text": 1.56,
                "x": 3.31953582,
                "y": -1.22972402,
                "yshift": 15,
                "z": 3.331271395
               },
               {
                "font": {
                 "color": "steelblue"
                },
                "showarrow": false,
                "text": 1.17,
                "x": 2.5298605199999997,
                "y": -0.07608150999999999,
                "yshift": 15,
                "z": 0.576595745
               },
               {
                "font": {
                 "color": "steelblue"
                },
                "showarrow": false,
                "text": 1.17,
                "x": 2.601127355,
                "y": 0.75707189,
                "yshift": 15,
                "z": 0.8591687299999999
               },
               {
                "font": {
                 "color": "steelblue"
                },
                "showarrow": false,
                "text": 1.56,
                "x": 1.100542245,
                "y": -2.9315233349999996,
                "yshift": 15,
                "z": 2.922340865
               },
               {
                "font": {
                 "color": "steelblue"
                },
                "showarrow": false,
                "text": 1.56,
                "x": 1.9865444550000002,
                "y": -3.183495275,
                "yshift": 15,
                "z": 3.4538896550000002
               },
               {
                "font": {
                 "color": "steelblue"
                },
                "showarrow": false,
                "text": 1.56,
                "x": 1.233423065,
                "y": -1.8715900099999998,
                "yshift": 15,
                "z": 2.55605146
               },
               {
                "font": {
                 "color": "steelblue"
                },
                "showarrow": false,
                "text": 1.05,
                "x": -1.155403035,
                "y": -2.532797425,
                "yshift": 15,
                "z": -0.26141844999999997
               },
               {
                "font": {
                 "color": "steelblue"
                },
                "showarrow": false,
                "text": 1.48,
                "x": 0,
                "y": 0,
                "yshift": 15,
                "z": 0.721966235
               },
               {
                "font": {
                 "color": "steelblue"
                },
                "showarrow": false,
                "text": 1.6,
                "x": 3.1292304900000003,
                "y": -3.211777585,
                "yshift": 15,
                "z": 4.031845365000001
               },
               {
                "font": {
                 "color": "steelblue"
                },
                "showarrow": false,
                "text": 1.56,
                "x": 3.64418707,
                "y": -4.125100625,
                "yshift": 15,
                "z": 4.639593775
               },
               {
                "font": {
                 "color": "steelblue"
                },
                "showarrow": false,
                "text": 1.56,
                "x": 4.199882095,
                "y": -3.108481925,
                "yshift": 15,
                "z": 4.53426828
               },
               {
                "font": {
                 "color": "steelblue"
                },
                "showarrow": false,
                "text": 1.13,
                "x": 3.9820889250000002,
                "y": -4.89734614,
                "yshift": 15,
                "z": 5.205652955
               },
               {
                "font": {
                 "color": "steelblue"
                },
                "showarrow": false,
                "text": 1.17,
                "x": 5.223650705000001,
                "y": -1.1958354,
                "yshift": 15,
                "z": 4.2888596549999995
               },
               {
                "font": {
                 "color": "steelblue"
                },
                "showarrow": false,
                "text": 1.56,
                "x": 4.313522435,
                "y": -1.1590523099999999,
                "yshift": 15,
                "z": 3.80788162
               },
               {
                "font": {
                 "color": "steelblue"
                },
                "showarrow": false,
                "text": 1.56,
                "x": 4.757942290000001,
                "y": -2.10453935,
                "yshift": 15,
                "z": 4.415943029999999
               },
               {
                "font": {
                 "color": "steelblue"
                },
                "showarrow": false,
                "text": 1.17,
                "x": -0.456924315,
                "y": 0.259237,
                "yshift": 15,
                "z": -0.151712425
               }
              ]
             }
            ],
            "label": "Indices & Bond Lengths",
            "method": "relayout"
           },
           {
            "args": [
             {
              "scene.annotations": [
               {
                "font": {
                 "color": "steelblue"
                },
                "showarrow": false,
                "text": 1.6,
                "x": 1.7495309799999998,
                "y": 0.5889327050000001,
                "yshift": 15,
                "z": 0.19102382
               },
               {
                "font": {
                 "color": "steelblue"
                },
                "showarrow": false,
                "text": 1.17,
                "x": 1.439131735,
                "y": 0.711571595,
                "yshift": 15,
                "z": -0.857783905
               },
               {
                "font": {
                 "color": "steelblue"
                },
                "showarrow": false,
                "text": 1.6,
                "x": 0.626780885,
                "y": 0.4077255,
                "yshift": 15,
                "z": -0.177033565
               },
               {
                "font": {
                 "color": "steelblue"
                },
                "showarrow": false,
                "text": 1.48,
                "x": 1.12424648,
                "y": 1.5132824649999999,
                "yshift": 15,
                "z": -0.338096615
               },
               {
                "font": {
                 "color": "steelblue"
                },
                "showarrow": false,
                "text": 1.13,
                "x": 3.1938568849999998,
                "y": -5.014432545,
                "yshift": 15,
                "z": 4.85993111
               },
               {
                "font": {
                 "color": "steelblue"
                },
                "showarrow": false,
                "text": 1.17,
                "x": 1.364260745,
                "y": 0.366524905,
                "yshift": 15,
                "z": 2.334725445
               },
               {
                "font": {
                 "color": "steelblue"
                },
                "showarrow": false,
                "text": 1.6,
                "x": 1.78781397,
                "y": 0.181207205,
                "yshift": 15,
                "z": 1.332836415
               },
               {
                "font": {
                 "color": "steelblue"
                },
                "showarrow": false,
                "text": 1.48,
                "x": 0.665063875,
                "y": 0,
                "yshift": 15,
                "z": 1.6867452649999999
               },
               {
                "font": {
                 "color": "steelblue"
                },
                "showarrow": false,
                "text": 1.56,
                "x": 1.484230515,
                "y": -0.655222455,
                "yshift": 15,
                "z": 2.22486619
               },
               {
                "font": {
                 "color": "steelblue"
                },
                "showarrow": false,
                "text": 1.17,
                "x": 0.343003635,
                "y": -2.434989135,
                "yshift": 15,
                "z": 2.35422009
               },
               {
                "font": {
                 "color": "steelblue"
                },
                "showarrow": false,
                "text": 1.17,
                "x": 0.44829927999999997,
                "y": -1.6747161799999999,
                "yshift": 15,
                "z": -0.46129223500000005
               },
               {
                "font": {
                 "color": "steelblue"
                },
                "showarrow": false,
                "text": 1.48,
                "x": -0.587362755,
                "y": -1.7439756649999998,
                "yshift": 15,
                "z": -0.341063095
               },
               {
                "font": {
                 "color": "steelblue"
                },
                "showarrow": false,
                "text": 1.6,
                "x": -0.007237425,
                "y": -0.703495635,
                "yshift": 15,
                "z": -0.29551007
               },
               {
                "font": {
                 "color": "steelblue"
                },
                "showarrow": false,
                "text": 1.17,
                "x": -0.031078895,
                "y": -1.35940503,
                "yshift": 15,
                "z": -1.139549755
               },
               {
                "font": {
                 "color": "steelblue"
                },
                "showarrow": false,
                "text": 1.05,
                "x": 0.77077562,
                "y": 2.30876967,
                "yshift": 15,
                "z": 0.09553827000000001
               },
               {
                "font": {
                 "color": "steelblue"
                },
                "showarrow": false,
                "text": 1.6,
                "x": 2.69330407,
                "y": -2.27850672,
                "yshift": 15,
                "z": 3.43690989
               },
               {
                "font": {
                 "color": "steelblue"
                },
                "showarrow": false,
                "text": 1.56,
                "x": 2.212212075,
                "y": -1.46538968,
                "yshift": 15,
                "z": 2.86948396
               },
               {
                "font": {
                 "color": "steelblue"
                },
                "showarrow": false,
                "text": 1.56,
                "x": 3.31953582,
                "y": -1.22972402,
                "yshift": 15,
                "z": 3.331271395
               },
               {
                "font": {
                 "color": "steelblue"
                },
                "showarrow": false,
                "text": 1.17,
                "x": 2.5298605199999997,
                "y": -0.07608150999999999,
                "yshift": 15,
                "z": 0.576595745
               },
               {
                "font": {
                 "color": "steelblue"
                },
                "showarrow": false,
                "text": 1.17,
                "x": 2.601127355,
                "y": 0.75707189,
                "yshift": 15,
                "z": 0.8591687299999999
               },
               {
                "font": {
                 "color": "steelblue"
                },
                "showarrow": false,
                "text": 1.56,
                "x": 1.100542245,
                "y": -2.9315233349999996,
                "yshift": 15,
                "z": 2.922340865
               },
               {
                "font": {
                 "color": "steelblue"
                },
                "showarrow": false,
                "text": 1.56,
                "x": 1.9865444550000002,
                "y": -3.183495275,
                "yshift": 15,
                "z": 3.4538896550000002
               },
               {
                "font": {
                 "color": "steelblue"
                },
                "showarrow": false,
                "text": 1.56,
                "x": 1.233423065,
                "y": -1.8715900099999998,
                "yshift": 15,
                "z": 2.55605146
               },
               {
                "font": {
                 "color": "steelblue"
                },
                "showarrow": false,
                "text": 1.05,
                "x": -1.155403035,
                "y": -2.532797425,
                "yshift": 15,
                "z": -0.26141844999999997
               },
               {
                "font": {
                 "color": "steelblue"
                },
                "showarrow": false,
                "text": 1.48,
                "x": 0,
                "y": 0,
                "yshift": 15,
                "z": 0.721966235
               },
               {
                "font": {
                 "color": "steelblue"
                },
                "showarrow": false,
                "text": 1.6,
                "x": 3.1292304900000003,
                "y": -3.211777585,
                "yshift": 15,
                "z": 4.031845365000001
               },
               {
                "font": {
                 "color": "steelblue"
                },
                "showarrow": false,
                "text": 1.56,
                "x": 3.64418707,
                "y": -4.125100625,
                "yshift": 15,
                "z": 4.639593775
               },
               {
                "font": {
                 "color": "steelblue"
                },
                "showarrow": false,
                "text": 1.56,
                "x": 4.199882095,
                "y": -3.108481925,
                "yshift": 15,
                "z": 4.53426828
               },
               {
                "font": {
                 "color": "steelblue"
                },
                "showarrow": false,
                "text": 1.13,
                "x": 3.9820889250000002,
                "y": -4.89734614,
                "yshift": 15,
                "z": 5.205652955
               },
               {
                "font": {
                 "color": "steelblue"
                },
                "showarrow": false,
                "text": 1.17,
                "x": 5.223650705000001,
                "y": -1.1958354,
                "yshift": 15,
                "z": 4.2888596549999995
               },
               {
                "font": {
                 "color": "steelblue"
                },
                "showarrow": false,
                "text": 1.56,
                "x": 4.313522435,
                "y": -1.1590523099999999,
                "yshift": 15,
                "z": 3.80788162
               },
               {
                "font": {
                 "color": "steelblue"
                },
                "showarrow": false,
                "text": 1.56,
                "x": 4.757942290000001,
                "y": -2.10453935,
                "yshift": 15,
                "z": 4.415943029999999
               },
               {
                "font": {
                 "color": "steelblue"
                },
                "showarrow": false,
                "text": 1.17,
                "x": -0.456924315,
                "y": 0.259237,
                "yshift": 15,
                "z": -0.151712425
               }
              ]
             }
            ],
            "label": "Bond Lengths",
            "method": "relayout"
           },
           {
            "args": [
             {
              "scene.annotations": []
             }
            ],
            "label": "Hide All",
            "method": "relayout"
           }
          ],
          "direction": "down",
          "xanchor": "left",
          "yanchor": "top"
         }
        ]
       }
      },
      "text/html": [
       "<div>                            <div id=\"daa4714f-5050-43f2-9683-1cc1441cf7b2\" class=\"plotly-graph-div\" style=\"height:525px; width:100%;\"></div>            <script type=\"text/javascript\">                require([\"plotly\"], function(Plotly) {                    window.PLOTLYENV=window.PLOTLYENV || {};                                    if (document.getElementById(\"daa4714f-5050-43f2-9683-1cc1441cf7b2\")) {                    Plotly.newPlot(                        \"daa4714f-5050-43f2-9683-1cc1441cf7b2\",                        [{\"marker\":{\"color\":[\"black\",\"white\",\"white\",\"black\",\"white\",\"black\",\"white\",\"black\",\"white\",\"black\",\"blue\",\"black\",\"red\",\"red\",\"black\",\"white\",\"white\",\"black\",\"white\",\"black\",\"blue\",\"blue\",\"white\",\"blue\",\"white\",\"blue\",\"black\",\"white\",\"white\",\"white\",\"red\"],\"line\":{\"color\":\"lightgray\",\"width\":2},\"opacity\":0.8,\"size\":7,\"symbol\":\"circle\"},\"mode\":\"markers\",\"text\":[\"C3'\",\"H\",\"H\",\"C1'\",\"H\",\"C5'\",\"H\",\"C4\",\"H\",\"C2'\",\"N7\",\"C8\",\"O5'\",\"O4'\",\"C6\",\"H\",\"H\",\"C5\",\"H\",\"C2\",\"N6\",\"N9\",\"H\",\"N3\",\"H\",\"N1\",\"C4'\",\"H\",\"H\",\"H\",\"O3'\"],\"x\":[1.25356177,2.75728334,1.39839374,1.33012775,-0.14250558,-0.01447485,0.54662005,2.78609087,0.91107341,2.24550019,1.37257164,0.82851285,-1.16025066,0.0,3.65794371,2.81422085,4.33374742,2.60051727,5.67323731,4.7740641,3.63043043,1.63833328,1.6247017,3.85298077,-1.15055541,4.74182048,0.0,-0.91384863,2.95675452,-0.04768294,0.99493119],\"y\":[0.815451,-5.26554002,0.73304981,0.0,-2.43724316,-1.40699127,2.40642541,-1.62033445,-1.94244109,0.36241441,-3.43031156,-2.43273511,-2.08096006,0.0,-3.48687618,-0.51457743,-5.03136721,-2.93667899,-0.91267977,-1.47899103,-4.76332507,-1.31044491,0.60769219,-0.83911359,-2.98463479,-2.73008767,0.0,0.518474,1.15172937,-1.31181879,2.21111393],\"z\":[-0.35406713,4.84933922,2.73989283,1.92955806,2.11651158,-0.59102014,0.51320264,3.2187936,-0.33156433,0.73611477,3.25275313,2.5919286,-0.09110605,1.44393247,4.40866455,0.41707672,5.54078291,3.65502618,4.40570526,4.17201405,4.870523,2.52017432,-1.36150068,3.44374919,-0.43173085,4.65987201,0.0,-0.30342485,0.98222269,-1.68807937,-0.3221261],\"type\":\"scatter3d\"},{\"hoverinfo\":\"none\",\"marker\":{\"color\":\"grey\",\"opacity\":1,\"size\":7},\"mode\":\"lines\",\"x\":[1.25356177,2.24550019,null,1.25356177,1.6247017,null,1.25356177,0.0,null,1.25356177,0.99493119,null,2.75728334,3.63043043,null,1.39839374,1.33012775,null,1.33012775,1.39839374,null,1.33012775,2.24550019,null,1.33012775,0.0,null,1.33012775,1.63833328,null,-0.14250558,0.82851285,null,-0.01447485,0.91107341,null,-0.01447485,-1.16025066,null,-0.01447485,0.0,null,-0.01447485,-0.04768294,null,0.54662005,0.99493119,null,2.78609087,2.60051727,null,2.78609087,1.63833328,null,2.78609087,3.85298077,null,0.91107341,-0.01447485,null,2.24550019,1.25356177,null,2.24550019,1.33012775,null,2.24550019,2.81422085,null,2.24550019,2.95675452,null,1.37257164,0.82851285,null,1.37257164,2.60051727,null,0.82851285,-0.14250558,null,0.82851285,1.37257164,null,0.82851285,1.63833328,null,-1.16025066,-0.01447485,null,-1.16025066,-1.15055541,null,0.0,1.33012775,null,0.0,0.0,null,3.65794371,2.60051727,null,3.65794371,3.63043043,null,3.65794371,4.74182048,null,2.81422085,2.24550019,null,4.33374742,3.63043043,null,2.60051727,2.78609087,null,2.60051727,1.37257164,null,2.60051727,3.65794371,null,5.67323731,4.7740641,null,4.7740641,5.67323731,null,4.7740641,3.85298077,null,4.7740641,4.74182048,null,3.63043043,2.75728334,null,3.63043043,3.65794371,null,3.63043043,4.33374742,null,1.63833328,1.33012775,null,1.63833328,2.78609087,null,1.63833328,0.82851285,null,1.6247017,1.25356177,null,3.85298077,2.78609087,null,3.85298077,4.7740641,null,-1.15055541,-1.16025066,null,4.74182048,3.65794371,null,4.74182048,4.7740641,null,0.0,1.25356177,null,0.0,-0.01447485,null,0.0,0.0,null,0.0,-0.91384863,null,-0.91384863,0.0,null,2.95675452,2.24550019,null,-0.04768294,-0.01447485,null,0.99493119,1.25356177,null,0.99493119,0.54662005,null],\"y\":[0.815451,0.36241441,null,0.815451,0.60769219,null,0.815451,0.0,null,0.815451,2.21111393,null,-5.26554002,-4.76332507,null,0.73304981,0.0,null,0.0,0.73304981,null,0.0,0.36241441,null,0.0,0.0,null,0.0,-1.31044491,null,-2.43724316,-2.43273511,null,-1.40699127,-1.94244109,null,-1.40699127,-2.08096006,null,-1.40699127,0.0,null,-1.40699127,-1.31181879,null,2.40642541,2.21111393,null,-1.62033445,-2.93667899,null,-1.62033445,-1.31044491,null,-1.62033445,-0.83911359,null,-1.94244109,-1.40699127,null,0.36241441,0.815451,null,0.36241441,0.0,null,0.36241441,-0.51457743,null,0.36241441,1.15172937,null,-3.43031156,-2.43273511,null,-3.43031156,-2.93667899,null,-2.43273511,-2.43724316,null,-2.43273511,-3.43031156,null,-2.43273511,-1.31044491,null,-2.08096006,-1.40699127,null,-2.08096006,-2.98463479,null,0.0,0.0,null,0.0,0.0,null,-3.48687618,-2.93667899,null,-3.48687618,-4.76332507,null,-3.48687618,-2.73008767,null,-0.51457743,0.36241441,null,-5.03136721,-4.76332507,null,-2.93667899,-1.62033445,null,-2.93667899,-3.43031156,null,-2.93667899,-3.48687618,null,-0.91267977,-1.47899103,null,-1.47899103,-0.91267977,null,-1.47899103,-0.83911359,null,-1.47899103,-2.73008767,null,-4.76332507,-5.26554002,null,-4.76332507,-3.48687618,null,-4.76332507,-5.03136721,null,-1.31044491,0.0,null,-1.31044491,-1.62033445,null,-1.31044491,-2.43273511,null,0.60769219,0.815451,null,-0.83911359,-1.62033445,null,-0.83911359,-1.47899103,null,-2.98463479,-2.08096006,null,-2.73008767,-3.48687618,null,-2.73008767,-1.47899103,null,0.0,0.815451,null,0.0,-1.40699127,null,0.0,0.0,null,0.0,0.518474,null,0.518474,0.0,null,1.15172937,0.36241441,null,-1.31181879,-1.40699127,null,2.21111393,0.815451,null,2.21111393,2.40642541,null],\"z\":[-0.35406713,0.73611477,null,-0.35406713,-1.36150068,null,-0.35406713,0.0,null,-0.35406713,-0.3221261,null,4.84933922,4.870523,null,2.73989283,1.92955806,null,1.92955806,2.73989283,null,1.92955806,0.73611477,null,1.92955806,1.44393247,null,1.92955806,2.52017432,null,2.11651158,2.5919286,null,-0.59102014,-0.33156433,null,-0.59102014,-0.09110605,null,-0.59102014,0.0,null,-0.59102014,-1.68807937,null,0.51320264,-0.3221261,null,3.2187936,3.65502618,null,3.2187936,2.52017432,null,3.2187936,3.44374919,null,-0.33156433,-0.59102014,null,0.73611477,-0.35406713,null,0.73611477,1.92955806,null,0.73611477,0.41707672,null,0.73611477,0.98222269,null,3.25275313,2.5919286,null,3.25275313,3.65502618,null,2.5919286,2.11651158,null,2.5919286,3.25275313,null,2.5919286,2.52017432,null,-0.09110605,-0.59102014,null,-0.09110605,-0.43173085,null,1.44393247,1.92955806,null,1.44393247,0.0,null,4.40866455,3.65502618,null,4.40866455,4.870523,null,4.40866455,4.65987201,null,0.41707672,0.73611477,null,5.54078291,4.870523,null,3.65502618,3.2187936,null,3.65502618,3.25275313,null,3.65502618,4.40866455,null,4.40570526,4.17201405,null,4.17201405,4.40570526,null,4.17201405,3.44374919,null,4.17201405,4.65987201,null,4.870523,4.84933922,null,4.870523,4.40866455,null,4.870523,5.54078291,null,2.52017432,1.92955806,null,2.52017432,3.2187936,null,2.52017432,2.5919286,null,-1.36150068,-0.35406713,null,3.44374919,3.2187936,null,3.44374919,4.17201405,null,-0.43173085,-0.09110605,null,4.65987201,4.40866455,null,4.65987201,4.17201405,null,0.0,-0.35406713,null,0.0,-0.59102014,null,0.0,1.44393247,null,0.0,-0.30342485,null,-0.30342485,0.0,null,0.98222269,0.73611477,null,-1.68807937,-0.59102014,null,-0.3221261,-0.35406713,null,-0.3221261,0.51320264,null],\"type\":\"scatter3d\"}],                        {\"margin\":{\"b\":0,\"l\":0,\"r\":0,\"t\":0},\"scene\":{\"annotations\":[{\"showarrow\":false,\"text\":\"C\",\"x\":1.25356177,\"y\":0.815451,\"yshift\":15,\"z\":-0.35406713},{\"showarrow\":false,\"text\":\"H\",\"x\":2.75728334,\"y\":-5.26554002,\"yshift\":15,\"z\":4.84933922},{\"showarrow\":false,\"text\":\"H\",\"x\":1.39839374,\"y\":0.73304981,\"yshift\":15,\"z\":2.73989283},{\"showarrow\":false,\"text\":\"C\",\"x\":1.33012775,\"y\":0.0,\"yshift\":15,\"z\":1.92955806},{\"showarrow\":false,\"text\":\"H\",\"x\":-0.14250558,\"y\":-2.43724316,\"yshift\":15,\"z\":2.11651158},{\"showarrow\":false,\"text\":\"C\",\"x\":-0.01447485,\"y\":-1.40699127,\"yshift\":15,\"z\":-0.59102014},{\"showarrow\":false,\"text\":\"H\",\"x\":0.54662005,\"y\":2.40642541,\"yshift\":15,\"z\":0.51320264},{\"showarrow\":false,\"text\":\"C\",\"x\":2.78609087,\"y\":-1.62033445,\"yshift\":15,\"z\":3.2187936},{\"showarrow\":false,\"text\":\"H\",\"x\":0.91107341,\"y\":-1.94244109,\"yshift\":15,\"z\":-0.33156433},{\"showarrow\":false,\"text\":\"C\",\"x\":2.24550019,\"y\":0.36241441,\"yshift\":15,\"z\":0.73611477},{\"showarrow\":false,\"text\":\"N\",\"x\":1.37257164,\"y\":-3.43031156,\"yshift\":15,\"z\":3.25275313},{\"showarrow\":false,\"text\":\"C\",\"x\":0.82851285,\"y\":-2.43273511,\"yshift\":15,\"z\":2.5919286},{\"showarrow\":false,\"text\":\"O\",\"x\":-1.16025066,\"y\":-2.08096006,\"yshift\":15,\"z\":-0.09110605},{\"showarrow\":false,\"text\":\"O\",\"x\":0.0,\"y\":0.0,\"yshift\":15,\"z\":1.44393247},{\"showarrow\":false,\"text\":\"C\",\"x\":3.65794371,\"y\":-3.48687618,\"yshift\":15,\"z\":4.40866455},{\"showarrow\":false,\"text\":\"H\",\"x\":2.81422085,\"y\":-0.51457743,\"yshift\":15,\"z\":0.41707672},{\"showarrow\":false,\"text\":\"H\",\"x\":4.33374742,\"y\":-5.03136721,\"yshift\":15,\"z\":5.54078291},{\"showarrow\":false,\"text\":\"C\",\"x\":2.60051727,\"y\":-2.93667899,\"yshift\":15,\"z\":3.65502618},{\"showarrow\":false,\"text\":\"H\",\"x\":5.67323731,\"y\":-0.91267977,\"yshift\":15,\"z\":4.40570526},{\"showarrow\":false,\"text\":\"C\",\"x\":4.7740641,\"y\":-1.47899103,\"yshift\":15,\"z\":4.17201405},{\"showarrow\":false,\"text\":\"N\",\"x\":3.63043043,\"y\":-4.76332507,\"yshift\":15,\"z\":4.870523},{\"showarrow\":false,\"text\":\"N\",\"x\":1.63833328,\"y\":-1.31044491,\"yshift\":15,\"z\":2.52017432},{\"showarrow\":false,\"text\":\"H\",\"x\":1.6247017,\"y\":0.60769219,\"yshift\":15,\"z\":-1.36150068},{\"showarrow\":false,\"text\":\"N\",\"x\":3.85298077,\"y\":-0.83911359,\"yshift\":15,\"z\":3.44374919},{\"showarrow\":false,\"text\":\"H\",\"x\":-1.15055541,\"y\":-2.98463479,\"yshift\":15,\"z\":-0.43173085},{\"showarrow\":false,\"text\":\"N\",\"x\":4.74182048,\"y\":-2.73008767,\"yshift\":15,\"z\":4.65987201},{\"showarrow\":false,\"text\":\"C\",\"x\":0.0,\"y\":0.0,\"yshift\":15,\"z\":0.0},{\"showarrow\":false,\"text\":\"H\",\"x\":-0.91384863,\"y\":0.518474,\"yshift\":15,\"z\":-0.30342485},{\"showarrow\":false,\"text\":\"H\",\"x\":2.95675452,\"y\":1.15172937,\"yshift\":15,\"z\":0.98222269},{\"showarrow\":false,\"text\":\"H\",\"x\":-0.04768294,\"y\":-1.31181879,\"yshift\":15,\"z\":-1.68807937},{\"showarrow\":false,\"text\":\"O\",\"x\":0.99493119,\"y\":2.21111393,\"yshift\":15,\"z\":-0.3221261}],\"xaxis\":{\"showbackground\":false,\"showgrid\":false,\"showticklabels\":false,\"title\":{\"font\":{\"color\":\"white\"}},\"zeroline\":false},\"yaxis\":{\"showbackground\":false,\"showgrid\":false,\"showticklabels\":false,\"title\":{\"font\":{\"color\":\"white\"}},\"zeroline\":false},\"zaxis\":{\"showbackground\":false,\"showgrid\":false,\"showticklabels\":false,\"title\":{\"font\":{\"color\":\"white\"}},\"zeroline\":false}},\"showlegend\":false,\"updatemenus\":[{\"buttons\":[{\"args\":[{\"scene.annotations\":[{\"text\":\"C\",\"x\":1.25356177,\"y\":0.815451,\"z\":-0.35406713,\"showarrow\":false,\"yshift\":15},{\"text\":\"H\",\"x\":2.75728334,\"y\":-5.26554002,\"z\":4.84933922,\"showarrow\":false,\"yshift\":15},{\"text\":\"H\",\"x\":1.39839374,\"y\":0.73304981,\"z\":2.73989283,\"showarrow\":false,\"yshift\":15},{\"text\":\"C\",\"x\":1.33012775,\"y\":0.0,\"z\":1.92955806,\"showarrow\":false,\"yshift\":15},{\"text\":\"H\",\"x\":-0.14250558,\"y\":-2.43724316,\"z\":2.11651158,\"showarrow\":false,\"yshift\":15},{\"text\":\"C\",\"x\":-0.01447485,\"y\":-1.40699127,\"z\":-0.59102014,\"showarrow\":false,\"yshift\":15},{\"text\":\"H\",\"x\":0.54662005,\"y\":2.40642541,\"z\":0.51320264,\"showarrow\":false,\"yshift\":15},{\"text\":\"C\",\"x\":2.78609087,\"y\":-1.62033445,\"z\":3.2187936,\"showarrow\":false,\"yshift\":15},{\"text\":\"H\",\"x\":0.91107341,\"y\":-1.94244109,\"z\":-0.33156433,\"showarrow\":false,\"yshift\":15},{\"text\":\"C\",\"x\":2.24550019,\"y\":0.36241441,\"z\":0.73611477,\"showarrow\":false,\"yshift\":15},{\"text\":\"N\",\"x\":1.37257164,\"y\":-3.43031156,\"z\":3.25275313,\"showarrow\":false,\"yshift\":15},{\"text\":\"C\",\"x\":0.82851285,\"y\":-2.43273511,\"z\":2.5919286,\"showarrow\":false,\"yshift\":15},{\"text\":\"O\",\"x\":-1.16025066,\"y\":-2.08096006,\"z\":-0.09110605,\"showarrow\":false,\"yshift\":15},{\"text\":\"O\",\"x\":0.0,\"y\":0.0,\"z\":1.44393247,\"showarrow\":false,\"yshift\":15},{\"text\":\"C\",\"x\":3.65794371,\"y\":-3.48687618,\"z\":4.40866455,\"showarrow\":false,\"yshift\":15},{\"text\":\"H\",\"x\":2.81422085,\"y\":-0.51457743,\"z\":0.41707672,\"showarrow\":false,\"yshift\":15},{\"text\":\"H\",\"x\":4.33374742,\"y\":-5.03136721,\"z\":5.54078291,\"showarrow\":false,\"yshift\":15},{\"text\":\"C\",\"x\":2.60051727,\"y\":-2.93667899,\"z\":3.65502618,\"showarrow\":false,\"yshift\":15},{\"text\":\"H\",\"x\":5.67323731,\"y\":-0.91267977,\"z\":4.40570526,\"showarrow\":false,\"yshift\":15},{\"text\":\"C\",\"x\":4.7740641,\"y\":-1.47899103,\"z\":4.17201405,\"showarrow\":false,\"yshift\":15},{\"text\":\"N\",\"x\":3.63043043,\"y\":-4.76332507,\"z\":4.870523,\"showarrow\":false,\"yshift\":15},{\"text\":\"N\",\"x\":1.63833328,\"y\":-1.31044491,\"z\":2.52017432,\"showarrow\":false,\"yshift\":15},{\"text\":\"H\",\"x\":1.6247017,\"y\":0.60769219,\"z\":-1.36150068,\"showarrow\":false,\"yshift\":15},{\"text\":\"N\",\"x\":3.85298077,\"y\":-0.83911359,\"z\":3.44374919,\"showarrow\":false,\"yshift\":15},{\"text\":\"H\",\"x\":-1.15055541,\"y\":-2.98463479,\"z\":-0.43173085,\"showarrow\":false,\"yshift\":15},{\"text\":\"N\",\"x\":4.74182048,\"y\":-2.73008767,\"z\":4.65987201,\"showarrow\":false,\"yshift\":15},{\"text\":\"C\",\"x\":0.0,\"y\":0.0,\"z\":0.0,\"showarrow\":false,\"yshift\":15},{\"text\":\"H\",\"x\":-0.91384863,\"y\":0.518474,\"z\":-0.30342485,\"showarrow\":false,\"yshift\":15},{\"text\":\"H\",\"x\":2.95675452,\"y\":1.15172937,\"z\":0.98222269,\"showarrow\":false,\"yshift\":15},{\"text\":\"H\",\"x\":-0.04768294,\"y\":-1.31181879,\"z\":-1.68807937,\"showarrow\":false,\"yshift\":15},{\"text\":\"O\",\"x\":0.99493119,\"y\":2.21111393,\"z\":-0.3221261,\"showarrow\":false,\"yshift\":15}]}],\"label\":\"Elements\",\"method\":\"relayout\"},{\"args\":[{\"scene.annotations\":[{\"text\":\"C3'\",\"x\":1.25356177,\"y\":0.815451,\"z\":-0.35406713,\"showarrow\":false,\"yshift\":15},{\"text\":\"H\",\"x\":2.75728334,\"y\":-5.26554002,\"z\":4.84933922,\"showarrow\":false,\"yshift\":15},{\"text\":\"H\",\"x\":1.39839374,\"y\":0.73304981,\"z\":2.73989283,\"showarrow\":false,\"yshift\":15},{\"text\":\"C1'\",\"x\":1.33012775,\"y\":0.0,\"z\":1.92955806,\"showarrow\":false,\"yshift\":15},{\"text\":\"H\",\"x\":-0.14250558,\"y\":-2.43724316,\"z\":2.11651158,\"showarrow\":false,\"yshift\":15},{\"text\":\"C5'\",\"x\":-0.01447485,\"y\":-1.40699127,\"z\":-0.59102014,\"showarrow\":false,\"yshift\":15},{\"text\":\"H\",\"x\":0.54662005,\"y\":2.40642541,\"z\":0.51320264,\"showarrow\":false,\"yshift\":15},{\"text\":\"C4\",\"x\":2.78609087,\"y\":-1.62033445,\"z\":3.2187936,\"showarrow\":false,\"yshift\":15},{\"text\":\"H\",\"x\":0.91107341,\"y\":-1.94244109,\"z\":-0.33156433,\"showarrow\":false,\"yshift\":15},{\"text\":\"C2'\",\"x\":2.24550019,\"y\":0.36241441,\"z\":0.73611477,\"showarrow\":false,\"yshift\":15},{\"text\":\"N7\",\"x\":1.37257164,\"y\":-3.43031156,\"z\":3.25275313,\"showarrow\":false,\"yshift\":15},{\"text\":\"C8\",\"x\":0.82851285,\"y\":-2.43273511,\"z\":2.5919286,\"showarrow\":false,\"yshift\":15},{\"text\":\"O5'\",\"x\":-1.16025066,\"y\":-2.08096006,\"z\":-0.09110605,\"showarrow\":false,\"yshift\":15},{\"text\":\"O4'\",\"x\":0.0,\"y\":0.0,\"z\":1.44393247,\"showarrow\":false,\"yshift\":15},{\"text\":\"C6\",\"x\":3.65794371,\"y\":-3.48687618,\"z\":4.40866455,\"showarrow\":false,\"yshift\":15},{\"text\":\"H\",\"x\":2.81422085,\"y\":-0.51457743,\"z\":0.41707672,\"showarrow\":false,\"yshift\":15},{\"text\":\"H\",\"x\":4.33374742,\"y\":-5.03136721,\"z\":5.54078291,\"showarrow\":false,\"yshift\":15},{\"text\":\"C5\",\"x\":2.60051727,\"y\":-2.93667899,\"z\":3.65502618,\"showarrow\":false,\"yshift\":15},{\"text\":\"H\",\"x\":5.67323731,\"y\":-0.91267977,\"z\":4.40570526,\"showarrow\":false,\"yshift\":15},{\"text\":\"C2\",\"x\":4.7740641,\"y\":-1.47899103,\"z\":4.17201405,\"showarrow\":false,\"yshift\":15},{\"text\":\"N6\",\"x\":3.63043043,\"y\":-4.76332507,\"z\":4.870523,\"showarrow\":false,\"yshift\":15},{\"text\":\"N9\",\"x\":1.63833328,\"y\":-1.31044491,\"z\":2.52017432,\"showarrow\":false,\"yshift\":15},{\"text\":\"H\",\"x\":1.6247017,\"y\":0.60769219,\"z\":-1.36150068,\"showarrow\":false,\"yshift\":15},{\"text\":\"N3\",\"x\":3.85298077,\"y\":-0.83911359,\"z\":3.44374919,\"showarrow\":false,\"yshift\":15},{\"text\":\"H\",\"x\":-1.15055541,\"y\":-2.98463479,\"z\":-0.43173085,\"showarrow\":false,\"yshift\":15},{\"text\":\"N1\",\"x\":4.74182048,\"y\":-2.73008767,\"z\":4.65987201,\"showarrow\":false,\"yshift\":15},{\"text\":\"C4'\",\"x\":0.0,\"y\":0.0,\"z\":0.0,\"showarrow\":false,\"yshift\":15},{\"text\":\"H\",\"x\":-0.91384863,\"y\":0.518474,\"z\":-0.30342485,\"showarrow\":false,\"yshift\":15},{\"text\":\"H\",\"x\":2.95675452,\"y\":1.15172937,\"z\":0.98222269,\"showarrow\":false,\"yshift\":15},{\"text\":\"H\",\"x\":-0.04768294,\"y\":-1.31181879,\"z\":-1.68807937,\"showarrow\":false,\"yshift\":15},{\"text\":\"O3'\",\"x\":0.99493119,\"y\":2.21111393,\"z\":-0.3221261,\"showarrow\":false,\"yshift\":15}]}],\"label\":\"Named Elements\",\"method\":\"relayout\"},{\"args\":[{\"scene.annotations\":[{\"text\":\"C\",\"x\":1.25356177,\"y\":0.815451,\"z\":-0.35406713,\"showarrow\":false,\"yshift\":15},{\"text\":\"H\",\"x\":2.75728334,\"y\":-5.26554002,\"z\":4.84933922,\"showarrow\":false,\"yshift\":15},{\"text\":\"H\",\"x\":1.39839374,\"y\":0.73304981,\"z\":2.73989283,\"showarrow\":false,\"yshift\":15},{\"text\":\"C\",\"x\":1.33012775,\"y\":0.0,\"z\":1.92955806,\"showarrow\":false,\"yshift\":15},{\"text\":\"H\",\"x\":-0.14250558,\"y\":-2.43724316,\"z\":2.11651158,\"showarrow\":false,\"yshift\":15},{\"text\":\"C\",\"x\":-0.01447485,\"y\":-1.40699127,\"z\":-0.59102014,\"showarrow\":false,\"yshift\":15},{\"text\":\"H\",\"x\":0.54662005,\"y\":2.40642541,\"z\":0.51320264,\"showarrow\":false,\"yshift\":15},{\"text\":\"C\",\"x\":2.78609087,\"y\":-1.62033445,\"z\":3.2187936,\"showarrow\":false,\"yshift\":15},{\"text\":\"H\",\"x\":0.91107341,\"y\":-1.94244109,\"z\":-0.33156433,\"showarrow\":false,\"yshift\":15},{\"text\":\"C\",\"x\":2.24550019,\"y\":0.36241441,\"z\":0.73611477,\"showarrow\":false,\"yshift\":15},{\"text\":\"N\",\"x\":1.37257164,\"y\":-3.43031156,\"z\":3.25275313,\"showarrow\":false,\"yshift\":15},{\"text\":\"C\",\"x\":0.82851285,\"y\":-2.43273511,\"z\":2.5919286,\"showarrow\":false,\"yshift\":15},{\"text\":\"O\",\"x\":-1.16025066,\"y\":-2.08096006,\"z\":-0.09110605,\"showarrow\":false,\"yshift\":15},{\"text\":\"O\",\"x\":0.0,\"y\":0.0,\"z\":1.44393247,\"showarrow\":false,\"yshift\":15},{\"text\":\"C\",\"x\":3.65794371,\"y\":-3.48687618,\"z\":4.40866455,\"showarrow\":false,\"yshift\":15},{\"text\":\"H\",\"x\":2.81422085,\"y\":-0.51457743,\"z\":0.41707672,\"showarrow\":false,\"yshift\":15},{\"text\":\"H\",\"x\":4.33374742,\"y\":-5.03136721,\"z\":5.54078291,\"showarrow\":false,\"yshift\":15},{\"text\":\"C\",\"x\":2.60051727,\"y\":-2.93667899,\"z\":3.65502618,\"showarrow\":false,\"yshift\":15},{\"text\":\"H\",\"x\":5.67323731,\"y\":-0.91267977,\"z\":4.40570526,\"showarrow\":false,\"yshift\":15},{\"text\":\"C\",\"x\":4.7740641,\"y\":-1.47899103,\"z\":4.17201405,\"showarrow\":false,\"yshift\":15},{\"text\":\"N\",\"x\":3.63043043,\"y\":-4.76332507,\"z\":4.870523,\"showarrow\":false,\"yshift\":15},{\"text\":\"N\",\"x\":1.63833328,\"y\":-1.31044491,\"z\":2.52017432,\"showarrow\":false,\"yshift\":15},{\"text\":\"H\",\"x\":1.6247017,\"y\":0.60769219,\"z\":-1.36150068,\"showarrow\":false,\"yshift\":15},{\"text\":\"N\",\"x\":3.85298077,\"y\":-0.83911359,\"z\":3.44374919,\"showarrow\":false,\"yshift\":15},{\"text\":\"H\",\"x\":-1.15055541,\"y\":-2.98463479,\"z\":-0.43173085,\"showarrow\":false,\"yshift\":15},{\"text\":\"N\",\"x\":4.74182048,\"y\":-2.73008767,\"z\":4.65987201,\"showarrow\":false,\"yshift\":15},{\"text\":\"C\",\"x\":0.0,\"y\":0.0,\"z\":0.0,\"showarrow\":false,\"yshift\":15},{\"text\":\"H\",\"x\":-0.91384863,\"y\":0.518474,\"z\":-0.30342485,\"showarrow\":false,\"yshift\":15},{\"text\":\"H\",\"x\":2.95675452,\"y\":1.15172937,\"z\":0.98222269,\"showarrow\":false,\"yshift\":15},{\"text\":\"H\",\"x\":-0.04768294,\"y\":-1.31181879,\"z\":-1.68807937,\"showarrow\":false,\"yshift\":15},{\"text\":\"O\",\"x\":0.99493119,\"y\":2.21111393,\"z\":-0.3221261,\"showarrow\":false,\"yshift\":15},{\"text\":1.6,\"x\":1.7495309799999998,\"y\":0.5889327050000001,\"z\":0.19102382,\"showarrow\":false,\"yshift\":15,\"font\":{\"color\":\"steelblue\"}},{\"text\":1.17,\"x\":1.439131735,\"y\":0.711571595,\"z\":-0.857783905,\"showarrow\":false,\"yshift\":15,\"font\":{\"color\":\"steelblue\"}},{\"text\":1.6,\"x\":0.626780885,\"y\":0.4077255,\"z\":-0.177033565,\"showarrow\":false,\"yshift\":15,\"font\":{\"color\":\"steelblue\"}},{\"text\":1.48,\"x\":1.12424648,\"y\":1.5132824649999999,\"z\":-0.338096615,\"showarrow\":false,\"yshift\":15,\"font\":{\"color\":\"steelblue\"}},{\"text\":1.13,\"x\":3.1938568849999998,\"y\":-5.014432545,\"z\":4.85993111,\"showarrow\":false,\"yshift\":15,\"font\":{\"color\":\"steelblue\"}},{\"text\":1.17,\"x\":1.364260745,\"y\":0.366524905,\"z\":2.334725445,\"showarrow\":false,\"yshift\":15,\"font\":{\"color\":\"steelblue\"}},{\"text\":1.6,\"x\":1.78781397,\"y\":0.181207205,\"z\":1.332836415,\"showarrow\":false,\"yshift\":15,\"font\":{\"color\":\"steelblue\"}},{\"text\":1.48,\"x\":0.665063875,\"y\":0.0,\"z\":1.6867452649999999,\"showarrow\":false,\"yshift\":15,\"font\":{\"color\":\"steelblue\"}},{\"text\":1.56,\"x\":1.484230515,\"y\":-0.655222455,\"z\":2.22486619,\"showarrow\":false,\"yshift\":15,\"font\":{\"color\":\"steelblue\"}},{\"text\":1.17,\"x\":0.343003635,\"y\":-2.434989135,\"z\":2.35422009,\"showarrow\":false,\"yshift\":15,\"font\":{\"color\":\"steelblue\"}},{\"text\":1.17,\"x\":0.44829927999999997,\"y\":-1.6747161799999999,\"z\":-0.46129223500000005,\"showarrow\":false,\"yshift\":15,\"font\":{\"color\":\"steelblue\"}},{\"text\":1.48,\"x\":-0.587362755,\"y\":-1.7439756649999998,\"z\":-0.341063095,\"showarrow\":false,\"yshift\":15,\"font\":{\"color\":\"steelblue\"}},{\"text\":1.6,\"x\":-0.007237425,\"y\":-0.703495635,\"z\":-0.29551007,\"showarrow\":false,\"yshift\":15,\"font\":{\"color\":\"steelblue\"}},{\"text\":1.17,\"x\":-0.031078895,\"y\":-1.35940503,\"z\":-1.139549755,\"showarrow\":false,\"yshift\":15,\"font\":{\"color\":\"steelblue\"}},{\"text\":1.05,\"x\":0.77077562,\"y\":2.30876967,\"z\":0.09553827000000001,\"showarrow\":false,\"yshift\":15,\"font\":{\"color\":\"steelblue\"}},{\"text\":1.6,\"x\":2.69330407,\"y\":-2.27850672,\"z\":3.43690989,\"showarrow\":false,\"yshift\":15,\"font\":{\"color\":\"steelblue\"}},{\"text\":1.56,\"x\":2.212212075,\"y\":-1.46538968,\"z\":2.86948396,\"showarrow\":false,\"yshift\":15,\"font\":{\"color\":\"steelblue\"}},{\"text\":1.56,\"x\":3.31953582,\"y\":-1.22972402,\"z\":3.331271395,\"showarrow\":false,\"yshift\":15,\"font\":{\"color\":\"steelblue\"}},{\"text\":1.17,\"x\":2.5298605199999997,\"y\":-0.07608150999999999,\"z\":0.576595745,\"showarrow\":false,\"yshift\":15,\"font\":{\"color\":\"steelblue\"}},{\"text\":1.17,\"x\":2.601127355,\"y\":0.75707189,\"z\":0.8591687299999999,\"showarrow\":false,\"yshift\":15,\"font\":{\"color\":\"steelblue\"}},{\"text\":1.56,\"x\":1.100542245,\"y\":-2.9315233349999996,\"z\":2.922340865,\"showarrow\":false,\"yshift\":15,\"font\":{\"color\":\"steelblue\"}},{\"text\":1.56,\"x\":1.9865444550000002,\"y\":-3.183495275,\"z\":3.4538896550000002,\"showarrow\":false,\"yshift\":15,\"font\":{\"color\":\"steelblue\"}},{\"text\":1.56,\"x\":1.233423065,\"y\":-1.8715900099999998,\"z\":2.55605146,\"showarrow\":false,\"yshift\":15,\"font\":{\"color\":\"steelblue\"}},{\"text\":1.05,\"x\":-1.155403035,\"y\":-2.532797425,\"z\":-0.26141844999999997,\"showarrow\":false,\"yshift\":15,\"font\":{\"color\":\"steelblue\"}},{\"text\":1.48,\"x\":0.0,\"y\":0.0,\"z\":0.721966235,\"showarrow\":false,\"yshift\":15,\"font\":{\"color\":\"steelblue\"}},{\"text\":1.6,\"x\":3.1292304900000003,\"y\":-3.211777585,\"z\":4.031845365000001,\"showarrow\":false,\"yshift\":15,\"font\":{\"color\":\"steelblue\"}},{\"text\":1.56,\"x\":3.64418707,\"y\":-4.125100625,\"z\":4.639593775,\"showarrow\":false,\"yshift\":15,\"font\":{\"color\":\"steelblue\"}},{\"text\":1.56,\"x\":4.199882095,\"y\":-3.108481925,\"z\":4.53426828,\"showarrow\":false,\"yshift\":15,\"font\":{\"color\":\"steelblue\"}},{\"text\":1.13,\"x\":3.9820889250000002,\"y\":-4.89734614,\"z\":5.205652955,\"showarrow\":false,\"yshift\":15,\"font\":{\"color\":\"steelblue\"}},{\"text\":1.17,\"x\":5.223650705000001,\"y\":-1.1958354,\"z\":4.2888596549999995,\"showarrow\":false,\"yshift\":15,\"font\":{\"color\":\"steelblue\"}},{\"text\":1.56,\"x\":4.313522435,\"y\":-1.1590523099999999,\"z\":3.80788162,\"showarrow\":false,\"yshift\":15,\"font\":{\"color\":\"steelblue\"}},{\"text\":1.56,\"x\":4.757942290000001,\"y\":-2.10453935,\"z\":4.415943029999999,\"showarrow\":false,\"yshift\":15,\"font\":{\"color\":\"steelblue\"}},{\"text\":1.17,\"x\":-0.456924315,\"y\":0.259237,\"z\":-0.151712425,\"showarrow\":false,\"yshift\":15,\"font\":{\"color\":\"steelblue\"}}]}],\"label\":\"Elements & Bond Lengths\",\"method\":\"relayout\"},{\"args\":[{\"scene.annotations\":[{\"text\":0,\"x\":1.25356177,\"y\":0.815451,\"z\":-0.35406713,\"showarrow\":false,\"yshift\":15},{\"text\":1,\"x\":2.75728334,\"y\":-5.26554002,\"z\":4.84933922,\"showarrow\":false,\"yshift\":15},{\"text\":2,\"x\":1.39839374,\"y\":0.73304981,\"z\":2.73989283,\"showarrow\":false,\"yshift\":15},{\"text\":3,\"x\":1.33012775,\"y\":0.0,\"z\":1.92955806,\"showarrow\":false,\"yshift\":15},{\"text\":4,\"x\":-0.14250558,\"y\":-2.43724316,\"z\":2.11651158,\"showarrow\":false,\"yshift\":15},{\"text\":5,\"x\":-0.01447485,\"y\":-1.40699127,\"z\":-0.59102014,\"showarrow\":false,\"yshift\":15},{\"text\":6,\"x\":0.54662005,\"y\":2.40642541,\"z\":0.51320264,\"showarrow\":false,\"yshift\":15},{\"text\":7,\"x\":2.78609087,\"y\":-1.62033445,\"z\":3.2187936,\"showarrow\":false,\"yshift\":15},{\"text\":8,\"x\":0.91107341,\"y\":-1.94244109,\"z\":-0.33156433,\"showarrow\":false,\"yshift\":15},{\"text\":9,\"x\":2.24550019,\"y\":0.36241441,\"z\":0.73611477,\"showarrow\":false,\"yshift\":15},{\"text\":10,\"x\":1.37257164,\"y\":-3.43031156,\"z\":3.25275313,\"showarrow\":false,\"yshift\":15},{\"text\":11,\"x\":0.82851285,\"y\":-2.43273511,\"z\":2.5919286,\"showarrow\":false,\"yshift\":15},{\"text\":12,\"x\":-1.16025066,\"y\":-2.08096006,\"z\":-0.09110605,\"showarrow\":false,\"yshift\":15},{\"text\":13,\"x\":0.0,\"y\":0.0,\"z\":1.44393247,\"showarrow\":false,\"yshift\":15},{\"text\":14,\"x\":3.65794371,\"y\":-3.48687618,\"z\":4.40866455,\"showarrow\":false,\"yshift\":15},{\"text\":15,\"x\":2.81422085,\"y\":-0.51457743,\"z\":0.41707672,\"showarrow\":false,\"yshift\":15},{\"text\":16,\"x\":4.33374742,\"y\":-5.03136721,\"z\":5.54078291,\"showarrow\":false,\"yshift\":15},{\"text\":17,\"x\":2.60051727,\"y\":-2.93667899,\"z\":3.65502618,\"showarrow\":false,\"yshift\":15},{\"text\":18,\"x\":5.67323731,\"y\":-0.91267977,\"z\":4.40570526,\"showarrow\":false,\"yshift\":15},{\"text\":19,\"x\":4.7740641,\"y\":-1.47899103,\"z\":4.17201405,\"showarrow\":false,\"yshift\":15},{\"text\":20,\"x\":3.63043043,\"y\":-4.76332507,\"z\":4.870523,\"showarrow\":false,\"yshift\":15},{\"text\":21,\"x\":1.63833328,\"y\":-1.31044491,\"z\":2.52017432,\"showarrow\":false,\"yshift\":15},{\"text\":22,\"x\":1.6247017,\"y\":0.60769219,\"z\":-1.36150068,\"showarrow\":false,\"yshift\":15},{\"text\":23,\"x\":3.85298077,\"y\":-0.83911359,\"z\":3.44374919,\"showarrow\":false,\"yshift\":15},{\"text\":24,\"x\":-1.15055541,\"y\":-2.98463479,\"z\":-0.43173085,\"showarrow\":false,\"yshift\":15},{\"text\":25,\"x\":4.74182048,\"y\":-2.73008767,\"z\":4.65987201,\"showarrow\":false,\"yshift\":15},{\"text\":26,\"x\":0.0,\"y\":0.0,\"z\":0.0,\"showarrow\":false,\"yshift\":15},{\"text\":27,\"x\":-0.91384863,\"y\":0.518474,\"z\":-0.30342485,\"showarrow\":false,\"yshift\":15},{\"text\":28,\"x\":2.95675452,\"y\":1.15172937,\"z\":0.98222269,\"showarrow\":false,\"yshift\":15},{\"text\":29,\"x\":-0.04768294,\"y\":-1.31181879,\"z\":-1.68807937,\"showarrow\":false,\"yshift\":15},{\"text\":30,\"x\":0.99493119,\"y\":2.21111393,\"z\":-0.3221261,\"showarrow\":false,\"yshift\":15}]}],\"label\":\"Indices\",\"method\":\"relayout\"},{\"args\":[{\"scene.annotations\":[{\"text\":0,\"x\":1.25356177,\"y\":0.815451,\"z\":-0.35406713,\"showarrow\":false,\"yshift\":15},{\"text\":1,\"x\":2.75728334,\"y\":-5.26554002,\"z\":4.84933922,\"showarrow\":false,\"yshift\":15},{\"text\":2,\"x\":1.39839374,\"y\":0.73304981,\"z\":2.73989283,\"showarrow\":false,\"yshift\":15},{\"text\":3,\"x\":1.33012775,\"y\":0.0,\"z\":1.92955806,\"showarrow\":false,\"yshift\":15},{\"text\":4,\"x\":-0.14250558,\"y\":-2.43724316,\"z\":2.11651158,\"showarrow\":false,\"yshift\":15},{\"text\":5,\"x\":-0.01447485,\"y\":-1.40699127,\"z\":-0.59102014,\"showarrow\":false,\"yshift\":15},{\"text\":6,\"x\":0.54662005,\"y\":2.40642541,\"z\":0.51320264,\"showarrow\":false,\"yshift\":15},{\"text\":7,\"x\":2.78609087,\"y\":-1.62033445,\"z\":3.2187936,\"showarrow\":false,\"yshift\":15},{\"text\":8,\"x\":0.91107341,\"y\":-1.94244109,\"z\":-0.33156433,\"showarrow\":false,\"yshift\":15},{\"text\":9,\"x\":2.24550019,\"y\":0.36241441,\"z\":0.73611477,\"showarrow\":false,\"yshift\":15},{\"text\":10,\"x\":1.37257164,\"y\":-3.43031156,\"z\":3.25275313,\"showarrow\":false,\"yshift\":15},{\"text\":11,\"x\":0.82851285,\"y\":-2.43273511,\"z\":2.5919286,\"showarrow\":false,\"yshift\":15},{\"text\":12,\"x\":-1.16025066,\"y\":-2.08096006,\"z\":-0.09110605,\"showarrow\":false,\"yshift\":15},{\"text\":13,\"x\":0.0,\"y\":0.0,\"z\":1.44393247,\"showarrow\":false,\"yshift\":15},{\"text\":14,\"x\":3.65794371,\"y\":-3.48687618,\"z\":4.40866455,\"showarrow\":false,\"yshift\":15},{\"text\":15,\"x\":2.81422085,\"y\":-0.51457743,\"z\":0.41707672,\"showarrow\":false,\"yshift\":15},{\"text\":16,\"x\":4.33374742,\"y\":-5.03136721,\"z\":5.54078291,\"showarrow\":false,\"yshift\":15},{\"text\":17,\"x\":2.60051727,\"y\":-2.93667899,\"z\":3.65502618,\"showarrow\":false,\"yshift\":15},{\"text\":18,\"x\":5.67323731,\"y\":-0.91267977,\"z\":4.40570526,\"showarrow\":false,\"yshift\":15},{\"text\":19,\"x\":4.7740641,\"y\":-1.47899103,\"z\":4.17201405,\"showarrow\":false,\"yshift\":15},{\"text\":20,\"x\":3.63043043,\"y\":-4.76332507,\"z\":4.870523,\"showarrow\":false,\"yshift\":15},{\"text\":21,\"x\":1.63833328,\"y\":-1.31044491,\"z\":2.52017432,\"showarrow\":false,\"yshift\":15},{\"text\":22,\"x\":1.6247017,\"y\":0.60769219,\"z\":-1.36150068,\"showarrow\":false,\"yshift\":15},{\"text\":23,\"x\":3.85298077,\"y\":-0.83911359,\"z\":3.44374919,\"showarrow\":false,\"yshift\":15},{\"text\":24,\"x\":-1.15055541,\"y\":-2.98463479,\"z\":-0.43173085,\"showarrow\":false,\"yshift\":15},{\"text\":25,\"x\":4.74182048,\"y\":-2.73008767,\"z\":4.65987201,\"showarrow\":false,\"yshift\":15},{\"text\":26,\"x\":0.0,\"y\":0.0,\"z\":0.0,\"showarrow\":false,\"yshift\":15},{\"text\":27,\"x\":-0.91384863,\"y\":0.518474,\"z\":-0.30342485,\"showarrow\":false,\"yshift\":15},{\"text\":28,\"x\":2.95675452,\"y\":1.15172937,\"z\":0.98222269,\"showarrow\":false,\"yshift\":15},{\"text\":29,\"x\":-0.04768294,\"y\":-1.31181879,\"z\":-1.68807937,\"showarrow\":false,\"yshift\":15},{\"text\":30,\"x\":0.99493119,\"y\":2.21111393,\"z\":-0.3221261,\"showarrow\":false,\"yshift\":15},{\"text\":1.6,\"x\":1.7495309799999998,\"y\":0.5889327050000001,\"z\":0.19102382,\"showarrow\":false,\"yshift\":15,\"font\":{\"color\":\"steelblue\"}},{\"text\":1.17,\"x\":1.439131735,\"y\":0.711571595,\"z\":-0.857783905,\"showarrow\":false,\"yshift\":15,\"font\":{\"color\":\"steelblue\"}},{\"text\":1.6,\"x\":0.626780885,\"y\":0.4077255,\"z\":-0.177033565,\"showarrow\":false,\"yshift\":15,\"font\":{\"color\":\"steelblue\"}},{\"text\":1.48,\"x\":1.12424648,\"y\":1.5132824649999999,\"z\":-0.338096615,\"showarrow\":false,\"yshift\":15,\"font\":{\"color\":\"steelblue\"}},{\"text\":1.13,\"x\":3.1938568849999998,\"y\":-5.014432545,\"z\":4.85993111,\"showarrow\":false,\"yshift\":15,\"font\":{\"color\":\"steelblue\"}},{\"text\":1.17,\"x\":1.364260745,\"y\":0.366524905,\"z\":2.334725445,\"showarrow\":false,\"yshift\":15,\"font\":{\"color\":\"steelblue\"}},{\"text\":1.6,\"x\":1.78781397,\"y\":0.181207205,\"z\":1.332836415,\"showarrow\":false,\"yshift\":15,\"font\":{\"color\":\"steelblue\"}},{\"text\":1.48,\"x\":0.665063875,\"y\":0.0,\"z\":1.6867452649999999,\"showarrow\":false,\"yshift\":15,\"font\":{\"color\":\"steelblue\"}},{\"text\":1.56,\"x\":1.484230515,\"y\":-0.655222455,\"z\":2.22486619,\"showarrow\":false,\"yshift\":15,\"font\":{\"color\":\"steelblue\"}},{\"text\":1.17,\"x\":0.343003635,\"y\":-2.434989135,\"z\":2.35422009,\"showarrow\":false,\"yshift\":15,\"font\":{\"color\":\"steelblue\"}},{\"text\":1.17,\"x\":0.44829927999999997,\"y\":-1.6747161799999999,\"z\":-0.46129223500000005,\"showarrow\":false,\"yshift\":15,\"font\":{\"color\":\"steelblue\"}},{\"text\":1.48,\"x\":-0.587362755,\"y\":-1.7439756649999998,\"z\":-0.341063095,\"showarrow\":false,\"yshift\":15,\"font\":{\"color\":\"steelblue\"}},{\"text\":1.6,\"x\":-0.007237425,\"y\":-0.703495635,\"z\":-0.29551007,\"showarrow\":false,\"yshift\":15,\"font\":{\"color\":\"steelblue\"}},{\"text\":1.17,\"x\":-0.031078895,\"y\":-1.35940503,\"z\":-1.139549755,\"showarrow\":false,\"yshift\":15,\"font\":{\"color\":\"steelblue\"}},{\"text\":1.05,\"x\":0.77077562,\"y\":2.30876967,\"z\":0.09553827000000001,\"showarrow\":false,\"yshift\":15,\"font\":{\"color\":\"steelblue\"}},{\"text\":1.6,\"x\":2.69330407,\"y\":-2.27850672,\"z\":3.43690989,\"showarrow\":false,\"yshift\":15,\"font\":{\"color\":\"steelblue\"}},{\"text\":1.56,\"x\":2.212212075,\"y\":-1.46538968,\"z\":2.86948396,\"showarrow\":false,\"yshift\":15,\"font\":{\"color\":\"steelblue\"}},{\"text\":1.56,\"x\":3.31953582,\"y\":-1.22972402,\"z\":3.331271395,\"showarrow\":false,\"yshift\":15,\"font\":{\"color\":\"steelblue\"}},{\"text\":1.17,\"x\":2.5298605199999997,\"y\":-0.07608150999999999,\"z\":0.576595745,\"showarrow\":false,\"yshift\":15,\"font\":{\"color\":\"steelblue\"}},{\"text\":1.17,\"x\":2.601127355,\"y\":0.75707189,\"z\":0.8591687299999999,\"showarrow\":false,\"yshift\":15,\"font\":{\"color\":\"steelblue\"}},{\"text\":1.56,\"x\":1.100542245,\"y\":-2.9315233349999996,\"z\":2.922340865,\"showarrow\":false,\"yshift\":15,\"font\":{\"color\":\"steelblue\"}},{\"text\":1.56,\"x\":1.9865444550000002,\"y\":-3.183495275,\"z\":3.4538896550000002,\"showarrow\":false,\"yshift\":15,\"font\":{\"color\":\"steelblue\"}},{\"text\":1.56,\"x\":1.233423065,\"y\":-1.8715900099999998,\"z\":2.55605146,\"showarrow\":false,\"yshift\":15,\"font\":{\"color\":\"steelblue\"}},{\"text\":1.05,\"x\":-1.155403035,\"y\":-2.532797425,\"z\":-0.26141844999999997,\"showarrow\":false,\"yshift\":15,\"font\":{\"color\":\"steelblue\"}},{\"text\":1.48,\"x\":0.0,\"y\":0.0,\"z\":0.721966235,\"showarrow\":false,\"yshift\":15,\"font\":{\"color\":\"steelblue\"}},{\"text\":1.6,\"x\":3.1292304900000003,\"y\":-3.211777585,\"z\":4.031845365000001,\"showarrow\":false,\"yshift\":15,\"font\":{\"color\":\"steelblue\"}},{\"text\":1.56,\"x\":3.64418707,\"y\":-4.125100625,\"z\":4.639593775,\"showarrow\":false,\"yshift\":15,\"font\":{\"color\":\"steelblue\"}},{\"text\":1.56,\"x\":4.199882095,\"y\":-3.108481925,\"z\":4.53426828,\"showarrow\":false,\"yshift\":15,\"font\":{\"color\":\"steelblue\"}},{\"text\":1.13,\"x\":3.9820889250000002,\"y\":-4.89734614,\"z\":5.205652955,\"showarrow\":false,\"yshift\":15,\"font\":{\"color\":\"steelblue\"}},{\"text\":1.17,\"x\":5.223650705000001,\"y\":-1.1958354,\"z\":4.2888596549999995,\"showarrow\":false,\"yshift\":15,\"font\":{\"color\":\"steelblue\"}},{\"text\":1.56,\"x\":4.313522435,\"y\":-1.1590523099999999,\"z\":3.80788162,\"showarrow\":false,\"yshift\":15,\"font\":{\"color\":\"steelblue\"}},{\"text\":1.56,\"x\":4.757942290000001,\"y\":-2.10453935,\"z\":4.415943029999999,\"showarrow\":false,\"yshift\":15,\"font\":{\"color\":\"steelblue\"}},{\"text\":1.17,\"x\":-0.456924315,\"y\":0.259237,\"z\":-0.151712425,\"showarrow\":false,\"yshift\":15,\"font\":{\"color\":\"steelblue\"}}]}],\"label\":\"Indices & Bond Lengths\",\"method\":\"relayout\"},{\"args\":[{\"scene.annotations\":[{\"text\":1.6,\"x\":1.7495309799999998,\"y\":0.5889327050000001,\"z\":0.19102382,\"showarrow\":false,\"yshift\":15,\"font\":{\"color\":\"steelblue\"}},{\"text\":1.17,\"x\":1.439131735,\"y\":0.711571595,\"z\":-0.857783905,\"showarrow\":false,\"yshift\":15,\"font\":{\"color\":\"steelblue\"}},{\"text\":1.6,\"x\":0.626780885,\"y\":0.4077255,\"z\":-0.177033565,\"showarrow\":false,\"yshift\":15,\"font\":{\"color\":\"steelblue\"}},{\"text\":1.48,\"x\":1.12424648,\"y\":1.5132824649999999,\"z\":-0.338096615,\"showarrow\":false,\"yshift\":15,\"font\":{\"color\":\"steelblue\"}},{\"text\":1.13,\"x\":3.1938568849999998,\"y\":-5.014432545,\"z\":4.85993111,\"showarrow\":false,\"yshift\":15,\"font\":{\"color\":\"steelblue\"}},{\"text\":1.17,\"x\":1.364260745,\"y\":0.366524905,\"z\":2.334725445,\"showarrow\":false,\"yshift\":15,\"font\":{\"color\":\"steelblue\"}},{\"text\":1.6,\"x\":1.78781397,\"y\":0.181207205,\"z\":1.332836415,\"showarrow\":false,\"yshift\":15,\"font\":{\"color\":\"steelblue\"}},{\"text\":1.48,\"x\":0.665063875,\"y\":0.0,\"z\":1.6867452649999999,\"showarrow\":false,\"yshift\":15,\"font\":{\"color\":\"steelblue\"}},{\"text\":1.56,\"x\":1.484230515,\"y\":-0.655222455,\"z\":2.22486619,\"showarrow\":false,\"yshift\":15,\"font\":{\"color\":\"steelblue\"}},{\"text\":1.17,\"x\":0.343003635,\"y\":-2.434989135,\"z\":2.35422009,\"showarrow\":false,\"yshift\":15,\"font\":{\"color\":\"steelblue\"}},{\"text\":1.17,\"x\":0.44829927999999997,\"y\":-1.6747161799999999,\"z\":-0.46129223500000005,\"showarrow\":false,\"yshift\":15,\"font\":{\"color\":\"steelblue\"}},{\"text\":1.48,\"x\":-0.587362755,\"y\":-1.7439756649999998,\"z\":-0.341063095,\"showarrow\":false,\"yshift\":15,\"font\":{\"color\":\"steelblue\"}},{\"text\":1.6,\"x\":-0.007237425,\"y\":-0.703495635,\"z\":-0.29551007,\"showarrow\":false,\"yshift\":15,\"font\":{\"color\":\"steelblue\"}},{\"text\":1.17,\"x\":-0.031078895,\"y\":-1.35940503,\"z\":-1.139549755,\"showarrow\":false,\"yshift\":15,\"font\":{\"color\":\"steelblue\"}},{\"text\":1.05,\"x\":0.77077562,\"y\":2.30876967,\"z\":0.09553827000000001,\"showarrow\":false,\"yshift\":15,\"font\":{\"color\":\"steelblue\"}},{\"text\":1.6,\"x\":2.69330407,\"y\":-2.27850672,\"z\":3.43690989,\"showarrow\":false,\"yshift\":15,\"font\":{\"color\":\"steelblue\"}},{\"text\":1.56,\"x\":2.212212075,\"y\":-1.46538968,\"z\":2.86948396,\"showarrow\":false,\"yshift\":15,\"font\":{\"color\":\"steelblue\"}},{\"text\":1.56,\"x\":3.31953582,\"y\":-1.22972402,\"z\":3.331271395,\"showarrow\":false,\"yshift\":15,\"font\":{\"color\":\"steelblue\"}},{\"text\":1.17,\"x\":2.5298605199999997,\"y\":-0.07608150999999999,\"z\":0.576595745,\"showarrow\":false,\"yshift\":15,\"font\":{\"color\":\"steelblue\"}},{\"text\":1.17,\"x\":2.601127355,\"y\":0.75707189,\"z\":0.8591687299999999,\"showarrow\":false,\"yshift\":15,\"font\":{\"color\":\"steelblue\"}},{\"text\":1.56,\"x\":1.100542245,\"y\":-2.9315233349999996,\"z\":2.922340865,\"showarrow\":false,\"yshift\":15,\"font\":{\"color\":\"steelblue\"}},{\"text\":1.56,\"x\":1.9865444550000002,\"y\":-3.183495275,\"z\":3.4538896550000002,\"showarrow\":false,\"yshift\":15,\"font\":{\"color\":\"steelblue\"}},{\"text\":1.56,\"x\":1.233423065,\"y\":-1.8715900099999998,\"z\":2.55605146,\"showarrow\":false,\"yshift\":15,\"font\":{\"color\":\"steelblue\"}},{\"text\":1.05,\"x\":-1.155403035,\"y\":-2.532797425,\"z\":-0.26141844999999997,\"showarrow\":false,\"yshift\":15,\"font\":{\"color\":\"steelblue\"}},{\"text\":1.48,\"x\":0.0,\"y\":0.0,\"z\":0.721966235,\"showarrow\":false,\"yshift\":15,\"font\":{\"color\":\"steelblue\"}},{\"text\":1.6,\"x\":3.1292304900000003,\"y\":-3.211777585,\"z\":4.031845365000001,\"showarrow\":false,\"yshift\":15,\"font\":{\"color\":\"steelblue\"}},{\"text\":1.56,\"x\":3.64418707,\"y\":-4.125100625,\"z\":4.639593775,\"showarrow\":false,\"yshift\":15,\"font\":{\"color\":\"steelblue\"}},{\"text\":1.56,\"x\":4.199882095,\"y\":-3.108481925,\"z\":4.53426828,\"showarrow\":false,\"yshift\":15,\"font\":{\"color\":\"steelblue\"}},{\"text\":1.13,\"x\":3.9820889250000002,\"y\":-4.89734614,\"z\":5.205652955,\"showarrow\":false,\"yshift\":15,\"font\":{\"color\":\"steelblue\"}},{\"text\":1.17,\"x\":5.223650705000001,\"y\":-1.1958354,\"z\":4.2888596549999995,\"showarrow\":false,\"yshift\":15,\"font\":{\"color\":\"steelblue\"}},{\"text\":1.56,\"x\":4.313522435,\"y\":-1.1590523099999999,\"z\":3.80788162,\"showarrow\":false,\"yshift\":15,\"font\":{\"color\":\"steelblue\"}},{\"text\":1.56,\"x\":4.757942290000001,\"y\":-2.10453935,\"z\":4.415943029999999,\"showarrow\":false,\"yshift\":15,\"font\":{\"color\":\"steelblue\"}},{\"text\":1.17,\"x\":-0.456924315,\"y\":0.259237,\"z\":-0.151712425,\"showarrow\":false,\"yshift\":15,\"font\":{\"color\":\"steelblue\"}}]}],\"label\":\"Bond Lengths\",\"method\":\"relayout\"},{\"args\":[{\"scene.annotations\":[]}],\"label\":\"Hide All\",\"method\":\"relayout\"}],\"direction\":\"down\",\"xanchor\":\"left\",\"yanchor\":\"top\"}],\"template\":{\"data\":{\"histogram2dcontour\":[{\"type\":\"histogram2dcontour\",\"colorbar\":{\"outlinewidth\":0,\"ticks\":\"\"},\"colorscale\":[[0.0,\"#0d0887\"],[0.1111111111111111,\"#46039f\"],[0.2222222222222222,\"#7201a8\"],[0.3333333333333333,\"#9c179e\"],[0.4444444444444444,\"#bd3786\"],[0.5555555555555556,\"#d8576b\"],[0.6666666666666666,\"#ed7953\"],[0.7777777777777778,\"#fb9f3a\"],[0.8888888888888888,\"#fdca26\"],[1.0,\"#f0f921\"]]}],\"choropleth\":[{\"type\":\"choropleth\",\"colorbar\":{\"outlinewidth\":0,\"ticks\":\"\"}}],\"histogram2d\":[{\"type\":\"histogram2d\",\"colorbar\":{\"outlinewidth\":0,\"ticks\":\"\"},\"colorscale\":[[0.0,\"#0d0887\"],[0.1111111111111111,\"#46039f\"],[0.2222222222222222,\"#7201a8\"],[0.3333333333333333,\"#9c179e\"],[0.4444444444444444,\"#bd3786\"],[0.5555555555555556,\"#d8576b\"],[0.6666666666666666,\"#ed7953\"],[0.7777777777777778,\"#fb9f3a\"],[0.8888888888888888,\"#fdca26\"],[1.0,\"#f0f921\"]]}],\"heatmap\":[{\"type\":\"heatmap\",\"colorbar\":{\"outlinewidth\":0,\"ticks\":\"\"},\"colorscale\":[[0.0,\"#0d0887\"],[0.1111111111111111,\"#46039f\"],[0.2222222222222222,\"#7201a8\"],[0.3333333333333333,\"#9c179e\"],[0.4444444444444444,\"#bd3786\"],[0.5555555555555556,\"#d8576b\"],[0.6666666666666666,\"#ed7953\"],[0.7777777777777778,\"#fb9f3a\"],[0.8888888888888888,\"#fdca26\"],[1.0,\"#f0f921\"]]}],\"heatmapgl\":[{\"type\":\"heatmapgl\",\"colorbar\":{\"outlinewidth\":0,\"ticks\":\"\"},\"colorscale\":[[0.0,\"#0d0887\"],[0.1111111111111111,\"#46039f\"],[0.2222222222222222,\"#7201a8\"],[0.3333333333333333,\"#9c179e\"],[0.4444444444444444,\"#bd3786\"],[0.5555555555555556,\"#d8576b\"],[0.6666666666666666,\"#ed7953\"],[0.7777777777777778,\"#fb9f3a\"],[0.8888888888888888,\"#fdca26\"],[1.0,\"#f0f921\"]]}],\"contourcarpet\":[{\"type\":\"contourcarpet\",\"colorbar\":{\"outlinewidth\":0,\"ticks\":\"\"}}],\"contour\":[{\"type\":\"contour\",\"colorbar\":{\"outlinewidth\":0,\"ticks\":\"\"},\"colorscale\":[[0.0,\"#0d0887\"],[0.1111111111111111,\"#46039f\"],[0.2222222222222222,\"#7201a8\"],[0.3333333333333333,\"#9c179e\"],[0.4444444444444444,\"#bd3786\"],[0.5555555555555556,\"#d8576b\"],[0.6666666666666666,\"#ed7953\"],[0.7777777777777778,\"#fb9f3a\"],[0.8888888888888888,\"#fdca26\"],[1.0,\"#f0f921\"]]}],\"surface\":[{\"type\":\"surface\",\"colorbar\":{\"outlinewidth\":0,\"ticks\":\"\"},\"colorscale\":[[0.0,\"#0d0887\"],[0.1111111111111111,\"#46039f\"],[0.2222222222222222,\"#7201a8\"],[0.3333333333333333,\"#9c179e\"],[0.4444444444444444,\"#bd3786\"],[0.5555555555555556,\"#d8576b\"],[0.6666666666666666,\"#ed7953\"],[0.7777777777777778,\"#fb9f3a\"],[0.8888888888888888,\"#fdca26\"],[1.0,\"#f0f921\"]]}],\"mesh3d\":[{\"type\":\"mesh3d\",\"colorbar\":{\"outlinewidth\":0,\"ticks\":\"\"}}],\"scatter\":[{\"fillpattern\":{\"fillmode\":\"overlay\",\"size\":10,\"solidity\":0.2},\"type\":\"scatter\"}],\"parcoords\":[{\"type\":\"parcoords\",\"line\":{\"colorbar\":{\"outlinewidth\":0,\"ticks\":\"\"}}}],\"scatterpolargl\":[{\"type\":\"scatterpolargl\",\"marker\":{\"colorbar\":{\"outlinewidth\":0,\"ticks\":\"\"}}}],\"bar\":[{\"error_x\":{\"color\":\"#2a3f5f\"},\"error_y\":{\"color\":\"#2a3f5f\"},\"marker\":{\"line\":{\"color\":\"#E5ECF6\",\"width\":0.5},\"pattern\":{\"fillmode\":\"overlay\",\"size\":10,\"solidity\":0.2}},\"type\":\"bar\"}],\"scattergeo\":[{\"type\":\"scattergeo\",\"marker\":{\"colorbar\":{\"outlinewidth\":0,\"ticks\":\"\"}}}],\"scatterpolar\":[{\"type\":\"scatterpolar\",\"marker\":{\"colorbar\":{\"outlinewidth\":0,\"ticks\":\"\"}}}],\"histogram\":[{\"marker\":{\"pattern\":{\"fillmode\":\"overlay\",\"size\":10,\"solidity\":0.2}},\"type\":\"histogram\"}],\"scattergl\":[{\"type\":\"scattergl\",\"marker\":{\"colorbar\":{\"outlinewidth\":0,\"ticks\":\"\"}}}],\"scatter3d\":[{\"type\":\"scatter3d\",\"line\":{\"colorbar\":{\"outlinewidth\":0,\"ticks\":\"\"}},\"marker\":{\"colorbar\":{\"outlinewidth\":0,\"ticks\":\"\"}}}],\"scattermapbox\":[{\"type\":\"scattermapbox\",\"marker\":{\"colorbar\":{\"outlinewidth\":0,\"ticks\":\"\"}}}],\"scatterternary\":[{\"type\":\"scatterternary\",\"marker\":{\"colorbar\":{\"outlinewidth\":0,\"ticks\":\"\"}}}],\"scattercarpet\":[{\"type\":\"scattercarpet\",\"marker\":{\"colorbar\":{\"outlinewidth\":0,\"ticks\":\"\"}}}],\"carpet\":[{\"aaxis\":{\"endlinecolor\":\"#2a3f5f\",\"gridcolor\":\"white\",\"linecolor\":\"white\",\"minorgridcolor\":\"white\",\"startlinecolor\":\"#2a3f5f\"},\"baxis\":{\"endlinecolor\":\"#2a3f5f\",\"gridcolor\":\"white\",\"linecolor\":\"white\",\"minorgridcolor\":\"white\",\"startlinecolor\":\"#2a3f5f\"},\"type\":\"carpet\"}],\"table\":[{\"cells\":{\"fill\":{\"color\":\"#EBF0F8\"},\"line\":{\"color\":\"white\"}},\"header\":{\"fill\":{\"color\":\"#C8D4E3\"},\"line\":{\"color\":\"white\"}},\"type\":\"table\"}],\"barpolar\":[{\"marker\":{\"line\":{\"color\":\"#E5ECF6\",\"width\":0.5},\"pattern\":{\"fillmode\":\"overlay\",\"size\":10,\"solidity\":0.2}},\"type\":\"barpolar\"}],\"pie\":[{\"automargin\":true,\"type\":\"pie\"}]},\"layout\":{\"autotypenumbers\":\"strict\",\"colorway\":[\"#636efa\",\"#EF553B\",\"#00cc96\",\"#ab63fa\",\"#FFA15A\",\"#19d3f3\",\"#FF6692\",\"#B6E880\",\"#FF97FF\",\"#FECB52\"],\"font\":{\"color\":\"#2a3f5f\"},\"hovermode\":\"closest\",\"hoverlabel\":{\"align\":\"left\"},\"paper_bgcolor\":\"white\",\"plot_bgcolor\":\"#E5ECF6\",\"polar\":{\"bgcolor\":\"#E5ECF6\",\"angularaxis\":{\"gridcolor\":\"white\",\"linecolor\":\"white\",\"ticks\":\"\"},\"radialaxis\":{\"gridcolor\":\"white\",\"linecolor\":\"white\",\"ticks\":\"\"}},\"ternary\":{\"bgcolor\":\"#E5ECF6\",\"aaxis\":{\"gridcolor\":\"white\",\"linecolor\":\"white\",\"ticks\":\"\"},\"baxis\":{\"gridcolor\":\"white\",\"linecolor\":\"white\",\"ticks\":\"\"},\"caxis\":{\"gridcolor\":\"white\",\"linecolor\":\"white\",\"ticks\":\"\"}},\"coloraxis\":{\"colorbar\":{\"outlinewidth\":0,\"ticks\":\"\"}},\"colorscale\":{\"sequential\":[[0.0,\"#0d0887\"],[0.1111111111111111,\"#46039f\"],[0.2222222222222222,\"#7201a8\"],[0.3333333333333333,\"#9c179e\"],[0.4444444444444444,\"#bd3786\"],[0.5555555555555556,\"#d8576b\"],[0.6666666666666666,\"#ed7953\"],[0.7777777777777778,\"#fb9f3a\"],[0.8888888888888888,\"#fdca26\"],[1.0,\"#f0f921\"]],\"sequentialminus\":[[0.0,\"#0d0887\"],[0.1111111111111111,\"#46039f\"],[0.2222222222222222,\"#7201a8\"],[0.3333333333333333,\"#9c179e\"],[0.4444444444444444,\"#bd3786\"],[0.5555555555555556,\"#d8576b\"],[0.6666666666666666,\"#ed7953\"],[0.7777777777777778,\"#fb9f3a\"],[0.8888888888888888,\"#fdca26\"],[1.0,\"#f0f921\"]],\"diverging\":[[0,\"#8e0152\"],[0.1,\"#c51b7d\"],[0.2,\"#de77ae\"],[0.3,\"#f1b6da\"],[0.4,\"#fde0ef\"],[0.5,\"#f7f7f7\"],[0.6,\"#e6f5d0\"],[0.7,\"#b8e186\"],[0.8,\"#7fbc41\"],[0.9,\"#4d9221\"],[1,\"#276419\"]]},\"xaxis\":{\"gridcolor\":\"white\",\"linecolor\":\"white\",\"ticks\":\"\",\"title\":{\"standoff\":15},\"zerolinecolor\":\"white\",\"automargin\":true,\"zerolinewidth\":2},\"yaxis\":{\"gridcolor\":\"white\",\"linecolor\":\"white\",\"ticks\":\"\",\"title\":{\"standoff\":15},\"zerolinecolor\":\"white\",\"automargin\":true,\"zerolinewidth\":2},\"scene\":{\"xaxis\":{\"backgroundcolor\":\"#E5ECF6\",\"gridcolor\":\"white\",\"linecolor\":\"white\",\"showbackground\":true,\"ticks\":\"\",\"zerolinecolor\":\"white\",\"gridwidth\":2},\"yaxis\":{\"backgroundcolor\":\"#E5ECF6\",\"gridcolor\":\"white\",\"linecolor\":\"white\",\"showbackground\":true,\"ticks\":\"\",\"zerolinecolor\":\"white\",\"gridwidth\":2},\"zaxis\":{\"backgroundcolor\":\"#E5ECF6\",\"gridcolor\":\"white\",\"linecolor\":\"white\",\"showbackground\":true,\"ticks\":\"\",\"zerolinecolor\":\"white\",\"gridwidth\":2}},\"shapedefaults\":{\"line\":{\"color\":\"#2a3f5f\"}},\"annotationdefaults\":{\"arrowcolor\":\"#2a3f5f\",\"arrowhead\":0,\"arrowwidth\":1},\"geo\":{\"bgcolor\":\"white\",\"landcolor\":\"#E5ECF6\",\"subunitcolor\":\"white\",\"showland\":true,\"showlakes\":true,\"lakecolor\":\"white\"},\"title\":{\"x\":0.05},\"mapbox\":{\"style\":\"light\"}}}},                        {\"responsive\": true}                    ).then(function(){\n",
       "                            \n",
       "var gd = document.getElementById('daa4714f-5050-43f2-9683-1cc1441cf7b2');\n",
       "var x = new MutationObserver(function (mutations, observer) {{\n",
       "        var display = window.getComputedStyle(gd).display;\n",
       "        if (!display || display === 'none') {{\n",
       "            console.log([gd, 'removed!']);\n",
       "            Plotly.purge(gd);\n",
       "            observer.disconnect();\n",
       "        }}\n",
       "}});\n",
       "\n",
       "// Listen for the removal of the full notebook cells\n",
       "var notebookContainer = gd.closest('#notebook-container');\n",
       "if (notebookContainer) {{\n",
       "    x.observe(notebookContainer, {childList: true});\n",
       "}}\n",
       "\n",
       "// Listen for the clearing of the current output cell\n",
       "var outputEl = gd.closest('.output');\n",
       "if (outputEl) {{\n",
       "    x.observe(outputEl, {childList: true});\n",
       "}}\n",
       "\n",
       "                        })                };                });            </script>        </div>"
      ]
     },
     "metadata": {},
     "output_type": "display_data"
    }
   ],
   "source": [
    "mol = Molecule()\n",
    "mol.read_xyz('example/20_rf_xyz_dftV3#r15_084_GbbbB_shuffled.xyz')\n",
    "fig = to_plotly_figure(mol)\n",
    "fig.show()"
   ]
  }
 ],
 "metadata": {
  "kernelspec": {
   "display_name": "Python 3 (ipykernel)",
   "language": "python",
   "name": "python3"
  },
  "language_info": {
   "codemirror_mode": {
    "name": "ipython",
    "version": 3
   },
   "file_extension": ".py",
   "mimetype": "text/x-python",
   "name": "python",
   "nbconvert_exporter": "python",
   "pygments_lexer": "ipython3",
   "version": "3.11.4"
  }
 },
 "nbformat": 4,
 "nbformat_minor": 5
}
