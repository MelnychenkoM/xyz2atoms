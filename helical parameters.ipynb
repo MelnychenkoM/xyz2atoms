{
 "cells": [
  {
   "cell_type": "code",
   "execution_count": 1,
   "metadata": {},
   "outputs": [],
   "source": [
    "from xyz2atoms import Molecule, torsion_angle, to_plotly_figure\n",
    "import numpy as np"
   ]
  },
  {
   "cell_type": "markdown",
   "metadata": {},
   "source": [
    "## Calculating helical parameters of nucleotide chains from bond length, bond angles and internal-rotation angles\n",
    "**Shimanouchi T., Mizushima S. On the Helical Configuration of a Polymer Chain // J. Chem. Phys. 23, p. 707-712 (1955)**"
   ]
  },
  {
   "cell_type": "markdown",
   "metadata": {},
   "source": [
    "$$\n",
    "A_{ij}^{\\varphi} = \\begin{bmatrix} \n",
    "1 & 0 & 0 \\\\\n",
    "0 & \\cos\\varphi_{ij} & -\\sin\\varphi_ij \\\\\n",
    "0 & \\sin\\varphi_{ij} & \\cos\\varphi_{ij}\n",
    "\\end{bmatrix}\n",
    "$$\n",
    "$$\n",
    "A_{i}^{\\alpha} = \\begin{bmatrix} \n",
    "-\\cos\\alpha_i & -\\sin\\alpha_i & 0 \\\\\n",
    "\\sin\\alpha_i & -\\cos\\alpha_i & 0 \\\\\n",
    "0 & 0 & 1\n",
    "\\end{bmatrix}\n",
    "$$\n",
    "$$\n",
    "B_{ij} = \\begin{bmatrix} \n",
    "b_{ij} \\\\\n",
    "0 \\\\\n",
    "0\n",
    "\\end{bmatrix}\n",
    "$$"
   ]
  },
  {
   "cell_type": "markdown",
   "metadata": {},
   "source": [
    "$$\n",
    "A = \\begin{bmatrix}\n",
    "a_{11} & a_{12} & a_{13} \\\\ \n",
    "a_{21} & a_{22} & a_{23} \\\\ \n",
    "a_{31} & a_{32} & a_{33}\n",
    "\\end{bmatrix} = A_{1}^{\\alpha}A_{12}^{\\varphi}A_{2}^{\\alpha}A_{23}^{\\varphi} ... A_{p}^{\\alpha}A_{p-1 p}^{\\varphi}\n",
    "$$\n",
    "$$\n",
    "B = \\begin{bmatrix}\n",
    "b_1 \\\\\n",
    "b_2 \\\\\n",
    "b_3\n",
    "\\end{bmatrix} = B_{12} + A_{12}^{\\varphi}A_{1}^{\\alpha}B_{23} + ... + A_{21}^{\\varphi}A_{1}^{\\alpha}A_{23}^{\\varphi}A_2^{\\alpha}\n",
    "...A_{(p-2)(p-1)}^{\\varphi}B_{(p-1)p} + \\newline A_{12}^{\\varphi}A_{1}^{\\alpha}A_{23}^{\\varphi}A_{2}^{\\alpha} ... A_{(p-1)p}^{\\varphi}A_{(p-1)}^{\\alpha}B_{p1}\n",
    "$$"
   ]
  },
  {
   "cell_type": "markdown",
   "metadata": {},
   "source": [
    "$$\\cos(\\theta/2) = (1 + a_{11} + a_{22} + a_{33})^{1/2} / 2$$\n",
    "$$d\\sin(\\theta/2) = [b_1(a_{13} + a_{31}) + b_2(a_{23} + a_{32}) + b_3(1 - a_{11} - a_{22} + a_{33})] / \\ \n",
    " [2(1 - a_{11} - a_{22} + a{33})^{1/2}]$$\n",
    "$$2\\rho_1^2(1 - \\cos(\\theta)) + d^2 = b_1^2 + b_2^2 + b_3^2 = R$$"
   ]
  },
  {
   "cell_type": "markdown",
   "metadata": {},
   "source": [
    "<img src=\"img/nucleotide_angles.png\" alt=\"drawing\" width=\"600\"/>"
   ]
  },
  {
   "cell_type": "code",
   "execution_count": 2,
   "metadata": {},
   "outputs": [
    {
     "data": {
      "application/vnd.plotly.v1+json": {
       "config": {
        "plotlyServerURL": "https://plot.ly"
       },
       "data": [
        {
         "marker": {
          "color": [
           "black",
           "black",
           "black",
           "black",
           "black",
           "red",
           "red",
           "red",
           "orange",
           "red",
           "black",
           "black",
           "black",
           "black",
           "black",
           "red",
           "red",
           "red",
           "red",
           "white",
           "white",
           "white",
           "white",
           "white",
           "white",
           "white",
           "white",
           "white",
           "white",
           "white",
           "white",
           "white",
           "white",
           "white",
           "white",
           "white",
           "white",
           "white"
          ],
          "line": {
           "color": "lightgray",
           "width": 2
          },
          "opacity": 0.8,
          "size": 7,
          "symbol": "circle"
         },
         "mode": "markers",
         "text": [
          "C4'",
          "C3'",
          "C2'",
          "C1'",
          "C5'",
          "O4'",
          "O3'",
          "O5'",
          "P",
          "O3'",
          "C3'",
          "C2'",
          "C1'",
          "C4'",
          "C5'",
          "O4'",
          "O5'",
          "OP1",
          "OP2",
          "H",
          "H",
          "H",
          "H",
          "H",
          "H",
          "H",
          "H",
          "H",
          "H",
          "H",
          "H",
          "H",
          "H",
          "H",
          "H",
          "H",
          "H",
          "H"
         ],
         "type": "scatter3d",
         "x": [
          0.093,
          1.394,
          2.164,
          1.036,
          0.014,
          0.004,
          1.123,
          1.175,
          1.437,
          2.427,
          2.151,
          1.464,
          2.66,
          3.504,
          3.567,
          3.682,
          3.53,
          1.945,
          -0.006,
          -0.718,
          1.951,
          2.786,
          2.828,
          0.684,
          1.357,
          -0.874,
          -0.013,
          0.614,
          1.56,
          0.793,
          0.86,
          2.972,
          2.429,
          4.262,
          4.476,
          2.707,
          4.3,
          -0.641
         ],
         "y": [
          -0.193,
          0.645,
          0.282,
          0.022,
          -1.418,
          -0.611,
          2.038,
          -2.238,
          -3.626,
          -4.345,
          -4.435,
          -5.765,
          -6.713,
          -4.558,
          -3.76,
          -5.94,
          -2.354,
          -3.599,
          -4.37,
          0.435,
          0.431,
          1.091,
          -0.548,
          0.942,
          -0.584,
          -1.972,
          -1.123,
          2.337,
          -3.589,
          -6.058,
          -5.738,
          -7.024,
          -7.606,
          -4.172,
          -4.005,
          -4.021,
          -2.088,
          -3.963
         ],
         "z": [
          0.044,
          -0.1,
          1.178,
          2.176,
          -0.851,
          1.41,
          -0.221,
          -0.599,
          -1.36,
          -0.33,
          1.099,
          1.425,
          1.518,
          1.825,
          3.13,
          2.154,
          2.913,
          -2.744,
          -1.217,
          -0.261,
          -0.988,
          1.499,
          1.057,
          2.594,
          2.997,
          -0.63,
          -1.879,
          0.548,
          1.382,
          0.645,
          2.307,
          0.543,
          2.06,
          1.175,
          3.639,
          3.712,
          2.387,
          -1.828
         ]
        },
        {
         "hoverinfo": "none",
         "marker": {
          "color": "grey",
          "opacity": 1,
          "size": 7
         },
         "mode": "lines",
         "type": "scatter3d",
         "x": [
          0.093,
          1.394,
          null,
          0.093,
          0.014,
          null,
          0.093,
          0.004,
          null,
          0.093,
          -0.718,
          null,
          1.394,
          0.093,
          null,
          1.394,
          2.164,
          null,
          1.394,
          1.123,
          null,
          1.394,
          1.951,
          null,
          2.164,
          1.394,
          null,
          2.164,
          1.036,
          null,
          2.164,
          2.786,
          null,
          2.164,
          2.828,
          null,
          1.036,
          2.164,
          null,
          1.036,
          0.004,
          null,
          1.036,
          0.684,
          null,
          1.036,
          1.357,
          null,
          0.014,
          0.093,
          null,
          0.014,
          1.175,
          null,
          0.014,
          -0.874,
          null,
          0.014,
          -0.013,
          null,
          0.004,
          0.093,
          null,
          0.004,
          1.036,
          null,
          1.123,
          1.394,
          null,
          1.123,
          0.614,
          null,
          1.175,
          0.014,
          null,
          1.175,
          1.437,
          null,
          1.437,
          1.175,
          null,
          1.437,
          2.427,
          null,
          1.437,
          1.945,
          null,
          1.437,
          -0.006,
          null,
          2.427,
          1.437,
          null,
          2.427,
          2.151,
          null,
          2.151,
          2.427,
          null,
          2.151,
          1.464,
          null,
          2.151,
          3.504,
          null,
          2.151,
          1.56,
          null,
          1.464,
          2.151,
          null,
          1.464,
          2.66,
          null,
          1.464,
          0.793,
          null,
          1.464,
          0.86,
          null,
          2.66,
          1.464,
          null,
          2.66,
          3.682,
          null,
          2.66,
          2.972,
          null,
          2.66,
          2.429,
          null,
          3.504,
          2.151,
          null,
          3.504,
          3.567,
          null,
          3.504,
          3.682,
          null,
          3.504,
          4.262,
          null,
          3.567,
          3.504,
          null,
          3.567,
          3.53,
          null,
          3.567,
          4.476,
          null,
          3.567,
          2.707,
          null,
          3.682,
          2.66,
          null,
          3.682,
          3.504,
          null,
          3.53,
          3.567,
          null,
          3.53,
          4.3,
          null,
          1.945,
          1.437,
          null,
          -0.006,
          1.437,
          null,
          -0.006,
          -0.641,
          null,
          -0.718,
          0.093,
          null,
          1.951,
          1.394,
          null,
          2.786,
          2.164,
          null,
          2.828,
          2.164,
          null,
          0.684,
          1.036,
          null,
          1.357,
          1.036,
          null,
          -0.874,
          0.014,
          null,
          -0.013,
          0.014,
          null,
          0.614,
          1.123,
          null,
          1.56,
          2.151,
          null,
          0.793,
          1.464,
          null,
          0.86,
          1.464,
          null,
          2.972,
          2.66,
          null,
          2.429,
          2.66,
          null,
          4.262,
          3.504,
          null,
          4.476,
          3.567,
          null,
          2.707,
          3.567,
          null,
          4.3,
          3.53,
          null,
          -0.641,
          -0.006,
          null
         ],
         "y": [
          -0.193,
          0.645,
          null,
          -0.193,
          -1.418,
          null,
          -0.193,
          -0.611,
          null,
          -0.193,
          0.435,
          null,
          0.645,
          -0.193,
          null,
          0.645,
          0.282,
          null,
          0.645,
          2.038,
          null,
          0.645,
          0.431,
          null,
          0.282,
          0.645,
          null,
          0.282,
          0.022,
          null,
          0.282,
          1.091,
          null,
          0.282,
          -0.548,
          null,
          0.022,
          0.282,
          null,
          0.022,
          -0.611,
          null,
          0.022,
          0.942,
          null,
          0.022,
          -0.584,
          null,
          -1.418,
          -0.193,
          null,
          -1.418,
          -2.238,
          null,
          -1.418,
          -1.972,
          null,
          -1.418,
          -1.123,
          null,
          -0.611,
          -0.193,
          null,
          -0.611,
          0.022,
          null,
          2.038,
          0.645,
          null,
          2.038,
          2.337,
          null,
          -2.238,
          -1.418,
          null,
          -2.238,
          -3.626,
          null,
          -3.626,
          -2.238,
          null,
          -3.626,
          -4.345,
          null,
          -3.626,
          -3.599,
          null,
          -3.626,
          -4.37,
          null,
          -4.345,
          -3.626,
          null,
          -4.345,
          -4.435,
          null,
          -4.435,
          -4.345,
          null,
          -4.435,
          -5.765,
          null,
          -4.435,
          -4.558,
          null,
          -4.435,
          -3.589,
          null,
          -5.765,
          -4.435,
          null,
          -5.765,
          -6.713,
          null,
          -5.765,
          -6.058,
          null,
          -5.765,
          -5.738,
          null,
          -6.713,
          -5.765,
          null,
          -6.713,
          -5.94,
          null,
          -6.713,
          -7.024,
          null,
          -6.713,
          -7.606,
          null,
          -4.558,
          -4.435,
          null,
          -4.558,
          -3.76,
          null,
          -4.558,
          -5.94,
          null,
          -4.558,
          -4.172,
          null,
          -3.76,
          -4.558,
          null,
          -3.76,
          -2.354,
          null,
          -3.76,
          -4.005,
          null,
          -3.76,
          -4.021,
          null,
          -5.94,
          -6.713,
          null,
          -5.94,
          -4.558,
          null,
          -2.354,
          -3.76,
          null,
          -2.354,
          -2.088,
          null,
          -3.599,
          -3.626,
          null,
          -4.37,
          -3.626,
          null,
          -4.37,
          -3.963,
          null,
          0.435,
          -0.193,
          null,
          0.431,
          0.645,
          null,
          1.091,
          0.282,
          null,
          -0.548,
          0.282,
          null,
          0.942,
          0.022,
          null,
          -0.584,
          0.022,
          null,
          -1.972,
          -1.418,
          null,
          -1.123,
          -1.418,
          null,
          2.337,
          2.038,
          null,
          -3.589,
          -4.435,
          null,
          -6.058,
          -5.765,
          null,
          -5.738,
          -5.765,
          null,
          -7.024,
          -6.713,
          null,
          -7.606,
          -6.713,
          null,
          -4.172,
          -4.558,
          null,
          -4.005,
          -3.76,
          null,
          -4.021,
          -3.76,
          null,
          -2.088,
          -2.354,
          null,
          -3.963,
          -4.37,
          null
         ],
         "z": [
          0.044,
          -0.1,
          null,
          0.044,
          -0.851,
          null,
          0.044,
          1.41,
          null,
          0.044,
          -0.261,
          null,
          -0.1,
          0.044,
          null,
          -0.1,
          1.178,
          null,
          -0.1,
          -0.221,
          null,
          -0.1,
          -0.988,
          null,
          1.178,
          -0.1,
          null,
          1.178,
          2.176,
          null,
          1.178,
          1.499,
          null,
          1.178,
          1.057,
          null,
          2.176,
          1.178,
          null,
          2.176,
          1.41,
          null,
          2.176,
          2.594,
          null,
          2.176,
          2.997,
          null,
          -0.851,
          0.044,
          null,
          -0.851,
          -0.599,
          null,
          -0.851,
          -0.63,
          null,
          -0.851,
          -1.879,
          null,
          1.41,
          0.044,
          null,
          1.41,
          2.176,
          null,
          -0.221,
          -0.1,
          null,
          -0.221,
          0.548,
          null,
          -0.599,
          -0.851,
          null,
          -0.599,
          -1.36,
          null,
          -1.36,
          -0.599,
          null,
          -1.36,
          -0.33,
          null,
          -1.36,
          -2.744,
          null,
          -1.36,
          -1.217,
          null,
          -0.33,
          -1.36,
          null,
          -0.33,
          1.099,
          null,
          1.099,
          -0.33,
          null,
          1.099,
          1.425,
          null,
          1.099,
          1.825,
          null,
          1.099,
          1.382,
          null,
          1.425,
          1.099,
          null,
          1.425,
          1.518,
          null,
          1.425,
          0.645,
          null,
          1.425,
          2.307,
          null,
          1.518,
          1.425,
          null,
          1.518,
          2.154,
          null,
          1.518,
          0.543,
          null,
          1.518,
          2.06,
          null,
          1.825,
          1.099,
          null,
          1.825,
          3.13,
          null,
          1.825,
          2.154,
          null,
          1.825,
          1.175,
          null,
          3.13,
          1.825,
          null,
          3.13,
          2.913,
          null,
          3.13,
          3.639,
          null,
          3.13,
          3.712,
          null,
          2.154,
          1.518,
          null,
          2.154,
          1.825,
          null,
          2.913,
          3.13,
          null,
          2.913,
          2.387,
          null,
          -2.744,
          -1.36,
          null,
          -1.217,
          -1.36,
          null,
          -1.217,
          -1.828,
          null,
          -0.261,
          0.044,
          null,
          -0.988,
          -0.1,
          null,
          1.499,
          1.178,
          null,
          1.057,
          1.178,
          null,
          2.594,
          2.176,
          null,
          2.997,
          2.176,
          null,
          -0.63,
          -0.851,
          null,
          -1.879,
          -0.851,
          null,
          0.548,
          -0.221,
          null,
          1.382,
          1.099,
          null,
          0.645,
          1.425,
          null,
          2.307,
          1.425,
          null,
          0.543,
          1.518,
          null,
          2.06,
          1.518,
          null,
          1.175,
          1.825,
          null,
          3.639,
          3.13,
          null,
          3.712,
          3.13,
          null,
          2.387,
          2.913,
          null,
          -1.828,
          -1.217,
          null
         ]
        }
       ],
       "layout": {
        "height": 800,
        "margin": {
         "b": 0,
         "l": 0,
         "r": 0,
         "t": 0
        },
        "scene": {
         "annotations": [
          {
           "showarrow": false,
           "text": "C",
           "x": 0.093,
           "y": -0.193,
           "yshift": 15,
           "z": 0.044
          },
          {
           "showarrow": false,
           "text": "C",
           "x": 1.394,
           "y": 0.645,
           "yshift": 15,
           "z": -0.1
          },
          {
           "showarrow": false,
           "text": "C",
           "x": 2.164,
           "y": 0.282,
           "yshift": 15,
           "z": 1.178
          },
          {
           "showarrow": false,
           "text": "C",
           "x": 1.036,
           "y": 0.022,
           "yshift": 15,
           "z": 2.176
          },
          {
           "showarrow": false,
           "text": "C",
           "x": 0.014,
           "y": -1.418,
           "yshift": 15,
           "z": -0.851
          },
          {
           "showarrow": false,
           "text": "O",
           "x": 0.004,
           "y": -0.611,
           "yshift": 15,
           "z": 1.41
          },
          {
           "showarrow": false,
           "text": "O",
           "x": 1.123,
           "y": 2.038,
           "yshift": 15,
           "z": -0.221
          },
          {
           "showarrow": false,
           "text": "O",
           "x": 1.175,
           "y": -2.238,
           "yshift": 15,
           "z": -0.599
          },
          {
           "showarrow": false,
           "text": "P",
           "x": 1.437,
           "y": -3.626,
           "yshift": 15,
           "z": -1.36
          },
          {
           "showarrow": false,
           "text": "O",
           "x": 2.427,
           "y": -4.345,
           "yshift": 15,
           "z": -0.33
          },
          {
           "showarrow": false,
           "text": "C",
           "x": 2.151,
           "y": -4.435,
           "yshift": 15,
           "z": 1.099
          },
          {
           "showarrow": false,
           "text": "C",
           "x": 1.464,
           "y": -5.765,
           "yshift": 15,
           "z": 1.425
          },
          {
           "showarrow": false,
           "text": "C",
           "x": 2.66,
           "y": -6.713,
           "yshift": 15,
           "z": 1.518
          },
          {
           "showarrow": false,
           "text": "C",
           "x": 3.504,
           "y": -4.558,
           "yshift": 15,
           "z": 1.825
          },
          {
           "showarrow": false,
           "text": "C",
           "x": 3.567,
           "y": -3.76,
           "yshift": 15,
           "z": 3.13
          },
          {
           "showarrow": false,
           "text": "O",
           "x": 3.682,
           "y": -5.94,
           "yshift": 15,
           "z": 2.154
          },
          {
           "showarrow": false,
           "text": "O",
           "x": 3.53,
           "y": -2.354,
           "yshift": 15,
           "z": 2.913
          },
          {
           "showarrow": false,
           "text": "O",
           "x": 1.945,
           "y": -3.599,
           "yshift": 15,
           "z": -2.744
          },
          {
           "showarrow": false,
           "text": "O",
           "x": -0.006,
           "y": -4.37,
           "yshift": 15,
           "z": -1.217
          },
          {
           "showarrow": false,
           "text": "H",
           "x": -0.718,
           "y": 0.435,
           "yshift": 15,
           "z": -0.261
          },
          {
           "showarrow": false,
           "text": "H",
           "x": 1.951,
           "y": 0.431,
           "yshift": 15,
           "z": -0.988
          },
          {
           "showarrow": false,
           "text": "H",
           "x": 2.786,
           "y": 1.091,
           "yshift": 15,
           "z": 1.499
          },
          {
           "showarrow": false,
           "text": "H",
           "x": 2.828,
           "y": -0.548,
           "yshift": 15,
           "z": 1.057
          },
          {
           "showarrow": false,
           "text": "H",
           "x": 0.684,
           "y": 0.942,
           "yshift": 15,
           "z": 2.594
          },
          {
           "showarrow": false,
           "text": "H",
           "x": 1.357,
           "y": -0.584,
           "yshift": 15,
           "z": 2.997
          },
          {
           "showarrow": false,
           "text": "H",
           "x": -0.874,
           "y": -1.972,
           "yshift": 15,
           "z": -0.63
          },
          {
           "showarrow": false,
           "text": "H",
           "x": -0.013,
           "y": -1.123,
           "yshift": 15,
           "z": -1.879
          },
          {
           "showarrow": false,
           "text": "H",
           "x": 0.614,
           "y": 2.337,
           "yshift": 15,
           "z": 0.548
          },
          {
           "showarrow": false,
           "text": "H",
           "x": 1.56,
           "y": -3.589,
           "yshift": 15,
           "z": 1.382
          },
          {
           "showarrow": false,
           "text": "H",
           "x": 0.793,
           "y": -6.058,
           "yshift": 15,
           "z": 0.645
          },
          {
           "showarrow": false,
           "text": "H",
           "x": 0.86,
           "y": -5.738,
           "yshift": 15,
           "z": 2.307
          },
          {
           "showarrow": false,
           "text": "H",
           "x": 2.972,
           "y": -7.024,
           "yshift": 15,
           "z": 0.543
          },
          {
           "showarrow": false,
           "text": "H",
           "x": 2.429,
           "y": -7.606,
           "yshift": 15,
           "z": 2.06
          },
          {
           "showarrow": false,
           "text": "H",
           "x": 4.262,
           "y": -4.172,
           "yshift": 15,
           "z": 1.175
          },
          {
           "showarrow": false,
           "text": "H",
           "x": 4.476,
           "y": -4.005,
           "yshift": 15,
           "z": 3.639
          },
          {
           "showarrow": false,
           "text": "H",
           "x": 2.707,
           "y": -4.021,
           "yshift": 15,
           "z": 3.712
          },
          {
           "showarrow": false,
           "text": "H",
           "x": 4.3,
           "y": -2.088,
           "yshift": 15,
           "z": 2.387
          },
          {
           "showarrow": false,
           "text": "H",
           "x": -0.641,
           "y": -3.963,
           "yshift": 15,
           "z": -1.828
          }
         ],
         "xaxis": {
          "showbackground": false,
          "showgrid": false,
          "showticklabels": false,
          "title": {
           "font": {
            "color": "white"
           }
          },
          "zeroline": false
         },
         "yaxis": {
          "showbackground": false,
          "showgrid": false,
          "showticklabels": false,
          "title": {
           "font": {
            "color": "white"
           }
          },
          "zeroline": false
         },
         "zaxis": {
          "showbackground": false,
          "showgrid": false,
          "showticklabels": false,
          "title": {
           "font": {
            "color": "white"
           }
          },
          "zeroline": false
         }
        },
        "showlegend": false,
        "template": {
         "data": {
          "bar": [
           {
            "error_x": {
             "color": "#2a3f5f"
            },
            "error_y": {
             "color": "#2a3f5f"
            },
            "marker": {
             "line": {
              "color": "#E5ECF6",
              "width": 0.5
             },
             "pattern": {
              "fillmode": "overlay",
              "size": 10,
              "solidity": 0.2
             }
            },
            "type": "bar"
           }
          ],
          "barpolar": [
           {
            "marker": {
             "line": {
              "color": "#E5ECF6",
              "width": 0.5
             },
             "pattern": {
              "fillmode": "overlay",
              "size": 10,
              "solidity": 0.2
             }
            },
            "type": "barpolar"
           }
          ],
          "carpet": [
           {
            "aaxis": {
             "endlinecolor": "#2a3f5f",
             "gridcolor": "white",
             "linecolor": "white",
             "minorgridcolor": "white",
             "startlinecolor": "#2a3f5f"
            },
            "baxis": {
             "endlinecolor": "#2a3f5f",
             "gridcolor": "white",
             "linecolor": "white",
             "minorgridcolor": "white",
             "startlinecolor": "#2a3f5f"
            },
            "type": "carpet"
           }
          ],
          "choropleth": [
           {
            "colorbar": {
             "outlinewidth": 0,
             "ticks": ""
            },
            "type": "choropleth"
           }
          ],
          "contour": [
           {
            "colorbar": {
             "outlinewidth": 0,
             "ticks": ""
            },
            "colorscale": [
             [
              0,
              "#0d0887"
             ],
             [
              0.1111111111111111,
              "#46039f"
             ],
             [
              0.2222222222222222,
              "#7201a8"
             ],
             [
              0.3333333333333333,
              "#9c179e"
             ],
             [
              0.4444444444444444,
              "#bd3786"
             ],
             [
              0.5555555555555556,
              "#d8576b"
             ],
             [
              0.6666666666666666,
              "#ed7953"
             ],
             [
              0.7777777777777778,
              "#fb9f3a"
             ],
             [
              0.8888888888888888,
              "#fdca26"
             ],
             [
              1,
              "#f0f921"
             ]
            ],
            "type": "contour"
           }
          ],
          "contourcarpet": [
           {
            "colorbar": {
             "outlinewidth": 0,
             "ticks": ""
            },
            "type": "contourcarpet"
           }
          ],
          "heatmap": [
           {
            "colorbar": {
             "outlinewidth": 0,
             "ticks": ""
            },
            "colorscale": [
             [
              0,
              "#0d0887"
             ],
             [
              0.1111111111111111,
              "#46039f"
             ],
             [
              0.2222222222222222,
              "#7201a8"
             ],
             [
              0.3333333333333333,
              "#9c179e"
             ],
             [
              0.4444444444444444,
              "#bd3786"
             ],
             [
              0.5555555555555556,
              "#d8576b"
             ],
             [
              0.6666666666666666,
              "#ed7953"
             ],
             [
              0.7777777777777778,
              "#fb9f3a"
             ],
             [
              0.8888888888888888,
              "#fdca26"
             ],
             [
              1,
              "#f0f921"
             ]
            ],
            "type": "heatmap"
           }
          ],
          "heatmapgl": [
           {
            "colorbar": {
             "outlinewidth": 0,
             "ticks": ""
            },
            "colorscale": [
             [
              0,
              "#0d0887"
             ],
             [
              0.1111111111111111,
              "#46039f"
             ],
             [
              0.2222222222222222,
              "#7201a8"
             ],
             [
              0.3333333333333333,
              "#9c179e"
             ],
             [
              0.4444444444444444,
              "#bd3786"
             ],
             [
              0.5555555555555556,
              "#d8576b"
             ],
             [
              0.6666666666666666,
              "#ed7953"
             ],
             [
              0.7777777777777778,
              "#fb9f3a"
             ],
             [
              0.8888888888888888,
              "#fdca26"
             ],
             [
              1,
              "#f0f921"
             ]
            ],
            "type": "heatmapgl"
           }
          ],
          "histogram": [
           {
            "marker": {
             "pattern": {
              "fillmode": "overlay",
              "size": 10,
              "solidity": 0.2
             }
            },
            "type": "histogram"
           }
          ],
          "histogram2d": [
           {
            "colorbar": {
             "outlinewidth": 0,
             "ticks": ""
            },
            "colorscale": [
             [
              0,
              "#0d0887"
             ],
             [
              0.1111111111111111,
              "#46039f"
             ],
             [
              0.2222222222222222,
              "#7201a8"
             ],
             [
              0.3333333333333333,
              "#9c179e"
             ],
             [
              0.4444444444444444,
              "#bd3786"
             ],
             [
              0.5555555555555556,
              "#d8576b"
             ],
             [
              0.6666666666666666,
              "#ed7953"
             ],
             [
              0.7777777777777778,
              "#fb9f3a"
             ],
             [
              0.8888888888888888,
              "#fdca26"
             ],
             [
              1,
              "#f0f921"
             ]
            ],
            "type": "histogram2d"
           }
          ],
          "histogram2dcontour": [
           {
            "colorbar": {
             "outlinewidth": 0,
             "ticks": ""
            },
            "colorscale": [
             [
              0,
              "#0d0887"
             ],
             [
              0.1111111111111111,
              "#46039f"
             ],
             [
              0.2222222222222222,
              "#7201a8"
             ],
             [
              0.3333333333333333,
              "#9c179e"
             ],
             [
              0.4444444444444444,
              "#bd3786"
             ],
             [
              0.5555555555555556,
              "#d8576b"
             ],
             [
              0.6666666666666666,
              "#ed7953"
             ],
             [
              0.7777777777777778,
              "#fb9f3a"
             ],
             [
              0.8888888888888888,
              "#fdca26"
             ],
             [
              1,
              "#f0f921"
             ]
            ],
            "type": "histogram2dcontour"
           }
          ],
          "mesh3d": [
           {
            "colorbar": {
             "outlinewidth": 0,
             "ticks": ""
            },
            "type": "mesh3d"
           }
          ],
          "parcoords": [
           {
            "line": {
             "colorbar": {
              "outlinewidth": 0,
              "ticks": ""
             }
            },
            "type": "parcoords"
           }
          ],
          "pie": [
           {
            "automargin": true,
            "type": "pie"
           }
          ],
          "scatter": [
           {
            "fillpattern": {
             "fillmode": "overlay",
             "size": 10,
             "solidity": 0.2
            },
            "type": "scatter"
           }
          ],
          "scatter3d": [
           {
            "line": {
             "colorbar": {
              "outlinewidth": 0,
              "ticks": ""
             }
            },
            "marker": {
             "colorbar": {
              "outlinewidth": 0,
              "ticks": ""
             }
            },
            "type": "scatter3d"
           }
          ],
          "scattercarpet": [
           {
            "marker": {
             "colorbar": {
              "outlinewidth": 0,
              "ticks": ""
             }
            },
            "type": "scattercarpet"
           }
          ],
          "scattergeo": [
           {
            "marker": {
             "colorbar": {
              "outlinewidth": 0,
              "ticks": ""
             }
            },
            "type": "scattergeo"
           }
          ],
          "scattergl": [
           {
            "marker": {
             "colorbar": {
              "outlinewidth": 0,
              "ticks": ""
             }
            },
            "type": "scattergl"
           }
          ],
          "scattermapbox": [
           {
            "marker": {
             "colorbar": {
              "outlinewidth": 0,
              "ticks": ""
             }
            },
            "type": "scattermapbox"
           }
          ],
          "scatterpolar": [
           {
            "marker": {
             "colorbar": {
              "outlinewidth": 0,
              "ticks": ""
             }
            },
            "type": "scatterpolar"
           }
          ],
          "scatterpolargl": [
           {
            "marker": {
             "colorbar": {
              "outlinewidth": 0,
              "ticks": ""
             }
            },
            "type": "scatterpolargl"
           }
          ],
          "scatterternary": [
           {
            "marker": {
             "colorbar": {
              "outlinewidth": 0,
              "ticks": ""
             }
            },
            "type": "scatterternary"
           }
          ],
          "surface": [
           {
            "colorbar": {
             "outlinewidth": 0,
             "ticks": ""
            },
            "colorscale": [
             [
              0,
              "#0d0887"
             ],
             [
              0.1111111111111111,
              "#46039f"
             ],
             [
              0.2222222222222222,
              "#7201a8"
             ],
             [
              0.3333333333333333,
              "#9c179e"
             ],
             [
              0.4444444444444444,
              "#bd3786"
             ],
             [
              0.5555555555555556,
              "#d8576b"
             ],
             [
              0.6666666666666666,
              "#ed7953"
             ],
             [
              0.7777777777777778,
              "#fb9f3a"
             ],
             [
              0.8888888888888888,
              "#fdca26"
             ],
             [
              1,
              "#f0f921"
             ]
            ],
            "type": "surface"
           }
          ],
          "table": [
           {
            "cells": {
             "fill": {
              "color": "#EBF0F8"
             },
             "line": {
              "color": "white"
             }
            },
            "header": {
             "fill": {
              "color": "#C8D4E3"
             },
             "line": {
              "color": "white"
             }
            },
            "type": "table"
           }
          ]
         },
         "layout": {
          "annotationdefaults": {
           "arrowcolor": "#2a3f5f",
           "arrowhead": 0,
           "arrowwidth": 1
          },
          "autotypenumbers": "strict",
          "coloraxis": {
           "colorbar": {
            "outlinewidth": 0,
            "ticks": ""
           }
          },
          "colorscale": {
           "diverging": [
            [
             0,
             "#8e0152"
            ],
            [
             0.1,
             "#c51b7d"
            ],
            [
             0.2,
             "#de77ae"
            ],
            [
             0.3,
             "#f1b6da"
            ],
            [
             0.4,
             "#fde0ef"
            ],
            [
             0.5,
             "#f7f7f7"
            ],
            [
             0.6,
             "#e6f5d0"
            ],
            [
             0.7,
             "#b8e186"
            ],
            [
             0.8,
             "#7fbc41"
            ],
            [
             0.9,
             "#4d9221"
            ],
            [
             1,
             "#276419"
            ]
           ],
           "sequential": [
            [
             0,
             "#0d0887"
            ],
            [
             0.1111111111111111,
             "#46039f"
            ],
            [
             0.2222222222222222,
             "#7201a8"
            ],
            [
             0.3333333333333333,
             "#9c179e"
            ],
            [
             0.4444444444444444,
             "#bd3786"
            ],
            [
             0.5555555555555556,
             "#d8576b"
            ],
            [
             0.6666666666666666,
             "#ed7953"
            ],
            [
             0.7777777777777778,
             "#fb9f3a"
            ],
            [
             0.8888888888888888,
             "#fdca26"
            ],
            [
             1,
             "#f0f921"
            ]
           ],
           "sequentialminus": [
            [
             0,
             "#0d0887"
            ],
            [
             0.1111111111111111,
             "#46039f"
            ],
            [
             0.2222222222222222,
             "#7201a8"
            ],
            [
             0.3333333333333333,
             "#9c179e"
            ],
            [
             0.4444444444444444,
             "#bd3786"
            ],
            [
             0.5555555555555556,
             "#d8576b"
            ],
            [
             0.6666666666666666,
             "#ed7953"
            ],
            [
             0.7777777777777778,
             "#fb9f3a"
            ],
            [
             0.8888888888888888,
             "#fdca26"
            ],
            [
             1,
             "#f0f921"
            ]
           ]
          },
          "colorway": [
           "#636efa",
           "#EF553B",
           "#00cc96",
           "#ab63fa",
           "#FFA15A",
           "#19d3f3",
           "#FF6692",
           "#B6E880",
           "#FF97FF",
           "#FECB52"
          ],
          "font": {
           "color": "#2a3f5f"
          },
          "geo": {
           "bgcolor": "white",
           "lakecolor": "white",
           "landcolor": "#E5ECF6",
           "showlakes": true,
           "showland": true,
           "subunitcolor": "white"
          },
          "hoverlabel": {
           "align": "left"
          },
          "hovermode": "closest",
          "mapbox": {
           "style": "light"
          },
          "paper_bgcolor": "white",
          "plot_bgcolor": "#E5ECF6",
          "polar": {
           "angularaxis": {
            "gridcolor": "white",
            "linecolor": "white",
            "ticks": ""
           },
           "bgcolor": "#E5ECF6",
           "radialaxis": {
            "gridcolor": "white",
            "linecolor": "white",
            "ticks": ""
           }
          },
          "scene": {
           "xaxis": {
            "backgroundcolor": "#E5ECF6",
            "gridcolor": "white",
            "gridwidth": 2,
            "linecolor": "white",
            "showbackground": true,
            "ticks": "",
            "zerolinecolor": "white"
           },
           "yaxis": {
            "backgroundcolor": "#E5ECF6",
            "gridcolor": "white",
            "gridwidth": 2,
            "linecolor": "white",
            "showbackground": true,
            "ticks": "",
            "zerolinecolor": "white"
           },
           "zaxis": {
            "backgroundcolor": "#E5ECF6",
            "gridcolor": "white",
            "gridwidth": 2,
            "linecolor": "white",
            "showbackground": true,
            "ticks": "",
            "zerolinecolor": "white"
           }
          },
          "shapedefaults": {
           "line": {
            "color": "#2a3f5f"
           }
          },
          "ternary": {
           "aaxis": {
            "gridcolor": "white",
            "linecolor": "white",
            "ticks": ""
           },
           "baxis": {
            "gridcolor": "white",
            "linecolor": "white",
            "ticks": ""
           },
           "bgcolor": "#E5ECF6",
           "caxis": {
            "gridcolor": "white",
            "linecolor": "white",
            "ticks": ""
           }
          },
          "title": {
           "x": 0.05
          },
          "xaxis": {
           "automargin": true,
           "gridcolor": "white",
           "linecolor": "white",
           "ticks": "",
           "title": {
            "standoff": 15
           },
           "zerolinecolor": "white",
           "zerolinewidth": 2
          },
          "yaxis": {
           "automargin": true,
           "gridcolor": "white",
           "linecolor": "white",
           "ticks": "",
           "title": {
            "standoff": 15
           },
           "zerolinecolor": "white",
           "zerolinewidth": 2
          }
         }
        },
        "updatemenus": [
         {
          "buttons": [
           {
            "args": [
             {
              "scene.annotations": [
               {
                "showarrow": false,
                "text": "C",
                "x": 0.093,
                "y": -0.193,
                "yshift": 15,
                "z": 0.044
               },
               {
                "showarrow": false,
                "text": "C",
                "x": 1.394,
                "y": 0.645,
                "yshift": 15,
                "z": -0.1
               },
               {
                "showarrow": false,
                "text": "C",
                "x": 2.164,
                "y": 0.282,
                "yshift": 15,
                "z": 1.178
               },
               {
                "showarrow": false,
                "text": "C",
                "x": 1.036,
                "y": 0.022,
                "yshift": 15,
                "z": 2.176
               },
               {
                "showarrow": false,
                "text": "C",
                "x": 0.014,
                "y": -1.418,
                "yshift": 15,
                "z": -0.851
               },
               {
                "showarrow": false,
                "text": "O",
                "x": 0.004,
                "y": -0.611,
                "yshift": 15,
                "z": 1.41
               },
               {
                "showarrow": false,
                "text": "O",
                "x": 1.123,
                "y": 2.038,
                "yshift": 15,
                "z": -0.221
               },
               {
                "showarrow": false,
                "text": "O",
                "x": 1.175,
                "y": -2.238,
                "yshift": 15,
                "z": -0.599
               },
               {
                "showarrow": false,
                "text": "P",
                "x": 1.437,
                "y": -3.626,
                "yshift": 15,
                "z": -1.36
               },
               {
                "showarrow": false,
                "text": "O",
                "x": 2.427,
                "y": -4.345,
                "yshift": 15,
                "z": -0.33
               },
               {
                "showarrow": false,
                "text": "C",
                "x": 2.151,
                "y": -4.435,
                "yshift": 15,
                "z": 1.099
               },
               {
                "showarrow": false,
                "text": "C",
                "x": 1.464,
                "y": -5.765,
                "yshift": 15,
                "z": 1.425
               },
               {
                "showarrow": false,
                "text": "C",
                "x": 2.66,
                "y": -6.713,
                "yshift": 15,
                "z": 1.518
               },
               {
                "showarrow": false,
                "text": "C",
                "x": 3.504,
                "y": -4.558,
                "yshift": 15,
                "z": 1.825
               },
               {
                "showarrow": false,
                "text": "C",
                "x": 3.567,
                "y": -3.76,
                "yshift": 15,
                "z": 3.13
               },
               {
                "showarrow": false,
                "text": "O",
                "x": 3.682,
                "y": -5.94,
                "yshift": 15,
                "z": 2.154
               },
               {
                "showarrow": false,
                "text": "O",
                "x": 3.53,
                "y": -2.354,
                "yshift": 15,
                "z": 2.913
               },
               {
                "showarrow": false,
                "text": "O",
                "x": 1.945,
                "y": -3.599,
                "yshift": 15,
                "z": -2.744
               },
               {
                "showarrow": false,
                "text": "O",
                "x": -0.006,
                "y": -4.37,
                "yshift": 15,
                "z": -1.217
               },
               {
                "showarrow": false,
                "text": "H",
                "x": -0.718,
                "y": 0.435,
                "yshift": 15,
                "z": -0.261
               },
               {
                "showarrow": false,
                "text": "H",
                "x": 1.951,
                "y": 0.431,
                "yshift": 15,
                "z": -0.988
               },
               {
                "showarrow": false,
                "text": "H",
                "x": 2.786,
                "y": 1.091,
                "yshift": 15,
                "z": 1.499
               },
               {
                "showarrow": false,
                "text": "H",
                "x": 2.828,
                "y": -0.548,
                "yshift": 15,
                "z": 1.057
               },
               {
                "showarrow": false,
                "text": "H",
                "x": 0.684,
                "y": 0.942,
                "yshift": 15,
                "z": 2.594
               },
               {
                "showarrow": false,
                "text": "H",
                "x": 1.357,
                "y": -0.584,
                "yshift": 15,
                "z": 2.997
               },
               {
                "showarrow": false,
                "text": "H",
                "x": -0.874,
                "y": -1.972,
                "yshift": 15,
                "z": -0.63
               },
               {
                "showarrow": false,
                "text": "H",
                "x": -0.013,
                "y": -1.123,
                "yshift": 15,
                "z": -1.879
               },
               {
                "showarrow": false,
                "text": "H",
                "x": 0.614,
                "y": 2.337,
                "yshift": 15,
                "z": 0.548
               },
               {
                "showarrow": false,
                "text": "H",
                "x": 1.56,
                "y": -3.589,
                "yshift": 15,
                "z": 1.382
               },
               {
                "showarrow": false,
                "text": "H",
                "x": 0.793,
                "y": -6.058,
                "yshift": 15,
                "z": 0.645
               },
               {
                "showarrow": false,
                "text": "H",
                "x": 0.86,
                "y": -5.738,
                "yshift": 15,
                "z": 2.307
               },
               {
                "showarrow": false,
                "text": "H",
                "x": 2.972,
                "y": -7.024,
                "yshift": 15,
                "z": 0.543
               },
               {
                "showarrow": false,
                "text": "H",
                "x": 2.429,
                "y": -7.606,
                "yshift": 15,
                "z": 2.06
               },
               {
                "showarrow": false,
                "text": "H",
                "x": 4.262,
                "y": -4.172,
                "yshift": 15,
                "z": 1.175
               },
               {
                "showarrow": false,
                "text": "H",
                "x": 4.476,
                "y": -4.005,
                "yshift": 15,
                "z": 3.639
               },
               {
                "showarrow": false,
                "text": "H",
                "x": 2.707,
                "y": -4.021,
                "yshift": 15,
                "z": 3.712
               },
               {
                "showarrow": false,
                "text": "H",
                "x": 4.3,
                "y": -2.088,
                "yshift": 15,
                "z": 2.387
               },
               {
                "showarrow": false,
                "text": "H",
                "x": -0.641,
                "y": -3.963,
                "yshift": 15,
                "z": -1.828
               }
              ]
             }
            ],
            "label": "Elements",
            "method": "relayout"
           },
           {
            "args": [
             {
              "scene.annotations": [
               {
                "showarrow": false,
                "text": "C4'",
                "x": 0.093,
                "y": -0.193,
                "yshift": 15,
                "z": 0.044
               },
               {
                "showarrow": false,
                "text": "C3'",
                "x": 1.394,
                "y": 0.645,
                "yshift": 15,
                "z": -0.1
               },
               {
                "showarrow": false,
                "text": "C2'",
                "x": 2.164,
                "y": 0.282,
                "yshift": 15,
                "z": 1.178
               },
               {
                "showarrow": false,
                "text": "C1'",
                "x": 1.036,
                "y": 0.022,
                "yshift": 15,
                "z": 2.176
               },
               {
                "showarrow": false,
                "text": "C5'",
                "x": 0.014,
                "y": -1.418,
                "yshift": 15,
                "z": -0.851
               },
               {
                "showarrow": false,
                "text": "O4'",
                "x": 0.004,
                "y": -0.611,
                "yshift": 15,
                "z": 1.41
               },
               {
                "showarrow": false,
                "text": "O3'",
                "x": 1.123,
                "y": 2.038,
                "yshift": 15,
                "z": -0.221
               },
               {
                "showarrow": false,
                "text": "O5'",
                "x": 1.175,
                "y": -2.238,
                "yshift": 15,
                "z": -0.599
               },
               {
                "showarrow": false,
                "text": "P",
                "x": 1.437,
                "y": -3.626,
                "yshift": 15,
                "z": -1.36
               },
               {
                "showarrow": false,
                "text": "O3'",
                "x": 2.427,
                "y": -4.345,
                "yshift": 15,
                "z": -0.33
               },
               {
                "showarrow": false,
                "text": "C3'",
                "x": 2.151,
                "y": -4.435,
                "yshift": 15,
                "z": 1.099
               },
               {
                "showarrow": false,
                "text": "C2'",
                "x": 1.464,
                "y": -5.765,
                "yshift": 15,
                "z": 1.425
               },
               {
                "showarrow": false,
                "text": "C1'",
                "x": 2.66,
                "y": -6.713,
                "yshift": 15,
                "z": 1.518
               },
               {
                "showarrow": false,
                "text": "C4'",
                "x": 3.504,
                "y": -4.558,
                "yshift": 15,
                "z": 1.825
               },
               {
                "showarrow": false,
                "text": "C5'",
                "x": 3.567,
                "y": -3.76,
                "yshift": 15,
                "z": 3.13
               },
               {
                "showarrow": false,
                "text": "O4'",
                "x": 3.682,
                "y": -5.94,
                "yshift": 15,
                "z": 2.154
               },
               {
                "showarrow": false,
                "text": "O5'",
                "x": 3.53,
                "y": -2.354,
                "yshift": 15,
                "z": 2.913
               },
               {
                "showarrow": false,
                "text": "OP1",
                "x": 1.945,
                "y": -3.599,
                "yshift": 15,
                "z": -2.744
               },
               {
                "showarrow": false,
                "text": "OP2",
                "x": -0.006,
                "y": -4.37,
                "yshift": 15,
                "z": -1.217
               },
               {
                "showarrow": false,
                "text": "H",
                "x": -0.718,
                "y": 0.435,
                "yshift": 15,
                "z": -0.261
               },
               {
                "showarrow": false,
                "text": "H",
                "x": 1.951,
                "y": 0.431,
                "yshift": 15,
                "z": -0.988
               },
               {
                "showarrow": false,
                "text": "H",
                "x": 2.786,
                "y": 1.091,
                "yshift": 15,
                "z": 1.499
               },
               {
                "showarrow": false,
                "text": "H",
                "x": 2.828,
                "y": -0.548,
                "yshift": 15,
                "z": 1.057
               },
               {
                "showarrow": false,
                "text": "H",
                "x": 0.684,
                "y": 0.942,
                "yshift": 15,
                "z": 2.594
               },
               {
                "showarrow": false,
                "text": "H",
                "x": 1.357,
                "y": -0.584,
                "yshift": 15,
                "z": 2.997
               },
               {
                "showarrow": false,
                "text": "H",
                "x": -0.874,
                "y": -1.972,
                "yshift": 15,
                "z": -0.63
               },
               {
                "showarrow": false,
                "text": "H",
                "x": -0.013,
                "y": -1.123,
                "yshift": 15,
                "z": -1.879
               },
               {
                "showarrow": false,
                "text": "H",
                "x": 0.614,
                "y": 2.337,
                "yshift": 15,
                "z": 0.548
               },
               {
                "showarrow": false,
                "text": "H",
                "x": 1.56,
                "y": -3.589,
                "yshift": 15,
                "z": 1.382
               },
               {
                "showarrow": false,
                "text": "H",
                "x": 0.793,
                "y": -6.058,
                "yshift": 15,
                "z": 0.645
               },
               {
                "showarrow": false,
                "text": "H",
                "x": 0.86,
                "y": -5.738,
                "yshift": 15,
                "z": 2.307
               },
               {
                "showarrow": false,
                "text": "H",
                "x": 2.972,
                "y": -7.024,
                "yshift": 15,
                "z": 0.543
               },
               {
                "showarrow": false,
                "text": "H",
                "x": 2.429,
                "y": -7.606,
                "yshift": 15,
                "z": 2.06
               },
               {
                "showarrow": false,
                "text": "H",
                "x": 4.262,
                "y": -4.172,
                "yshift": 15,
                "z": 1.175
               },
               {
                "showarrow": false,
                "text": "H",
                "x": 4.476,
                "y": -4.005,
                "yshift": 15,
                "z": 3.639
               },
               {
                "showarrow": false,
                "text": "H",
                "x": 2.707,
                "y": -4.021,
                "yshift": 15,
                "z": 3.712
               },
               {
                "showarrow": false,
                "text": "H",
                "x": 4.3,
                "y": -2.088,
                "yshift": 15,
                "z": 2.387
               },
               {
                "showarrow": false,
                "text": "H",
                "x": -0.641,
                "y": -3.963,
                "yshift": 15,
                "z": -1.828
               }
              ]
             }
            ],
            "label": "Named Elements",
            "method": "relayout"
           },
           {
            "args": [
             {
              "scene.annotations": [
               {
                "showarrow": false,
                "text": "C",
                "x": 0.093,
                "y": -0.193,
                "yshift": 15,
                "z": 0.044
               },
               {
                "showarrow": false,
                "text": "C",
                "x": 1.394,
                "y": 0.645,
                "yshift": 15,
                "z": -0.1
               },
               {
                "showarrow": false,
                "text": "C",
                "x": 2.164,
                "y": 0.282,
                "yshift": 15,
                "z": 1.178
               },
               {
                "showarrow": false,
                "text": "C",
                "x": 1.036,
                "y": 0.022,
                "yshift": 15,
                "z": 2.176
               },
               {
                "showarrow": false,
                "text": "C",
                "x": 0.014,
                "y": -1.418,
                "yshift": 15,
                "z": -0.851
               },
               {
                "showarrow": false,
                "text": "O",
                "x": 0.004,
                "y": -0.611,
                "yshift": 15,
                "z": 1.41
               },
               {
                "showarrow": false,
                "text": "O",
                "x": 1.123,
                "y": 2.038,
                "yshift": 15,
                "z": -0.221
               },
               {
                "showarrow": false,
                "text": "O",
                "x": 1.175,
                "y": -2.238,
                "yshift": 15,
                "z": -0.599
               },
               {
                "showarrow": false,
                "text": "P",
                "x": 1.437,
                "y": -3.626,
                "yshift": 15,
                "z": -1.36
               },
               {
                "showarrow": false,
                "text": "O",
                "x": 2.427,
                "y": -4.345,
                "yshift": 15,
                "z": -0.33
               },
               {
                "showarrow": false,
                "text": "C",
                "x": 2.151,
                "y": -4.435,
                "yshift": 15,
                "z": 1.099
               },
               {
                "showarrow": false,
                "text": "C",
                "x": 1.464,
                "y": -5.765,
                "yshift": 15,
                "z": 1.425
               },
               {
                "showarrow": false,
                "text": "C",
                "x": 2.66,
                "y": -6.713,
                "yshift": 15,
                "z": 1.518
               },
               {
                "showarrow": false,
                "text": "C",
                "x": 3.504,
                "y": -4.558,
                "yshift": 15,
                "z": 1.825
               },
               {
                "showarrow": false,
                "text": "C",
                "x": 3.567,
                "y": -3.76,
                "yshift": 15,
                "z": 3.13
               },
               {
                "showarrow": false,
                "text": "O",
                "x": 3.682,
                "y": -5.94,
                "yshift": 15,
                "z": 2.154
               },
               {
                "showarrow": false,
                "text": "O",
                "x": 3.53,
                "y": -2.354,
                "yshift": 15,
                "z": 2.913
               },
               {
                "showarrow": false,
                "text": "O",
                "x": 1.945,
                "y": -3.599,
                "yshift": 15,
                "z": -2.744
               },
               {
                "showarrow": false,
                "text": "O",
                "x": -0.006,
                "y": -4.37,
                "yshift": 15,
                "z": -1.217
               },
               {
                "showarrow": false,
                "text": "H",
                "x": -0.718,
                "y": 0.435,
                "yshift": 15,
                "z": -0.261
               },
               {
                "showarrow": false,
                "text": "H",
                "x": 1.951,
                "y": 0.431,
                "yshift": 15,
                "z": -0.988
               },
               {
                "showarrow": false,
                "text": "H",
                "x": 2.786,
                "y": 1.091,
                "yshift": 15,
                "z": 1.499
               },
               {
                "showarrow": false,
                "text": "H",
                "x": 2.828,
                "y": -0.548,
                "yshift": 15,
                "z": 1.057
               },
               {
                "showarrow": false,
                "text": "H",
                "x": 0.684,
                "y": 0.942,
                "yshift": 15,
                "z": 2.594
               },
               {
                "showarrow": false,
                "text": "H",
                "x": 1.357,
                "y": -0.584,
                "yshift": 15,
                "z": 2.997
               },
               {
                "showarrow": false,
                "text": "H",
                "x": -0.874,
                "y": -1.972,
                "yshift": 15,
                "z": -0.63
               },
               {
                "showarrow": false,
                "text": "H",
                "x": -0.013,
                "y": -1.123,
                "yshift": 15,
                "z": -1.879
               },
               {
                "showarrow": false,
                "text": "H",
                "x": 0.614,
                "y": 2.337,
                "yshift": 15,
                "z": 0.548
               },
               {
                "showarrow": false,
                "text": "H",
                "x": 1.56,
                "y": -3.589,
                "yshift": 15,
                "z": 1.382
               },
               {
                "showarrow": false,
                "text": "H",
                "x": 0.793,
                "y": -6.058,
                "yshift": 15,
                "z": 0.645
               },
               {
                "showarrow": false,
                "text": "H",
                "x": 0.86,
                "y": -5.738,
                "yshift": 15,
                "z": 2.307
               },
               {
                "showarrow": false,
                "text": "H",
                "x": 2.972,
                "y": -7.024,
                "yshift": 15,
                "z": 0.543
               },
               {
                "showarrow": false,
                "text": "H",
                "x": 2.429,
                "y": -7.606,
                "yshift": 15,
                "z": 2.06
               },
               {
                "showarrow": false,
                "text": "H",
                "x": 4.262,
                "y": -4.172,
                "yshift": 15,
                "z": 1.175
               },
               {
                "showarrow": false,
                "text": "H",
                "x": 4.476,
                "y": -4.005,
                "yshift": 15,
                "z": 3.639
               },
               {
                "showarrow": false,
                "text": "H",
                "x": 2.707,
                "y": -4.021,
                "yshift": 15,
                "z": 3.712
               },
               {
                "showarrow": false,
                "text": "H",
                "x": 4.3,
                "y": -2.088,
                "yshift": 15,
                "z": 2.387
               },
               {
                "showarrow": false,
                "text": "H",
                "x": -0.641,
                "y": -3.963,
                "yshift": 15,
                "z": -1.828
               },
               {
                "font": {
                 "color": "steelblue"
                },
                "showarrow": false,
                "text": 1.6,
                "x": 0.7434999999999999,
                "y": 0.226,
                "yshift": 15,
                "z": -0.028000000000000004
               },
               {
                "font": {
                 "color": "steelblue"
                },
                "showarrow": false,
                "text": 1.6,
                "x": 0.0535,
                "y": -0.8055,
                "yshift": 15,
                "z": -0.40349999999999997
               },
               {
                "font": {
                 "color": "steelblue"
                },
                "showarrow": false,
                "text": 1.48,
                "x": 0.0485,
                "y": -0.402,
                "yshift": 15,
                "z": 0.727
               },
               {
                "font": {
                 "color": "steelblue"
                },
                "showarrow": false,
                "text": 1.17,
                "x": -0.3125,
                "y": 0.121,
                "yshift": 15,
                "z": -0.10850000000000001
               },
               {
                "font": {
                 "color": "steelblue"
                },
                "showarrow": false,
                "text": 1.6,
                "x": 1.779,
                "y": 0.4635,
                "yshift": 15,
                "z": 0.5389999999999999
               },
               {
                "font": {
                 "color": "steelblue"
                },
                "showarrow": false,
                "text": 1.48,
                "x": 1.2585,
                "y": 1.3415,
                "yshift": 15,
                "z": -0.1605
               },
               {
                "font": {
                 "color": "steelblue"
                },
                "showarrow": false,
                "text": 1.17,
                "x": 1.6724999999999999,
                "y": 0.538,
                "yshift": 15,
                "z": -0.544
               },
               {
                "font": {
                 "color": "steelblue"
                },
                "showarrow": false,
                "text": 1.6,
                "x": 1.6,
                "y": 0.152,
                "yshift": 15,
                "z": 1.677
               },
               {
                "font": {
                 "color": "steelblue"
                },
                "showarrow": false,
                "text": 1.17,
                "x": 2.475,
                "y": 0.6865,
                "yshift": 15,
                "z": 1.3385
               },
               {
                "font": {
                 "color": "steelblue"
                },
                "showarrow": false,
                "text": 1.17,
                "x": 2.496,
                "y": -0.13300000000000003,
                "yshift": 15,
                "z": 1.1175
               },
               {
                "font": {
                 "color": "steelblue"
                },
                "showarrow": false,
                "text": 1.48,
                "x": 0.52,
                "y": -0.2945,
                "yshift": 15,
                "z": 1.7930000000000001
               },
               {
                "font": {
                 "color": "steelblue"
                },
                "showarrow": false,
                "text": 1.17,
                "x": 0.8600000000000001,
                "y": 0.482,
                "yshift": 15,
                "z": 2.385
               },
               {
                "font": {
                 "color": "steelblue"
                },
                "showarrow": false,
                "text": 1.17,
                "x": 1.1965,
                "y": -0.28099999999999997,
                "yshift": 15,
                "z": 2.5865
               },
               {
                "font": {
                 "color": "steelblue"
                },
                "showarrow": false,
                "text": 1.48,
                "x": 0.5945,
                "y": -1.8279999999999998,
                "yshift": 15,
                "z": -0.725
               },
               {
                "font": {
                 "color": "steelblue"
                },
                "showarrow": false,
                "text": 1.17,
                "x": -0.43,
                "y": -1.6949999999999998,
                "yshift": 15,
                "z": -0.7404999999999999
               },
               {
                "font": {
                 "color": "steelblue"
                },
                "showarrow": false,
                "text": 1.17,
                "x": 0.0005000000000000004,
                "y": -1.2705,
                "yshift": 15,
                "z": -1.365
               },
               {
                "font": {
                 "color": "steelblue"
                },
                "showarrow": false,
                "text": 1.05,
                "x": 0.8685,
                "y": 2.1875,
                "yshift": 15,
                "z": 0.16350000000000003
               },
               {
                "font": {
                 "color": "steelblue"
                },
                "showarrow": false,
                "text": 1.84,
                "x": 1.306,
                "y": -2.932,
                "yshift": 15,
                "z": -0.9795
               },
               {
                "font": {
                 "color": "steelblue"
                },
                "showarrow": false,
                "text": 1.84,
                "x": 1.932,
                "y": -3.9855,
                "yshift": 15,
                "z": -0.8450000000000001
               },
               {
                "font": {
                 "color": "steelblue"
                },
                "showarrow": false,
                "text": 1.84,
                "x": 1.691,
                "y": -3.6125,
                "yshift": 15,
                "z": -2.052
               },
               {
                "font": {
                 "color": "steelblue"
                },
                "showarrow": false,
                "text": 1.84,
                "x": 0.7155,
                "y": -3.998,
                "yshift": 15,
                "z": -1.2885
               },
               {
                "font": {
                 "color": "steelblue"
                },
                "showarrow": false,
                "text": 1.48,
                "x": 2.2889999999999997,
                "y": -4.39,
                "yshift": 15,
                "z": 0.38449999999999995
               },
               {
                "font": {
                 "color": "steelblue"
                },
                "showarrow": false,
                "text": 1.6,
                "x": 1.8074999999999999,
                "y": -5.1,
                "yshift": 15,
                "z": 1.262
               },
               {
                "font": {
                 "color": "steelblue"
                },
                "showarrow": false,
                "text": 1.6,
                "x": 2.8274999999999997,
                "y": -4.496499999999999,
                "yshift": 15,
                "z": 1.462
               },
               {
                "font": {
                 "color": "steelblue"
                },
                "showarrow": false,
                "text": 1.17,
                "x": 1.8555,
                "y": -4.012,
                "yshift": 15,
                "z": 1.2405
               },
               {
                "font": {
                 "color": "steelblue"
                },
                "showarrow": false,
                "text": 1.6,
                "x": 2.0620000000000003,
                "y": -6.239,
                "yshift": 15,
                "z": 1.4715
               },
               {
                "font": {
                 "color": "steelblue"
                },
                "showarrow": false,
                "text": 1.17,
                "x": 1.1285,
                "y": -5.9115,
                "yshift": 15,
                "z": 1.0350000000000001
               },
               {
                "font": {
                 "color": "steelblue"
                },
                "showarrow": false,
                "text": 1.17,
                "x": 1.162,
                "y": -5.7515,
                "yshift": 15,
                "z": 1.866
               },
               {
                "font": {
                 "color": "steelblue"
                },
                "showarrow": false,
                "text": 1.48,
                "x": 3.1710000000000003,
                "y": -6.3265,
                "yshift": 15,
                "z": 1.8359999999999999
               },
               {
                "font": {
                 "color": "steelblue"
                },
                "showarrow": false,
                "text": 1.17,
                "x": 2.816,
                "y": -6.8685,
                "yshift": 15,
                "z": 1.0305
               },
               {
                "font": {
                 "color": "steelblue"
                },
                "showarrow": false,
                "text": 1.17,
                "x": 2.5445,
                "y": -7.1594999999999995,
                "yshift": 15,
                "z": 1.7890000000000001
               },
               {
                "font": {
                 "color": "steelblue"
                },
                "showarrow": false,
                "text": 1.6,
                "x": 3.5355,
                "y": -4.159,
                "yshift": 15,
                "z": 2.4775
               },
               {
                "font": {
                 "color": "steelblue"
                },
                "showarrow": false,
                "text": 1.48,
                "x": 3.593,
                "y": -5.2490000000000006,
                "yshift": 15,
                "z": 1.9895
               },
               {
                "font": {
                 "color": "steelblue"
                },
                "showarrow": false,
                "text": 1.17,
                "x": 3.883,
                "y": -4.365,
                "yshift": 15,
                "z": 1.5
               },
               {
                "font": {
                 "color": "steelblue"
                },
                "showarrow": false,
                "text": 1.48,
                "x": 3.5484999999999998,
                "y": -3.057,
                "yshift": 15,
                "z": 3.0214999999999996
               },
               {
                "font": {
                 "color": "steelblue"
                },
                "showarrow": false,
                "text": 1.17,
                "x": 4.0215,
                "y": -3.8825,
                "yshift": 15,
                "z": 3.3845
               },
               {
                "font": {
                 "color": "steelblue"
                },
                "showarrow": false,
                "text": 1.17,
                "x": 3.137,
                "y": -3.8905,
                "yshift": 15,
                "z": 3.4210000000000003
               },
               {
                "font": {
                 "color": "steelblue"
                },
                "showarrow": false,
                "text": 1.05,
                "x": 3.915,
                "y": -2.221,
                "yshift": 15,
                "z": 2.65
               },
               {
                "font": {
                 "color": "steelblue"
                },
                "showarrow": false,
                "text": 1.05,
                "x": -0.3235,
                "y": -4.1665,
                "yshift": 15,
                "z": -1.5225
               }
              ]
             }
            ],
            "label": "Elements & Bond Lengths",
            "method": "relayout"
           },
           {
            "args": [
             {
              "scene.annotations": [
               {
                "showarrow": false,
                "text": 0,
                "x": 0.093,
                "y": -0.193,
                "yshift": 15,
                "z": 0.044
               },
               {
                "showarrow": false,
                "text": 1,
                "x": 1.394,
                "y": 0.645,
                "yshift": 15,
                "z": -0.1
               },
               {
                "showarrow": false,
                "text": 2,
                "x": 2.164,
                "y": 0.282,
                "yshift": 15,
                "z": 1.178
               },
               {
                "showarrow": false,
                "text": 3,
                "x": 1.036,
                "y": 0.022,
                "yshift": 15,
                "z": 2.176
               },
               {
                "showarrow": false,
                "text": 4,
                "x": 0.014,
                "y": -1.418,
                "yshift": 15,
                "z": -0.851
               },
               {
                "showarrow": false,
                "text": 5,
                "x": 0.004,
                "y": -0.611,
                "yshift": 15,
                "z": 1.41
               },
               {
                "showarrow": false,
                "text": 6,
                "x": 1.123,
                "y": 2.038,
                "yshift": 15,
                "z": -0.221
               },
               {
                "showarrow": false,
                "text": 7,
                "x": 1.175,
                "y": -2.238,
                "yshift": 15,
                "z": -0.599
               },
               {
                "showarrow": false,
                "text": 8,
                "x": 1.437,
                "y": -3.626,
                "yshift": 15,
                "z": -1.36
               },
               {
                "showarrow": false,
                "text": 9,
                "x": 2.427,
                "y": -4.345,
                "yshift": 15,
                "z": -0.33
               },
               {
                "showarrow": false,
                "text": 10,
                "x": 2.151,
                "y": -4.435,
                "yshift": 15,
                "z": 1.099
               },
               {
                "showarrow": false,
                "text": 11,
                "x": 1.464,
                "y": -5.765,
                "yshift": 15,
                "z": 1.425
               },
               {
                "showarrow": false,
                "text": 12,
                "x": 2.66,
                "y": -6.713,
                "yshift": 15,
                "z": 1.518
               },
               {
                "showarrow": false,
                "text": 13,
                "x": 3.504,
                "y": -4.558,
                "yshift": 15,
                "z": 1.825
               },
               {
                "showarrow": false,
                "text": 14,
                "x": 3.567,
                "y": -3.76,
                "yshift": 15,
                "z": 3.13
               },
               {
                "showarrow": false,
                "text": 15,
                "x": 3.682,
                "y": -5.94,
                "yshift": 15,
                "z": 2.154
               },
               {
                "showarrow": false,
                "text": 16,
                "x": 3.53,
                "y": -2.354,
                "yshift": 15,
                "z": 2.913
               },
               {
                "showarrow": false,
                "text": 17,
                "x": 1.945,
                "y": -3.599,
                "yshift": 15,
                "z": -2.744
               },
               {
                "showarrow": false,
                "text": 18,
                "x": -0.006,
                "y": -4.37,
                "yshift": 15,
                "z": -1.217
               },
               {
                "showarrow": false,
                "text": 19,
                "x": -0.718,
                "y": 0.435,
                "yshift": 15,
                "z": -0.261
               },
               {
                "showarrow": false,
                "text": 20,
                "x": 1.951,
                "y": 0.431,
                "yshift": 15,
                "z": -0.988
               },
               {
                "showarrow": false,
                "text": 21,
                "x": 2.786,
                "y": 1.091,
                "yshift": 15,
                "z": 1.499
               },
               {
                "showarrow": false,
                "text": 22,
                "x": 2.828,
                "y": -0.548,
                "yshift": 15,
                "z": 1.057
               },
               {
                "showarrow": false,
                "text": 23,
                "x": 0.684,
                "y": 0.942,
                "yshift": 15,
                "z": 2.594
               },
               {
                "showarrow": false,
                "text": 24,
                "x": 1.357,
                "y": -0.584,
                "yshift": 15,
                "z": 2.997
               },
               {
                "showarrow": false,
                "text": 25,
                "x": -0.874,
                "y": -1.972,
                "yshift": 15,
                "z": -0.63
               },
               {
                "showarrow": false,
                "text": 26,
                "x": -0.013,
                "y": -1.123,
                "yshift": 15,
                "z": -1.879
               },
               {
                "showarrow": false,
                "text": 27,
                "x": 0.614,
                "y": 2.337,
                "yshift": 15,
                "z": 0.548
               },
               {
                "showarrow": false,
                "text": 28,
                "x": 1.56,
                "y": -3.589,
                "yshift": 15,
                "z": 1.382
               },
               {
                "showarrow": false,
                "text": 29,
                "x": 0.793,
                "y": -6.058,
                "yshift": 15,
                "z": 0.645
               },
               {
                "showarrow": false,
                "text": 30,
                "x": 0.86,
                "y": -5.738,
                "yshift": 15,
                "z": 2.307
               },
               {
                "showarrow": false,
                "text": 31,
                "x": 2.972,
                "y": -7.024,
                "yshift": 15,
                "z": 0.543
               },
               {
                "showarrow": false,
                "text": 32,
                "x": 2.429,
                "y": -7.606,
                "yshift": 15,
                "z": 2.06
               },
               {
                "showarrow": false,
                "text": 33,
                "x": 4.262,
                "y": -4.172,
                "yshift": 15,
                "z": 1.175
               },
               {
                "showarrow": false,
                "text": 34,
                "x": 4.476,
                "y": -4.005,
                "yshift": 15,
                "z": 3.639
               },
               {
                "showarrow": false,
                "text": 35,
                "x": 2.707,
                "y": -4.021,
                "yshift": 15,
                "z": 3.712
               },
               {
                "showarrow": false,
                "text": 36,
                "x": 4.3,
                "y": -2.088,
                "yshift": 15,
                "z": 2.387
               },
               {
                "showarrow": false,
                "text": 37,
                "x": -0.641,
                "y": -3.963,
                "yshift": 15,
                "z": -1.828
               }
              ]
             }
            ],
            "label": "Indices",
            "method": "relayout"
           },
           {
            "args": [
             {
              "scene.annotations": [
               {
                "showarrow": false,
                "text": 0,
                "x": 0.093,
                "y": -0.193,
                "yshift": 15,
                "z": 0.044
               },
               {
                "showarrow": false,
                "text": 1,
                "x": 1.394,
                "y": 0.645,
                "yshift": 15,
                "z": -0.1
               },
               {
                "showarrow": false,
                "text": 2,
                "x": 2.164,
                "y": 0.282,
                "yshift": 15,
                "z": 1.178
               },
               {
                "showarrow": false,
                "text": 3,
                "x": 1.036,
                "y": 0.022,
                "yshift": 15,
                "z": 2.176
               },
               {
                "showarrow": false,
                "text": 4,
                "x": 0.014,
                "y": -1.418,
                "yshift": 15,
                "z": -0.851
               },
               {
                "showarrow": false,
                "text": 5,
                "x": 0.004,
                "y": -0.611,
                "yshift": 15,
                "z": 1.41
               },
               {
                "showarrow": false,
                "text": 6,
                "x": 1.123,
                "y": 2.038,
                "yshift": 15,
                "z": -0.221
               },
               {
                "showarrow": false,
                "text": 7,
                "x": 1.175,
                "y": -2.238,
                "yshift": 15,
                "z": -0.599
               },
               {
                "showarrow": false,
                "text": 8,
                "x": 1.437,
                "y": -3.626,
                "yshift": 15,
                "z": -1.36
               },
               {
                "showarrow": false,
                "text": 9,
                "x": 2.427,
                "y": -4.345,
                "yshift": 15,
                "z": -0.33
               },
               {
                "showarrow": false,
                "text": 10,
                "x": 2.151,
                "y": -4.435,
                "yshift": 15,
                "z": 1.099
               },
               {
                "showarrow": false,
                "text": 11,
                "x": 1.464,
                "y": -5.765,
                "yshift": 15,
                "z": 1.425
               },
               {
                "showarrow": false,
                "text": 12,
                "x": 2.66,
                "y": -6.713,
                "yshift": 15,
                "z": 1.518
               },
               {
                "showarrow": false,
                "text": 13,
                "x": 3.504,
                "y": -4.558,
                "yshift": 15,
                "z": 1.825
               },
               {
                "showarrow": false,
                "text": 14,
                "x": 3.567,
                "y": -3.76,
                "yshift": 15,
                "z": 3.13
               },
               {
                "showarrow": false,
                "text": 15,
                "x": 3.682,
                "y": -5.94,
                "yshift": 15,
                "z": 2.154
               },
               {
                "showarrow": false,
                "text": 16,
                "x": 3.53,
                "y": -2.354,
                "yshift": 15,
                "z": 2.913
               },
               {
                "showarrow": false,
                "text": 17,
                "x": 1.945,
                "y": -3.599,
                "yshift": 15,
                "z": -2.744
               },
               {
                "showarrow": false,
                "text": 18,
                "x": -0.006,
                "y": -4.37,
                "yshift": 15,
                "z": -1.217
               },
               {
                "showarrow": false,
                "text": 19,
                "x": -0.718,
                "y": 0.435,
                "yshift": 15,
                "z": -0.261
               },
               {
                "showarrow": false,
                "text": 20,
                "x": 1.951,
                "y": 0.431,
                "yshift": 15,
                "z": -0.988
               },
               {
                "showarrow": false,
                "text": 21,
                "x": 2.786,
                "y": 1.091,
                "yshift": 15,
                "z": 1.499
               },
               {
                "showarrow": false,
                "text": 22,
                "x": 2.828,
                "y": -0.548,
                "yshift": 15,
                "z": 1.057
               },
               {
                "showarrow": false,
                "text": 23,
                "x": 0.684,
                "y": 0.942,
                "yshift": 15,
                "z": 2.594
               },
               {
                "showarrow": false,
                "text": 24,
                "x": 1.357,
                "y": -0.584,
                "yshift": 15,
                "z": 2.997
               },
               {
                "showarrow": false,
                "text": 25,
                "x": -0.874,
                "y": -1.972,
                "yshift": 15,
                "z": -0.63
               },
               {
                "showarrow": false,
                "text": 26,
                "x": -0.013,
                "y": -1.123,
                "yshift": 15,
                "z": -1.879
               },
               {
                "showarrow": false,
                "text": 27,
                "x": 0.614,
                "y": 2.337,
                "yshift": 15,
                "z": 0.548
               },
               {
                "showarrow": false,
                "text": 28,
                "x": 1.56,
                "y": -3.589,
                "yshift": 15,
                "z": 1.382
               },
               {
                "showarrow": false,
                "text": 29,
                "x": 0.793,
                "y": -6.058,
                "yshift": 15,
                "z": 0.645
               },
               {
                "showarrow": false,
                "text": 30,
                "x": 0.86,
                "y": -5.738,
                "yshift": 15,
                "z": 2.307
               },
               {
                "showarrow": false,
                "text": 31,
                "x": 2.972,
                "y": -7.024,
                "yshift": 15,
                "z": 0.543
               },
               {
                "showarrow": false,
                "text": 32,
                "x": 2.429,
                "y": -7.606,
                "yshift": 15,
                "z": 2.06
               },
               {
                "showarrow": false,
                "text": 33,
                "x": 4.262,
                "y": -4.172,
                "yshift": 15,
                "z": 1.175
               },
               {
                "showarrow": false,
                "text": 34,
                "x": 4.476,
                "y": -4.005,
                "yshift": 15,
                "z": 3.639
               },
               {
                "showarrow": false,
                "text": 35,
                "x": 2.707,
                "y": -4.021,
                "yshift": 15,
                "z": 3.712
               },
               {
                "showarrow": false,
                "text": 36,
                "x": 4.3,
                "y": -2.088,
                "yshift": 15,
                "z": 2.387
               },
               {
                "showarrow": false,
                "text": 37,
                "x": -0.641,
                "y": -3.963,
                "yshift": 15,
                "z": -1.828
               },
               {
                "font": {
                 "color": "steelblue"
                },
                "showarrow": false,
                "text": 1.6,
                "x": 0.7434999999999999,
                "y": 0.226,
                "yshift": 15,
                "z": -0.028000000000000004
               },
               {
                "font": {
                 "color": "steelblue"
                },
                "showarrow": false,
                "text": 1.6,
                "x": 0.0535,
                "y": -0.8055,
                "yshift": 15,
                "z": -0.40349999999999997
               },
               {
                "font": {
                 "color": "steelblue"
                },
                "showarrow": false,
                "text": 1.48,
                "x": 0.0485,
                "y": -0.402,
                "yshift": 15,
                "z": 0.727
               },
               {
                "font": {
                 "color": "steelblue"
                },
                "showarrow": false,
                "text": 1.17,
                "x": -0.3125,
                "y": 0.121,
                "yshift": 15,
                "z": -0.10850000000000001
               },
               {
                "font": {
                 "color": "steelblue"
                },
                "showarrow": false,
                "text": 1.6,
                "x": 1.779,
                "y": 0.4635,
                "yshift": 15,
                "z": 0.5389999999999999
               },
               {
                "font": {
                 "color": "steelblue"
                },
                "showarrow": false,
                "text": 1.48,
                "x": 1.2585,
                "y": 1.3415,
                "yshift": 15,
                "z": -0.1605
               },
               {
                "font": {
                 "color": "steelblue"
                },
                "showarrow": false,
                "text": 1.17,
                "x": 1.6724999999999999,
                "y": 0.538,
                "yshift": 15,
                "z": -0.544
               },
               {
                "font": {
                 "color": "steelblue"
                },
                "showarrow": false,
                "text": 1.6,
                "x": 1.6,
                "y": 0.152,
                "yshift": 15,
                "z": 1.677
               },
               {
                "font": {
                 "color": "steelblue"
                },
                "showarrow": false,
                "text": 1.17,
                "x": 2.475,
                "y": 0.6865,
                "yshift": 15,
                "z": 1.3385
               },
               {
                "font": {
                 "color": "steelblue"
                },
                "showarrow": false,
                "text": 1.17,
                "x": 2.496,
                "y": -0.13300000000000003,
                "yshift": 15,
                "z": 1.1175
               },
               {
                "font": {
                 "color": "steelblue"
                },
                "showarrow": false,
                "text": 1.48,
                "x": 0.52,
                "y": -0.2945,
                "yshift": 15,
                "z": 1.7930000000000001
               },
               {
                "font": {
                 "color": "steelblue"
                },
                "showarrow": false,
                "text": 1.17,
                "x": 0.8600000000000001,
                "y": 0.482,
                "yshift": 15,
                "z": 2.385
               },
               {
                "font": {
                 "color": "steelblue"
                },
                "showarrow": false,
                "text": 1.17,
                "x": 1.1965,
                "y": -0.28099999999999997,
                "yshift": 15,
                "z": 2.5865
               },
               {
                "font": {
                 "color": "steelblue"
                },
                "showarrow": false,
                "text": 1.48,
                "x": 0.5945,
                "y": -1.8279999999999998,
                "yshift": 15,
                "z": -0.725
               },
               {
                "font": {
                 "color": "steelblue"
                },
                "showarrow": false,
                "text": 1.17,
                "x": -0.43,
                "y": -1.6949999999999998,
                "yshift": 15,
                "z": -0.7404999999999999
               },
               {
                "font": {
                 "color": "steelblue"
                },
                "showarrow": false,
                "text": 1.17,
                "x": 0.0005000000000000004,
                "y": -1.2705,
                "yshift": 15,
                "z": -1.365
               },
               {
                "font": {
                 "color": "steelblue"
                },
                "showarrow": false,
                "text": 1.05,
                "x": 0.8685,
                "y": 2.1875,
                "yshift": 15,
                "z": 0.16350000000000003
               },
               {
                "font": {
                 "color": "steelblue"
                },
                "showarrow": false,
                "text": 1.84,
                "x": 1.306,
                "y": -2.932,
                "yshift": 15,
                "z": -0.9795
               },
               {
                "font": {
                 "color": "steelblue"
                },
                "showarrow": false,
                "text": 1.84,
                "x": 1.932,
                "y": -3.9855,
                "yshift": 15,
                "z": -0.8450000000000001
               },
               {
                "font": {
                 "color": "steelblue"
                },
                "showarrow": false,
                "text": 1.84,
                "x": 1.691,
                "y": -3.6125,
                "yshift": 15,
                "z": -2.052
               },
               {
                "font": {
                 "color": "steelblue"
                },
                "showarrow": false,
                "text": 1.84,
                "x": 0.7155,
                "y": -3.998,
                "yshift": 15,
                "z": -1.2885
               },
               {
                "font": {
                 "color": "steelblue"
                },
                "showarrow": false,
                "text": 1.48,
                "x": 2.2889999999999997,
                "y": -4.39,
                "yshift": 15,
                "z": 0.38449999999999995
               },
               {
                "font": {
                 "color": "steelblue"
                },
                "showarrow": false,
                "text": 1.6,
                "x": 1.8074999999999999,
                "y": -5.1,
                "yshift": 15,
                "z": 1.262
               },
               {
                "font": {
                 "color": "steelblue"
                },
                "showarrow": false,
                "text": 1.6,
                "x": 2.8274999999999997,
                "y": -4.496499999999999,
                "yshift": 15,
                "z": 1.462
               },
               {
                "font": {
                 "color": "steelblue"
                },
                "showarrow": false,
                "text": 1.17,
                "x": 1.8555,
                "y": -4.012,
                "yshift": 15,
                "z": 1.2405
               },
               {
                "font": {
                 "color": "steelblue"
                },
                "showarrow": false,
                "text": 1.6,
                "x": 2.0620000000000003,
                "y": -6.239,
                "yshift": 15,
                "z": 1.4715
               },
               {
                "font": {
                 "color": "steelblue"
                },
                "showarrow": false,
                "text": 1.17,
                "x": 1.1285,
                "y": -5.9115,
                "yshift": 15,
                "z": 1.0350000000000001
               },
               {
                "font": {
                 "color": "steelblue"
                },
                "showarrow": false,
                "text": 1.17,
                "x": 1.162,
                "y": -5.7515,
                "yshift": 15,
                "z": 1.866
               },
               {
                "font": {
                 "color": "steelblue"
                },
                "showarrow": false,
                "text": 1.48,
                "x": 3.1710000000000003,
                "y": -6.3265,
                "yshift": 15,
                "z": 1.8359999999999999
               },
               {
                "font": {
                 "color": "steelblue"
                },
                "showarrow": false,
                "text": 1.17,
                "x": 2.816,
                "y": -6.8685,
                "yshift": 15,
                "z": 1.0305
               },
               {
                "font": {
                 "color": "steelblue"
                },
                "showarrow": false,
                "text": 1.17,
                "x": 2.5445,
                "y": -7.1594999999999995,
                "yshift": 15,
                "z": 1.7890000000000001
               },
               {
                "font": {
                 "color": "steelblue"
                },
                "showarrow": false,
                "text": 1.6,
                "x": 3.5355,
                "y": -4.159,
                "yshift": 15,
                "z": 2.4775
               },
               {
                "font": {
                 "color": "steelblue"
                },
                "showarrow": false,
                "text": 1.48,
                "x": 3.593,
                "y": -5.2490000000000006,
                "yshift": 15,
                "z": 1.9895
               },
               {
                "font": {
                 "color": "steelblue"
                },
                "showarrow": false,
                "text": 1.17,
                "x": 3.883,
                "y": -4.365,
                "yshift": 15,
                "z": 1.5
               },
               {
                "font": {
                 "color": "steelblue"
                },
                "showarrow": false,
                "text": 1.48,
                "x": 3.5484999999999998,
                "y": -3.057,
                "yshift": 15,
                "z": 3.0214999999999996
               },
               {
                "font": {
                 "color": "steelblue"
                },
                "showarrow": false,
                "text": 1.17,
                "x": 4.0215,
                "y": -3.8825,
                "yshift": 15,
                "z": 3.3845
               },
               {
                "font": {
                 "color": "steelblue"
                },
                "showarrow": false,
                "text": 1.17,
                "x": 3.137,
                "y": -3.8905,
                "yshift": 15,
                "z": 3.4210000000000003
               },
               {
                "font": {
                 "color": "steelblue"
                },
                "showarrow": false,
                "text": 1.05,
                "x": 3.915,
                "y": -2.221,
                "yshift": 15,
                "z": 2.65
               },
               {
                "font": {
                 "color": "steelblue"
                },
                "showarrow": false,
                "text": 1.05,
                "x": -0.3235,
                "y": -4.1665,
                "yshift": 15,
                "z": -1.5225
               }
              ]
             }
            ],
            "label": "Indices & Bond Lengths",
            "method": "relayout"
           },
           {
            "args": [
             {
              "scene.annotations": [
               {
                "font": {
                 "color": "steelblue"
                },
                "showarrow": false,
                "text": 1.6,
                "x": 0.7434999999999999,
                "y": 0.226,
                "yshift": 15,
                "z": -0.028000000000000004
               },
               {
                "font": {
                 "color": "steelblue"
                },
                "showarrow": false,
                "text": 1.6,
                "x": 0.0535,
                "y": -0.8055,
                "yshift": 15,
                "z": -0.40349999999999997
               },
               {
                "font": {
                 "color": "steelblue"
                },
                "showarrow": false,
                "text": 1.48,
                "x": 0.0485,
                "y": -0.402,
                "yshift": 15,
                "z": 0.727
               },
               {
                "font": {
                 "color": "steelblue"
                },
                "showarrow": false,
                "text": 1.17,
                "x": -0.3125,
                "y": 0.121,
                "yshift": 15,
                "z": -0.10850000000000001
               },
               {
                "font": {
                 "color": "steelblue"
                },
                "showarrow": false,
                "text": 1.6,
                "x": 1.779,
                "y": 0.4635,
                "yshift": 15,
                "z": 0.5389999999999999
               },
               {
                "font": {
                 "color": "steelblue"
                },
                "showarrow": false,
                "text": 1.48,
                "x": 1.2585,
                "y": 1.3415,
                "yshift": 15,
                "z": -0.1605
               },
               {
                "font": {
                 "color": "steelblue"
                },
                "showarrow": false,
                "text": 1.17,
                "x": 1.6724999999999999,
                "y": 0.538,
                "yshift": 15,
                "z": -0.544
               },
               {
                "font": {
                 "color": "steelblue"
                },
                "showarrow": false,
                "text": 1.6,
                "x": 1.6,
                "y": 0.152,
                "yshift": 15,
                "z": 1.677
               },
               {
                "font": {
                 "color": "steelblue"
                },
                "showarrow": false,
                "text": 1.17,
                "x": 2.475,
                "y": 0.6865,
                "yshift": 15,
                "z": 1.3385
               },
               {
                "font": {
                 "color": "steelblue"
                },
                "showarrow": false,
                "text": 1.17,
                "x": 2.496,
                "y": -0.13300000000000003,
                "yshift": 15,
                "z": 1.1175
               },
               {
                "font": {
                 "color": "steelblue"
                },
                "showarrow": false,
                "text": 1.48,
                "x": 0.52,
                "y": -0.2945,
                "yshift": 15,
                "z": 1.7930000000000001
               },
               {
                "font": {
                 "color": "steelblue"
                },
                "showarrow": false,
                "text": 1.17,
                "x": 0.8600000000000001,
                "y": 0.482,
                "yshift": 15,
                "z": 2.385
               },
               {
                "font": {
                 "color": "steelblue"
                },
                "showarrow": false,
                "text": 1.17,
                "x": 1.1965,
                "y": -0.28099999999999997,
                "yshift": 15,
                "z": 2.5865
               },
               {
                "font": {
                 "color": "steelblue"
                },
                "showarrow": false,
                "text": 1.48,
                "x": 0.5945,
                "y": -1.8279999999999998,
                "yshift": 15,
                "z": -0.725
               },
               {
                "font": {
                 "color": "steelblue"
                },
                "showarrow": false,
                "text": 1.17,
                "x": -0.43,
                "y": -1.6949999999999998,
                "yshift": 15,
                "z": -0.7404999999999999
               },
               {
                "font": {
                 "color": "steelblue"
                },
                "showarrow": false,
                "text": 1.17,
                "x": 0.0005000000000000004,
                "y": -1.2705,
                "yshift": 15,
                "z": -1.365
               },
               {
                "font": {
                 "color": "steelblue"
                },
                "showarrow": false,
                "text": 1.05,
                "x": 0.8685,
                "y": 2.1875,
                "yshift": 15,
                "z": 0.16350000000000003
               },
               {
                "font": {
                 "color": "steelblue"
                },
                "showarrow": false,
                "text": 1.84,
                "x": 1.306,
                "y": -2.932,
                "yshift": 15,
                "z": -0.9795
               },
               {
                "font": {
                 "color": "steelblue"
                },
                "showarrow": false,
                "text": 1.84,
                "x": 1.932,
                "y": -3.9855,
                "yshift": 15,
                "z": -0.8450000000000001
               },
               {
                "font": {
                 "color": "steelblue"
                },
                "showarrow": false,
                "text": 1.84,
                "x": 1.691,
                "y": -3.6125,
                "yshift": 15,
                "z": -2.052
               },
               {
                "font": {
                 "color": "steelblue"
                },
                "showarrow": false,
                "text": 1.84,
                "x": 0.7155,
                "y": -3.998,
                "yshift": 15,
                "z": -1.2885
               },
               {
                "font": {
                 "color": "steelblue"
                },
                "showarrow": false,
                "text": 1.48,
                "x": 2.2889999999999997,
                "y": -4.39,
                "yshift": 15,
                "z": 0.38449999999999995
               },
               {
                "font": {
                 "color": "steelblue"
                },
                "showarrow": false,
                "text": 1.6,
                "x": 1.8074999999999999,
                "y": -5.1,
                "yshift": 15,
                "z": 1.262
               },
               {
                "font": {
                 "color": "steelblue"
                },
                "showarrow": false,
                "text": 1.6,
                "x": 2.8274999999999997,
                "y": -4.496499999999999,
                "yshift": 15,
                "z": 1.462
               },
               {
                "font": {
                 "color": "steelblue"
                },
                "showarrow": false,
                "text": 1.17,
                "x": 1.8555,
                "y": -4.012,
                "yshift": 15,
                "z": 1.2405
               },
               {
                "font": {
                 "color": "steelblue"
                },
                "showarrow": false,
                "text": 1.6,
                "x": 2.0620000000000003,
                "y": -6.239,
                "yshift": 15,
                "z": 1.4715
               },
               {
                "font": {
                 "color": "steelblue"
                },
                "showarrow": false,
                "text": 1.17,
                "x": 1.1285,
                "y": -5.9115,
                "yshift": 15,
                "z": 1.0350000000000001
               },
               {
                "font": {
                 "color": "steelblue"
                },
                "showarrow": false,
                "text": 1.17,
                "x": 1.162,
                "y": -5.7515,
                "yshift": 15,
                "z": 1.866
               },
               {
                "font": {
                 "color": "steelblue"
                },
                "showarrow": false,
                "text": 1.48,
                "x": 3.1710000000000003,
                "y": -6.3265,
                "yshift": 15,
                "z": 1.8359999999999999
               },
               {
                "font": {
                 "color": "steelblue"
                },
                "showarrow": false,
                "text": 1.17,
                "x": 2.816,
                "y": -6.8685,
                "yshift": 15,
                "z": 1.0305
               },
               {
                "font": {
                 "color": "steelblue"
                },
                "showarrow": false,
                "text": 1.17,
                "x": 2.5445,
                "y": -7.1594999999999995,
                "yshift": 15,
                "z": 1.7890000000000001
               },
               {
                "font": {
                 "color": "steelblue"
                },
                "showarrow": false,
                "text": 1.6,
                "x": 3.5355,
                "y": -4.159,
                "yshift": 15,
                "z": 2.4775
               },
               {
                "font": {
                 "color": "steelblue"
                },
                "showarrow": false,
                "text": 1.48,
                "x": 3.593,
                "y": -5.2490000000000006,
                "yshift": 15,
                "z": 1.9895
               },
               {
                "font": {
                 "color": "steelblue"
                },
                "showarrow": false,
                "text": 1.17,
                "x": 3.883,
                "y": -4.365,
                "yshift": 15,
                "z": 1.5
               },
               {
                "font": {
                 "color": "steelblue"
                },
                "showarrow": false,
                "text": 1.48,
                "x": 3.5484999999999998,
                "y": -3.057,
                "yshift": 15,
                "z": 3.0214999999999996
               },
               {
                "font": {
                 "color": "steelblue"
                },
                "showarrow": false,
                "text": 1.17,
                "x": 4.0215,
                "y": -3.8825,
                "yshift": 15,
                "z": 3.3845
               },
               {
                "font": {
                 "color": "steelblue"
                },
                "showarrow": false,
                "text": 1.17,
                "x": 3.137,
                "y": -3.8905,
                "yshift": 15,
                "z": 3.4210000000000003
               },
               {
                "font": {
                 "color": "steelblue"
                },
                "showarrow": false,
                "text": 1.05,
                "x": 3.915,
                "y": -2.221,
                "yshift": 15,
                "z": 2.65
               },
               {
                "font": {
                 "color": "steelblue"
                },
                "showarrow": false,
                "text": 1.05,
                "x": -0.3235,
                "y": -4.1665,
                "yshift": 15,
                "z": -1.5225
               }
              ]
             }
            ],
            "label": "Bond Lengths",
            "method": "relayout"
           },
           {
            "args": [
             {
              "scene.annotations": []
             }
            ],
            "label": "Hide All",
            "method": "relayout"
           }
          ],
          "direction": "down",
          "xanchor": "left",
          "yanchor": "top"
         }
        ],
        "width": 1200
       }
      }
     },
     "metadata": {},
     "output_type": "display_data"
    }
   ],
   "source": [
    "mol = Molecule()\n",
    "mol.read_pdb('example/example.pdb', model=4)\n",
    "fig = to_plotly_figure(mol)\n",
    "fig.update_layout(\n",
    "    width=1200,\n",
    "    height=800,\n",
    ")\n",
    "fig.show()"
   ]
  },
  {
   "cell_type": "code",
   "execution_count": 3,
   "metadata": {},
   "outputs": [],
   "source": [
    "def get_theta(mol: Molecule):\n",
    "    \n",
    "    nucleotide_angles = [\n",
    "        [(\"O3'\", 1), \"P\", (\"O5'\", 2), (\"C5'\", 2)],\n",
    "        [\"P\", (\"O5'\", 2), (\"C5'\", 2), (\"C4'\", 2)],\n",
    "        [(\"O5'\", 2), (\"C5'\", 2), (\"C4'\", 2), (\"C3'\", 2)],\n",
    "        [(\"C5'\", 1), (\"C4'\", 1), (\"C3'\", 1), (\"O3'\", 1)],\n",
    "        [(\"C4'\", 1), (\"C3'\", 1), (\"O3'\", 1), \"P\"],\n",
    "        [(\"C3'\", 1), (\"O3'\", 1), \"P\", (\"O5'\", 2)]\n",
    "    ]\n",
    "\n",
    "    torsion_angles_list = []\n",
    "    for line in nucleotide_angles:\n",
    "        res = []\n",
    "        for atom in line:\n",
    "            res.append(mol.get(*atom))\n",
    "        torsion_angles_list.append(np.deg2rad(torsion_angle(*res)))\n",
    "\n",
    "    nucleotide_angles_1d = [angle for row in nucleotide_angles for angle in row]\n",
    "     \n",
    "    result = []\n",
    "    for i in range(1, len(nucleotide_angles_1d) - 1):\n",
    "        chunk = nucleotide_angles_1d[i-1: i+2]\n",
    "        if len(chunk) == 3:\n",
    "            result.append(chunk)\n",
    "\n",
    "    angles = [row[:3] for row in nucleotide_angles]\n",
    "\n",
    "    bond_angles_list = []\n",
    "    for line in angles:\n",
    "        res = []\n",
    "        for atom in line:\n",
    "            res.append(mol.get(*atom))\n",
    "        bond_angles_list.append(bond_angle(*res))\n",
    "\n",
    "    result = np.eye(3)\n",
    "    for i in range(6):\n",
    "        result = result @ alpha_matrix(bond_angles_list[i]) @ phi_matrix(torsion_angles_list[i])\n",
    "    \n",
    "    return np.degrees(np.arccos(np.sqrt(1 + result.trace()) / 2) * 2)\n",
    "\n",
    "\n",
    "def bond_angle(atom1, atom2, atom3):\n",
    "    ba = atom1 - atom2\n",
    "    bc = atom3 - atom2\n",
    "\n",
    "    cosine_angle = np.dot(ba, bc) / (np.linalg.norm(ba) * np.linalg.norm(bc))\n",
    "    angle = np.arccos(cosine_angle)\n",
    "\n",
    "    return angle\n",
    "\n",
    "def phi_matrix(phi):\n",
    "    mx = np.array([\n",
    "        [1, 0, 0],\n",
    "        [0, np.cos(phi), -np.sin(phi)],\n",
    "        [0, np.sin(phi), np.cos(phi)]\n",
    "    ])\n",
    "    return mx\n",
    "\n",
    "def alpha_matrix(alpha):\n",
    "    mx = np.array([\n",
    "        [-np.cos(alpha), -np.sin(alpha), 0],\n",
    "        [np.sin(alpha) , -np.cos(alpha), 0],\n",
    "        [0, 0, 1]\n",
    "    ])\n",
    "    return mx"
   ]
  },
  {
   "cell_type": "code",
   "execution_count": 4,
   "metadata": {},
   "outputs": [
    {
     "data": {
      "text/plain": [
       "178.28313581354732"
      ]
     },
     "execution_count": 4,
     "metadata": {},
     "output_type": "execute_result"
    }
   ],
   "source": [
    "get_theta(mol)"
   ]
  }
 ],
 "metadata": {
  "kernelspec": {
   "display_name": "Python 3 (ipykernel)",
   "language": "python",
   "name": "python3"
  },
  "language_info": {
   "codemirror_mode": {
    "name": "ipython",
    "version": 3
   },
   "file_extension": ".py",
   "mimetype": "text/x-python",
   "name": "python",
   "nbconvert_exporter": "python",
   "pygments_lexer": "ipython3",
   "version": "3.11.4"
  }
 },
 "nbformat": 4,
 "nbformat_minor": 4
}
